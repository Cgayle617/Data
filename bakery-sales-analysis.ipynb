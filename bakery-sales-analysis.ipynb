{
 "cells": [
  {
   "cell_type": "code",
   "execution_count": 1,
   "id": "c543dd26",
   "metadata": {
    "_cell_guid": "b1076dfc-b9ad-4769-8c92-a6c4dae69d19",
    "_uuid": "8f2839f25d086af736a60e9eeb907d3b93b6e0e5",
    "execution": {
     "iopub.execute_input": "2024-02-21T14:43:50.076040Z",
     "iopub.status.busy": "2024-02-21T14:43:50.075618Z",
     "iopub.status.idle": "2024-02-21T14:43:51.033281Z",
     "shell.execute_reply": "2024-02-21T14:43:51.031597Z"
    },
    "papermill": {
     "duration": 0.971582,
     "end_time": "2024-02-21T14:43:51.035557",
     "exception": false,
     "start_time": "2024-02-21T14:43:50.063975",
     "status": "completed"
    },
    "tags": []
   },
   "outputs": [
    {
     "name": "stdout",
     "output_type": "stream",
     "text": [
      "/kaggle/input/bakery/Bakery.csv\n"
     ]
    }
   ],
   "source": [
    "# This Python 3 environment comes with many helpful analytics libraries installed\n",
    "# It is defined by the kaggle/python Docker image: https://github.com/kaggle/docker-python\n",
    "# For example, here's several helpful packages to load\n",
    "\n",
    "import numpy as np # linear algebra\n",
    "import pandas as pd # data processing, CSV file I/O (e.g. pd.read_csv)\n",
    "\n",
    "# Input data files are available in the read-only \"../input/\" directory\n",
    "# For example, running this (by clicking run or pressing Shift+Enter) will list all files under the input directory\n",
    "\n",
    "import os\n",
    "for dirname, _, filenames in os.walk('/kaggle/input'):\n",
    "    for filename in filenames:\n",
    "        print(os.path.join(dirname, filename))\n",
    "\n",
    "# You can write up to 20GB to the current directory (/kaggle/working/) that gets preserved as output when you create a version using \"Save & Run All\" \n",
    "# You can also write temporary files to /kaggle/temp/, but they won't be saved outside of the current session"
   ]
  },
  {
   "cell_type": "markdown",
   "id": "b33456a0",
   "metadata": {
    "papermill": {
     "duration": 0.008519,
     "end_time": "2024-02-21T14:43:51.053308",
     "exception": false,
     "start_time": "2024-02-21T14:43:51.044789",
     "status": "completed"
    },
    "tags": []
   },
   "source": [
    "# Importing Necessary Libraries"
   ]
  },
  {
   "cell_type": "code",
   "execution_count": 2,
   "id": "d03bedd0",
   "metadata": {
    "execution": {
     "iopub.execute_input": "2024-02-21T14:43:51.072521Z",
     "iopub.status.busy": "2024-02-21T14:43:51.071960Z",
     "iopub.status.idle": "2024-02-21T14:43:53.075930Z",
     "shell.execute_reply": "2024-02-21T14:43:53.074632Z"
    },
    "papermill": {
     "duration": 2.016234,
     "end_time": "2024-02-21T14:43:53.078268",
     "exception": false,
     "start_time": "2024-02-21T14:43:51.062034",
     "status": "completed"
    },
    "tags": []
   },
   "outputs": [],
   "source": [
    "import numpy as np \n",
    "import pandas as pd\n",
    "import matplotlib.pyplot as plt\n",
    "import seaborn as sns\n",
    "import plotly.express as px"
   ]
  },
  {
   "cell_type": "code",
   "execution_count": 3,
   "id": "8be2d6b1",
   "metadata": {
    "execution": {
     "iopub.execute_input": "2024-02-21T14:43:53.099502Z",
     "iopub.status.busy": "2024-02-21T14:43:53.098987Z",
     "iopub.status.idle": "2024-02-21T14:43:53.149601Z",
     "shell.execute_reply": "2024-02-21T14:43:53.147149Z"
    },
    "papermill": {
     "duration": 0.064564,
     "end_time": "2024-02-21T14:43:53.152066",
     "exception": false,
     "start_time": "2024-02-21T14:43:53.087502",
     "status": "completed"
    },
    "tags": []
   },
   "outputs": [],
   "source": [
    "df=pd.read_csv(\"/kaggle/input/bakery/Bakery.csv\")"
   ]
  },
  {
   "cell_type": "code",
   "execution_count": 4,
   "id": "ceb9a1d9",
   "metadata": {
    "execution": {
     "iopub.execute_input": "2024-02-21T14:43:53.172222Z",
     "iopub.status.busy": "2024-02-21T14:43:53.170953Z",
     "iopub.status.idle": "2024-02-21T14:43:53.190274Z",
     "shell.execute_reply": "2024-02-21T14:43:53.189057Z"
    },
    "papermill": {
     "duration": 0.031417,
     "end_time": "2024-02-21T14:43:53.192444",
     "exception": false,
     "start_time": "2024-02-21T14:43:53.161027",
     "status": "completed"
    },
    "tags": []
   },
   "outputs": [
    {
     "data": {
      "text/html": [
       "<div>\n",
       "<style scoped>\n",
       "    .dataframe tbody tr th:only-of-type {\n",
       "        vertical-align: middle;\n",
       "    }\n",
       "\n",
       "    .dataframe tbody tr th {\n",
       "        vertical-align: top;\n",
       "    }\n",
       "\n",
       "    .dataframe thead th {\n",
       "        text-align: right;\n",
       "    }\n",
       "</style>\n",
       "<table border=\"1\" class=\"dataframe\">\n",
       "  <thead>\n",
       "    <tr style=\"text-align: right;\">\n",
       "      <th></th>\n",
       "      <th>TransactionNo</th>\n",
       "      <th>Items</th>\n",
       "      <th>DateTime</th>\n",
       "      <th>Daypart</th>\n",
       "      <th>DayType</th>\n",
       "    </tr>\n",
       "  </thead>\n",
       "  <tbody>\n",
       "    <tr>\n",
       "      <th>0</th>\n",
       "      <td>1</td>\n",
       "      <td>Bread</td>\n",
       "      <td>2016-10-30 09:58:11</td>\n",
       "      <td>Morning</td>\n",
       "      <td>Weekend</td>\n",
       "    </tr>\n",
       "    <tr>\n",
       "      <th>1</th>\n",
       "      <td>2</td>\n",
       "      <td>Scandinavian</td>\n",
       "      <td>2016-10-30 10:05:34</td>\n",
       "      <td>Morning</td>\n",
       "      <td>Weekend</td>\n",
       "    </tr>\n",
       "    <tr>\n",
       "      <th>2</th>\n",
       "      <td>2</td>\n",
       "      <td>Scandinavian</td>\n",
       "      <td>2016-10-30 10:05:34</td>\n",
       "      <td>Morning</td>\n",
       "      <td>Weekend</td>\n",
       "    </tr>\n",
       "    <tr>\n",
       "      <th>3</th>\n",
       "      <td>3</td>\n",
       "      <td>Hot chocolate</td>\n",
       "      <td>2016-10-30 10:07:57</td>\n",
       "      <td>Morning</td>\n",
       "      <td>Weekend</td>\n",
       "    </tr>\n",
       "    <tr>\n",
       "      <th>4</th>\n",
       "      <td>3</td>\n",
       "      <td>Jam</td>\n",
       "      <td>2016-10-30 10:07:57</td>\n",
       "      <td>Morning</td>\n",
       "      <td>Weekend</td>\n",
       "    </tr>\n",
       "  </tbody>\n",
       "</table>\n",
       "</div>"
      ],
      "text/plain": [
       "   TransactionNo          Items             DateTime  Daypart  DayType\n",
       "0              1          Bread  2016-10-30 09:58:11  Morning  Weekend\n",
       "1              2   Scandinavian  2016-10-30 10:05:34  Morning  Weekend\n",
       "2              2   Scandinavian  2016-10-30 10:05:34  Morning  Weekend\n",
       "3              3  Hot chocolate  2016-10-30 10:07:57  Morning  Weekend\n",
       "4              3            Jam  2016-10-30 10:07:57  Morning  Weekend"
      ]
     },
     "execution_count": 4,
     "metadata": {},
     "output_type": "execute_result"
    }
   ],
   "source": [
    "df.head(5)"
   ]
  },
  {
   "cell_type": "markdown",
   "id": "aa594753",
   "metadata": {
    "papermill": {
     "duration": 0.008934,
     "end_time": "2024-02-21T14:43:53.210881",
     "exception": false,
     "start_time": "2024-02-21T14:43:53.201947",
     "status": "completed"
    },
    "tags": []
   },
   "source": [
    "<hr style=\"height: 4px; color: #333; background-color: #333; margin: 20px 0;\">\n"
   ]
  },
  {
   "cell_type": "markdown",
   "id": "3c4ed117",
   "metadata": {
    "papermill": {
     "duration": 0.008822,
     "end_time": "2024-02-21T14:43:53.228665",
     "exception": false,
     "start_time": "2024-02-21T14:43:53.219843",
     "status": "completed"
    },
    "tags": []
   },
   "source": [
    "# Data Exploration"
   ]
  },
  {
   "cell_type": "code",
   "execution_count": 5,
   "id": "f21da2bc",
   "metadata": {
    "execution": {
     "iopub.execute_input": "2024-02-21T14:43:53.249231Z",
     "iopub.status.busy": "2024-02-21T14:43:53.248811Z",
     "iopub.status.idle": "2024-02-21T14:43:53.257039Z",
     "shell.execute_reply": "2024-02-21T14:43:53.255809Z"
    },
    "papermill": {
     "duration": 0.021493,
     "end_time": "2024-02-21T14:43:53.259353",
     "exception": false,
     "start_time": "2024-02-21T14:43:53.237860",
     "status": "completed"
    },
    "tags": []
   },
   "outputs": [
    {
     "name": "stdout",
     "output_type": "stream",
     "text": [
      "The shape of the data is:(20507, 5)\n",
      "\n",
      "The size of the data is:102535\n",
      "\n",
      "The columns in the dataset is:Index(['TransactionNo', 'Items', 'DateTime', 'Daypart', 'DayType'], dtype='object')\n"
     ]
    }
   ],
   "source": [
    "print(f\"The shape of the data is:{df.shape}\\n\")\n",
    "print(f\"The size of the data is:{df.size}\\n\")\n",
    "print(f\"The columns in the dataset is:{df.columns}\")"
   ]
  },
  {
   "cell_type": "code",
   "execution_count": 6,
   "id": "e0bfefb5",
   "metadata": {
    "execution": {
     "iopub.execute_input": "2024-02-21T14:43:53.280736Z",
     "iopub.status.busy": "2024-02-21T14:43:53.280087Z",
     "iopub.status.idle": "2024-02-21T14:43:53.314304Z",
     "shell.execute_reply": "2024-02-21T14:43:53.311971Z"
    },
    "papermill": {
     "duration": 0.04861,
     "end_time": "2024-02-21T14:43:53.317008",
     "exception": false,
     "start_time": "2024-02-21T14:43:53.268398",
     "status": "completed"
    },
    "tags": []
   },
   "outputs": [
    {
     "name": "stdout",
     "output_type": "stream",
     "text": [
      "<class 'pandas.core.frame.DataFrame'>\n",
      "RangeIndex: 20507 entries, 0 to 20506\n",
      "Data columns (total 5 columns):\n",
      " #   Column         Non-Null Count  Dtype \n",
      "---  ------         --------------  ----- \n",
      " 0   TransactionNo  20507 non-null  int64 \n",
      " 1   Items          20507 non-null  object\n",
      " 2   DateTime       20507 non-null  object\n",
      " 3   Daypart        20507 non-null  object\n",
      " 4   DayType        20507 non-null  object\n",
      "dtypes: int64(1), object(4)\n",
      "memory usage: 801.2+ KB\n"
     ]
    }
   ],
   "source": [
    "df.info()"
   ]
  },
  {
   "cell_type": "code",
   "execution_count": 7,
   "id": "d4eee2de",
   "metadata": {
    "execution": {
     "iopub.execute_input": "2024-02-21T14:43:53.338095Z",
     "iopub.status.busy": "2024-02-21T14:43:53.337607Z",
     "iopub.status.idle": "2024-02-21T14:43:53.353172Z",
     "shell.execute_reply": "2024-02-21T14:43:53.352492Z"
    },
    "papermill": {
     "duration": 0.028705,
     "end_time": "2024-02-21T14:43:53.355067",
     "exception": false,
     "start_time": "2024-02-21T14:43:53.326362",
     "status": "completed"
    },
    "tags": []
   },
   "outputs": [
    {
     "data": {
      "text/html": [
       "<div>\n",
       "<style scoped>\n",
       "    .dataframe tbody tr th:only-of-type {\n",
       "        vertical-align: middle;\n",
       "    }\n",
       "\n",
       "    .dataframe tbody tr th {\n",
       "        vertical-align: top;\n",
       "    }\n",
       "\n",
       "    .dataframe thead th {\n",
       "        text-align: right;\n",
       "    }\n",
       "</style>\n",
       "<table border=\"1\" class=\"dataframe\">\n",
       "  <thead>\n",
       "    <tr style=\"text-align: right;\">\n",
       "      <th></th>\n",
       "      <th>TransactionNo</th>\n",
       "    </tr>\n",
       "  </thead>\n",
       "  <tbody>\n",
       "    <tr>\n",
       "      <th>count</th>\n",
       "      <td>20507.000000</td>\n",
       "    </tr>\n",
       "    <tr>\n",
       "      <th>mean</th>\n",
       "      <td>4976.202370</td>\n",
       "    </tr>\n",
       "    <tr>\n",
       "      <th>std</th>\n",
       "      <td>2796.203001</td>\n",
       "    </tr>\n",
       "    <tr>\n",
       "      <th>min</th>\n",
       "      <td>1.000000</td>\n",
       "    </tr>\n",
       "    <tr>\n",
       "      <th>25%</th>\n",
       "      <td>2552.000000</td>\n",
       "    </tr>\n",
       "    <tr>\n",
       "      <th>50%</th>\n",
       "      <td>5137.000000</td>\n",
       "    </tr>\n",
       "    <tr>\n",
       "      <th>75%</th>\n",
       "      <td>7357.000000</td>\n",
       "    </tr>\n",
       "    <tr>\n",
       "      <th>max</th>\n",
       "      <td>9684.000000</td>\n",
       "    </tr>\n",
       "  </tbody>\n",
       "</table>\n",
       "</div>"
      ],
      "text/plain": [
       "       TransactionNo\n",
       "count   20507.000000\n",
       "mean     4976.202370\n",
       "std      2796.203001\n",
       "min         1.000000\n",
       "25%      2552.000000\n",
       "50%      5137.000000\n",
       "75%      7357.000000\n",
       "max      9684.000000"
      ]
     },
     "execution_count": 7,
     "metadata": {},
     "output_type": "execute_result"
    }
   ],
   "source": [
    "df.describe()"
   ]
  },
  {
   "cell_type": "markdown",
   "id": "79ed2d23",
   "metadata": {
    "papermill": {
     "duration": 0.008883,
     "end_time": "2024-02-21T14:43:53.373183",
     "exception": false,
     "start_time": "2024-02-21T14:43:53.364300",
     "status": "completed"
    },
    "tags": []
   },
   "source": [
    "<hr style=\"height: 4px; color: #333; background-color: #333; margin: 20px 0;\">\n"
   ]
  },
  {
   "cell_type": "markdown",
   "id": "b08cf4f6",
   "metadata": {
    "papermill": {
     "duration": 0.00878,
     "end_time": "2024-02-21T14:43:53.391473",
     "exception": false,
     "start_time": "2024-02-21T14:43:53.382693",
     "status": "completed"
    },
    "tags": []
   },
   "source": [
    "# Data Cleaning "
   ]
  },
  {
   "cell_type": "code",
   "execution_count": 8,
   "id": "52917922",
   "metadata": {
    "execution": {
     "iopub.execute_input": "2024-02-21T14:43:53.411733Z",
     "iopub.status.busy": "2024-02-21T14:43:53.410916Z",
     "iopub.status.idle": "2024-02-21T14:43:53.421981Z",
     "shell.execute_reply": "2024-02-21T14:43:53.420883Z"
    },
    "papermill": {
     "duration": 0.023655,
     "end_time": "2024-02-21T14:43:53.424248",
     "exception": false,
     "start_time": "2024-02-21T14:43:53.400593",
     "status": "completed"
    },
    "tags": []
   },
   "outputs": [
    {
     "name": "stdout",
     "output_type": "stream",
     "text": [
      "There are no duplicates present in the dataset\n"
     ]
    }
   ],
   "source": [
    "# To check if there are any null values in the dataset\n",
    "if df.isnull().any().any():\n",
    "    print(f\"Duplicates are present and there are {df.isnull.sum()} duplicate values\")\n",
    "else:\n",
    "    print(\"There are no duplicates present in the dataset\")"
   ]
  },
  {
   "cell_type": "code",
   "execution_count": 9,
   "id": "5626e1b3",
   "metadata": {
    "execution": {
     "iopub.execute_input": "2024-02-21T14:43:53.445884Z",
     "iopub.status.busy": "2024-02-21T14:43:53.445145Z",
     "iopub.status.idle": "2024-02-21T14:43:53.468467Z",
     "shell.execute_reply": "2024-02-21T14:43:53.467349Z"
    },
    "papermill": {
     "duration": 0.036664,
     "end_time": "2024-02-21T14:43:53.470682",
     "exception": false,
     "start_time": "2024-02-21T14:43:53.434018",
     "status": "completed"
    },
    "tags": []
   },
   "outputs": [
    {
     "name": "stdout",
     "output_type": "stream",
     "text": [
      "Duplicates are present and there are 1620 duplicate values\n"
     ]
    }
   ],
   "source": [
    "# To check if there are any duplicates\n",
    "if df.duplicated().any():\n",
    "    print(f\"Duplicates are present and there are {df.duplicated().sum()} duplicate values\")\n",
    "else:\n",
    "    print(\"There are no duplicates present in the dataset\")"
   ]
  },
  {
   "cell_type": "code",
   "execution_count": 10,
   "id": "4fcc4b90",
   "metadata": {
    "execution": {
     "iopub.execute_input": "2024-02-21T14:43:53.491990Z",
     "iopub.status.busy": "2024-02-21T14:43:53.491433Z",
     "iopub.status.idle": "2024-02-21T14:43:53.509656Z",
     "shell.execute_reply": "2024-02-21T14:43:53.507469Z"
    },
    "papermill": {
     "duration": 0.031518,
     "end_time": "2024-02-21T14:43:53.511747",
     "exception": false,
     "start_time": "2024-02-21T14:43:53.480229",
     "status": "completed"
    },
    "tags": []
   },
   "outputs": [
    {
     "name": "stdout",
     "output_type": "stream",
     "text": [
      "The shape of the data is:(18887, 5)\n",
      "\n"
     ]
    }
   ],
   "source": [
    "# Dropping the duplicates\n",
    "df.drop_duplicates(inplace=True)\n",
    "print(f\"The shape of the data is:{df.shape}\\n\")"
   ]
  },
  {
   "cell_type": "markdown",
   "id": "625bc005",
   "metadata": {
    "papermill": {
     "duration": 0.009078,
     "end_time": "2024-02-21T14:43:53.530354",
     "exception": false,
     "start_time": "2024-02-21T14:43:53.521276",
     "status": "completed"
    },
    "tags": []
   },
   "source": [
    "<hr style=\"height: 4px; color: #333; background-color: #333; margin: 20px 0;\">\n"
   ]
  },
  {
   "cell_type": "markdown",
   "id": "6b113e90",
   "metadata": {
    "papermill": {
     "duration": 0.010003,
     "end_time": "2024-02-21T14:43:53.550119",
     "exception": false,
     "start_time": "2024-02-21T14:43:53.540116",
     "status": "completed"
    },
    "tags": []
   },
   "source": [
    "# Data Analysis"
   ]
  },
  {
   "cell_type": "markdown",
   "id": "8db003dc",
   "metadata": {
    "papermill": {
     "duration": 0.009523,
     "end_time": "2024-02-21T14:43:53.569336",
     "exception": false,
     "start_time": "2024-02-21T14:43:53.559813",
     "status": "completed"
    },
    "tags": []
   },
   "source": [
    "## 1. Transaction Analysis:\n",
    "\n",
    "* What is the total number of transactions in the dataset?\n",
    "* How many unique items are sold in the dataset?\n",
    "* What is the average number of items per transaction?"
   ]
  },
  {
   "cell_type": "code",
   "execution_count": 11,
   "id": "dc58c187",
   "metadata": {
    "execution": {
     "iopub.execute_input": "2024-02-21T14:43:53.592701Z",
     "iopub.status.busy": "2024-02-21T14:43:53.590850Z",
     "iopub.status.idle": "2024-02-21T14:43:53.597688Z",
     "shell.execute_reply": "2024-02-21T14:43:53.596927Z"
    },
    "papermill": {
     "duration": 0.020322,
     "end_time": "2024-02-21T14:43:53.599511",
     "exception": false,
     "start_time": "2024-02-21T14:43:53.579189",
     "status": "completed"
    },
    "tags": []
   },
   "outputs": [
    {
     "name": "stdout",
     "output_type": "stream",
     "text": [
      "The total number of transactions done is: 18887\n"
     ]
    }
   ],
   "source": [
    "total_transactions = df.shape[0]\n",
    "print(f\"The total number of transactions done is: {total_transactions}\")"
   ]
  },
  {
   "cell_type": "code",
   "execution_count": 12,
   "id": "f0131fb7",
   "metadata": {
    "execution": {
     "iopub.execute_input": "2024-02-21T14:43:53.621008Z",
     "iopub.status.busy": "2024-02-21T14:43:53.620241Z",
     "iopub.status.idle": "2024-02-21T14:43:53.627422Z",
     "shell.execute_reply": "2024-02-21T14:43:53.625904Z"
    },
    "papermill": {
     "duration": 0.020635,
     "end_time": "2024-02-21T14:43:53.630105",
     "exception": false,
     "start_time": "2024-02-21T14:43:53.609470",
     "status": "completed"
    },
    "tags": []
   },
   "outputs": [
    {
     "name": "stdout",
     "output_type": "stream",
     "text": [
      "There are 94 unique items sold.\n"
     ]
    }
   ],
   "source": [
    "print(f\"There are {df['Items'].nunique()} unique items sold.\")"
   ]
  },
  {
   "cell_type": "code",
   "execution_count": 13,
   "id": "cf2a5d7b",
   "metadata": {
    "execution": {
     "iopub.execute_input": "2024-02-21T14:43:53.653174Z",
     "iopub.status.busy": "2024-02-21T14:43:53.651802Z",
     "iopub.status.idle": "2024-02-21T14:43:55.853347Z",
     "shell.execute_reply": "2024-02-21T14:43:55.852010Z"
    },
    "papermill": {
     "duration": 2.215909,
     "end_time": "2024-02-21T14:43:55.856763",
     "exception": false,
     "start_time": "2024-02-21T14:43:53.640854",
     "status": "completed"
    },
    "tags": []
   },
   "outputs": [
    {
     "data": {
      "text/html": [
       "        <script type=\"text/javascript\">\n",
       "        window.PlotlyConfig = {MathJaxConfig: 'local'};\n",
       "        if (window.MathJax && window.MathJax.Hub && window.MathJax.Hub.Config) {window.MathJax.Hub.Config({SVG: {font: \"STIX-Web\"}});}\n",
       "        if (typeof require !== 'undefined') {\n",
       "        require.undef(\"plotly\");\n",
       "        requirejs.config({\n",
       "            paths: {\n",
       "                'plotly': ['https://cdn.plot.ly/plotly-2.27.0.min']\n",
       "            }\n",
       "        });\n",
       "        require(['plotly'], function(Plotly) {\n",
       "            window._Plotly = Plotly;\n",
       "        });\n",
       "        }\n",
       "        </script>\n",
       "        "
      ]
     },
     "metadata": {},
     "output_type": "display_data"
    },
    {
     "data": {
      "text/html": [
       "<div>                            <div id=\"4f506aa2-f8c2-476d-8988-fb23ea85b463\" class=\"plotly-graph-div\" style=\"height:525px; width:100%;\"></div>            <script type=\"text/javascript\">                require([\"plotly\"], function(Plotly) {                    window.PLOTLYENV=window.PLOTLYENV || {};                                    if (document.getElementById(\"4f506aa2-f8c2-476d-8988-fb23ea85b463\")) {                    Plotly.newPlot(                        \"4f506aa2-f8c2-476d-8988-fb23ea85b463\",                        [{\"alignmentgroup\":\"True\",\"bingroup\":\"x\",\"hovertemplate\":\"variable=Items\\u003cbr\\u003eNumber of Items=%{x}\\u003cbr\\u003ecount=%{y}\\u003cextra\\u003e\\u003c\\u002fextra\\u003e\",\"legendgroup\":\"Items\",\"marker\":{\"color\":\"orange\",\"pattern\":{\"shape\":\"\"},\"line\":{\"color\":\"black\",\"width\":1}},\"name\":\"Items\",\"nbinsx\":1,\"offsetgroup\":\"Items\",\"orientation\":\"v\",\"showlegend\":true,\"x\":[\"Bread\",\"Scandinavian\",\"Hot chocolate\",\"Jam\",\"Cookies\",\"Muffin\",\"Coffee\",\"Pastry\",\"Bread\",\"Medialuna\",\"Pastry\",\"Muffin\",\"Medialuna\",\"Pastry\",\"Coffee\",\"Tea\",\"Pastry\",\"Bread\",\"Bread\",\"Muffin\",\"Scandinavian\",\"Medialuna\",\"Bread\",\"Medialuna\",\"Jam\",\"Coffee\",\"Tartine\",\"Pastry\",\"Tea\",\"Basket\",\"Bread\",\"Coffee\",\"Bread\",\"Medialuna\",\"Pastry\",\"Mineral water\",\"Scandinavian\",\"Bread\",\"Medialuna\",\"Coffee\",\"Hot chocolate\",\"Farm House\",\"Farm House\",\"Bread\",\"Bread\",\"Medialuna\",\"Coffee\",\"Medialuna\",\"Bread\",\"Jam\",\"Scandinavian\",\"Muffin\",\"Bread\",\"Scandinavian\",\"Fudge\",\"Scandinavian\",\"Coffee\",\"Bread\",\"Bread\",\"Jam\",\"Bread\",\"Basket\",\"Scandinavian\",\"Muffin\",\"Coffee\",\"Coffee\",\"Muffin\",\"Muffin\",\"Scandinavian\",\"Tea\",\"Bread\",\"Coffee\",\"Bread\",\"Bread\",\"Tea\",\"Scandinavian\",\"Juice\",\"Tartine\",\"Coffee\",\"Muffin\",\"Scandinavian\",\"Bread\",\"Tea\",\"Scandinavian\",\"Fudge\",\"Coffee\",\"Medialuna\",\"Coffee\",\"Hot chocolate\",\"Medialuna\",\"Coffee\",\"Ella's Kitchen Pouches\",\"Juice\",\"Bread\",\"Muffin\",\"Jam\",\"Coffee\",\"Coffee\",\"Medialuna\",\"Bread\",\"Victorian Sponge\",\"Bread\",\"Scandinavian\",\"Bread\",\"Frittata\",\"Coffee\",\"Tea\",\"Hearty & Seasonal\",\"Coffee\",\"Frittata\",\"Scandinavian\",\"Victorian Sponge\",\"Hot chocolate\",\"Tea\",\"Soup\",\"Tea\",\"Cookies\",\"Coffee\",\"Juice\",\"Coffee\",\"Pick and Mix Bowls\",\"Hearty & Seasonal\",\"Coffee\",\"Smoothies\",\"Coffee\",\"Cake\",\"Tartine\",\"Mighty Protein\",\"Tea\",\"Coffee\",\"Hearty & Seasonal\",\"Frittata\",\"Mineral water\",\"Hearty & Seasonal\",\"Mineral water\",\"Muffin\",\"Frittata\",\"Coffee\",\"Tea\",\"Scandinavian\",\"Chicken sand\",\"Bread\",\"Tea\",\"Victorian Sponge\",\"Fudge\",\"Muffin\",\"Coffee\",\"Bread\",\"Bread\",\"Coffee\",\"Bread\",\"Jam\",\"Frittata\",\"Coffee\",\"Scandinavian\",\"Fudge\",\"Fudge\",\"Tea\",\"Coffee\",\"Muffin\",\"Frittata\",\"Bread\",\"Coffee\",\"Coffee\",\"Cake\",\"Tartine\",\"Bread\",\"Coffee\",\"Bread\",\"Bread\",\"Coffee\",\"Pastry\",\"Medialuna\",\"Juice\",\"Bread\",\"Coffee\",\"Jam\",\"Bread\",\"Bread\",\"Coffee\",\"Tea\",\"Coffee\",\"Bread\",\"Coke\",\"Coffee\",\"Tea\",\"Pastry\",\"Farm House\",\"Pastry\",\"Coffee\",\"Juice\",\"Coffee\",\"Pastry\",\"Juice\",\"Farm House\",\"Pastry\",\"Coffee\",\"Bread\",\"Bread\",\"Coffee\",\"Pastry\",\"Farm House\",\"Bread\",\"Coffee\",\"Medialuna\",\"Muffin\",\"Coffee\",\"Tea\",\"Cake\",\"Coffee\",\"Pastry\",\"Coffee\",\"Tea\",\"Farm House\",\"Muffin\",\"Bread\",\"Muffin\",\"Pastry\",\"Pastry\",\"Coffee\",\"Coffee\",\"Coffee\",\"Cake\",\"Farm House\",\"Bread\",\"Coffee\",\"Cookies\",\"Cake\",\"Coffee\",\"My-5 Fruit Shoot\",\"Cookies\",\"Tea\",\"Pastry\",\"Coffee\",\"Muffin\",\"Farm House\",\"Coffee\",\"Bread\",\"Cookies\",\"Jam\",\"Coffee\",\"Juice\",\"Coffee\",\"Soup\",\"Tea\",\"Coffee\",\"Jam\",\"Farm House\",\"Tartine\",\"Coffee\",\"Tea\",\"Coffee\",\"Cake\",\"Coffee\",\"Muffin\",\"Bread\",\"Coffee\",\"Tea\",\"Juice\",\"Pick and Mix Bowls\",\"Cookies\",\"Hearty & Seasonal\",\"Soup\",\"Hearty & Seasonal\",\"Tea\",\"Farm House\",\"Bread\",\"Tea\",\"Soup\",\"Farm House\",\"Soup\",\"Hearty & Seasonal\",\"Coffee\",\"Bread\",\"Muffin\",\"Hearty & Seasonal\",\"Coffee\",\"Cookies\",\"Bread\",\"Tea\",\"Muffin\",\"Tea\",\"Soup\",\"Hearty & Seasonal\",\"Coffee\",\"Tea\",\"Focaccia\",\"Sandwich\",\"Tartine\",\"Coffee\",\"Fudge\",\"Coffee\",\"Coffee\",\"Bread\",\"Coke\",\"Soup\",\"Muffin\",\"Tea\",\"Coffee\",\"Cookies\",\"Muffin\",\"Mighty Protein\",\"Hearty & Seasonal\",\"Coffee\",\"Coke\",\"Tea\",\"Muffin\",\"Sandwich\",\"Coffee\",\"Muffin\",\"Coffee\",\"Bread\",\"Coffee\",\"Muffin\",\"Bread\",\"Hot chocolate\",\"Cookies\",\"Mineral water\",\"Muffin\",\"Tea\",\"Muffin\",\"Coffee\",\"Juice\",\"Coffee\",\"Muffin\",\"Tea\",\"Coffee\",\"Muffin\",\"Sandwich\",\"Hearty & Seasonal\",\"Bread\",\"Mineral water\",\"Tea\",\"Coffee\",\"Mineral water\",\"Coffee\",\"Soup\",\"Tea\",\"Bread\",\"Coffee\",\"Bread\",\"Muffin\",\"Coffee\",\"Bread\",\"Cookies\",\"Coffee\",\"Coffee\",\"Pastry\",\"Coffee\",\"Pastry\",\"Jam\",\"Tea\",\"Tea\",\"Pastry\",\"Ella's Kitchen Pouches\",\"Pastry\",\"Farm House\",\"Tea\",\"Tea\",\"Victorian Sponge\",\"Tea\",\"Pastry\",\"Bread\",\"Coffee\",\"Bread\",\"Coffee\",\"Coffee\",\"Pastry\",\"Soup\",\"Tea\",\"Bread\",\"Coffee\",\"Bread\",\"Bread\",\"Scandinavian\",\"Bread\",\"Cake\",\"Cookies\",\"Coffee\",\"Tea\",\"Coffee\",\"Cookies\",\"Coffee\",\"Bread\",\"Coffee\",\"Pastry\",\"Coffee\",\"Coffee\",\"Scandinavian\",\"Bread\",\"Coffee\",\"Pastry\",\"Scandinavian\",\"Coffee\",\"Pastry\",\"Hearty & Seasonal\",\"Coffee\",\"Muffin\",\"Bread\",\"Coffee\",\"Scandinavian\",\"Soup\",\"Coffee\",\"Coffee\",\"Cookies\",\"Tartine\",\"Bread\",\"Bread\",\"Tea\",\"Pastry\",\"Coffee\",\"Tartine\",\"Coffee\",\"Bread\",\"Cookies\",\"Sandwich\",\"Tartine\",\"Bread\",\"Pastry\",\"Bread\",\"Scandinavian\",\"Scandinavian\",\"Alfajores\",\"Coffee\",\"Coffee\",\"Coffee\",\"Coke\",\"Soup\",\"Cake\",\"Tea\",\"Sandwich\",\"Soup\",\"Coffee\",\"Hearty & Seasonal\",\"Bread\",\"Alfajores\",\"Cake\",\"Tea\",\"Bread\",\"Coffee\",\"Tea\",\"Bread\",\"Soup\",\"Coffee\",\"Scandinavian\",\"Fudge\",\"Coffee\",\"Sandwich\",\"Tea\",\"Bread\",\"Cookies\",\"Pastry\",\"Muffin\",\"Scandinavian\",\"Jam\",\"Tea\",\"Juice\",\"Tea\",\"Alfajores\",\"Cake\",\"Muffin\",\"Coffee\",\"Soup\",\"Hot chocolate\",\"Cake\",\"Coffee\",\"Cake\",\"Cookies\",\"Tea\",\"Bread\",\"Alfajores\",\"Coffee\",\"Juice\",\"Coffee\",\"Tea\",\"Soup\",\"Hot chocolate\",\"Cookies\",\"Coffee\",\"Medialuna\",\"Bread\",\"Eggs\",\"Scandinavian\",\"Medialuna\",\"Coffee\",\"Pastry\",\"Coffee\",\"Bread\",\"Bread\",\"Coffee\",\"Pastry\",\"Coffee\",\"Pastry\",\"Pastry\",\"Coffee\",\"Coffee\",\"Coffee\",\"Hot chocolate\",\"Pastry\",\"Coke\",\"Coffee\",\"Jam\",\"Tea\",\"Bread\",\"Pastry\",\"Coffee\",\"Alfajores\",\"Farm House\",\"Tea\",\"Pastry\",\"Bread\",\"Coffee\",\"Jam\",\"Coffee\",\"Tea\",\"Pastry\",\"Farm House\",\"Coffee\",\"Bread\",\"Pastry\",\"Farm House\",\"Coffee\",\"Pastry\",\"Farm House\",\"Coffee\",\"Pastry\",\"Coffee\",\"Coffee\",\"Pastry\",\"Bread\",\"Bread\",\"Coffee\",\"Pastry\",\"Pastry\",\"Coffee\",\"Coffee\",\"Farm House\",\"Farm House\",\"Pastry\",\"Bread\",\"Juice\",\"Alfajores\",\"Coffee\",\"Pastry\",\"Bread\",\"Alfajores\",\"Bread\",\"Coffee\",\"Cookies\",\"Coffee\",\"Cookies\",\"Hearty & Seasonal\",\"Coffee\",\"Jam\",\"Tartine\",\"Bread\",\"Farm House\",\"Scandinavian\",\"Hearty & Seasonal\",\"Coffee\",\"Muffin\",\"Scandinavian\",\"Tartine\",\"Pick and Mix Bowls\",\"Coffee\",\"Coke\",\"Bread\",\"Scandinavian\",\"Farm House\",\"Alfajores\",\"Coffee\",\"Juice\",\"Mineral water\",\"Soup\",\"Soup\",\"Tea\",\"Juice\",\"Tea\",\"Cookies\",\"Soup\",\"Hearty & Seasonal\",\"Tea\",\"Fudge\",\"Coffee\",\"Mineral water\",\"Juice\",\"Soup\",\"Hearty & Seasonal\",\"Hearty & Seasonal\",\"Smoothies\",\"Hearty & Seasonal\",\"Tea\",\"Coffee\",\"Sandwich\",\"Cookies\",\"Farm House\",\"Soup\",\"Tea\",\"Juice\",\"Soup\",\"Coffee\",\"Bread\",\"Cookies\",\"Tea\",\"Soup\",\"Hearty & Seasonal\",\"Bread\",\"Coffee\",\"Coffee\",\"Coffee\",\"Tea\",\"Bread\",\"Tea\",\"Coffee\",\"Tea\",\"Coffee\",\"Fudge\",\"Tea\",\"Soup\",\"Tea\",\"Juice\",\"Alfajores\",\"Bread\",\"Coffee\",\"Alfajores\",\"Juice\",\"Alfajores\",\"Cookies\",\"Pick and Mix Bowls\",\"Mineral water\",\"Coffee\",\"Alfajores\",\"Fudge\",\"Mighty Protein\",\"Juice\",\"Coffee\",\"Mineral water\",\"Alfajores\",\"Mighty Protein\",\"Coffee\",\"Alfajores\",\"Coffee\",\"Bread\",\"Medialuna\",\"Medialuna\",\"Bread\",\"Farm House\",\"Coffee\",\"Pastry\",\"Farm House\",\"Coffee\",\"Pastry\",\"Medialuna\",\"Bread\",\"Tea\",\"Sandwich\",\"Bread\",\"Jam\",\"Coffee\",\"Farm House\",\"Focaccia\",\"Bread\",\"Tartine\",\"Pastry\",\"Bread\",\"My-5 Fruit Shoot\",\"Farm House\",\"Pastry\",\"Bread\",\"Pastry\",\"Pastry\",\"Bread\",\"Jam\",\"Coffee\",\"Farm House\",\"Bread\",\"Pastry\",\"Coffee\",\"Tea\",\"Bread\",\"Jam\",\"Pastry\",\"Medialuna\",\"Coffee\",\"Tea\",\"Bread\",\"Bread\",\"Pastry\",\"Pastry\",\"Farm House\",\"Tea\",\"Coffee\",\"Brownie\",\"Alfajores\",\"Fudge\",\"Bread\",\"Fudge\",\"Cookies\",\"Coffee\",\"Bread\",\"Coffee\",\"Jam\",\"Pastry\",\"Soup\",\"Coffee\",\"Smoothies\",\"Soup\",\"Hearty & Seasonal\",\"Pastry\",\"Pastry\",\"Bread\",\"Pastry\",\"Medialuna\",\"Tea\",\"Coffee\",\"Bread\",\"Cookies\",\"Coffee\",\"Bread\",\"Hearty & Seasonal\",\"Pick and Mix Bowls\",\"Sandwich\",\"Focaccia\",\"Coffee\",\"Coffee\",\"Sandwich\",\"Brownie\",\"Brownie\",\"Cookies\",\"Coffee\",\"Coffee\",\"Sandwich\",\"Bread\",\"Coffee\",\"Coffee\",\"Hot chocolate\",\"Tea\",\"Sandwich\",\"Coffee\",\"Brownie\",\"Brownie\",\"Pastry\",\"Focaccia\",\"Farm House\",\"Cake\",\"Focaccia\",\"Soup\",\"Hearty & Seasonal\",\"Mineral water\",\"Hearty & Seasonal\",\"Hearty & Seasonal\",\"Coffee\",\"Pastry\",\"Coffee\",\"Tea\",\"Cake\",\"Coffee\",\"Soup\",\"Bread\",\"Focaccia\",\"Fudge\",\"Hot chocolate\",\"Coffee\",\"Alfajores\",\"Brownie\",\"Pastry\",\"Cake\",\"Medialuna\",\"Alfajores\",\"Dulce de Leche\",\"Dulce de Leche\",\"Alfajores\",\"Bread\",\"Cake\",\"Cake\",\"Coffee\",\"Bread\",\"Sandwich\",\"Bread\",\"Coffee\",\"Alfajores\",\"Medialuna\",\"Coffee\",\"Bread\",\"Alfajores\",\"Tea\",\"Coffee\",\"Bread\",\"Dulce de Leche\",\"Farm House\",\"Fudge\",\"Coffee\",\"Coffee\",\"Alfajores\",\"Juice\",\"Ella's Kitchen Pouches\",\"Brownie\",\"Alfajores\",\"Alfajores\",\"Brownie\",\"Cookies\",\"Bread\",\"Juice\",\"Cake\",\"Cookies\",\"Pick and Mix Bowls\",\"Coffee\",\"Farm House\",\"Tea\",\"Coffee\",\"Focaccia\",\"Farm House\",\"Dulce de Leche\",\"Juice\",\"My-5 Fruit Shoot\",\"Ella's Kitchen Pouches\",\"Cookies\",\"Bread\",\"Hot chocolate\",\"Coffee\",\"Coffee\",\"Coffee\",\"Medialuna\",\"Bread\",\"Tea\",\"Jam\",\"Farm House\",\"Bread\",\"Coffee\",\"Medialuna\",\"Coffee\",\"Bread\",\"Medialuna\",\"Pastry\",\"Coffee\",\"Jam\",\"Bread\",\"Coffee\",\"Coffee\",\"Bread\",\"Hot chocolate\",\"Bread\",\"Medialuna\",\"Bread\",\"Jam\",\"Jam\",\"Bread\",\"Coffee\",\"Bread\",\"Bread\",\"Farm House\",\"Bread\",\"Coffee\",\"Tea\",\"Pastry\",\"Coffee\",\"Bread\",\"Pastry\",\"Brownie\",\"Farm House\",\"Coffee\",\"Tea\",\"Coffee\",\"Honey\",\"Cookies\",\"Tea\",\"Bread\",\"Brownie\",\"Bread\",\"Coffee\",\"Bread\",\"Coffee\",\"Tea\",\"Tea\",\"Coffee\",\"Bread\",\"Coffee\",\"Bread\",\"Bread\",\"The BART\",\"Coffee\",\"Brownie\",\"Coffee\",\"Coffee\",\"Brownie\",\"Mineral water\",\"Coffee\",\"Tartine\",\"Brownie\",\"Coffee\",\"Brownie\",\"Juice\",\"Coffee\",\"Bread\",\"Tea\",\"Alfajores\",\"Medialuna\",\"Pastry\",\"Jam\",\"Bread\",\"Fudge\",\"Coffee\",\"Pick and Mix Bowls\",\"Pastry\",\"Bread\",\"Soup\",\"Scandinavian\",\"Coffee\",\"Mineral water\",\"Juice\",\"Mineral water\",\"Sandwich\",\"Pick and Mix Bowls\",\"Bread\",\"Pastry\",\"Hearty & Seasonal\",\"Coffee\",\"Bread\",\"Hearty & Seasonal\",\"Coffee\",\"Mineral water\",\"Coffee\",\"Tartine\",\"Sandwich\",\"Brownie\",\"Coffee\",\"Brownie\",\"Alfajores\",\"Coffee\",\"Tartine\",\"Mighty Protein\",\"Coffee\",\"Coffee\",\"Hot chocolate\",\"Soup\",\"Jam\",\"Coffee\",\"Mineral water\",\"Brownie\",\"Scandinavian\",\"Coffee\",\"Scandinavian\",\"Coffee\",\"Coffee\",\"Coffee\",\"Hot chocolate\",\"Brownie\",\"Hearty & Seasonal\",\"Tea\",\"Cake\",\"Medialuna\",\"Alfajores\",\"Tea\",\"Coffee\",\"Coffee\",\"Juice\",\"Brownie\",\"Alfajores\",\"Coffee\",\"Sandwich\",\"Bread\",\"Soup\",\"Soup\",\"Bread\",\"Bread\",\"Tea\",\"Brownie\",\"Cookies\",\"Coffee\",\"Bread\",\"Brownie\",\"Brownie\",\"Cookies\",\"Bread\",\"Jam\",\"Coffee\",\"Tea\",\"Brownie\",\"Alfajores\",\"Medialuna\",\"Scandinavian\",\"Hot chocolate\",\"Coffee\",\"Alfajores\",\"Cookies\",\"Brownie\",\"Fudge\",\"Tea\",\"Brownie\",\"Dulce de Leche\",\"Fudge\",\"Bread\",\"Scandinavian\",\"Fudge\",\"Granola\",\"Pastry\",\"Coffee\",\"Bread\",\"Fudge\",\"Hot chocolate\",\"Coffee\",\"Medialuna\",\"Bread\",\"Bread\",\"Medialuna\",\"Bread\",\"Coffee\",\"Medialuna\",\"Jam\",\"Jam\",\"Coffee\",\"Brownie\",\"Bread\",\"Coffee\",\"Jam\",\"Scandinavian\",\"Coffee\",\"Cookies\",\"Coffee\",\"Scandinavian\",\"Bread\",\"Bread\",\"Jam\",\"Brownie\",\"Coffee\",\"Coffee\",\"Brownie\",\"Hot chocolate\",\"Bread\",\"Bread\",\"Medialuna\",\"Coffee\",\"Hot chocolate\",\"Brownie\",\"Scandinavian\",\"Basket\",\"Bread\",\"Coffee\",\"Bread\",\"Brownie\",\"Cake\",\"Fudge\",\"Coffee\",\"Hot chocolate\",\"Basket\",\"Scandinavian\",\"Scandinavian\",\"Coffee\",\"Bread\",\"Cake\",\"Medialuna\",\"Coffee\",\"Medialuna\",\"Bread\",\"Pastry\",\"Bread\",\"Brownie\",\"Medialuna\",\"Farm House\",\"Bread\",\"Medialuna\",\"Brownie\",\"Medialuna\",\"Hot chocolate\",\"Smoothies\",\"Coffee\",\"Bread\",\"Tea\",\"Coffee\",\"Brownie\",\"Medialuna\",\"Medialuna\",\"Cookies\",\"Coffee\",\"Medialuna\",\"Bread\",\"Fudge\",\"Coffee\",\"Tea\",\"Coffee\",\"Cookies\",\"Pastry\",\"Bread\",\"Brownie\",\"Bread\",\"Coffee\",\"Coffee\",\"Tea\",\"Bread\",\"Medialuna\",\"Coffee\",\"My-5 Fruit Shoot\",\"Coffee\",\"Brownie\",\"Coffee\",\"Fudge\",\"Coffee\",\"Coffee\",\"Basket\",\"Farm House\",\"Farm House\",\"Coffee\",\"Brownie\",\"Scandinavian\",\"Brownie\",\"My-5 Fruit Shoot\",\"Tartine\",\"Coffee\",\"Hot chocolate\",\"Brownie\",\"Brownie\",\"Bread\",\"Hot chocolate\",\"Jam\",\"Fudge\",\"Coffee\",\"Fudge\",\"Mighty Protein\",\"Hearty & Seasonal\",\"Coffee\",\"Tea\",\"Cake\",\"Coffee\",\"Scandinavian\",\"Cake\",\"Victorian Sponge\",\"Scandinavian\",\"Tea\",\"Cake\",\"Coffee\",\"Coffee\",\"Bread\",\"Frittata\",\"Coffee\",\"My-5 Fruit Shoot\",\"Brownie\",\"Focaccia\",\"Fairy Doors\",\"Tea\",\"Coffee\",\"Hot chocolate\",\"Hearty & Seasonal\",\"Pick and Mix Bowls\",\"Brownie\",\"Frittata\",\"Coffee\",\"Bread\",\"Brownie\",\"Frittata\",\"Scandinavian\",\"Bread\",\"Farm House\",\"Pick and Mix Bowls\",\"Jam\",\"Soup\",\"Brownie\",\"Hearty & Seasonal\",\"Coffee\",\"Tea\",\"Bread\",\"Bread\",\"Frittata\",\"Scandinavian\",\"Tartine\",\"Hot chocolate\",\"Coffee\",\"Coffee\",\"Mighty Protein\",\"Frittata\",\"Coffee\",\"Scandinavian\",\"Hearty & Seasonal\",\"Coffee\",\"Mineral water\",\"Scandinavian\",\"Bread\",\"Coffee\",\"Hearty & Seasonal\",\"Soup\",\"Bread\",\"Coffee\",\"Brownie\",\"Cake\",\"Tea\",\"Mighty Protein\",\"Coffee\",\"Coffee\",\"Tea\",\"Brownie\",\"Soup\",\"Cake\",\"Hot chocolate\",\"Coffee\",\"Cake\",\"Hearty & Seasonal\",\"Coffee\",\"Coffee\",\"Frittata\",\"Coffee\",\"Brownie\",\"Sandwich\",\"Frittata\",\"Coke\",\"Mineral water\",\"Brownie\",\"Granola\",\"Scandinavian\",\"Coffee\",\"Coke\",\"Tea\",\"Brownie\",\"Cake\",\"Fudge\",\"Coffee\",\"Brownie\",\"Cake\",\"Tea\",\"Coffee\",\"Soup\",\"Sandwich\",\"Cake\",\"Coffee\",\"Bread\",\"Brownie\",\"Bread\",\"Coffee\",\"Brownie\",\"Coffee\",\"Bread\",\"Brownie\",\"Brownie\",\"Coffee\",\"Coffee\",\"Soup\",\"Brownie\",\"Fudge\",\"Bread\",\"Focaccia\",\"Bread\",\"Farm House\",\"Jam\",\"Hot chocolate\",\"Brownie\",\"Hot chocolate\",\"Coffee\",\"Brownie\",\"Medialuna\",\"Pastry\",\"Bread\",\"Coffee\",\"Pastry\",\"Bread\",\"Coffee\",\"Mineral water\",\"Pastry\",\"Bread\",\"Hot chocolate\",\"Bread\",\"Bread\",\"Jam\",\"Coffee\",\"Bread\",\"Coffee\",\"Pastry\",\"Medialuna\",\"Coffee\",\"Focaccia\",\"Hearty & Seasonal\",\"Bread\",\"Farm House\",\"Coffee\",\"Jam\",\"Farm House\",\"Coffee\",\"Tea\",\"Pastry\",\"Medialuna\",\"Pastry\",\"Medialuna\",\"Coffee\",\"Coffee\",\"Hot chocolate\",\"Basket\",\"Farm House\",\"Pastry\",\"Farm House\",\"Hot chocolate\",\"Coffee\",\"My-5 Fruit Shoot\",\"Pastry\",\"Medialuna\",\"Muffin\",\"Farm House\",\"Muffin\",\"Pastry\",\"Focaccia\",\"Coffee\",\"Tea\",\"Bread\",\"Focaccia\",\"Coffee\",\"Hot chocolate\",\"Pastry\",\"Jam\",\"Bread\",\"Coffee\",\"Pastry\",\"Bread\",\"Tea\",\"Hot chocolate\",\"Coffee\",\"Mineral water\",\"Coffee\",\"Coffee\",\"Jam\",\"Coffee\",\"Muffin\",\"Bread\",\"Bread\",\"Bread\",\"Muffin\",\"Hot chocolate\",\"Coffee\",\"Muffin\",\"Fudge\",\"Bread\",\"Bread\",\"Farm House\",\"Coffee\",\"Muffin\",\"Focaccia\",\"Bread\",\"Tea\",\"Coffee\",\"Hot chocolate\",\"Coffee\",\"Tartine\",\"Pick and Mix Bowls\",\"Jam\",\"Jam\",\"Tartine\",\"Bread\",\"Coffee\",\"Coffee\",\"Mineral water\",\"Juice\",\"Tartine\",\"Pick and Mix Bowls\",\"Bread\",\"Tea\",\"Juice\",\"Coffee\",\"Cake\",\"Farm House\",\"Farm House\",\"Cake\",\"Brownie\",\"Coffee\",\"Focaccia\",\"Coffee\",\"Tea\",\"Coffee\",\"Muffin\",\"Coffee\",\"Tea\",\"Coffee\",\"Hearty & Seasonal\",\"Cake\",\"Coffee\",\"Bread\",\"Tea\",\"Cake\",\"Mighty Protein\",\"Coffee\",\"Hot chocolate\",\"Muffin\",\"Coffee\",\"Soup\",\"Mighty Protein\",\"Jam\",\"Coffee\",\"Alfajores\",\"Cake\",\"Hot chocolate\",\"Alfajores\",\"Hot chocolate\",\"Tea\",\"Muffin\",\"Brownie\",\"Cake\",\"Coffee\",\"Victorian Sponge\",\"Alfajores\",\"Tea\",\"Bread\",\"Tartine\",\"Tea\",\"Mighty Protein\",\"Tea\",\"Bread\",\"Fudge\",\"Medialuna\",\"Tartine\",\"Coffee\",\"Pastry\",\"Bread\",\"Pastry\",\"Bread\",\"Coffee\",\"Tea\",\"Alfajores\",\"Alfajores\",\"Coffee\",\"Coffee\",\"Alfajores\",\"Alfajores\",\"Pastry\",\"Alfajores\",\"Pastry\",\"Tea\",\"Alfajores\",\"Hearty & Seasonal\",\"Tea\",\"Sandwich\",\"Empanadas\",\"Tea\",\"Alfajores\",\"Tea\",\"Alfajores\",\"Pastry\",\"Dulce de Leche\",\"Coffee\",\"Pastry\",\"Farm House\",\"Coffee\",\"Bread\",\"Scandinavian\",\"Medialuna\",\"Bread\",\"Pastry\",\"Tea\",\"Alfajores\",\"Pastry\",\"Coffee\",\"Bread\",\"Pastry\",\"Muffin\",\"Farm House\",\"Medialuna\",\"Tea\",\"Alfajores\",\"Sandwich\",\"Tea\",\"Tea\",\"Bread\",\"Bread\",\"Coffee\",\"Pastry\",\"Coffee\",\"Muffin\",\"Alfajores\",\"Empanadas\",\"Coffee\",\"Bread\",\"Coffee\",\"Coffee\",\"Bread\",\"Bread\",\"Pastry\",\"Medialuna\",\"Tea\",\"Tea\",\"Bread\",\"Muffin\",\"Coffee\",\"Muffin\",\"Coffee\",\"Bread\",\"Pastry\",\"Medialuna\",\"Coffee\",\"Muffin\",\"Muffin\",\"Hot chocolate\",\"Scandinavian\",\"Bread\",\"Farm House\",\"Muffin\",\"Coffee\",\"Bread\",\"Coffee\",\"Cookies\",\"Coffee\",\"Muffin\",\"Coffee\",\"Tea\",\"Keeping It Local\",\"Coffee\",\"Medialuna\",\"Bread\",\"Tartine\",\"Scandinavian\",\"Coffee\",\"Tea\",\"Bread\",\"Coffee\",\"Coke\",\"Coffee\",\"Muffin\",\"Coffee\",\"Bread\",\"Medialuna\",\"Muffin\",\"Scandinavian\",\"Bread\",\"Coke\",\"Bread\",\"Scandinavian\",\"Coffee\",\"Bread\",\"Scandinavian\",\"Bread\",\"Fudge\",\"Soup\",\"Hearty & Seasonal\",\"Coffee\",\"Coke\",\"Coffee\",\"Cookies\",\"Tea\",\"Pastry\",\"Tea\",\"Coffee\",\"Bread\",\"Coffee\",\"Medialuna\",\"Coffee\",\"Muffin\",\"Sandwich\",\"Soup\",\"Tea\",\"Coffee\",\"Muffin\",\"Alfajores\",\"Bread\",\"Coffee\",\"Medialuna\",\"Coffee\",\"Coffee\",\"Medialuna\",\"Empanadas\",\"Bread\",\"Scandinavian\",\"Coffee\",\"Tartine\",\"Tea\",\"Scandinavian\",\"Muffin\",\"Scandinavian\",\"Bread\",\"Bread\",\"Coffee\",\"Bread\",\"Bread\",\"Coffee\",\"Cookies\",\"Scandinavian\",\"Coffee\",\"Bread\",\"Empanadas\",\"Medialuna\",\"Coffee\",\"Pastry\",\"Bread\",\"Pastry\",\"Tea\",\"Coffee\",\"Pastry\",\"Coffee\",\"Bread\",\"Coffee\",\"Keeping It Local\",\"Fudge\",\"Tartine\",\"Coffee\",\"Hot chocolate\",\"Coffee\",\"Pastry\",\"Medialuna\",\"Alfajores\",\"Coffee\",\"Coffee\",\"Coffee\",\"Medialuna\",\"Coke\",\"Coffee\",\"Alfajores\",\"Muffin\",\"Farm House\",\"Brownie\",\"Fudge\",\"Coffee\",\"Tea\",\"Muffin\",\"Farm House\",\"Coffee\",\"Pastry\",\"Pastry\",\"Brownie\",\"Medialuna\",\"Coffee\",\"Pastry\",\"Coffee\",\"Juice\",\"Coffee\",\"Bread\",\"Tea\",\"Coffee\",\"Tea\",\"Alfajores\",\"Alfajores\",\"Coffee\",\"Scandinavian\",\"Pastry\",\"Medialuna\",\"Brownie\",\"Farm House\",\"Coffee\",\"Cookies\",\"Soup\",\"Art Tray\",\"Coffee\",\"Brownie\",\"Coffee\",\"Farm House\",\"Soup\",\"Art Tray\",\"Alfajores\",\"Frittata\",\"Sandwich\",\"Coffee\",\"Tea\",\"Farm House\",\"Scandinavian\",\"Muffin\",\"Farm House\",\"Scandinavian\",\"Soup\",\"Hearty & Seasonal\",\"Tea\",\"Bread\",\"Hot chocolate\",\"Coffee\",\"Sandwich\",\"Hearty & Seasonal\",\"Brownie\",\"Hearty & Seasonal\",\"Sandwich\",\"Coffee\",\"Medialuna\",\"Coffee\",\"Coffee\",\"Brownie\",\"Soup\",\"Sandwich\",\"Alfajores\",\"Focaccia\",\"Farm House\",\"Tartine\",\"Bread\",\"Coffee\",\"Hot chocolate\",\"Tea\",\"Muffin\",\"Pastry\",\"Coffee\",\"Brownie\",\"Hearty & Seasonal\",\"Soup\",\"Bowl Nic Pitt\",\"Coffee\",\"Alfajores\",\"Medialuna\",\"Scandinavian\",\"Farm House\",\"Soup\",\"Coffee\",\"Tea\",\"Coffee\",\"Tea\",\"Cookies\",\"Tea\",\"Muffin\",\"Coffee\",\"Brownie\",\"Coffee\",\"Coffee\",\"Coffee\",\"Farm House\",\"Coffee\",\"Bread Pudding\",\"Coffee\",\"Medialuna\",\"Hot chocolate\",\"Coffee\",\"Hot chocolate\",\"Farm House\",\"Pastry\",\"Coffee\",\"Bread\",\"Pastry\",\"Coffee\",\"Coffee\",\"Coffee\",\"Pastry\",\"Farm House\",\"Bread\",\"Coffee\",\"Hot chocolate\",\"Bread\",\"Coffee\",\"Focaccia\",\"Medialuna\",\"Bread\",\"Coffee\",\"Bread\",\"Keeping It Local\",\"Bread\",\"Coffee\",\"Bread\",\"Bread\",\"Medialuna\",\"Coffee\",\"Coffee\",\"Medialuna\",\"Coffee\",\"Cookies\",\"Tartine\",\"Tea\",\"Bread\",\"Bread\",\"Keeping It Local\",\"Coffee\",\"Coffee\",\"Medialuna\",\"Coffee\",\"Medialuna\",\"Tea\",\"Juice\",\"Coke\",\"Soup\",\"Bread\",\"Brownie\",\"Brownie\",\"Bread\",\"Coffee\",\"Coffee\",\"Pastry\",\"Bread\",\"Hearty & Seasonal\",\"Bread\",\"Coffee\",\"Brownie\",\"Coffee\",\"Bread\",\"Cookies\",\"Fudge\",\"Eggs\",\"Bread\",\"Bread\",\"Muffin\",\"Soup\",\"Coffee\",\"Bread Pudding\",\"Bread\",\"Tartine\",\"Sandwich\",\"Coffee\",\"Fudge\",\"Jam\",\"Bread Pudding\",\"Bread Pudding\",\"Soup\",\"Coffee\",\"Hearty & Seasonal\",\"Bread\",\"Coffee\",\"Cookies\",\"Coffee\",\"Bread\",\"Coffee\",\"Bread\",\"Soup\",\"Soup\",\"Tea\",\"Focaccia\",\"Coffee\",\"My-5 Fruit Shoot\",\"Cookies\",\"Coffee\",\"Coffee\",\"Sandwich\",\"Tea\",\"Scandinavian\",\"Adjustment\",\"Coffee\",\"Medialuna\",\"Coffee\",\"Bread\",\"Bread\",\"Coffee\",\"Pastry\",\"Farm House\",\"Medialuna\",\"Brownie\",\"Bread\",\"Pastry\",\"Brownie\",\"Pastry\",\"Bread\",\"Cookies\",\"Bread\",\"Cookies\",\"Pastry\",\"Coffee\",\"Juice\",\"Pastry\",\"Cookies\",\"Coffee\",\"Coffee\",\"Medialuna\",\"Bread\",\"Tartine\",\"Coffee\",\"Coffee\",\"Medialuna\",\"Bread\",\"Bread\",\"Coffee\",\"Alfajores\",\"Cookies\",\"Bread\",\"Coffee\",\"Bread\",\"Bread\",\"Coffee\",\"Tea\",\"Keeping It Local\",\"Jam\",\"Cookies\",\"Pastry\",\"Coffee\",\"Juice\",\"Medialuna\",\"Bread\",\"Focaccia\",\"Pastry\",\"Medialuna\",\"Coffee\",\"Coffee\",\"Coffee\",\"Coffee\",\"Cookies\",\"Truffles\",\"Brownie\",\"Bread\",\"Art Tray\",\"Tea\",\"Bread\",\"Coffee\",\"Coffee\",\"Cookies\",\"Brownie\",\"Bread\",\"Tea\",\"Empanadas\",\"Bread\",\"Hot chocolate\",\"Coffee\",\"Cookies\",\"Bread\",\"Tartine\",\"Sandwich\",\"Tea\",\"Bread\",\"Soup\",\"Sandwich\",\"Bread\",\"Soup\",\"Bread\",\"Fudge\",\"Coffee\",\"Coffee\",\"Empanadas\",\"Soup\",\"Bread\",\"Coffee\",\"Brownie\",\"Coffee\",\"Smoothies\",\"Juice\",\"Soup\",\"Hearty & Seasonal\",\"Alfajores\",\"Sandwich\",\"Hot chocolate\",\"Coffee\",\"Scandinavian\",\"Cookies\",\"Tea\",\"Coffee\",\"Bread\",\"Cookies\",\"Alfajores\",\"Cookies\",\"Bread\",\"Tea\",\"Brownie\",\"Tea\",\"Bread\",\"Coffee\",\"Alfajores\",\"Bread\",\"Empanadas\",\"Coffee\",\"Bread\",\"Coffee\",\"Hot chocolate\",\"Coffee\",\"Coffee\",\"Brownie\",\"Tea\",\"Hot chocolate\",\"Brownie\",\"Truffles\",\"Coffee\",\"Keeping It Local\",\"Coffee\",\"Alfajores\",\"Scandinavian\",\"Chimichurri Oil\",\"Bread\",\"Truffles\",\"Brownie\",\"Focaccia\",\"Coffee\",\"Bread\",\"Coffee\",\"Tea\",\"Art Tray\",\"Cookies\",\"Coffee\",\"Bread\",\"Coffee\",\"Alfajores\",\"Coke\",\"Bread\",\"Bread\",\"Bread\",\"Pastry\",\"Medialuna\",\"Coffee\",\"Coffee\",\"Bread\",\"Keeping It Local\",\"Bread\",\"Coffee\",\"Scandinavian\",\"Bread\",\"Farm House\",\"Pastry\",\"Medialuna\",\"Medialuna\",\"Coffee\",\"Bread\",\"Farm House\",\"Bread\",\"Keeping It Local\",\"Bread\",\"Bread\",\"Medialuna\",\"Tea\",\"Coffee\",\"Pastry\",\"Keeping It Local\",\"Coffee\",\"Tea\",\"Hot chocolate\",\"Tea\",\"Sandwich\",\"Bread\",\"Medialuna\",\"Muffin\",\"Brownie\",\"Coffee\",\"Muffin\",\"Bread\",\"Coffee\",\"Medialuna\",\"Coffee\",\"Coffee\",\"Medialuna\",\"Coffee\",\"Coffee\",\"Hot chocolate\",\"Brownie\",\"Bread\",\"Bread\",\"Bread\",\"Coffee\",\"Brownie\",\"Ella's Kitchen Pouches\",\"Coffee\",\"Medialuna\",\"Pastry\",\"Jam\",\"Bread\",\"Ella's Kitchen Pouches\",\"Coffee\",\"Muffin\",\"Tea\",\"Coffee\",\"Truffles\",\"Coffee\",\"Pastry\",\"Brownie\",\"Brownie\",\"Bread\",\"Bread\",\"Coffee\",\"Bread\",\"Pastry\",\"Alfajores\",\"Bread\",\"Brownie\",\"Muffin\",\"Scandinavian\",\"Coffee\",\"Fudge\",\"Tea\",\"Brownie\",\"Bread\",\"Bread\",\"Muffin\",\"Scandinavian\",\"Bread\",\"Coffee\",\"Bread\",\"Coffee\",\"Soup\",\"Soup\",\"Coffee\",\"Bread\",\"Alfajores\",\"Farm House\",\"Farm House\",\"Chimichurri Oil\",\"Farm House\",\"Sandwich\",\"Soup\",\"Bread\",\"Coffee\",\"Art Tray\",\"Frittata\",\"Sandwich\",\"Scandinavian\",\"Fairy Doors\",\"Mineral water\",\"Cookies\",\"Brownie\",\"Coffee\",\"Bread\",\"Hearty & Seasonal\",\"Hearty & Seasonal\",\"Bread\",\"Scandinavian\",\"Focaccia\",\"Fudge\",\"Coffee\",\"Tea\",\"Cake\",\"Coffee\",\"Truffles\",\"Coffee\",\"Brownie\",\"Scandinavian\",\"Muffin\",\"Coffee\",\"Soup\",\"Coke\",\"Hot chocolate\",\"Fudge\",\"Sandwich\",\"Juice\",\"Alfajores\",\"Coffee\",\"Alfajores\",\"Brownie\",\"Coffee\",\"Hot chocolate\",\"Juice\",\"Scandinavian\",\"Coffee\",\"Hot chocolate\",\"My-5 Fruit Shoot\",\"Cake\",\"Soup\",\"Sandwich\",\"Tea\",\"Alfajores\",\"Mineral water\",\"Bread\",\"Scandinavian\",\"Tea\",\"Tea\",\"Fudge\",\"Scandinavian\",\"Coffee\",\"Coffee\",\"Medialuna\",\"Coffee\",\"Bread\",\"Bread\",\"Pastry\",\"Medialuna\",\"Coffee\",\"Pastry\",\"Bread\",\"Coffee\",\"Hot chocolate\",\"Bread\",\"Pastry\",\"Medialuna\",\"Coffee\",\"Jam\",\"Bread\",\"Medialuna\",\"Medialuna\",\"Bread\",\"Coffee\",\"Coffee\",\"Bread\",\"Coffee\",\"Muffin\",\"Medialuna\",\"Bread\",\"Bread\",\"Bread\",\"Medialuna\",\"Coffee\",\"Pastry\",\"Brownie\",\"Medialuna\",\"Scandinavian\",\"Bread\",\"Coffee\",\"Muffin\",\"Bread\",\"Coffee\",\"Medialuna\",\"Muffin\",\"Bread\",\"Coffee\",\"Alfajores\",\"Bread\",\"Scandinavian\",\"Coffee\",\"Bread\",\"Medialuna\",\"Coffee\",\"Scandinavian\",\"Coffee\",\"Tea\",\"Brownie\",\"Truffles\",\"Muffin\",\"Tartine\",\"Coffee\",\"Coffee\",\"Alfajores\",\"Scandinavian\",\"Coffee\",\"Medialuna\",\"Hot chocolate\",\"Coffee\",\"Muffin\",\"Alfajores\",\"Farm House\",\"Coffee\",\"Muffin\",\"Brownie\",\"Bread\",\"Coffee\",\"Medialuna\",\"Farm House\",\"Farm House\",\"Scandinavian\",\"Truffles\",\"Bread\",\"Coffee\",\"Frittata\",\"Soup\",\"Coffee\",\"Scandinavian\",\"Eggs\",\"Brownie\",\"Truffles\",\"Coffee\",\"Scandinavian\",\"Coke\",\"Sandwich\",\"Soup\",\"Coffee\",\"Alfajores\",\"Tea\",\"Juice\",\"Hearty & Seasonal\",\"Truffles\",\"Coffee\",\"Muffin\",\"Brownie\",\"Bread\",\"Bowl Nic Pitt\",\"Frittata\",\"Muffin\",\"Coffee\",\"Soup\",\"Frittata\",\"Brownie\",\"Coffee\",\"Tea\",\"Hot chocolate\",\"Coffee\",\"Muffin\",\"Alfajores\",\"Scandinavian\",\"Keeping It Local\",\"Tea\",\"Coffee\",\"Alfajores\",\"Bread\",\"Fudge\",\"Farm House\",\"Farm House\",\"Coffee\",\"Brownie\",\"Muffin\",\"Soup\",\"Coffee\",\"Bread\",\"Frittata\",\"Bread\",\"Muffin\",\"Farm House\",\"Bread\",\"Muffin\",\"Bread\",\"Bread\",\"Coffee\",\"Farm House\",\"Bread\",\"Coffee\",\"Muffin\",\"Cookies\",\"Hot chocolate\",\"Coffee\",\"Muffin\",\"Jam\",\"Coffee\",\"Hot chocolate\",\"Tea\",\"Coffee\",\"Alfajores\",\"Tea\",\"Hearty & Seasonal\",\"Farm House\",\"Bread\",\"Coffee\",\"Alfajores\",\"Cookies\",\"Hearty & Seasonal\",\"Sandwich\",\"Bread\",\"Muffin\",\"Brownie\",\"Coffee\",\"Truffles\",\"Brownie\",\"Alfajores\",\"Coffee\",\"Tea\",\"Bread\",\"Tea\",\"Coffee\",\"Muffin\",\"Keeping It Local\",\"Coffee\",\"Alfajores\",\"Bread\",\"Tea\",\"Hot chocolate\",\"Alfajores\",\"Bread\",\"Alfajores\",\"Truffles\",\"Bread\",\"Bread\",\"Brownie\",\"Muffin\",\"Coffee\",\"Brownie\",\"Bread\",\"Bread\",\"Alfajores\",\"Muffin\",\"Truffles\",\"Frittata\",\"Coffee\",\"Bread\",\"Coffee\",\"Muffin\",\"Muffin\",\"Juice\",\"Coffee\",\"Muffin\",\"Bread\",\"Coffee\",\"Tartine\",\"Coffee\",\"Tea\",\"Coffee\",\"Coffee\",\"Tea\",\"Medialuna\",\"Coffee\",\"Medialuna\",\"Bread\",\"Coffee\",\"Pastry\",\"Farm House\",\"Bread\",\"Pastry\",\"Medialuna\",\"Coffee\",\"Bread\",\"Pastry\",\"Bread\",\"Medialuna\",\"Pastry\",\"Bread\",\"Coffee\",\"Keeping It Local\",\"Bread\",\"Farm House\",\"Jam\",\"Pastry\",\"Bread\",\"Coffee\",\"Medialuna\",\"Coffee\",\"Tea\",\"Bread\",\"Bread\",\"Pastry\",\"Hearty & Seasonal\",\"Scandinavian\",\"Coffee\",\"Hot chocolate\",\"Pastry\",\"Bread\",\"Muffin\",\"Coffee\",\"Keeping It Local\",\"Bread\",\"Coffee\",\"Medialuna\",\"Coffee\",\"Pastry\",\"Bread\",\"Medialuna\",\"Brownie\",\"Muffin\",\"Hearty & Seasonal\",\"Coffee\",\"Bread\",\"Coffee\",\"Alfajores\",\"Coffee\",\"Keeping It Local\",\"Bread\",\"Bread\",\"Coffee\",\"Coffee\",\"Hot chocolate\",\"Medialuna\",\"Brownie\",\"Bread\",\"Bread\",\"Sandwich\",\"Coffee\",\"Bread\",\"Brownie\",\"Brownie\",\"Coffee\",\"Bread\",\"Sandwich\",\"Brownie\",\"Hot chocolate\",\"Coffee\",\"Coffee\",\"Bread\",\"Mineral water\",\"Coffee\",\"Bread\",\"Bread\",\"Coffee\",\"Bread\",\"Bacon\",\"Art Tray\",\"Coffee\",\"Juice\",\"Bread\",\"Coffee\",\"Hearty & Seasonal\",\"Coffee\",\"Tea\",\"Brownie\",\"Medialuna\",\"Muffin\",\"Bread\",\"Bread\",\"Brownie\",\"Muffin\",\"My-5 Fruit Shoot\",\"Brownie\",\"Alfajores\",\"Coffee\",\"Bread\",\"Bread\",\"Jam\",\"Spread\",\"Brownie\",\"Coffee\",\"Hearty & Seasonal\",\"Bread\",\"Keeping It Local\",\"Hearty & Seasonal\",\"Tea\",\"Coffee\",\"Coke\",\"Mineral water\",\"Bread\",\"Brownie\",\"Muffin\",\"Coffee\",\"Tea\",\"Bread\",\"Bread\",\"Coffee\",\"Tea\",\"Frittata\",\"Keeping It Local\",\"Bread\",\"Cookies\",\"Bread\",\"Cake\",\"Coffee\",\"Fudge\",\"Bread\",\"Muffin\",\"Coffee\",\"Kids biscuit\",\"Juice\",\"Muffin\",\"Brownie\",\"Kids biscuit\",\"Kids biscuit\",\"Art Tray\",\"Tartine\",\"Fudge\",\"My-5 Fruit Shoot\",\"Kids biscuit\",\"Muffin\",\"Coffee\",\"Coffee\",\"Tea\",\"Medialuna\",\"Medialuna\",\"Coffee\",\"Coffee\",\"Coffee\",\"Medialuna\",\"Pastry\",\"Coffee\",\"Keeping It Local\",\"Tea\",\"Coffee\",\"Farm House\",\"Tea\",\"Truffles\",\"Farm House\",\"Coffee\",\"Keeping It Local\",\"Medialuna\",\"Truffles\",\"Tea\",\"Tea\",\"Keeping It Local\",\"Medialuna\",\"Pastry\",\"Truffles\",\"Pastry\",\"Focaccia\",\"Farm House\",\"Coffee\",\"Bread\",\"Coffee\",\"Truffles\",\"Coffee\",\"Kids biscuit\",\"Coffee\",\"Tea\",\"Coffee\",\"Bread\",\"Bread\",\"Medialuna\",\"Bread\",\"Tea\",\"Bread\",\"Mineral water\",\"Coffee\",\"Kids biscuit\",\"Muffin\",\"Pastry\",\"Coffee\",\"Keeping It Local\",\"Bread\",\"Sandwich\",\"Tea\",\"Fudge\",\"Bread\",\"Truffles\",\"Sandwich\",\"Coffee\",\"Coffee\",\"Tea\",\"Truffles\",\"Bread\",\"Sandwich\",\"Coffee\",\"Tea\",\"Coffee\",\"Sandwich\",\"Bread\",\"Hearty & Seasonal\",\"Alfajores\",\"Truffles\",\"Frittata\",\"Muffin\",\"Coffee\",\"Sandwich\",\"Hot chocolate\",\"Coffee\",\"Hearty & Seasonal\",\"Cookies\",\"Bread\",\"Sandwich\",\"Farm House\",\"Coffee\",\"Muffin\",\"Scandinavian\",\"Bread\",\"Sandwich\",\"Soup\",\"Coffee\",\"Tea\",\"Farm House\",\"Coffee\",\"Tea\",\"Soup\",\"Jam\",\"Muffin\",\"Coffee\",\"Bread\",\"Coffee\",\"Soup\",\"Coffee\",\"Muffin\",\"Bread\",\"Muffin\",\"Kids biscuit\",\"Coffee\",\"Bread\",\"Coffee\",\"Muffin\",\"Ella's Kitchen Pouches\",\"Bread\",\"Muffin\",\"Soup\",\"Sandwich\",\"Frittata\",\"Bread\",\"Sandwich\",\"Coffee\",\"Bread\",\"Cookies\",\"Bread\",\"Art Tray\",\"Tea\",\"Hot chocolate\",\"Art Tray\",\"Coffee\",\"Hot chocolate\",\"Juice\",\"Muffin\",\"Hot chocolate\",\"Coffee\",\"Farm House\",\"Farm House\",\"Muffin\",\"Coffee\",\"Medialuna\",\"Bread\",\"Keeping It Local\",\"Coffee\",\"Bread\",\"Medialuna\",\"Tea\",\"Coffee\",\"Hot chocolate\",\"Coffee\",\"Coke\",\"Coffee\",\"Farm House\",\"Coffee\",\"Keeping It Local\",\"Bread\",\"Coffee\",\"Truffles\",\"Coffee\",\"Coffee\",\"Tea\",\"Keeping It Local\",\"Coffee\",\"Keeping It Local\",\"Coffee\",\"Tea\",\"Coffee\",\"Coffee\",\"Coffee\",\"Bread\",\"Coffee\",\"Bread\",\"Farm House\",\"Coffee\",\"Kids biscuit\",\"Tea\",\"Muffin\",\"Bread\",\"Coffee\",\"Pastry\",\"Scandinavian\",\"Coffee\",\"Soup\",\"Scandinavian\",\"Pastry\",\"Muffin\",\"Coffee\",\"Pastry\",\"Soup\",\"Hearty & Seasonal\",\"Tea\",\"Bread\",\"Scandinavian\",\"Scandinavian\",\"Bread\",\"Truffles\",\"Coffee\",\"Soup\",\"Medialuna\",\"Coffee\",\"Medialuna\",\"Bread\",\"Bread\",\"Coffee\",\"Bread\",\"Soup\",\"Sandwich\",\"Sandwich\",\"Hearty & Seasonal\",\"Coffee\",\"Soup\",\"Bread\",\"Soup\",\"Coffee\",\"Pastry\",\"Pastry\",\"Coffee\",\"Coffee\",\"Soup\",\"Bread\",\"Bread\",\"Coffee\",\"Sandwich\",\"Hearty & Seasonal\",\"Coffee\",\"Soup\",\"Bread\",\"Bread\",\"Bread\",\"Coffee\",\"Bread\",\"Soup\",\"Coffee\",\"Hearty & Seasonal\",\"Soup\",\"Scandinavian\",\"Coffee\",\"Medialuna\",\"Bread\",\"Bread\",\"Brownie\",\"Fudge\",\"Coke\",\"Coke\",\"Brownie\",\"Muffin\",\"Tea\",\"Bread\",\"Truffles\",\"Pastry\",\"Tea\",\"Bread\",\"Truffles\",\"Medialuna\",\"Coffee\",\"Medialuna\",\"Bread\",\"Pastry\",\"Coffee\",\"Coffee\",\"Bread\",\"Jam\",\"Bread\",\"Coffee\",\"Coke\",\"Bread\",\"Coffee\",\"Coffee\",\"Pastry\",\"Scandinavian\",\"Pastry\",\"Bread\",\"Granola\",\"Tea\",\"Coffee\",\"Pastry\",\"Bread\",\"Mineral water\",\"Tea\",\"Medialuna\",\"Brownie\",\"Tea\",\"Coffee\",\"Pastry\",\"Hot chocolate\",\"Coffee\",\"Cake\",\"Bread\",\"Bread\",\"Jam\",\"Scandinavian\",\"Bread\",\"Coffee\",\"Pastry\",\"Cake\",\"Bread\",\"Coffee\",\"Bread\",\"Coffee\",\"Cake\",\"Coffee\",\"Coffee\",\"Coffee\",\"Soup\",\"Scandinavian\",\"Bread\",\"Sandwich\",\"Soup\",\"Bread\",\"Cake\",\"Coffee\",\"Bread\",\"Tartine\",\"Soup\",\"Bread\",\"Soup\",\"Juice\",\"Brownie\",\"Coffee\",\"Hearty & Seasonal\",\"Coffee\",\"Soup\",\"Sandwich\",\"Tea\",\"Cake\",\"Tea\",\"Soup\",\"Coffee\",\"Bread\",\"Sandwich\",\"Soup\",\"Coffee\",\"Soup\",\"Coffee\",\"Tea\",\"Soup\",\"Cake\",\"Coffee\",\"Tea\",\"Cake\",\"Muffin\",\"Bread\",\"Coffee\",\"Bread\",\"Coffee\",\"Tea\",\"Tea\",\"Soup\",\"Coffee\",\"Tea\",\"Cake\",\"Bread\",\"Hearty & Seasonal\",\"Bread\",\"Mineral water\",\"Brownie\",\"Fudge\",\"Muffin\",\"Hot chocolate\",\"Coffee\",\"Tea\",\"Muffin\",\"Cake\",\"Coffee\",\"Victorian Sponge\",\"Soup\",\"Sandwich\",\"Tea\",\"Scandinavian\",\"Coffee\",\"Bread\",\"Tartine\",\"Bread\",\"Coffee\",\"Medialuna\",\"Bread\",\"Bread\",\"Scandinavian\",\"Bread\",\"Coffee\",\"Medialuna\",\"Siblings\",\"Siblings\",\"Bread\",\"Medialuna\",\"Medialuna\",\"Pastry\",\"Keeping It Local\",\"Tea\",\"Farm House\",\"Pastry\",\"Farm House\",\"Tea\",\"Tea\",\"Scandinavian\",\"Coffee\",\"Muffin\",\"Coffee\",\"Bread\",\"Farm House\",\"Scandinavian\",\"Coffee\",\"Pastry\",\"Coffee\",\"Coffee\",\"Keeping It Local\",\"Bread\",\"Jam\",\"Alfajores\",\"Medialuna\",\"Coffee\",\"Bread\",\"Coffee\",\"Keeping It Local\",\"Coffee\",\"Bread\",\"Tea\",\"Muffin\",\"Coffee\",\"Hot chocolate\",\"Alfajores\",\"Bread\",\"Pastry\",\"Coffee\",\"Bread\",\"Tea\",\"Coffee\",\"Sandwich\",\"Bread\",\"Soup\",\"Coffee\",\"Tea\",\"Coffee\",\"Soup\",\"Art Tray\",\"Pastry\",\"Hearty & Seasonal\",\"Mineral water\",\"Alfajores\",\"Bread\",\"Coffee\",\"Hearty & Seasonal\",\"Alfajores\",\"Cake\",\"Bread\",\"Coffee\",\"Bread\",\"Cake\",\"Bread\",\"Fudge\",\"Muffin\",\"Bread\",\"Coffee\",\"Coffee\",\"Hearty & Seasonal\",\"Sandwich\",\"Bread\",\"Soup\",\"Coffee\",\"Coffee\",\"Hearty & Seasonal\",\"Keeping It Local\",\"Bread\",\"Coffee\",\"Scandinavian\",\"Coffee\",\"Alfajores\",\"Coffee\",\"Soup\",\"Brownie\",\"Coffee\",\"Bread\",\"Bread\",\"Bread\",\"Scandinavian\",\"Coffee\",\"Coffee\",\"Coffee\",\"Soup\",\"Coffee\",\"Muffin\",\"Cake\",\"Bread\",\"Hot chocolate\",\"Coffee\",\"Cake\",\"Cake\",\"Alfajores\",\"Coffee\",\"Tea\",\"Bread\",\"Coffee\",\"Coffee\",\"Tea\",\"Hot chocolate\",\"Brownie\",\"Alfajores\",\"Bread\",\"Hot chocolate\",\"Tea\",\"Brownie\",\"Alfajores\",\"Coffee\",\"Scandinavian\",\"Coffee\",\"Cookies\",\"Bread\",\"Coffee\",\"Coffee\",\"Bread\",\"Coffee\",\"Medialuna\",\"Coffee\",\"Coffee\",\"Medialuna\",\"Pastry\",\"Coffee\",\"Tea\",\"Pastry\",\"Muffin\",\"Coffee\",\"Pastry\",\"Bread\",\"Coffee\",\"Keeping It Local\",\"Bread\",\"Pastry\",\"Coffee\",\"Medialuna\",\"Bread\",\"Coffee\",\"Coffee\",\"Bread\",\"Bread\",\"Tea\",\"Pastry\",\"Coffee\",\"Cookies\",\"Bread\",\"Coffee\",\"Coffee\",\"Tea\",\"Bread\",\"Coffee\",\"Medialuna\",\"Bread\",\"Bread\",\"Pastry\",\"Coffee\",\"Coffee\",\"Pastry\",\"Coffee\",\"Bread\",\"Alfajores\",\"Coffee\",\"Bread\",\"Bread\",\"Farm House\",\"Bread\",\"Coffee\",\"Tea\",\"Coffee\",\"Coffee\",\"Coffee\",\"Soup\",\"Soup\",\"Farm House\",\"Pastry\",\"Soup\",\"Coffee\",\"Coffee\",\"Brownie\",\"Coffee\",\"Bread\",\"Sandwich\",\"Coffee\",\"Sandwich\",\"Soup\",\"Bread\",\"Tea\",\"Soup\",\"Art Tray\",\"My-5 Fruit Shoot\",\"Bread\",\"Muffin\",\"Tea\",\"Sandwich\",\"Bread\",\"Soup\",\"Soup\",\"Tea\",\"Farm House\",\"Mineral water\",\"Coffee\",\"Soup\",\"Sandwich\",\"Bread\",\"Coffee\",\"Keeping It Local\",\"Soup\",\"Bread\",\"Art Tray\",\"Coffee\",\"Bread\",\"Hearty & Seasonal\",\"Bread\",\"Farm House\",\"Brownie\",\"Farm House\",\"Bread\",\"Soup\",\"Alfajores\",\"Coke\",\"Coffee\",\"Medialuna\",\"Cake\",\"Scandinavian\",\"Alfajores\",\"Scandinavian\",\"Hot chocolate\",\"Pastry\",\"Coke\",\"Coffee\",\"Brownie\",\"Farm House\",\"Coffee\",\"Pastry\",\"Farm House\",\"Farm House\",\"Cookies\",\"Brownie\",\"Coffee\",\"Tea\",\"Tea\",\"Coffee\",\"Medialuna\",\"Cookies\",\"Farm House\",\"Bread\",\"Coffee\",\"Coffee\",\"Tea\",\"Coffee\",\"Alfajores\",\"Bread\",\"Hot chocolate\",\"Coffee\",\"Medialuna\",\"Tea\",\"Coke\",\"Medialuna\",\"Fudge\",\"Tea\",\"Muffin\",\"Alfajores\",\"Coffee\",\"Pastry\",\"Bread\",\"Pastry\",\"Coffee\",\"Coffee\",\"Bread\",\"Bread\",\"Coffee\",\"Keeping It Local\",\"Tea\",\"Bread\",\"Pastry\",\"Medialuna\",\"Farm House\",\"Medialuna\",\"Coffee\",\"Coffee\",\"Pastry\",\"Coffee\",\"Coffee\",\"Coffee\",\"Keeping It Local\",\"Medialuna\",\"Pastry\",\"Bread\",\"Coffee\",\"Farm House\",\"Bread\",\"Bread\",\"Tea\",\"Keeping It Local\",\"Bread\",\"Medialuna\",\"Keeping It Local\",\"Coffee\",\"Bread\",\"Coffee\",\"Medialuna\",\"Coffee\",\"Bread\",\"Medialuna\",\"Pastry\",\"Bread\",\"Bread\",\"Pastry\",\"Medialuna\",\"Coffee\",\"Bread\",\"Bread\",\"Coffee\",\"Focaccia\",\"Coffee\",\"Hot chocolate\",\"Pastry\",\"Coffee\",\"Hot chocolate\",\"Bread\",\"Bread\",\"Coffee\",\"Pastry\",\"Scandinavian\",\"Muffin\",\"Focaccia\",\"Bread\",\"Bread\",\"Muffin\",\"Caramel bites\",\"Coffee\",\"Medialuna\",\"Tartine\",\"Tea\",\"Muffin\",\"Bread\",\"Bread\",\"Focaccia\",\"Tea\",\"Coffee\",\"Jam\",\"Focaccia\",\"Coffee\",\"Medialuna\",\"Muffin\",\"Bread\",\"Coffee\",\"Coffee\",\"Muffin\",\"Coffee\",\"Coffee\",\"Bread\",\"Coffee\",\"Coffee\",\"Coffee\",\"Coffee\",\"Tea\",\"Fudge\",\"Medialuna\",\"Bread\",\"Tea\",\"Coffee\",\"Ella's Kitchen Pouches\",\"Jammie Dodgers\",\"Bread\",\"Tea\",\"Coffee\",\"Soup\",\"Keeping It Local\",\"Coffee\",\"Coffee\",\"Coffee\",\"Muffin\",\"Coffee\",\"Bread\",\"Soup\",\"Coffee\",\"Tea\",\"Medialuna\",\"Alfajores\",\"Bread\",\"Coffee\",\"Tartine\",\"Medialuna\",\"Pastry\",\"Tea\",\"Tartine\",\"Bread\",\"Coffee\",\"Medialuna\",\"Coffee\",\"Bread\",\"Bread\",\"Medialuna\",\"Focaccia\",\"Scandinavian\",\"Hearty & Seasonal\",\"Sandwich\",\"Coffee\",\"Mineral water\",\"Coffee\",\"Sandwich\",\"Tea\",\"Scandinavian\",\"Coffee\",\"Coffee\",\"Soup\",\"Kids biscuit\",\"Coffee\",\"Bread\",\"Coffee\",\"Coffee\",\"Coffee\",\"Bread\",\"Cake\",\"Tea\",\"Muffin\",\"Coffee\",\"Hot chocolate\",\"Coffee\",\"Tea\",\"Cake\",\"Tea\",\"Coffee\",\"Muffin\",\"Jammie Dodgers\",\"Hot chocolate\",\"Coffee\",\"Cookies\",\"Caramel bites\",\"Jammie Dodgers\",\"My-5 Fruit Shoot\",\"Bread\",\"Coffee\",\"Coffee\",\"Tea\",\"Caramel bites\",\"Kids biscuit\",\"Bread\",\"Coffee\",\"Bread\",\"Coffee\",\"Alfajores\",\"Farm House\",\"Bread\",\"Jammie Dodgers\",\"Scandinavian\",\"Tea\",\"Alfajores\",\"Bread\",\"Tea\",\"Coffee\",\"Coffee\",\"Mineral water\",\"Tea\",\"Coffee\",\"Kids biscuit\",\"Kids biscuit\",\"Bread\",\"Coffee\",\"Bread\",\"Hot chocolate\",\"Coffee\",\"Cake\",\"Coffee\",\"Bread\",\"Scandinavian\",\"Pastry\",\"Juice\",\"Bread\",\"Coffee\",\"Bread\",\"Farm House\",\"Pastry\",\"Medialuna\",\"Alfajores\",\"Coffee\",\"Bread\",\"Keeping It Local\",\"Coffee\",\"Scandinavian\",\"Pastry\",\"Hot chocolate\",\"Coffee\",\"Bread\",\"Bread\",\"Bread\",\"Coffee\",\"Pastry\",\"Coffee\",\"Smoothies\",\"Keeping It Local\",\"Coffee\",\"Coffee\",\"Pastry\",\"Medialuna\",\"Tea\",\"Cake\",\"Cake\",\"Mineral water\",\"Farm House\",\"Cake\",\"Medialuna\",\"Tea\",\"Coffee\",\"Hot chocolate\",\"Coffee\",\"Bread\",\"Bread\",\"Alfajores\",\"Cake\",\"Coffee\",\"Sandwich\",\"My-5 Fruit Shoot\",\"Farm House\",\"Jam\",\"Bread\",\"Coffee\",\"Cake\",\"Bread\",\"Coffee\",\"Tartine\",\"Bread\",\"Medialuna\",\"Farm House\",\"Bread\",\"Brownie\",\"Cake\",\"Cake\",\"Mineral water\",\"Alfajores\",\"Coffee\",\"Bread\",\"Coffee\",\"Bread\",\"Jam\",\"Brownie\",\"Coffee\",\"Sandwich\",\"Mineral water\",\"Coffee\",\"Bread\",\"Bread\",\"Mineral water\",\"Farm House\",\"Medialuna\",\"Coffee\",\"Juice\",\"Cookies\",\"Alfajores\",\"Coffee\",\"Focaccia\",\"Bread\",\"Sandwich\",\"Brownie\",\"Alfajores\",\"Bread\",\"My-5 Fruit Shoot\",\"Juice\",\"Bread\",\"Fudge\",\"Dulce de Leche\",\"Coffee\",\"Cake\",\"Brownie\",\"Hot chocolate\",\"Coffee\",\"Cake\",\"Coffee\",\"Medialuna\",\"Alfajores\",\"Coffee\",\"Keeping It Local\",\"Farm House\",\"Bread\",\"Medialuna\",\"Truffles\",\"Cake\",\"Bread\",\"Tea\",\"Truffles\",\"Bread\",\"Coffee\",\"Brownie\",\"Coffee\",\"Bread\",\"Medialuna\",\"Brownie\",\"Tea\",\"Bread\",\"Scandinavian\",\"Medialuna\",\"Hot chocolate\",\"Cake\",\"Alfajores\",\"Truffles\",\"Brownie\",\"Medialuna\",\"Coffee\",\"Coffee\",\"Medialuna\",\"Truffles\",\"Cake\",\"Tea\",\"Mineral water\",\"Hot chocolate\",\"Cookies\",\"Cake\",\"Cookies\",\"Bread\",\"Hot chocolate\",\"Cake\",\"Truffles\",\"Farm House\",\"Bread\",\"Tea\",\"Farm House\",\"Coffee\",\"Coffee\",\"Bread\",\"Coffee\",\"Coffee\",\"Bread\",\"Pastry\",\"Coffee\",\"Coffee\",\"Farm House\",\"Keeping It Local\",\"Coffee\",\"Coffee\",\"Medialuna\",\"Coffee\",\"Coffee\",\"Pastry\",\"Tea\",\"Coffee\",\"Keeping It Local\",\"Pastry\",\"Coffee\",\"Smoothies\",\"Coffee\",\"Muffin\",\"Medialuna\",\"Coffee\",\"Coffee\",\"Coffee\",\"Coffee\",\"Tea\",\"Farm House\",\"Brownie\",\"Coffee\",\"Coffee\",\"Bread\",\"Keeping It Local\",\"Tea\",\"Coffee\",\"Bread\",\"Farm House\",\"Coffee\",\"Sandwich\",\"Farm House\",\"Scandinavian\",\"Coffee\",\"Coffee\",\"Cake\",\"Bread\",\"Tea\",\"Truffles\",\"Bread\",\"Fudge\",\"Medialuna\",\"Pastry\",\"Bread\",\"Tea\",\"Brownie\",\"Cake\",\"Juice\",\"Medialuna\",\"Tea\",\"Cake\",\"Coffee\",\"Tea\",\"Sandwich\",\"Medialuna\",\"Bread\",\"Alfajores\",\"Coffee\",\"Cookies\",\"My-5 Fruit Shoot\",\"Coffee\",\"Keeping It Local\",\"Hot chocolate\",\"Bread\",\"Alfajores\",\"Bread\",\"Farm House\",\"Coffee\",\"Juice\",\"Pastry\",\"Cookies\",\"Brownie\",\"Coffee\",\"Medialuna\",\"Keeping It Local\",\"Coffee\",\"Tea\",\"Tea\",\"Medialuna\",\"Scandinavian\",\"Bread\",\"Scandinavian\",\"Bread\",\"Pastry\",\"Keeping It Local\",\"Coffee\",\"Hot chocolate\",\"Bread\",\"Coffee\",\"Bread\",\"Coffee\",\"Cookies\",\"Coffee\",\"Pastry\",\"Tea\",\"Coffee\",\"Brownie\",\"Bread\",\"Sandwich\",\"Coke\",\"Cake\",\"Bread\",\"Tea\",\"Medialuna\",\"Bread\",\"Coffee\",\"Medialuna\",\"Brownie\",\"Bread\",\"Coffee\",\"Medialuna\",\"Coffee\",\"Scandinavian\",\"Medialuna\",\"Tea\",\"Brownie\",\"Coffee\",\"Pastry\",\"Coffee\",\"Fudge\",\"Cake\",\"Coffee\",\"Tea\",\"Bread\",\"Coffee\",\"Cake\",\"Sandwich\",\"Coffee\",\"Tea\",\"Brownie\",\"Cake\",\"Coffee\",\"Alfajores\",\"Cake\",\"Coffee\",\"Mineral water\",\"Coffee\",\"Cookies\",\"Bread\",\"Cake\",\"Bread\",\"Coffee\",\"Tea\",\"Brownie\",\"Cake\",\"Hot chocolate\",\"Medialuna\",\"Hot chocolate\",\"Coffee\",\"Bread\",\"Cake\",\"Coffee\",\"Coffee\",\"Cake\",\"Hot chocolate\",\"Medialuna\",\"Coffee\",\"Hot chocolate\",\"Medialuna\",\"Coffee\",\"Coffee\",\"Hot chocolate\",\"Medialuna\",\"Coffee\",\"Keeping It Local\",\"Bread\",\"Coffee\",\"Coffee\",\"Coffee\",\"Coffee\",\"Bread\",\"Coffee\",\"Sandwich\",\"Bread\",\"Keeping It Local\",\"Cake\",\"Coffee\",\"Brownie\",\"Cookies\",\"Bread\",\"Juice\",\"Bread\",\"Coffee\",\"Cookies\",\"Coffee\",\"Coffee\",\"Medialuna\",\"Cookies\",\"Tea\",\"Tea\",\"Cookies\",\"Mineral water\",\"Coffee\",\"Bread\",\"Tea\",\"Pastry\",\"Tiffin\",\"Cake\",\"Coffee\",\"Cookies\",\"Sandwich\",\"Coffee\",\"Tea\",\"Sandwich\",\"Jam\",\"Brownie\",\"Tea\",\"Bread\",\"Bread\",\"Olum & polenta\",\"Bread\",\"Polenta\",\"Tea\",\"Coffee\",\"Sandwich\",\"Coffee\",\"Coffee\",\"Cake\",\"Tea\",\"Coffee\",\"Alfajores\",\"Coke\",\"Coffee\",\"Coffee\",\"Coffee\",\"Medialuna\",\"Cookies\",\"Bread\",\"Coffee\",\"Coffee\",\"Bread\",\"Bread\",\"Coffee\",\"Coffee\",\"Hot chocolate\",\"Pastry\",\"Coffee\",\"Keeping It Local\",\"Pastry\",\"Bread\",\"Bread\",\"Keeping It Local\",\"Pastry\",\"Hot chocolate\",\"Coffee\",\"Pastry\",\"Bread\",\"Medialuna\",\"Medialuna\",\"Pastry\",\"Alfajores\",\"Coffee\",\"Coffee\",\"Tea\",\"Cake\",\"Coffee\",\"Bread\",\"Coffee\",\"Bread\",\"Tea\",\"Cake\",\"Bread\",\"Coffee\",\"Coffee\",\"Alfajores\",\"Coffee\",\"Bread\",\"Cookies\",\"Bread\",\"Sandwich\",\"Tea\",\"Bread\",\"Tea\",\"Coffee\",\"Cake\",\"Bread\",\"Hot chocolate\",\"Brownie\",\"Bread\",\"Tea\",\"Coffee\",\"Coffee\",\"Cake\",\"The Nomad\",\"Bread\",\"Tea\",\"Coffee\",\"Smoothies\",\"Bread\",\"Bread\",\"Coffee\",\"Bread\",\"Coffee\",\"Cake\",\"Fudge\",\"Coffee\",\"Sandwich\",\"Brownie\",\"Bread\",\"Sandwich\",\"Coffee\",\"Bread\",\"Brownie\",\"Sandwich\",\"Coffee\",\"Sandwich\",\"Hearty & Seasonal\",\"Coffee\",\"Tea\",\"Cake\",\"Coffee\",\"Bread\",\"Coffee\",\"Sandwich\",\"Coffee\",\"Cake\",\"Coffee\",\"Alfajores\",\"Coffee\",\"Cake\",\"Tea\",\"Bread\",\"Tea\",\"Cake\",\"Brownie\",\"Alfajores\",\"Hack the stack\",\"Art Tray\",\"Coffee\",\"Tea\",\"Coffee\",\"Cake\",\"Coffee\",\"Coke\",\"Hack the stack\",\"My-5 Fruit Shoot\",\"Tea\",\"Art Tray\",\"Ella's Kitchen Pouches\",\"Coffee\",\"Medialuna\",\"Coffee\",\"Coffee\",\"Coffee\",\"Bread\",\"Coffee\",\"Medialuna\",\"Coffee\",\"Coffee\",\"Coffee\",\"Pastry\",\"Bread\",\"Bread\",\"Coffee\",\"Bread\",\"Keeping It Local\",\"Coffee\",\"Bread\",\"Coffee\",\"Coffee\",\"Keeping It Local\",\"Tea\",\"Brownie\",\"Bread\",\"Coffee\",\"Pastry\",\"Bread\",\"Coffee\",\"Cake\",\"Coffee\",\"Keeping It Local\",\"Coffee\",\"Bread\",\"Medialuna\",\"Bread\",\"Focaccia\",\"Medialuna\",\"Coffee\",\"Bread\",\"Coffee\",\"Coffee\",\"Bread\",\"Farm House\",\"Coffee\",\"Pastry\",\"Cookies\",\"Juice\",\"Tea\",\"Alfajores\",\"Coffee\",\"Alfajores\",\"Coffee\",\"Sandwich\",\"Coffee\",\"Coffee\",\"Bread\",\"Coffee\",\"Bread\",\"Coffee\",\"Tea\",\"Sandwich\",\"Bread\",\"Tea\",\"Art Tray\",\"Bread\",\"Coffee\",\"Cake\",\"Mineral water\",\"Coffee\",\"Mineral water\",\"Tartine\",\"Coffee\",\"Bread\",\"Coffee\",\"Bread\",\"Hot chocolate\",\"Bread\",\"Sandwich\",\"Juice\",\"Bread\",\"Mineral water\",\"Sandwich\",\"Bread\",\"Jam\",\"Coffee\",\"Sandwich\",\"Bread\",\"Tea\",\"Tea\",\"Bread\",\"Pastry\",\"Coffee\",\"Tea\",\"Bread\",\"Brownie\",\"Alfajores\",\"Bread\",\"Coffee\",\"Medialuna\",\"Medialuna\",\"Coffee\",\"Bread\",\"Pastry\",\"Medialuna\",\"Tea\",\"Alfajores\",\"Cake\",\"Tea\",\"Brownie\",\"Alfajores\",\"Pastry\",\"Bread\",\"Medialuna\",\"Pastry\",\"Brownie\",\"Bread\",\"Coffee\",\"Bread\",\"Coffee\",\"Bread\",\"Bread\",\"Coffee\",\"Medialuna\",\"Bread\",\"Bread\",\"Pastry\",\"Bread\",\"Farm House\",\"Medialuna\",\"Scandinavian\",\"Coffee\",\"Coffee\",\"Coffee\",\"Bread\",\"Medialuna\",\"Cake\",\"Muffin\",\"Coffee\",\"Bread\",\"Scandinavian\",\"Muffin\",\"Scandinavian\",\"Coffee\",\"Bread\",\"Bread\",\"Coffee\",\"Medialuna\",\"Bread\",\"Medialuna\",\"Bread\",\"Tea\",\"Coffee\",\"Bread\",\"Cake\",\"Muffin\",\"Jam\",\"Bread\",\"Pastry\",\"Coffee\",\"Coffee\",\"Scandinavian\",\"Scandinavian\",\"Pastry\",\"Medialuna\",\"Coffee\",\"Medialuna\",\"Pastry\",\"Bread\",\"Coffee\",\"Medialuna\",\"Bread\",\"Coffee\",\"Tea\",\"Pastry\",\"Coffee\",\"Juice\",\"Coffee\",\"Muffin\",\"Cake\",\"Pastry\",\"Tea\",\"Coffee\",\"Hot chocolate\",\"Muffin\",\"Tartine\",\"Juice\",\"Bread\",\"Coffee\",\"Coffee\",\"Fudge\",\"Coffee\",\"Bread\",\"Bread\",\"Coffee\",\"Tea\",\"Coffee\",\"Sandwich\",\"Coffee\",\"Coke\",\"Sandwich\",\"Scandinavian\",\"Tea\",\"Muffin\",\"Bread\",\"Scandinavian\",\"Coffee\",\"Coffee\",\"The Nomad\",\"Tartine\",\"Coffee\",\"Sandwich\",\"Coffee\",\"Alfajores\",\"Coffee\",\"Tea\",\"Scandinavian\",\"Bread\",\"Mineral water\",\"Alfajores\",\"Muffin\",\"Cake\",\"Tea\",\"Bread\",\"Bread\",\"Scandinavian\",\"Coffee\",\"Bread\",\"Sandwich\",\"Hot chocolate\",\"Tea\",\"Muffin\",\"Sandwich\",\"Coffee\",\"Bread\",\"Muffin\",\"Coffee\",\"Coffee\",\"Pastry\",\"Cake\",\"Tea\",\"Hot chocolate\",\"Cookies\",\"Cake\",\"Cake\",\"Sandwich\",\"Bread\",\"Bakewell\",\"Coffee\",\"Alfajores\",\"Bread\",\"Tea\",\"Sandwich\",\"Medialuna\",\"Tea\",\"Coffee\",\"Bread\",\"Tea\",\"Alfajores\",\"Medialuna\",\"Bread\",\"Muffin\",\"Coffee\",\"Hot chocolate\",\"Bread\",\"Muffin\",\"Coffee\",\"Pastry\",\"Tea\",\"Alfajores\",\"Bakewell\",\"Cake\",\"Focaccia\",\"Tea\",\"Pastry\",\"Bakewell\",\"Alfajores\",\"Coffee\",\"Coffee\",\"Alfajores\",\"Coffee\",\"The Nomad\",\"Bread\",\"Coffee\",\"Coffee\",\"Jammie Dodgers\",\"Juice\",\"Medialuna\",\"Coffee\",\"Tea\",\"Juice\",\"Smoothies\",\"Jammie Dodgers\",\"Muffin\",\"Bakewell\",\"Cake\",\"Pastry\",\"Coffee\",\"Brownie\",\"Juice\",\"Jammie Dodgers\",\"Coffee\",\"Coffee\",\"Bakewell\",\"Bread\",\"Tea\",\"Pastry\",\"Bread\",\"Coffee\",\"Hot chocolate\",\"Pastry\",\"Coffee\",\"Hot chocolate\",\"Bread\",\"Coffee\",\"Alfajores\",\"Pastry\",\"Bread\",\"Coffee\",\"Hot chocolate\",\"Muffin\",\"Bread\",\"Coffee\",\"Smoothies\",\"Pastry\",\"Brownie\",\"Hot chocolate\",\"Coffee\",\"Tartine\",\"Hearty & Seasonal\",\"Fudge\",\"Bread\",\"Coffee\",\"Coffee\",\"Keeping It Local\",\"Coffee\",\"Tea\",\"Medialuna\",\"Medialuna\",\"Jammie Dodgers\",\"Tea\",\"Hot chocolate\",\"Muffin\",\"Coffee\",\"Coffee\",\"Keeping It Local\",\"Coffee\",\"Medialuna\",\"Bread\",\"Hot chocolate\",\"Medialuna\",\"Bread\",\"Bread\",\"Muffin\",\"Brownie\",\"Alfajores\",\"Hot chocolate\",\"Coffee\",\"Pastry\",\"Brownie\",\"Coffee\",\"Jammie Dodgers\",\"Coffee\",\"Hearty & Seasonal\",\"Art Tray\",\"Hearty & Seasonal\",\"Tea\",\"Coffee\",\"Coffee\",\"Alfajores\",\"Brownie\",\"Coffee\",\"Medialuna\",\"Hearty & Seasonal\",\"Coffee\",\"Bread\",\"Farm House\",\"Farm House\",\"Coffee\",\"Tea\",\"Cake\",\"Hearty & Seasonal\",\"Tea\",\"Hot chocolate\",\"Coffee\",\"Bakewell\",\"Cake\",\"Coffee\",\"Hearty & Seasonal\",\"Coffee\",\"Muffin\",\"Cake\",\"Brownie\",\"Coffee\",\"Sandwich\",\"Bakewell\",\"Cookies\",\"Art Tray\",\"Bakewell\",\"Coffee\",\"Coffee\",\"Medialuna\",\"Cookies\",\"Alfajores\",\"Cake\",\"Coffee\",\"Fudge\",\"Mineral water\",\"Brownie\",\"Bakewell\",\"Bread\",\"Coffee\",\"Coffee\",\"Tea\",\"Coffee\",\"Coffee\",\"Bread\",\"Pastry\",\"Bread\",\"Medialuna\",\"Coffee\",\"Coffee\",\"Ella's Kitchen Pouches\",\"Coffee\",\"Coffee\",\"Pastry\",\"Coffee\",\"Coffee\",\"Tartine\",\"Bread\",\"Coffee\",\"Tea\",\"Coffee\",\"Coffee\",\"Medialuna\",\"Pastry\",\"Pastry\",\"Coffee\",\"Coffee\",\"Medialuna\",\"Tea\",\"Coffee\",\"Keeping It Local\",\"Pastry\",\"Bread\",\"Cookies\",\"Coffee\",\"Jam\",\"Sandwich\",\"Bread\",\"Smoothies\",\"Bread\",\"Cookies\",\"Bread\",\"Cookies\",\"Coffee\",\"Sandwich\",\"Hot chocolate\",\"Bread\",\"Coffee\",\"Bakewell\",\"Lemon and coconut\",\"Coffee\",\"Coffee\",\"Lemon and coconut\",\"Sandwich\",\"Tea\",\"Bread\",\"Coffee\",\"Bread\",\"Bread\",\"Coffee\",\"Coffee\",\"Hot chocolate\",\"Pastry\",\"Cake\",\"Bread\",\"Bread\",\"Bread\",\"Coffee\",\"Bread\",\"Tea\",\"Lemon and coconut\",\"Cake\",\"Pastry\",\"Medialuna\",\"Coffee\",\"Tea\",\"Bread\",\"Tea\",\"Coffee\",\"Tiffin\",\"Cookies\",\"Ella's Kitchen Pouches\",\"Coffee\",\"Pastry\",\"Pastry\",\"Bread\",\"Coffee\",\"Tea\",\"Keeping It Local\",\"Coffee\",\"Coffee\",\"Medialuna\",\"Bread\",\"Keeping It Local\",\"Coffee\",\"Hot chocolate\",\"Pastry\",\"Bread\",\"Coffee\",\"Tea\",\"Bread\",\"Coke\",\"Bread\",\"Bread\",\"Coffee\",\"Medialuna\",\"Pastry\",\"Muffin\",\"Coffee\",\"Coffee\",\"Muffin\",\"Coffee\",\"Bread\",\"Farm House\",\"Muffin\",\"Coffee\",\"Bread\",\"Coffee\",\"Coffee\",\"Coffee\",\"Scandinavian\",\"Farm House\",\"Coffee\",\"Tea\",\"Coffee\",\"Muffin\",\"Bread\",\"Bread\",\"Scandinavian\",\"Tea\",\"Medialuna\",\"Coffee\",\"Tea\",\"Tea\",\"Sandwich\",\"Coffee\",\"Cake\",\"Coffee\",\"Cake\",\"Muffin\",\"Cookies\",\"Tea\",\"Sandwich\",\"Farm House\",\"Cake\",\"Sandwich\",\"Coffee\",\"Hot chocolate\",\"Cake\",\"Bread\",\"Tea\",\"Muffin\",\"Coffee\",\"Tea\",\"Bread\",\"Fudge\",\"Jam\",\"Juice\",\"Tea\",\"Cookies\",\"Coffee\",\"Bread\",\"Cake\",\"Coke\",\"Tiffin\",\"Pastry\",\"Alfajores\",\"Tiffin\",\"Coffee\",\"Bread\",\"Bread\",\"Medialuna\",\"Bread\",\"Cake\",\"Bread\",\"Bread\",\"Farm House\",\"Medialuna\",\"Pastry\",\"Keeping It Local\",\"Cookies\",\"Coffee\",\"Coffee\",\"Coffee\",\"Tea\",\"Hot chocolate\",\"Smoothies\",\"Coffee\",\"Keeping It Local\",\"Coffee\",\"Farm House\",\"Tea\",\"Bread\",\"Medialuna\",\"Pastry\",\"Bread\",\"Coffee\",\"Pastry\",\"Coffee\",\"Keeping It Local\",\"Coffee\",\"Bread\",\"Bread\",\"Cookies\",\"Coffee\",\"Bread\",\"Keeping It Local\",\"Coffee\",\"Fudge\",\"Jam\",\"Tea\",\"Hot chocolate\",\"Keeping It Local\",\"Coffee\",\"Art Tray\",\"Coffee\",\"Coffee\",\"Cake\",\"Bread\",\"Jammie Dodgers\",\"Muffin\",\"Smoothies\",\"Coffee\",\"Jammie Dodgers\",\"Cookies\",\"Coffee\",\"Cake\",\"Bread\",\"Bread\",\"Muffin\",\"Cookies\",\"Bread\",\"Tea\",\"Hot chocolate\",\"Bread\",\"Alfajores\",\"Tea\",\"Muffin\",\"Sandwich\",\"Mineral water\",\"Bread\",\"Coffee\",\"Alfajores\",\"Sandwich\",\"Alfajores\",\"Coffee\",\"Coffee\",\"Muffin\",\"Coffee\",\"Tiffin\",\"Coffee\",\"Bread\",\"Hot chocolate\",\"Cookies\",\"Tea\",\"Bread\",\"Hot chocolate\",\"Hot chocolate\",\"Fudge\",\"Coffee\",\"Coffee\",\"Tiffin\",\"Tiffin\",\"Bread\",\"Bread\",\"Bread\",\"Pastry\",\"Jam\",\"Hot chocolate\",\"Coffee\",\"Hot chocolate\",\"Pastry\",\"Bread\",\"Pastry\",\"Coffee\",\"Bread\",\"Tea\",\"Muffin\",\"Pastry\",\"Bread\",\"Coffee\",\"Coffee\",\"Pastry\",\"Tea\",\"Tea\",\"Tea\",\"The Nomad\",\"Coffee\",\"Medialuna\",\"Farm House\",\"Bread\",\"Coffee\",\"Farm House\",\"Bread\",\"Coffee\",\"Pastry\",\"Keeping It Local\",\"Bread\",\"Coffee\",\"Hearty & Seasonal\",\"Bread\",\"Fudge\",\"Scandinavian\",\"Bread\",\"Alfajores\",\"Sandwich\",\"Coke\",\"Juice\",\"Coffee\",\"Farm House\",\"Bread\",\"Coffee\",\"Medialuna\",\"Pastry\",\"Bread\",\"Coffee\",\"Sandwich\",\"Coffee\",\"Bread\",\"Muffin\",\"Bread\",\"Coffee\",\"Coffee\",\"Muffin\",\"Coffee\",\"Fudge\",\"Spread\",\"Bread\",\"Coffee\",\"Pastry\",\"Bread\",\"Coffee\",\"Cake\",\"Coffee\",\"Bread\",\"Tea\",\"Coffee\",\"Hot chocolate\",\"Coffee\",\"Cake\",\"Tea\",\"Bread\",\"Cake\",\"Medialuna\",\"Coffee\",\"Pastry\",\"Coffee\",\"Coffee\",\"Bread\",\"Coffee\",\"Cake\",\"Bread\",\"Coffee\",\"Coffee\",\"Tea\",\"Keeping It Local\",\"Coffee\",\"Sandwich\",\"Tea\",\"Coffee\",\"Coffee\",\"Coffee\",\"Bread\",\"Tea\",\"Bread\",\"Pastry\",\"Coffee\",\"Coffee\",\"Bread\",\"Pastry\",\"Coffee\",\"Medialuna\",\"Tea\",\"Coffee\",\"Bread\",\"Coffee\",\"Coffee\",\"Medialuna\",\"Pastry\",\"Cookies\",\"Bread\",\"Cake\",\"Bread\",\"Coffee\",\"Bread\",\"Coffee\",\"Toast\",\"Hot chocolate\",\"Fudge\",\"Scandinavian\",\"Medialuna\",\"Coffee\",\"Coffee\",\"Pastry\",\"Coffee\",\"Medialuna\",\"Cake\",\"Sandwich\",\"Farm House\",\"Fudge\",\"Sandwich\",\"Scone\",\"Sandwich\",\"Bread\",\"Sandwich\",\"Coffee\",\"Sandwich\",\"Bread\",\"Sandwich\",\"Coke\",\"Sandwich\",\"Coke\",\"Sandwich\",\"Sandwich\",\"Scone\",\"Hot chocolate\",\"Coffee\",\"Muffin\",\"Bread\",\"Bread\",\"Bread\",\"Coffee\",\"Alfajores\",\"Bread\",\"Sandwich\",\"Bread\",\"Scone\",\"Coffee\",\"Medialuna\",\"Cake\",\"Truffles\",\"Cake\",\"Coffee\",\"Scone\",\"Scone\",\"Hot chocolate\",\"Mineral water\",\"Cookies\",\"Coffee\",\"Tea\",\"Scone\",\"Bread\",\"Coffee\",\"Bread\",\"Jam\",\"Bread\",\"Scandinavian\",\"Bread\",\"Scandinavian\",\"Coffee\",\"Medialuna\",\"Pastry\",\"Bread\",\"Bread\",\"Farm House\",\"Scone\",\"Hot chocolate\",\"Coffee\",\"Farm House\",\"Pastry\",\"Medialuna\",\"Hot chocolate\",\"Coffee\",\"Bread\",\"Bread\",\"Coffee\",\"Coffee\",\"Scandinavian\",\"Bread\",\"Coffee\",\"Medialuna\",\"Pastry\",\"Bread\",\"Scandinavian\",\"Coffee\",\"Scone\",\"Coffee\",\"Bread\",\"Bread\",\"Pastry\",\"Coffee\",\"Bread\",\"Bread\",\"Bread\",\"Coffee\",\"Coffee\",\"Scone\",\"Cake\",\"Coffee\",\"Bread\",\"Fudge\",\"Medialuna\",\"Bread\",\"Farm House\",\"Muffin\",\"Scone\",\"Coffee\",\"Coffee\",\"Alfajores\",\"Scone\",\"Coffee\",\"Tea\",\"Scone\",\"Juice\",\"Tea\",\"Cake\",\"Coffee\",\"Tartine\",\"Fudge\",\"Jam\",\"Bread\",\"Coffee\",\"Medialuna\",\"Tea\",\"Bread\",\"Coke\",\"Coffee\",\"Medialuna\",\"Bread\",\"Truffles\",\"Bread\",\"Coffee\",\"Bread\",\"Tea\",\"Pastry\",\"Cake\",\"Sandwich\",\"Hot chocolate\",\"Coffee\",\"Sandwich\",\"Sandwich\",\"Tea\",\"Coffee\",\"Coffee\",\"Scone\",\"Cake\",\"Bread\",\"Cookies\",\"Coffee\",\"Sandwich\",\"Cake\",\"Scone\",\"Coffee\",\"Mineral water\",\"Bread\",\"Coffee\",\"Bread\",\"Muffin\",\"Cake\",\"Scone\",\"Tea\",\"Scone\",\"Muffin\",\"Pastry\",\"Muffin\",\"Cake\",\"Coffee\",\"Cake\",\"Tea\",\"Bread\",\"Scone\",\"Cake\",\"Coffee\",\"Medialuna\",\"Jam\",\"Fudge\",\"Scone\",\"Pastry\",\"Fudge\",\"Hot chocolate\",\"Cake\",\"Sandwich\",\"Juice\",\"Coffee\",\"Bread\",\"Juice\",\"Coffee\",\"Scone\",\"Bread\",\"Coffee\",\"Hot chocolate\",\"Coffee\",\"Scone\",\"Muffin\",\"Hot chocolate\",\"Bread\",\"Medialuna\",\"Cake\",\"Alfajores\",\"Hot chocolate\",\"Coffee\",\"Coffee\",\"Coffee\",\"Tea\",\"Jam\",\"Cake\",\"Bread\",\"Coffee\",\"Coffee\",\"Tea\",\"Scone\",\"Bread\",\"Bread\",\"Smoothies\",\"Muffin\",\"Hot chocolate\",\"Toast\",\"Alfajores\",\"Muffin\",\"Medialuna\",\"Bread\",\"Coffee\",\"Scone\",\"Tea\",\"Juice\",\"Coffee\",\"Bread\",\"Pastry\",\"Bread\",\"Tea\",\"Pastry\",\"Coffee\",\"Medialuna\",\"Coffee\",\"Medialuna\",\"Bread\",\"Pastry\",\"Bread\",\"Bread\",\"Toast\",\"Bread\",\"Medialuna\",\"Toast\",\"Coffee\",\"Scone\",\"Pastry\",\"Coffee\",\"Tea\",\"Muffin\",\"Coffee\",\"Toast\",\"Coffee\",\"Medialuna\",\"Pastry\",\"Bread\",\"Ella's Kitchen Pouches\",\"Coffee\",\"Toast\",\"Bread\",\"Medialuna\",\"Hot chocolate\",\"Tea\",\"Bread\",\"Muffin\",\"Coffee\",\"Bread\",\"Farm House\",\"Coffee\",\"Bread\",\"Alfajores\",\"Cookies\",\"Coffee\",\"Medialuna\",\"Pastry\",\"Alfajores\",\"Bread\",\"Coffee\",\"Bread\",\"Coffee\",\"Truffles\",\"Coffee\",\"Fudge\",\"Bread\",\"Bread\",\"Coffee\",\"Bread\",\"Bread\",\"Coffee\",\"Medialuna\",\"Crepes\",\"Alfajores\",\"Coffee\",\"Cake\",\"Bread\",\"Coffee\",\"Cake\",\"Cookies\",\"Coffee\",\"Bread\",\"Farm House\",\"Bread\",\"Coffee\",\"Medialuna\",\"Hot chocolate\",\"Tea\",\"Coffee\",\"Cake\",\"Tea\",\"Hot chocolate\",\"Truffles\",\"Hot chocolate\",\"Coffee\",\"Sandwich\",\"Crepes\",\"Bread\",\"Crepes\",\"Bread\",\"Muffin\",\"Cake\",\"Coffee\",\"Medialuna\",\"Coffee\",\"Bread\",\"Coffee\",\"Cookies\",\"Medialuna\",\"Crepes\",\"Muffin\",\"Medialuna\",\"Tea\",\"Pastry\",\"Tea\",\"Coffee\",\"Scone\",\"Bread\",\"Coffee\",\"Truffles\",\"Tea\",\"Cookies\",\"Coffee\",\"Bread\",\"Coffee\",\"Bread\",\"Toast\",\"Pastry\",\"Coffee\",\"Muffin\",\"Bread\",\"Farm House\",\"Coffee\",\"Bread\",\"Bread\",\"Tea\",\"Coffee\",\"Pastry\",\"Alfajores\",\"Coffee\",\"Toast\",\"Medialuna\",\"Coffee\",\"Juice\",\"Tea\",\"Bread\",\"Medialuna\",\"Medialuna\",\"Coffee\",\"Toast\",\"Pastry\",\"Tea\",\"Farm House\",\"Coffee\",\"Coffee\",\"Coffee\",\"Muffin\",\"Coffee\",\"Coffee\",\"Muffin\",\"Coffee\",\"Sandwich\",\"Dulce de Leche\",\"Bread\",\"Coffee\",\"Pastry\",\"Jam\",\"Coffee\",\"Medialuna\",\"Cookies\",\"Coffee\",\"Pastry\",\"Farm House\",\"Coffee\",\"Coffee\",\"Bread\",\"Pastry\",\"Juice\",\"Sandwich\",\"Coffee\",\"Alfajores\",\"Coffee\",\"Sandwich\",\"Bread\",\"Bread\",\"Bread\",\"Tea\",\"Medialuna\",\"Coffee\",\"Muffin\",\"Cake\",\"Tea\",\"Cookies\",\"Coffee\",\"Hearty & Seasonal\",\"Coke\",\"Coffee\",\"Muffin\",\"Sandwich\",\"Alfajores\",\"Alfajores\",\"Sandwich\",\"Coffee\",\"Hot chocolate\",\"Coffee\",\"Muffin\",\"Sandwich\",\"Muffin\",\"Coffee\",\"Tea\",\"Bread\",\"Coffee\",\"Bread\",\"Medialuna\",\"Cookies\",\"Tea\",\"Coffee\",\"Coffee\",\"Bread\",\"Alfajores\",\"Coffee\",\"Sandwich\",\"Bread\",\"Coffee\",\"Bread\",\"Cookies\",\"Medialuna\",\"Coffee\",\"Cookies\",\"Farm House\",\"Coffee\",\"Coke\",\"Coffee\",\"Bread\",\"Pastry\",\"Bread\",\"Coffee\",\"Hot chocolate\",\"Alfajores\",\"Bread\",\"Muffin\",\"Coffee\",\"Bread\",\"Coffee\",\"Coffee\",\"Medialuna\",\"Coffee\",\"Pastry\",\"Medialuna\",\"Bread\",\"Muffin\",\"Coffee\",\"Bread\",\"Bread\",\"Bread\",\"Coffee\",\"Bread\",\"Tea\",\"Bread\",\"Cookies\",\"Muffin\",\"Tea\",\"Coffee\",\"Medialuna\",\"Pastry\",\"Bread\",\"Coffee\",\"Alfajores\",\"Toast\",\"Coffee\",\"Tea\",\"Hot chocolate\",\"Medialuna\",\"Coffee\",\"Pastry\",\"Coffee\",\"Cake\",\"Bread\",\"Cake\",\"Coffee\",\"Coffee\",\"Hot chocolate\",\"Pastry\",\"Tea\",\"Bread\",\"Tea\",\"Bread\",\"Farm House\",\"Coffee\",\"Bread\",\"Bread\",\"Bread\",\"Cookies\",\"Coffee\",\"Bread\",\"Cookies\",\"Coffee\",\"Farm House\",\"Bread\",\"Coffee\",\"Coffee\",\"Tea\",\"Sandwich\",\"Muffin\",\"Coffee\",\"Bread\",\"Cake\",\"Bread\",\"Tea\",\"Tea\",\"Coffee\",\"Coffee\",\"Sandwich\",\"Tea\",\"Alfajores\",\"Coffee\",\"Mineral water\",\"Alfajores\",\"Cake\",\"Sandwich\",\"Coffee\",\"Bread\",\"Coffee\",\"Tea\",\"Cake\",\"Bread\",\"Cookies\",\"Coffee\",\"Juice\",\"Coffee\",\"Muffin\",\"Mineral water\",\"Juice\",\"Bread\",\"Bread\",\"Bread\",\"Bread\",\"Hot chocolate\",\"Juice\",\"Toast\",\"Coffee\",\"Cake\",\"Bread\",\"Coffee\",\"Toast\",\"Coffee\",\"Toast\",\"Tea\",\"Tea\",\"Toast\",\"Cookies\",\"Farm House\",\"Bread\",\"Cake\",\"Bread\",\"Coffee\",\"Tea\",\"Alfajores\",\"Bread\",\"Coffee\",\"Juice\",\"Coffee\",\"Tea\",\"Coffee\",\"Medialuna\",\"Bread\",\"Medialuna\",\"Coffee\",\"Cake\",\"Tea\",\"Bread\",\"Coffee\",\"Farm House\",\"Bread\",\"Farm House\",\"Crepes\",\"Bread\",\"Hot chocolate\",\"Coffee\",\"Hot chocolate\",\"Sandwich\",\"Sandwich\",\"Coffee\",\"Truffles\",\"Jam\",\"Bread\",\"Bread\",\"Sandwich\",\"Coffee\",\"Mineral water\",\"Bread\",\"Coke\",\"Cookies\",\"Bread\",\"Coffee\",\"Sandwich\",\"Bread\",\"Coffee\",\"Tea\",\"Coffee\",\"Tea\",\"Coffee\",\"Hot chocolate\",\"Coffee\",\"Alfajores\",\"Fudge\",\"Jam\",\"Cake\",\"Coffee\",\"Cake\",\"Coffee\",\"Bread\",\"Pastry\",\"Coffee\",\"Coffee\",\"Pastry\",\"Coffee\",\"Pastry\",\"Truffles\",\"Bread\",\"Coffee\",\"Coffee\",\"Coffee\",\"Toast\",\"Vegan mincepie\",\"Mineral water\",\"Medialuna\",\"Bread\",\"Coffee\",\"Cake\",\"Coffee\",\"Pastry\",\"Coffee\",\"Coffee\",\"Bread\",\"Cake\",\"Cookies\",\"Coffee\",\"Tea\",\"Bread\",\"Cake\",\"Toast\",\"Juice\",\"Bread\",\"Pastry\",\"Coffee\",\"Truffles\",\"Tea\",\"Bread\",\"Farm House\",\"Coffee\",\"Cake\",\"Coffee\",\"Sandwich\",\"Tea\",\"Hearty & Seasonal\",\"Tea\",\"Coffee\",\"Coffee\",\"Tea\",\"Cake\",\"Farm House\",\"Coffee\",\"Coffee\",\"Bread\",\"Coffee\",\"Cake\",\"Cake\",\"Alfajores\",\"Medialuna\",\"Brownie\",\"Bread\",\"Bread\",\"Bread\",\"Jam\",\"Tea\",\"Sandwich\",\"Coffee\",\"Medialuna\",\"Juice\",\"Coke\",\"Toast\",\"Coffee\",\"Bread\",\"Bread\",\"Coffee\",\"Toast\",\"Bread\",\"Coffee\",\"Medialuna\",\"Coffee\",\"Bread\",\"Toast\",\"Bread\",\"Coffee\",\"Medialuna\",\"Cake\",\"Tea\",\"Tea\",\"Coffee\",\"Medialuna\",\"Bread\",\"Bread\",\"Coffee\",\"Bread\",\"Bread\",\"Brownie\",\"Coffee\",\"Tea\",\"The Nomad\",\"Fudge\",\"Alfajores\",\"Coffee\",\"Bread\",\"Coffee\",\"Alfajores\",\"Brownie\",\"Coffee\",\"Bread\",\"Jam\",\"Fudge\",\"Tea\",\"Coffee\",\"Coffee\",\"Bread\",\"Coffee\",\"Coffee\",\"Medialuna\",\"Cake\",\"Coffee\",\"Cake\",\"Coffee\",\"The Nomad\",\"Tea\",\"Bread\",\"Brownie\",\"Fudge\",\"Scone\",\"Tea\",\"Bread\",\"Sandwich\",\"Bread\",\"Mineral water\",\"Coffee\",\"Juice\",\"Bread\",\"Scandinavian\",\"Sandwich\",\"Coffee\",\"Brownie\",\"Hearty & Seasonal\",\"Brownie\",\"Bread\",\"Tea\",\"Hearty & Seasonal\",\"Coffee\",\"Brownie\",\"Coffee\",\"Farm House\",\"Coffee\",\"Scone\",\"Scone\",\"Crepes\",\"Alfajores\",\"Scandinavian\",\"Cake\",\"Bread\",\"Bread\",\"Bread\",\"Tea\",\"Brownie\",\"Mineral water\",\"Farm House\",\"Coffee\",\"Sandwich\",\"Scone\",\"Bread\",\"Coffee\",\"Coffee\",\"Hot chocolate\",\"Tea\",\"Alfajores\",\"Sandwich\",\"Bread\",\"Scone\",\"Juice\",\"Coffee\",\"Bread\",\"Bread\",\"Coffee\",\"Toast\",\"Pastry\",\"Bread\",\"Focaccia\",\"Scone\",\"Focaccia\",\"Scandinavian\",\"Coffee\",\"Tea\",\"Coffee\",\"Farm House\",\"Focaccia\",\"Pastry\",\"Coffee\",\"Pastry\",\"Medialuna\",\"Sandwich\",\"Bread\",\"Bread\",\"Coffee\",\"Medialuna\",\"Jam\",\"Sandwich\",\"Tea\",\"Coffee\",\"Coffee\",\"Farm House\",\"Bread\",\"Bread\",\"Coffee\",\"Coffee\",\"Toast\",\"Scandinavian\",\"Farm House\",\"Bread\",\"Medialuna\",\"Bread\",\"Cake\",\"Pastry\",\"Coffee\",\"Brownie\",\"Bread\",\"Coffee\",\"Tea\",\"Scone\",\"Coffee\",\"Bread\",\"Tea\",\"Coffee\",\"Scone\",\"Farm House\",\"Scandinavian\",\"Vegan mincepie\",\"Cake\",\"Tea\",\"Coffee\",\"Bread\",\"Coffee\",\"Scandinavian\",\"Bread\",\"Tea\",\"Bread\",\"Medialuna\",\"Pastry\",\"Coffee\",\"Truffles\",\"Juice\",\"Coffee\",\"Jammie Dodgers\",\"Art Tray\",\"Frittata\",\"Bread\",\"Sandwich\",\"Coffee\",\"Coffee\",\"Juice\",\"Tea\",\"Sandwich\",\"Jam\",\"Scone\",\"Coffee\",\"Sandwich\",\"Coffee\",\"Bread\",\"Tea\",\"Frittata\",\"Tea\",\"Bread\",\"Scandinavian\",\"Sandwich\",\"Art Tray\",\"Truffles\",\"Coffee\",\"Scone\",\"Frittata\",\"Juice\",\"Tea\",\"Coffee\",\"Mineral water\",\"Frittata\",\"Coffee\",\"Tea\",\"Bread\",\"Brownie\",\"Scone\",\"Coffee\",\"Frittata\",\"Sandwich\",\"Coffee\",\"Tea\",\"Coffee\",\"Tea\",\"Vegan mincepie\",\"Coffee\",\"Hot chocolate\",\"Juice\",\"Cake\",\"Tea\",\"Tea\",\"Bread\",\"Farm House\",\"Coffee\",\"Tea\",\"Bread\",\"Mineral water\",\"Scone\",\"Bread\",\"Bread\",\"Hot chocolate\",\"Coke\",\"Sandwich\",\"Sandwich\",\"Mineral water\",\"Hot chocolate\",\"Tea\",\"Cake\",\"Scandinavian\",\"Frittata\",\"Cake\",\"Cake\",\"Coffee\",\"Bread\",\"Coffee\",\"Tea\",\"Bread\",\"Scone\",\"Coffee\",\"Bread\",\"Jam\",\"Bread\",\"Coffee\",\"Medialuna\",\"Bread\",\"Farm House\",\"Bread\",\"Coffee\",\"Pastry\",\"Bread\",\"Coffee\",\"Medialuna\",\"Coffee\",\"Scone\",\"Bread\",\"Coffee\",\"Coke\",\"Coffee\",\"Truffles\",\"Bread\",\"Mineral water\",\"Hot chocolate\",\"Coffee\",\"Bread\",\"Toast\",\"Medialuna\",\"Alfajores\",\"Fudge\",\"Jam\",\"Medialuna\",\"Bakewell\",\"Coffee\",\"Bread\",\"Toast\",\"Coffee\",\"Bread\",\"Coffee\",\"Bakewell\",\"Medialuna\",\"Coffee\",\"Bread\",\"Farm House\",\"Bread\",\"Medialuna\",\"Scone\",\"Coffee\",\"Bread\",\"Farm House\",\"Coffee\",\"Medialuna\",\"Bread\",\"Smoothies\",\"Coffee\",\"Medialuna\",\"Coffee\",\"Mineral water\",\"Bread\",\"Mineral water\",\"Hot chocolate\",\"Sandwich\",\"Tea\",\"Coffee\",\"Cookies\",\"Alfajores\",\"Vegan mincepie\",\"Bread\",\"Coffee\",\"Coffee\",\"Medialuna\",\"Coffee\",\"Frittata\",\"Toast\",\"Coffee\",\"Hot chocolate\",\"Muffin\",\"Coffee\",\"Scandinavian\",\"Bakewell\",\"Tea\",\"Coffee\",\"Frittata\",\"Coffee\",\"Scandinavian\",\"Coffee\",\"Coffee\",\"Tea\",\"Scandinavian\",\"Bread\",\"Tea\",\"Bread\",\"Bread\",\"Medialuna\",\"Pastry\",\"Toast\",\"Coffee\",\"Coffee\",\"Pastry\",\"Tea\",\"Coffee\",\"Toast\",\"Coffee\",\"Jam\",\"Coffee\",\"Hot chocolate\",\"Toast\",\"Coffee\",\"Sandwich\",\"Bread\",\"Tea\",\"Bakewell\",\"Alfajores\",\"Bread\",\"Coffee\",\"Cake\",\"Bread\",\"Bread\",\"Coffee\",\"Bakewell\",\"Cake\",\"Bread\",\"Coffee\",\"Medialuna\",\"Bread\",\"Bread\",\"Vegan mincepie\",\"Coffee\",\"Bread\",\"Vegan mincepie\",\"Cake\",\"Bread\",\"Sandwich\",\"Pastry\",\"Bread\",\"Cake\",\"Vegan mincepie\",\"Coffee\",\"Mineral water\",\"Jam\",\"Bread\",\"Frittata\",\"Coffee\",\"Coffee\",\"Bread\",\"Sandwich\",\"Sandwich\",\"Bread\",\"Truffles\",\"Coffee\",\"Tea\",\"Toast\",\"Coffee\",\"Cake\",\"Coffee\",\"Bread\",\"Fudge\",\"Jam\",\"Bread\",\"Coffee\",\"Tea\",\"Bread\",\"Hot chocolate\",\"Vegan mincepie\",\"Juice\",\"Cake\",\"Jammie Dodgers\",\"Bread\",\"Bread\",\"Vegan mincepie\",\"Tea\",\"Coffee\",\"Pastry\",\"Scandinavian\",\"Vegan mincepie\",\"Bread\",\"Coffee\",\"Fudge\",\"Jam\",\"Jam\",\"Coffee\",\"Coffee\",\"Coffee\",\"Cookies\",\"Pastry\",\"Medialuna\",\"Bread\",\"Coffee\",\"Art Tray\",\"Tea\",\"Toast\",\"Coke\",\"Coffee\",\"Bread\",\"Bakewell\",\"Farm House\",\"Bread\",\"Tea\",\"Coffee\",\"Alfajores\",\"Hot chocolate\",\"Farm House\",\"Coffee\",\"Bread\",\"Coffee\",\"Toast\",\"Scandinavian\",\"Bread\",\"Vegan mincepie\",\"Bread\",\"Coffee\",\"Coffee\",\"Bread\",\"Alfajores\",\"Coffee\",\"Bread\",\"Medialuna\",\"Coffee\",\"Frittata\",\"Tea\",\"Coffee\",\"Tea\",\"Tea\",\"Bakewell\",\"Farm House\",\"Coffee\",\"Pastry\",\"Medialuna\",\"Coffee\",\"Sandwich\",\"Coffee\",\"Medialuna\",\"Coffee\",\"Pastry\",\"Muffin\",\"Bread\",\"Coffee\",\"Coffee\",\"Bakewell\",\"Bread\",\"Coffee\",\"Bread\",\"Coffee\",\"Alfajores\",\"Bread\",\"Truffles\",\"Coffee\",\"Scandinavian\",\"Tea\",\"Cake\",\"Jam\",\"Fudge\",\"Jam\",\"Bread\",\"Coffee\",\"Tea\",\"Coffee\",\"Coffee\",\"Tea\",\"Toast\",\"Coffee\",\"Bread\",\"Coffee\",\"Coffee\",\"Bread\",\"Bread\",\"Fudge\",\"Coffee\",\"Coffee\",\"Tea\",\"Coffee\",\"Farm House\",\"Medialuna\",\"Muffin\",\"Coffee\",\"Juice\",\"Coffee\",\"Coffee\",\"Bread\",\"Coffee\",\"Bread\",\"Muffin\",\"Vegan mincepie\",\"Coffee\",\"Tea\",\"Alfajores\",\"Coffee\",\"Coffee\",\"Medialuna\",\"Bread\",\"Tea\",\"Coffee\",\"Coffee\",\"Bread\",\"Pastry\",\"Bread\",\"Farm House\",\"Bread\",\"Alfajores\",\"Coffee\",\"Jam\",\"Coffee\",\"Pastry\",\"Tea\",\"Coffee\",\"Coffee\",\"Toast\",\"Coffee\",\"Coke\",\"Truffles\",\"Sandwich\",\"Tea\",\"Coffee\",\"Tea\",\"Coke\",\"Bread\",\"Sandwich\",\"Juice\",\"Bread\",\"Art Tray\",\"Toast\",\"Tea\",\"Bread\",\"Coffee\",\"Alfajores\",\"Hot chocolate\",\"Toast\",\"Pastry\",\"Sandwich\",\"Tea\",\"Juice\",\"Vegan mincepie\",\"Bread\",\"Alfajores\",\"Muffin\",\"Coffee\",\"Jammie Dodgers\",\"Jammie Dodgers\",\"Bread\",\"Tea\",\"Coffee\",\"Jammie Dodgers\",\"Cake\",\"Bread\",\"Coffee\",\"Bread\",\"Pastry\",\"Medialuna\",\"Alfajores\",\"Pastry\",\"Medialuna\",\"Toast\",\"Coffee\",\"Bread\",\"Tea\",\"Pastry\",\"Bread\",\"Coffee\",\"Bread\",\"Hot chocolate\",\"Bread\",\"Pastry\",\"Coffee\",\"Bread\",\"Coffee\",\"Hot chocolate\",\"Farm House\",\"Coffee\",\"Coffee\",\"Coffee\",\"Dulce de Leche\",\"Pastry\",\"Farm House\",\"Bread\",\"Vegan mincepie\",\"Bread\",\"Coffee\",\"Hot chocolate\",\"Pastry\",\"Coffee\",\"Vegan mincepie\",\"Pastry\",\"Bread\",\"Bread\",\"Coffee\",\"Hot chocolate\",\"Bread\",\"Sandwich\",\"Coffee\",\"Bread\",\"Coffee\",\"Hot chocolate\",\"Coffee\",\"Coffee\",\"Sandwich\",\"Coke\",\"Coffee\",\"Coffee\",\"Bread\",\"Bread\",\"Coffee\",\"Coffee\",\"Coffee\",\"Fudge\",\"Coffee\",\"Sandwich\",\"Tea\",\"Bread\",\"Coffee\",\"Sandwich\",\"Bread\",\"Bread\",\"Coffee\",\"Coffee\",\"Hot chocolate\",\"Fudge\",\"Coffee\",\"Coffee\",\"Bread\",\"Bread\",\"Cookies\",\"Bread\",\"Coffee\",\"Bread\",\"Alfajores\",\"Tea\",\"Bare Popcorn\",\"Ella's Kitchen Pouches\",\"Farm House\",\"Bread\",\"Fudge\",\"Pastry\",\"Hot chocolate\",\"Tea\",\"Vegan mincepie\",\"Jammie Dodgers\",\"Coffee\",\"Medialuna\",\"Coffee\",\"Hot chocolate\",\"Coffee\",\"Bread\",\"Vegan mincepie\",\"Medialuna\",\"Dulce de Leche\",\"Muesli\",\"Muesli\",\"Coffee\",\"Jam\",\"Bread\",\"Toast\",\"Bread\",\"Toast\",\"Coffee\",\"Jammie Dodgers\",\"Vegan mincepie\",\"Coffee\",\"Bread\",\"Coffee\",\"Bread\",\"Tea\",\"Coffee\",\"Coffee\",\"Juice\",\"Farm House\",\"Coffee\",\"Pastry\",\"Bread\",\"Coffee\",\"Coffee\",\"Coffee\",\"Tea\",\"Pastry\",\"Cookies\",\"Coffee\",\"Toast\",\"Pastry\",\"Tea\",\"Tea\",\"Coffee\",\"Toast\",\"Bread\",\"Bread\",\"Coffee\",\"Coffee\",\"Pastry\",\"Bread\",\"Scandinavian\",\"Coffee\",\"Alfajores\",\"Truffles\",\"Ella's Kitchen Pouches\",\"Bread\",\"Tea\",\"Fudge\",\"Jam\",\"Juice\",\"Ella's Kitchen Pouches\",\"Cake\",\"Bread\",\"Cookies\",\"Coffee\",\"Cake\",\"Coffee\",\"Tea\",\"Toast\",\"Truffles\",\"Bread\",\"Coffee\",\"Bread\",\"Bread\",\"Truffles\",\"Toast\",\"Bread\",\"Tea\",\"Cookies\",\"Sandwich\",\"Coffee\",\"Bread\",\"Sandwich\",\"Alfajores\",\"Scone\",\"Bread\",\"Coffee\",\"Alfajores\",\"Vegan mincepie\",\"Fudge\",\"Jam\",\"Coffee\",\"Pastry\",\"Jam\",\"Coffee\",\"Tea\",\"Bread\",\"Fudge\",\"Bread\",\"Sandwich\",\"Farm House\",\"Coffee\",\"Jam\",\"Brownie\",\"Coffee\",\"Tea\",\"Sandwich\",\"Bread\",\"Tea\",\"Sandwich\",\"Tea\",\"Coffee\",\"Coffee\",\"Bread\",\"Tea\",\"Brownie\",\"Jam\",\"Jam\",\"Cookies\",\"Sandwich\",\"Juice\",\"Tea\",\"Pastry\",\"Farm House\",\"Scone\",\"Coffee\",\"Coffee\",\"Coffee\",\"Vegan mincepie\",\"Bread\",\"Scone\",\"Farm House\",\"Scone\",\"Coffee\",\"Brownie\",\"Coffee\",\"Tea\",\"Coffee\",\"Tea\",\"Coffee\",\"Bread\",\"Coffee\",\"Alfajores\",\"Farm House\",\"Medialuna\",\"Pastry\",\"Bread\",\"Bread\",\"Coffee\",\"Pastry\",\"Bread\",\"Bread\",\"Pastry\",\"Medialuna\",\"Fudge\",\"Bread\",\"Coffee\",\"Scone\",\"Juice\",\"Coffee\",\"Tea\",\"Scone\",\"Lemon and coconut\",\"Jam\",\"Cookies\",\"Fudge\",\"Bread\",\"Scandinavian\",\"Coffee\",\"Cookies\",\"Juice\",\"Hot chocolate\",\"Coffee\",\"Bread\",\"Vegan mincepie\",\"Jam\",\"Bread\",\"Coffee\",\"Dulce de Leche\",\"Scandinavian\",\"Alfajores\",\"Coffee\",\"Bread\",\"Pastry\",\"Medialuna\",\"Farm House\",\"Hot chocolate\",\"Scone\",\"Fudge\",\"Jam\",\"Bread\",\"Farm House\",\"Coffee\",\"The Nomad\",\"Vegan mincepie\",\"Bread\",\"Bread\",\"Bread\",\"Scone\",\"Cake\",\"Bread\",\"Vegan mincepie\",\"Cake\",\"Coffee\",\"Coffee\",\"Medialuna\",\"Bread\",\"Jam\",\"Medialuna\",\"Pastry\",\"Coffee\",\"Bread\",\"Bread\",\"Bread\",\"Scone\",\"The Nomad\",\"Coffee\",\"Tea\",\"Bread\",\"Frittata\",\"Tea\",\"Coffee\",\"Vegan mincepie\",\"Bread\",\"Coffee\",\"Bread\",\"Scone\",\"Coffee\",\"Farm House\",\"Frittata\",\"Cookies\",\"Farm House\",\"Farm House\",\"Jam\",\"Fudge\",\"Coffee\",\"Frittata\",\"Sandwich\",\"Bread\",\"Alfajores\",\"Medialuna\",\"Fudge\",\"Cake\",\"Juice\",\"Cookies\",\"Coffee\",\"Coffee\",\"Bread\",\"Pastry\",\"Hot chocolate\",\"Tea\",\"Crisps\",\"Bread\",\"Cake\",\"Focaccia\",\"Tea\",\"Scone\",\"Coffee\",\"Scone\",\"Cake\",\"Vegan mincepie\",\"Coffee\",\"Tea\",\"Vegan mincepie\",\"Focaccia\",\"Coke\",\"Pintxos\",\"Pintxos\",\"Juice\",\"Coke\",\"Pintxos\",\"Pintxos\",\"Pintxos\",\"Coke\",\"Pintxos\",\"Hot chocolate\",\"Medialuna\",\"Coffee\",\"Coffee\",\"Bread\",\"Coffee\",\"Bread\",\"Coffee\",\"Cookies\",\"Bread\",\"Toast\",\"Coffee\",\"Brownie\",\"Medialuna\",\"Hot chocolate\",\"Coffee\",\"Brownie\",\"Tea\",\"Hot chocolate\",\"Tea\",\"Scone\",\"Bread\",\"Medialuna\",\"Coffee\",\"Bread\",\"Coffee\",\"Hot chocolate\",\"Pastry\",\"Scone\",\"Muesli\",\"The Nomad\",\"Coffee\",\"Bread\",\"Bread\",\"Fudge\",\"Bread\",\"Coffee\",\"Bread\",\"Bread\",\"Coffee\",\"Brownie\",\"Vegan mincepie\",\"Dulce de Leche\",\"Coffee\",\"Coffee\",\"Farm House\",\"Coffee\",\"Coffee\",\"Brownie\",\"Coffee\",\"Coffee\",\"Hot chocolate\",\"Vegan mincepie\",\"Bread\",\"Coffee\",\"Frittata\",\"Medialuna\",\"Coffee\",\"Coffee\",\"Juice\",\"Mineral water\",\"Medialuna\",\"Crisps\",\"Frittata\",\"Coffee\",\"Coffee\",\"Cookies\",\"Bread\",\"Bread\",\"Coffee\",\"Cake\",\"Bread\",\"Dulce de Leche\",\"Coffee\",\"Hot chocolate\",\"Bread\",\"Coke\",\"Fudge\",\"Fudge\",\"Tea\",\"Juice\",\"Cake\",\"Tartine\",\"Brownie\",\"Medialuna\",\"Hot chocolate\",\"Coffee\",\"Coffee\",\"Bread\",\"Coffee\",\"Bread\",\"Coffee\",\"Hot chocolate\",\"Cookies\",\"Vegan mincepie\",\"Coffee\",\"Medialuna\",\"Cookies\",\"Hot chocolate\",\"Coffee\",\"Coffee\",\"Tea\",\"Coffee\",\"Bread\",\"Hot chocolate\",\"Coffee\",\"Bread\",\"Medialuna\",\"Coffee\",\"Bread\",\"Coffee\",\"Tea\",\"Pastry\",\"Medialuna\",\"Coffee\",\"Coffee\",\"Hot chocolate\",\"Fudge\",\"Jam\",\"Hot chocolate\",\"Smoothies\",\"Bread\",\"Cookies\",\"Coffee\",\"Tea\",\"Toast\",\"Brownie\",\"Coffee\",\"Coffee\",\"Farm House\",\"Tea\",\"Bread\",\"Bread\",\"Coffee\",\"Tea\",\"Coffee\",\"Coffee\",\"Fudge\",\"Brownie\",\"Coffee\",\"Coffee\",\"Bread\",\"Coffee\",\"Medialuna\",\"Farm House\",\"Fudge\",\"Coffee\",\"Sandwich\",\"Toast\",\"Cookies\",\"Sandwich\",\"Coffee\",\"Bread\",\"Focaccia\",\"Scandinavian\",\"Truffles\",\"Hearty & Seasonal\",\"Coffee\",\"Sandwich\",\"Hearty & Seasonal\",\"Coffee\",\"Bread\",\"Bread\",\"Cake\",\"Tea\",\"Bread\",\"Bread\",\"Cookies\",\"Bread\",\"Coffee\",\"Coffee\",\"Tea\",\"Sandwich\",\"Bread\",\"Brownie\",\"Tea\",\"Coffee\",\"Coffee\",\"Coffee\",\"Cookies\",\"Cake\",\"Bread\",\"Coffee\",\"Mineral water\",\"Coke\",\"Bread\",\"Sandwich\",\"Juice\",\"Bread\",\"Coffee\",\"Truffles\",\"Tea\",\"Cake\",\"Coffee\",\"Scone\",\"Brownie\",\"Tea\",\"Sandwich\",\"Juice\",\"Tea\",\"Coffee\",\"Cake\",\"Sandwich\",\"Bread\",\"Coffee\",\"Sandwich\",\"Coffee\",\"Juice\",\"Tea\",\"Bread\",\"Brownie\",\"Fudge\",\"Tea\",\"Tea\",\"Truffles\",\"Sandwich\",\"Medialuna\",\"Hot chocolate\",\"Bread\",\"Coffee\",\"Medialuna\",\"Coffee\",\"Coffee\",\"Tea\",\"Bread\",\"Bread\",\"Tea\",\"Coke\",\"Cake\",\"Brownie\",\"Bread\",\"Bread\",\"Tea\",\"Medialuna\",\"Cookies\",\"Bread\",\"Coffee\",\"Sandwich\",\"Bread\",\"Tea\",\"Bread\",\"Toast\",\"Medialuna\",\"Pastry\",\"Medialuna\",\"Coffee\",\"Coffee\",\"Coffee\",\"Pastry\",\"Cookies\",\"Cookies\",\"Bread\",\"Coffee\",\"Coffee\",\"Pastry\",\"Bread\",\"Cookies\",\"Cake\",\"Coffee\",\"Hot chocolate\",\"Pastry\",\"Medialuna\",\"Coffee\",\"Hot chocolate\",\"The Nomad\",\"Toast\",\"Coffee\",\"Cake\",\"Bread\",\"Tea\",\"Coffee\",\"Cake\",\"Coffee\",\"Coffee\",\"Cake\",\"Toast\",\"Coffee\",\"Coffee\",\"Hot chocolate\",\"Cake\",\"Hearty & Seasonal\",\"Juice\",\"Coffee\",\"Hearty & Seasonal\",\"Coffee\",\"Farm House\",\"Cake\",\"Coffee\",\"Bread\",\"Farm House\",\"Sandwich\",\"Bread\",\"Coffee\",\"Brownie\",\"Sandwich\",\"Juice\",\"Coffee\",\"Coffee\",\"Tea\",\"Coffee\",\"Hot chocolate\",\"Cake\",\"Coffee\",\"Bread\",\"Bread\",\"Coffee\",\"Hot chocolate\",\"Coffee\",\"Coffee\",\"Bread\",\"Coffee\",\"Cake\",\"Coffee\",\"Farm House\",\"Coffee\",\"Bread\",\"Coffee\",\"Farm House\",\"Scandinavian\",\"Bread\",\"Bread\",\"Pastry\",\"Coffee\",\"Coffee\",\"Coffee\",\"Bread\",\"Pastry\",\"Coffee\",\"Bread\",\"Coffee\",\"Medialuna\",\"Jam\",\"Fudge\",\"Medialuna\",\"Tea\",\"Bread\",\"Bread\",\"Pastry\",\"Coffee\",\"Coffee\",\"Bread\",\"Coffee\",\"Coffee\",\"Cookies\",\"Coffee\",\"Coffee\",\"Pastry\",\"Coffee\",\"Bread\",\"Fudge\",\"Coffee\",\"Hot chocolate\",\"Cake\",\"Muffin\",\"Coffee\",\"Coffee\",\"Medialuna\",\"Gingerbread syrup\",\"Coffee\",\"Sandwich\",\"Coffee\",\"Bread\",\"Coffee\",\"Coke\",\"Coffee\",\"Juice\",\"Medialuna\",\"Bread\",\"Coffee\",\"Pastry\",\"Coffee\",\"Cake\",\"Bread\",\"Coffee\",\"Bread\",\"Bread\",\"Tea\",\"Coffee\",\"Toast\",\"Sandwich\",\"Smoothies\",\"Fudge\",\"Coffee\",\"Hot chocolate\",\"Coffee\",\"Hot chocolate\",\"Cake\",\"Hot chocolate\",\"Sandwich\",\"Sandwich\",\"Mineral water\",\"Truffles\",\"Cake\",\"Scandinavian\",\"Coffee\",\"Cake\",\"Bread\",\"Cake\",\"Coffee\",\"Bread\",\"Coffee\",\"Cake\",\"Coffee\",\"Bread\",\"Cookies\",\"Coffee\",\"Coke\",\"Bread\",\"Hot chocolate\",\"Tea\",\"Cake\",\"Brownie\",\"Coke\",\"Tea\",\"Coffee\",\"Coffee\",\"Bread\",\"Pastry\",\"Bread\",\"Bread\",\"Tea\",\"Cookies\",\"Brownie\",\"Coffee\",\"Tea\",\"Coffee\",\"Bread\",\"Sandwich\",\"Scandinavian\",\"Coffee\",\"Bread\",\"Coffee\",\"Pastry\",\"Coffee\",\"Medialuna\",\"Coffee\",\"Muffin\",\"Bread\",\"Pastry\",\"The Nomad\",\"Coffee\",\"Coffee\",\"Hot chocolate\",\"Cake\",\"Bread\",\"Coffee\",\"Pastry\",\"Bread\",\"Coffee\",\"Pastry\",\"Brownie\",\"Coffee\",\"Tea\",\"Pastry\",\"Bread\",\"Tea\",\"Coffee\",\"Medialuna\",\"Coffee\",\"Hot chocolate\",\"Tea\",\"Bread\",\"Tea\",\"Toast\",\"Coffee\",\"Cake\",\"Coffee\",\"Panatone\",\"Coffee\",\"Bread\",\"Cake\",\"Bread\",\"Bread\",\"Truffles\",\"Coffee\",\"Tea\",\"Bread\",\"Sandwich\",\"Cookies\",\"Bread\",\"Tea\",\"Cake\",\"Bread\",\"Coffee\",\"Bread\",\"Brownie\",\"Art Tray\",\"Bare Popcorn\",\"Juice\",\"Coffee\",\"Brownie\",\"Muffin\",\"Cake\",\"Cookies\",\"Panatone\",\"Coke\",\"Tea\",\"Bread\",\"Tea\",\"Brownie\",\"Tea\",\"Sandwich\",\"Medialuna\",\"Tea\",\"Hot chocolate\",\"Tea\",\"Muffin\",\"Cake\",\"Sandwich\",\"Mineral water\",\"Pastry\",\"Tea\",\"Coffee\",\"Coffee\",\"Hot chocolate\",\"Medialuna\",\"Bread\",\"Muffin\",\"Tea\",\"Jam\",\"Bread\",\"Tea\",\"Farm House\",\"Bread\",\"Brownie\",\"Juice\",\"Cake\",\"Coffee\",\"Hot chocolate\",\"Cake\",\"Fudge\",\"Cake\",\"Juice\",\"Bread\",\"Jam\",\"Fudge\",\"Bread\",\"Bread\",\"Pastry\",\"Coffee\",\"Bread\",\"Coffee\",\"Medialuna\",\"Pastry\",\"Medialuna\",\"Coffee\",\"Bread\",\"Farm House\",\"Fudge\",\"Bread\",\"Farm House\",\"Medialuna\",\"Pastry\",\"Coffee\",\"Muffin\",\"Cake\",\"Bread\",\"Pastry\",\"The Nomad\",\"Pastry\",\"Scone\",\"Coffee\",\"Coffee\",\"Medialuna\",\"Coffee\",\"Hot chocolate\",\"Bread\",\"Scandinavian\",\"Brownie\",\"Cake\",\"Hot chocolate\",\"Coffee\",\"Cake\",\"Brownie\",\"Hot chocolate\",\"Coffee\",\"Coffee\",\"Bread\",\"Bread\",\"Sandwich\",\"Bread\",\"Fudge\",\"Tea\",\"Juice\",\"Muffin\",\"Gingerbread syrup\",\"Tea\",\"Coffee\",\"Coffee\",\"Coffee\",\"Brownie\",\"Bread\",\"Bread\",\"Hot chocolate\",\"Muffin\",\"Smoothies\",\"Coffee\",\"Hot chocolate\",\"Coffee\",\"Scone\",\"Juice\",\"Cake\",\"Brownie\",\"Bread\",\"Cake\",\"Coffee\",\"Gingerbread syrup\",\"Jam\",\"Fudge\",\"Fudge\",\"Bread\",\"Coffee\",\"Cake\",\"Scone\",\"Coffee\",\"Tea\",\"Brioche and salami\",\"Bread\",\"Truffles\",\"Bread\",\"Coffee\",\"Bread\",\"Frittata\",\"Coffee\",\"Muffin\",\"Cake\",\"Hot chocolate\",\"Coffee\",\"Scone\",\"Bread\",\"Bread\",\"Tea\",\"Bread\",\"Scone\",\"Panatone\",\"Sandwich\",\"Bread\",\"Coffee\",\"Coke\",\"Gingerbread syrup\",\"Bread\",\"Brownie\",\"Frittata\",\"Farm House\",\"Cookies\",\"Tea\",\"Scone\",\"Bread\",\"Jam\",\"Tea\",\"Tea\",\"Bread\",\"Sandwich\",\"Coffee\",\"Coffee\",\"Scone\",\"Cake\",\"Cake\",\"Scone\",\"Cookies\",\"Juice\",\"Coffee\",\"Coffee\",\"Coffee\",\"Hot chocolate\",\"Toast\",\"Sandwich\",\"Hot chocolate\",\"Cookies\",\"Bread\",\"Coffee\",\"Tea\",\"Hot chocolate\",\"Cake\",\"Bread\",\"Panatone\",\"Bread\",\"Coffee\",\"Gingerbread syrup\",\"Bread\",\"Coffee\",\"Medialuna\",\"Bread\",\"Bread\",\"Coffee\",\"Toast\",\"Cake\",\"Pastry\",\"Bread\",\"Coffee\",\"Juice\",\"Cookies\",\"Coffee\",\"Pastry\",\"Medialuna\",\"Bread\",\"Bread\",\"Bread\",\"Focaccia\",\"Farm House\",\"Bread\",\"Bread\",\"Medialuna\",\"Pastry\",\"Coffee\",\"Scone\",\"Hot chocolate\",\"Tea\",\"Pastry\",\"Scone\",\"Cake\",\"Coffee\",\"Hot chocolate\",\"Crisps\",\"Coffee\",\"Hot chocolate\",\"Bread\",\"Hot chocolate\",\"Pastry\",\"Scone\",\"Frittata\",\"Bread\",\"Pastry\",\"Hot chocolate\",\"Bread\",\"Coffee\",\"Bread\",\"Bread\",\"Toast\",\"Tea\",\"Coke\",\"Juice\",\"Coffee\",\"Hot chocolate\",\"Sandwich\",\"Farm House\",\"Hot chocolate\",\"Coffee\",\"Tea\",\"Cake\",\"Medialuna\",\"Pastry\",\"Farm House\",\"Coffee\",\"Pastry\",\"Fudge\",\"Jam\",\"Bread\",\"Farm House\",\"Coke\",\"Hot chocolate\",\"Coffee\",\"Pastry\",\"Focaccia\",\"Medialuna\",\"Coffee\",\"Coffee\",\"Cake\",\"Art Tray\",\"Toast\",\"Sandwich\",\"Hot chocolate\",\"Juice\",\"Scone\",\"Bread\",\"Scandinavian\",\"Bread\",\"Scone\",\"Medialuna\",\"Tea\",\"Coffee\",\"Hot chocolate\",\"Coffee\",\"Cookies\",\"Medialuna\",\"Cookies\",\"Tea\",\"Coke\",\"Frittata\",\"Sandwich\",\"Coffee\",\"Cookies\",\"Medialuna\",\"Bread\",\"Coffee\",\"Sandwich\",\"Bread\",\"Coffee\",\"Sandwich\",\"Cake\",\"Coffee\",\"Coffee\",\"Coffee\",\"Sandwich\",\"Fudge\",\"Jam\",\"Focaccia\",\"Bread\",\"Medialuna\",\"Coffee\",\"Tea\",\"Coffee\",\"Focaccia\",\"Panatone\",\"Fudge\",\"Coffee\",\"Coke\",\"Scandinavian\",\"Farm House\",\"Cookies\",\"Bread\",\"Cake\",\"Scone\",\"Coffee\",\"Tea\",\"Sandwich\",\"Bread\",\"Coffee\",\"Tea\",\"Bread\",\"Coffee\",\"Scone\",\"Cake\",\"Tea\",\"Hot chocolate\",\"Hot chocolate\",\"Bread\",\"Focaccia\",\"Scandinavian\",\"Hot chocolate\",\"Coffee\",\"Bread\",\"Coffee\",\"Medialuna\",\"Pastry\",\"Coffee\",\"Coffee\",\"Pastry\",\"Coffee\",\"Medialuna\",\"Coffee\",\"Coffee\",\"Hot chocolate\",\"Coffee\",\"Tea\",\"Coffee\",\"Coffee\",\"Coffee\",\"Cake\",\"Coffee\",\"Toast\",\"Hot chocolate\",\"Tea\",\"Pastry\",\"Medialuna\",\"Gingerbread syrup\",\"Coffee\",\"Sandwich\",\"Sandwich\",\"Coffee\",\"Hot chocolate\",\"Coffee\",\"Coffee\",\"Cake\",\"Cookies\",\"Coffee\",\"Bread\",\"Farm House\",\"Coffee\",\"Coffee\",\"Medialuna\",\"Pastry\",\"Coffee\",\"Coffee\",\"Coffee\",\"Medialuna\",\"Pastry\",\"Toast\",\"Tea\",\"Coffee\",\"Bread\",\"Farm House\",\"Bread\",\"Bread\",\"Bread\",\"Medialuna\",\"Toast\",\"Coffee\",\"Tea\",\"Bread\",\"Bread\",\"Farm House\",\"Coffee\",\"Sandwich\",\"Truffles\",\"Coffee\",\"Coffee\",\"Coffee\",\"Cake\",\"Coffee\",\"Coffee\",\"Hot chocolate\",\"Bread\",\"Cookies\",\"Hot chocolate\",\"Medialuna\",\"Bread\",\"Bread\",\"Bread\",\"Coffee\",\"Coffee\",\"Bread\",\"Cake\",\"Bread\",\"Muesli\",\"Bread\",\"Coffee\",\"Bread\",\"Coffee\",\"Coffee\",\"Bread\",\"Coffee\",\"Coffee\",\"Tea\",\"Tea\",\"Bread\",\"Crisps\",\"Juice\",\"Coffee\",\"Hot chocolate\",\"Truffles\",\"Cake\",\"Fudge\",\"Coffee\",\"Tea\",\"Coffee\",\"Juice\",\"Coke\",\"Sandwich\",\"Sandwich\",\"Bread\",\"Coffee\",\"Bread\",\"Bread\",\"Coffee\",\"Bread\",\"Coffee\",\"Coffee\",\"Hot chocolate\",\"Cake\",\"Sandwich\",\"Coffee\",\"Hot chocolate\",\"Cookies\",\"Crisps\",\"Bare Popcorn\",\"Coffee\",\"Hot chocolate\",\"Coffee\",\"Bread\",\"Coffee\",\"Coffee\",\"Tea\",\"Bread\",\"Bread\",\"Coffee\",\"Hot chocolate\",\"Bread\",\"Bread\",\"Bread\",\"Tea\",\"Medialuna\",\"Bread\",\"Medialuna\",\"Pastry\",\"Coffee\",\"Toast\",\"Medialuna\",\"Bread\",\"Farm House\",\"Coffee\",\"Pastry\",\"Toast\",\"Coffee\",\"Cookies\",\"Bread\",\"Cake\",\"Bread\",\"Jammie Dodgers\",\"Coffee\",\"Tea\",\"Coffee\",\"Smoothies\",\"Toast\",\"Coffee\",\"Smoothies\",\"Toast\",\"Toast\",\"Coffee\",\"Smoothies\",\"Bread\",\"Bread\",\"Bread\",\"Coffee\",\"Fudge\",\"Bread\",\"Coffee\",\"Cake\",\"Bread\",\"Pastry\",\"Tea\",\"Frittata\",\"Sandwich\",\"Coffee\",\"Bread\",\"Bread\",\"Coffee\",\"Hot chocolate\",\"Bread\",\"Bread\",\"Juice\",\"Coffee\",\"Hot chocolate\",\"Bread\",\"Coffee\",\"Juice\",\"Sandwich\",\"Cake\",\"Bread\",\"Lemon and coconut\",\"Bread\",\"Hearty & Seasonal\",\"Coffee\",\"Medialuna\",\"Coffee\",\"Bread\",\"Pastry\",\"Pastry\",\"Bread\",\"Cake\",\"Scandinavian\",\"Coke\",\"Tea\",\"Hot chocolate\",\"Medialuna\",\"Coffee\",\"Jammie Dodgers\",\"Bread\",\"Medialuna\",\"Coffee\",\"Coffee\",\"Bread\",\"Hot chocolate\",\"Coffee\",\"Coffee\",\"Bread\",\"Juice\",\"Truffles\",\"Frittata\",\"Cookies\",\"Crisps\",\"Bread\",\"Coffee\",\"Cake\",\"Frittata\",\"Jammie Dodgers\",\"Bread\",\"Coffee\",\"Cake\",\"Bread\",\"Coffee\",\"Cake\",\"Jam\",\"Bread\",\"Coffee\",\"Coffee\",\"Hot chocolate\",\"Toast\",\"Coffee\",\"Coffee\",\"Hot chocolate\",\"Bread\",\"Bread\",\"Coffee\",\"Bread\",\"Hot chocolate\",\"Cake\",\"Hot chocolate\",\"Coffee\",\"Cookies\",\"Medialuna\",\"Hot chocolate\",\"Medialuna\",\"Pastry\",\"Bread\",\"Coffee\",\"Juice\",\"Cake\",\"Vegan mincepie\",\"Medialuna\",\"Coffee\",\"Muesli\",\"Bread\",\"Coffee\",\"Frittata\",\"Farm House\",\"Bread\",\"Coffee\",\"Muesli\",\"Tea\",\"Bread\",\"Sandwich\",\"Pastry\",\"Sandwich\",\"Hot chocolate\",\"Coffee\",\"Tea\",\"Toast\",\"Sandwich\",\"Tea\",\"Coffee\",\"Hot chocolate\",\"Coffee\",\"Lemon and coconut\",\"Bread\",\"Coffee\",\"Coffee\",\"Cake\",\"Medialuna\",\"The Nomad\",\"Bread\",\"Coffee\",\"Coffee\",\"Hot chocolate\",\"Farm House\",\"Sandwich\",\"Tea\",\"Bread\",\"Coffee\",\"Smoothies\",\"Frittata\",\"Coffee\",\"Bread\",\"Pastry\",\"Coffee\",\"Toast\",\"Bread\",\"Coffee\",\"Coffee\",\"Jammie Dodgers\",\"Bread\",\"Coke\",\"Sandwich\",\"Medialuna\",\"Coffee\",\"Medialuna\",\"Sandwich\",\"Bread\",\"Tea\",\"Cake\",\"Hot chocolate\",\"Coffee\",\"Frittata\",\"Tea\",\"Bread\",\"Tea\",\"Coffee\",\"Jammie Dodgers\",\"Bread\",\"Coffee\",\"Coffee\",\"Jammie Dodgers\",\"Bread\",\"Coffee\",\"Bread\",\"Coffee\",\"Hot chocolate\",\"Jammie Dodgers\",\"Vegan mincepie\",\"Cake\",\"Coffee\",\"Cookies\",\"Coffee\",\"Tea\",\"Bread\",\"Coffee\",\"Bread\",\"Bread\",\"Tea\",\"Bread\",\"Bread\",\"Coffee\",\"Bread\",\"Jammie Dodgers\",\"Hot chocolate\",\"Bread\",\"Coffee\",\"Pastry\",\"Tea\",\"Bread\",\"Coffee\",\"Cookies\",\"Bread\",\"Coffee\",\"Vegan mincepie\",\"Tea\",\"Coffee\",\"Bread\",\"Medialuna\",\"Farm House\",\"Coffee\",\"Hot chocolate\",\"Vegan mincepie\",\"Jammie Dodgers\",\"Coffee\",\"Coffee\",\"Bread\",\"Medialuna\",\"Bread\",\"Bread\",\"Bread\",\"Coffee\",\"Bread\",\"Farm House\",\"Coffee\",\"Coffee\",\"Bread\",\"Tea\",\"Frittata\",\"Farm House\",\"Farm House\",\"Pastry\",\"Coffee\",\"Bread\",\"Coffee\",\"Hot chocolate\",\"Cake\",\"Scandinavian\",\"Coffee\",\"Hot chocolate\",\"Cake\",\"Jammie Dodgers\",\"Bread\",\"Pastry\",\"Coffee\",\"Bread\",\"Scandinavian\",\"Coffee\",\"Sandwich\",\"Tea\",\"Hot chocolate\",\"Toast\",\"Sandwich\",\"Sandwich\",\"Tea\",\"Farm House\",\"Bread\",\"Coffee\",\"Jammie Dodgers\",\"Coffee\",\"Bread\",\"Farm House\",\"Medialuna\",\"Coffee\",\"Tea\",\"Sandwich\",\"Cookies\",\"Tea\",\"Bread\",\"Coffee\",\"Bread\",\"Coffee\",\"Bread\",\"Tea\",\"Hot chocolate\",\"Sandwich\",\"Tea\",\"Sandwich\",\"Coffee\",\"Bread\",\"Bread\",\"Tea\",\"Coke\",\"Cake\",\"Tea\",\"Bread\",\"Coffee\",\"Coffee\",\"Toast\",\"Farm House\",\"Bread\",\"Coffee\",\"Coffee\",\"Coffee\",\"Toast\",\"Coffee\",\"Toast\",\"Bread\",\"Bread\",\"Coffee\",\"Coffee\",\"Vegan mincepie\",\"Bread\",\"Coffee\",\"Coffee\",\"Toast\",\"Coffee\",\"Cookies\",\"Cake\",\"Bread\",\"Coffee\",\"Tea\",\"Cake\",\"Bread\",\"Coffee\",\"Hot chocolate\",\"Cookies\",\"Coffee\",\"Cake\",\"Bread\",\"Juice\",\"Coffee\",\"Sandwich\",\"Coffee\",\"Bread\",\"Coffee\",\"Frittata\",\"Cookies\",\"Mineral water\",\"Coffee\",\"Muffin\",\"Sandwich\",\"Coffee\",\"Cake\",\"Coffee\",\"Coffee\",\"Vegan mincepie\",\"Cake\",\"Cake\",\"Coffee\",\"Coffee\",\"Frittata\",\"Coffee\",\"Sandwich\",\"Cookies\",\"Tea\",\"Tea\",\"Tea\",\"Bread\",\"Vegan mincepie\",\"Muffin\",\"Coffee\",\"Hot chocolate\",\"Bread\",\"Hot chocolate\",\"Coffee\",\"Cake\",\"Coffee\",\"Hot chocolate\",\"Sandwich\",\"Cake\",\"Muffin\",\"Coffee\",\"Coffee\",\"Coffee\",\"Hot chocolate\",\"Medialuna\",\"Medialuna\",\"Cake\",\"Coffee\",\"Bread\",\"Coffee\",\"Toast\",\"Bread\",\"Coffee\",\"Bread\",\"Coffee\",\"Coffee\",\"Bread\",\"Coffee\",\"Coffee\",\"Coffee\",\"Cake\",\"Coffee\",\"Bread\",\"Bread\",\"Cake\",\"Muesli\",\"Cookies\",\"Tea\",\"Coffee\",\"Coke\",\"Pastry\",\"Cake\",\"Sandwich\",\"Coffee\",\"Juice\",\"Coffee\",\"Juice\",\"Tea\",\"Muffin\",\"Sandwich\",\"Medialuna\",\"Pastry\",\"Hot chocolate\",\"Coffee\",\"Bread\",\"Farm House\",\"Tea\",\"Bread\",\"Brownie\",\"Coffee\",\"Brownie\",\"Coffee\",\"Cookies\",\"Coffee\",\"Brownie\",\"Bread\",\"Cookies\",\"Hot chocolate\",\"Hot chocolate\",\"Coffee\",\"Pastry\",\"Bread\",\"Brownie\",\"Coffee\",\"Cake\",\"Brownie\",\"Tea\",\"Coffee\",\"Coffee\",\"Farm House\",\"Bread\",\"Bread\",\"Coffee\",\"Coffee\",\"Coffee\",\"Tea\",\"Toast\",\"Bread\",\"Medialuna\",\"Bread\",\"Toast\",\"Bread\",\"Coffee\",\"Medialuna\",\"Coffee\",\"Bread\",\"Hot chocolate\",\"Muffin\",\"Bread\",\"Coffee\",\"Juice\",\"Hot chocolate\",\"Bread\",\"Coffee\",\"Coffee\",\"Bread\",\"Truffles\",\"Brownie\",\"Juice\",\"Bread\",\"Muffin\",\"Farm House\",\"Brownie\",\"Coffee\",\"Bread\",\"Coffee\",\"Farm House\",\"Juice\",\"Coffee\",\"Sandwich\",\"Ella's Kitchen Pouches\",\"Coffee\",\"Cake\",\"Tea\",\"Bread\",\"Coffee\",\"Coffee\",\"Cookies\",\"Vegan mincepie\",\"Cookies\",\"Sandwich\",\"Toast\",\"Bread\",\"Sandwich\",\"Bread\",\"Bread\",\"Cookies\",\"Frittata\",\"Sandwich\",\"Coffee\",\"Frittata\",\"Tea\",\"Truffles\",\"Coffee\",\"Truffles\",\"Frittata\",\"Pastry\",\"Fudge\",\"Juice\",\"Sandwich\",\"Pastry\",\"Sandwich\",\"Medialuna\",\"Coffee\",\"Juice\",\"Bread\",\"Bread\",\"Brownie\",\"Bread\",\"Coffee\",\"Eggs\",\"Bread\",\"Coffee\",\"Bread\",\"Truffles\",\"Bread\",\"Toast\",\"Coffee\",\"Juice\",\"Coffee\",\"Bread\",\"Bread\",\"Coffee\",\"Bread\",\"Tea\",\"Toast\",\"Toast\",\"Coffee\",\"Bread\",\"Tea\",\"Coffee\",\"Toast\",\"Coffee\",\"Cookies\",\"Toast\",\"Bread\",\"Coffee\",\"Toast\",\"Coffee\",\"Cookies\",\"Coffee\",\"Medialuna\",\"Bread\",\"Cookies\",\"Coffee\",\"Toast\",\"Coffee\",\"Muffin\",\"Tea\",\"Cookies\",\"Cake\",\"Medialuna\",\"Medialuna\",\"Bread\",\"Coffee\",\"Scandinavian\",\"Medialuna\",\"Coffee\",\"Medialuna\",\"Coffee\",\"Bread\",\"Frittata\",\"Muffin\",\"Coffee\",\"Medialuna\",\"Coffee\",\"Bread\",\"Bread\",\"Coke\",\"Coffee\",\"Bread\",\"Coffee\",\"Sandwich\",\"Bread\",\"Coffee\",\"Coffee\",\"Sandwich\",\"Coffee\",\"Pastry\",\"Bread\",\"Cake\",\"Bread\",\"Bread\",\"Sandwich\",\"Afternoon with the baker\",\"Juice\",\"Coffee\",\"Farm House\",\"Scone\",\"Coffee\",\"Farm House\",\"Coffee\",\"Bread\",\"Pastry\",\"Coffee\",\"Frittata\",\"Bread\",\"Tea\",\"Pastry\",\"Bread\",\"Medialuna\",\"Coffee\",\"Bread\",\"Coffee\",\"Hot chocolate\",\"Bread\",\"Medialuna\",\"Coffee\",\"Bread\",\"Pastry\",\"Bread\",\"Coffee\",\"Medialuna\",\"Tea\",\"Cake\",\"Coffee\",\"Bread\",\"Coffee\",\"Medialuna\",\"Bread\",\"Coffee\",\"Bread\",\"Coffee\",\"Scone\",\"Pastry\",\"Coffee\",\"Pastry\",\"Coffee\",\"Toast\",\"Scone\",\"Coffee\",\"Scandinavian\",\"Coffee\",\"Coffee\",\"Pastry\",\"Bread\",\"Bread\",\"Coffee\",\"Sandwich\",\"Bread\",\"Hot chocolate\",\"Coffee\",\"Pastry\",\"Bread\",\"Bread\",\"Coffee\",\"Scandinavian\",\"Cake\",\"Scandinavian\",\"Bread\",\"Coffee\",\"Bread\",\"Medialuna\",\"Coffee\",\"Frittata\",\"Tea\",\"Coffee\",\"Jammie Dodgers\",\"Scone\",\"Coffee\",\"Bread\",\"Jammie Dodgers\",\"Tea\",\"Coffee\",\"Coffee\",\"Sandwich\",\"Smoothies\",\"Truffles\",\"Mineral water\",\"Bread\",\"Coffee\",\"Sandwich\",\"Coffee\",\"Hot chocolate\",\"Tea\",\"Sandwich\",\"Coke\",\"Farm House\",\"Coffee\",\"Jammie Dodgers\",\"Afternoon with the baker\",\"Bread\",\"Scandinavian\",\"Medialuna\",\"Scone\",\"Focaccia\",\"Bread\",\"Sandwich\",\"Coffee\",\"Medialuna\",\"Bread\",\"Bread\",\"Bread\",\"Sandwich\",\"Truffles\",\"Scandinavian\",\"Muffin\",\"Coffee\",\"Bread\",\"Scone\",\"Tea\",\"Hot chocolate\",\"Coffee\",\"Scone\",\"Sandwich\",\"Coffee\",\"Tea\",\"Scandinavian\",\"Tea\",\"Coffee\",\"Frittata\",\"Coffee\",\"Frittata\",\"Muffin\",\"Scandinavian\",\"Coffee\",\"Tea\",\"Bread\",\"Sandwich\",\"Coffee\",\"Muffin\",\"Jammie Dodgers\",\"Fudge\",\"Bread\",\"Coffee\",\"Focaccia\",\"Bread\",\"Truffles\",\"Muffin\",\"Coffee\",\"Scone\",\"Frittata\",\"Tea\",\"Bread\",\"Tea\",\"Truffles\",\"Sandwich\",\"Bread\",\"Tea\",\"Tea\",\"Bread\",\"Coffee\",\"Hot chocolate\",\"Bread\",\"Cake\",\"Sandwich\",\"Coffee\",\"Bread\",\"Coffee\",\"Sandwich\",\"Tea\",\"Coffee\",\"Tiffin\",\"Scone\",\"Scone\",\"Scone\",\"Farm House\",\"Coffee\",\"Cake\",\"Tea\",\"Bread\",\"Cake\",\"Bread\",\"Coffee\",\"Truffles\",\"Toast\",\"Frittata\",\"Bread\",\"Pastry\",\"Medialuna\",\"Coffee\",\"Medialuna\",\"Pastry\",\"Bread\",\"Bread\",\"Coffee\",\"Medialuna\",\"Bread\",\"Coffee\",\"Tiffin\",\"Bread\",\"Bread\",\"Bread\",\"Coffee\",\"Medialuna\",\"Tea\",\"Muesli\",\"Bread\",\"Scandinavian\",\"Coffee\",\"Hot chocolate\",\"Tiffin\",\"Bread\",\"Coffee\",\"Tea\",\"Smoothies\",\"Sandwich\",\"Tiffin\",\"Bread\",\"Smoothies\",\"Coffee\",\"Jammie Dodgers\",\"Sandwich\",\"Coffee\",\"Bread\",\"Coffee\",\"Sandwich\",\"Bread\",\"Bread\",\"Coffee\",\"Bread\",\"Coffee\",\"Vegan mincepie\",\"Jammie Dodgers\",\"Cake\",\"Tiffin\",\"Farm House\",\"The Nomad\",\"Tea\",\"Bread\",\"Coffee\",\"Hot chocolate\",\"Cookies\",\"Sandwich\",\"Coffee\",\"Coffee\",\"Cake\",\"Coffee\",\"Truffles\",\"The Nomad\",\"Muffin\",\"The Nomad\",\"Frittata\",\"Sandwich\",\"Coffee\",\"Bread\",\"Coffee\",\"Coffee\",\"Bread\",\"Sandwich\",\"Coffee\",\"Coffee\",\"Bread\",\"Cake\",\"Tiffin\",\"Tiffin\",\"Muffin\",\"The Nomad\",\"Truffles\",\"Bread\",\"Tea\",\"Juice\",\"Bread\",\"Vegan mincepie\",\"Bread\",\"Coffee\",\"Medialuna\",\"Hearty & Seasonal\",\"Tea\",\"Hot chocolate\",\"Afternoon with the baker\",\"Bread\",\"Coffee\",\"Bread\",\"Bread\",\"Tea\",\"Juice\",\"Pastry\",\"Coffee\",\"Coffee\",\"Bread\",\"Coffee\",\"Toast\",\"Cookies\",\"Bread\",\"Coffee\",\"Pastry\",\"Medialuna\",\"Coffee\",\"Muffin\",\"Coffee\",\"Bread\",\"Scone\",\"Muffin\",\"Coffee\",\"Bread\",\"Coffee\",\"Tea\",\"Juice\",\"Pastry\",\"Medialuna\",\"Pastry\",\"Coffee\",\"Coffee\",\"Cookies\",\"Scone\",\"Tea\",\"Coffee\",\"Coffee\",\"Farm House\",\"Medialuna\",\"Coke\",\"Juice\",\"Coffee\",\"Coffee\",\"Coffee\",\"Tea\",\"Cake\",\"Coffee\",\"Sandwich\",\"Coffee\",\"Scone\",\"Tea\",\"Toast\",\"Coffee\",\"Bread\",\"Farm House\",\"Tea\",\"Jammie Dodgers\",\"Scone\",\"Coffee\",\"Scone\",\"The Nomad\",\"Cake\",\"Coffee\",\"Medialuna\",\"Cake\",\"Jammie Dodgers\",\"Farm House\",\"Coffee\",\"Bread\",\"Tea\",\"Bread\",\"Tea\",\"Tea\",\"Cookies\",\"Bread\",\"Coffee\",\"Bread\",\"Farm House\",\"Coffee\",\"Farm House\",\"Tea\",\"Cookies\",\"Coffee\",\"Bread\",\"Hot chocolate\",\"Pastry\",\"Bread\",\"Coffee\",\"Cake\",\"Tea\",\"Bread\",\"Bread\",\"Coffee\",\"Scone\",\"Scone\",\"Coffee\",\"Coffee\",\"Farm House\",\"Scandinavian\",\"Coffee\",\"Toast\",\"Cake\",\"Coffee\",\"Bread\",\"Coffee\",\"Farm House\",\"Sandwich\",\"Tea\",\"Muffin\",\"Sandwich\",\"Coffee\",\"Scone\",\"Farm House\",\"Sandwich\",\"Coffee\",\"Bread\",\"Tea\",\"Sandwich\",\"Coke\",\"Jammie Dodgers\",\"Scone\",\"Muffin\",\"Pastry\",\"Frittata\",\"Cake\",\"Pastry\",\"Coffee\",\"Cake\",\"Hearty & Seasonal\",\"Coffee\",\"Tea\",\"Fudge\",\"Bread\",\"Coffee\",\"Bread\",\"Coffee\",\"Cake\",\"Coffee\",\"Coffee\",\"Tea\",\"Bread\",\"Bread\",\"Bread\",\"Toast\",\"Coffee\",\"Muffin\",\"Medialuna\",\"Hot chocolate\",\"Coffee\",\"Bread\",\"Bread\",\"Pastry\",\"Bread\",\"Coffee\",\"Tea\",\"Sandwich\",\"Coffee\",\"Medialuna\",\"Coffee\",\"Farm House\",\"Coffee\",\"Muffin\",\"Hot chocolate\",\"Coffee\",\"Coffee\",\"Tea\",\"Toast\",\"Tiffin\",\"Muffin\",\"Cookies\",\"Bread\",\"Farm House\",\"Bread\",\"Granola\",\"Scone\",\"Coffee\",\"Bread\",\"Coffee\",\"Medialuna\",\"Coffee\",\"Pastry\",\"Muffin\",\"Hot chocolate\",\"Coffee\",\"Bread\",\"Bread\",\"Bread\",\"Coffee\",\"Bread\",\"Coffee\",\"Hearty & Seasonal\",\"Bread\",\"Coffee\",\"Art Tray\",\"Sandwich\",\"Bread\",\"Bread\",\"Cake\",\"Muffin\",\"Alfajores\",\"Tiffin\",\"Tea\",\"Coffee\",\"Scandinavian\",\"Afternoon with the baker\",\"Cake\",\"Bread\",\"Bread\",\"Cake\",\"Coffee\",\"Tea\",\"Scandinavian\",\"Scandinavian\",\"Coffee\",\"Bread\",\"Sandwich\",\"Afternoon with the baker\",\"Cake\",\"Tea\",\"Coffee\",\"Cake\",\"Coffee\",\"Coffee\",\"Bread\",\"Cake\",\"Scone\",\"Coffee\",\"Hot chocolate\",\"Tea\",\"Cookies\",\"Cake\",\"Coffee\",\"Pastry\",\"Tea\",\"Bread\",\"Coffee\",\"Toast\",\"Bread\",\"Coffee\",\"Coffee\",\"Farm House\",\"Tea\",\"Coffee\",\"Cookies\",\"Coffee\",\"Bread\",\"Jammie Dodgers\",\"Juice\",\"Bread\",\"Cake\",\"Coffee\",\"Tea\",\"Hot chocolate\",\"Coffee\",\"Alfajores\",\"Bread\",\"Tiffin\",\"Cookies\",\"Coffee\",\"Jammie Dodgers\",\"Coffee\",\"Tea\",\"Cake\",\"Toast\",\"Coffee\",\"Coffee\",\"Vegan mincepie\",\"Bread\",\"Tea\",\"Toast\",\"Coffee\",\"Tea\",\"Coffee\",\"Cake\",\"Coffee\",\"Bread\",\"Toast\",\"Coffee\",\"Cookies\",\"Tea\",\"Toast\",\"Farm House\",\"Coke\",\"Coke\",\"Bread\",\"Toast\",\"Bread\",\"Tiffin\",\"Coffee\",\"Coffee\",\"Jammie Dodgers\",\"Frittata\",\"Frittata\",\"Coffee\",\"Tea\",\"Bread\",\"Coffee\",\"Bread\",\"Tea\",\"Scandinavian\",\"Farm House\",\"Hot chocolate\",\"Coffee\",\"Pastry\",\"Scandinavian\",\"Coffee\",\"Toast\",\"Bread\",\"Coffee\",\"Cake\",\"Cookies\",\"Bread\",\"Toast\",\"Coffee\",\"Sandwich\",\"Bread\",\"Coffee\",\"Bread\",\"Scandinavian\",\"Coffee\",\"Medialuna\",\"Alfajores\",\"Coffee\",\"Pastry\",\"Coffee\",\"Coffee\",\"Juice\",\"Coffee\",\"Coffee\",\"Bread\",\"Salad\",\"Pastry\",\"Coffee\",\"Bread\",\"Bread\",\"Hot chocolate\",\"Coffee\",\"Toast\",\"Sandwich\",\"Truffles\",\"Medialuna\",\"Cake\",\"Toast\",\"Coffee\",\"Coffee\",\"Coffee\",\"Cake\",\"Vegan mincepie\",\"Bread\",\"Farm House\",\"Coffee\",\"Scone\",\"Tea\",\"Sandwich\",\"Bread\",\"Coffee\",\"Coffee\",\"Jammie Dodgers\",\"Tea\",\"Coffee\",\"Toast\",\"Tea\",\"Coffee\",\"Bread\",\"Salad\",\"Tiffin\",\"Cake\",\"Pastry\",\"Alfajores\",\"Coffee\",\"Bread\",\"Coffee\",\"Scone\",\"Tea\",\"Brownie\",\"Pastry\",\"Coffee\",\"Bread\",\"Tea\",\"Scone\",\"Bread\",\"Tea\",\"Scone\",\"Coffee\",\"Tea\",\"Scone\",\"Cake\",\"Coffee\",\"Truffles\",\"Cake\",\"Vegan mincepie\",\"Bread\",\"Hot chocolate\",\"Medialuna\",\"Tea\",\"Hot chocolate\",\"Cookies\",\"Jammie Dodgers\",\"Bread\",\"Bread\",\"Coffee\",\"Toast\",\"Coffee\",\"Scandinavian\",\"Bread\",\"Tea\",\"Cookies\",\"Tiffin\",\"Brownie\",\"Coffee\",\"Tiffin\",\"Coffee\",\"Coffee\",\"Toast\",\"Tiffin\",\"Farm House\",\"Hot chocolate\",\"Bread\",\"Medialuna\",\"Toast\",\"Hot chocolate\",\"Bread\",\"Medialuna\",\"Toast\",\"Hot chocolate\",\"Bread\",\"Medialuna\",\"Toast\",\"Alfajores\",\"Scone\",\"Coffee\",\"Cookies\",\"Coffee\",\"Brownie\",\"Pastry\",\"Bread\",\"Bread\",\"Pastry\",\"Bread\",\"Coffee\",\"Coffee\",\"Hot chocolate\",\"Hearty & Seasonal\",\"Bread\",\"Coffee\",\"Bread\",\"Cake\",\"Coffee\",\"Cookies\",\"Scone\",\"Coffee\",\"Medialuna\",\"Cake\",\"Tiffin\",\"Coffee\",\"Medialuna\",\"Tea\",\"Truffles\",\"Medialuna\",\"Pastry\",\"Coffee\",\"Coffee\",\"Hot chocolate\",\"Scandinavian\",\"Coffee\",\"Tea\",\"Scone\",\"Coffee\",\"Hot chocolate\",\"Coffee\",\"Bread\",\"Scone\",\"Cookies\",\"Hearty & Seasonal\",\"Bread\",\"Bread\",\"Coffee\",\"Alfajores\",\"Pastry\",\"Cake\",\"Tiffin\",\"Bread\",\"Hot chocolate\",\"Coffee\",\"Cake\",\"Farm House\",\"Coffee\",\"Pastry\",\"Coffee\",\"Alfajores\",\"Tea\",\"Coffee\",\"Hearty & Seasonal\",\"Coffee\",\"Bread\",\"Tea\",\"Tiffin\",\"Tea\",\"Bread\",\"Coffee\",\"Tea\",\"Bread\",\"Coffee\",\"Tea\",\"Hearty & Seasonal\",\"Tiffin\",\"Bread\",\"Cake\",\"Bread\",\"Bread\",\"Hot chocolate\",\"Coffee\",\"Brownie\",\"Pastry\",\"Bread\",\"Scone\",\"Coffee\",\"Brownie\",\"Alfajores\",\"Toast\",\"Juice\",\"Coffee\",\"Tea\",\"Bread\",\"Cake\",\"Alfajores\",\"Toast\",\"Hearty & Seasonal\",\"Sandwich\",\"Coffee\",\"Juice\",\"Hot chocolate\",\"Coffee\",\"Hearty & Seasonal\",\"Brownie\",\"Bread\",\"Coffee\",\"Cake\",\"Sandwich\",\"Hearty & Seasonal\",\"Coffee\",\"Fudge\",\"Tiffin\",\"Scone\",\"Tea\",\"Coffee\",\"Sandwich\",\"Frittata\",\"Tea\",\"Bread\",\"Coffee\",\"Farm House\",\"Bread\",\"Cake\",\"Alfajores\",\"Coffee\",\"Bread\",\"Cake\",\"Mineral water\",\"Bread\",\"Focaccia\",\"Tea\",\"Bread\",\"Scandinavian\",\"Cake\",\"Tiffin\",\"Muffin\",\"Cookies\",\"Coffee\",\"Cake\",\"Afternoon with the baker\",\"Afternoon with the baker\",\"Afternoon with the baker\",\"Coffee\",\"Cake\",\"Medialuna\",\"Cake\",\"Bread\",\"Jammie Dodgers\",\"Bread\",\"Coffee\",\"The Nomad\",\"The Nomad\",\"Tea\",\"Bread\",\"Tiffin\",\"Coffee\",\"Bread\",\"Coffee\",\"Bread\",\"Coffee\",\"Brioche and salami\",\"Coffee\",\"Granola\",\"Bread\",\"Coffee\",\"Juice\",\"Cake\",\"Scone\",\"Coffee\",\"Bread\",\"Bread\",\"Bread\",\"Bread\",\"Farm House\",\"Medialuna\",\"Pastry\",\"Coffee\",\"Bread\",\"Coffee\",\"Bread\",\"Farm House\",\"Coffee\",\"Pastry\",\"Pastry\",\"Bread\",\"Bread\",\"Coffee\",\"Bread\",\"Coffee\",\"Bread\",\"Juice\",\"Jammie Dodgers\",\"Brownie\",\"Toast\",\"Granola\",\"Pastry\",\"Coffee\",\"Bread\",\"Coffee\",\"Cake\",\"Tiffin\",\"Granola\",\"Gingerbread syrup\",\"Coffee\",\"Hearty & Seasonal\",\"Coffee\",\"Cake\",\"Pastry\",\"Tea\",\"Coffee\",\"Bread\",\"Coffee\",\"Alfajores\",\"Medialuna\",\"Jammie Dodgers\",\"Muffin\",\"Sandwich\",\"Bread\",\"Coffee\",\"Tea\",\"Juice\",\"Alfajores\",\"Hearty & Seasonal\",\"Truffles\",\"Mineral water\",\"Bread\",\"Scone\",\"Coffee\",\"Jammie Dodgers\",\"Cookies\",\"Bread\",\"Toast\",\"Coffee\",\"Bread\",\"Coffee\",\"Truffles\",\"Scone\",\"Bread\",\"Coffee\",\"Tea\",\"Cake\",\"Jammie Dodgers\",\"Coffee\",\"Jammie Dodgers\",\"Bread\",\"Medialuna\",\"Alfajores\",\"Coffee\",\"Tea\",\"Brownie\",\"Alfajores\",\"Hot chocolate\",\"Tea\",\"Bread\",\"Coffee\",\"Scone\",\"Bread\",\"Afternoon with the baker\",\"Bread\",\"Coffee\",\"Bread\",\"Bread\",\"Bread\",\"Scandinavian\",\"Bread\",\"Cookies\",\"Coffee\",\"Coffee\",\"Coffee\",\"Medialuna\",\"Cookies\",\"Cookies\",\"Coffee\",\"Bread\",\"Juice\",\"Hot chocolate\",\"Cookies\",\"Bread\",\"Coffee\",\"Tea\",\"Cake\",\"Cookies\",\"Tea\",\"Coffee\",\"Bread\",\"Medialuna\",\"Scone\",\"Coffee\",\"Tea\",\"Bread\",\"Brownie\",\"Sandwich\",\"Coffee\",\"Toast\",\"Bread\",\"Bread\",\"Coffee\",\"Coffee\",\"Tea\",\"Bread\",\"Coffee\",\"Coke\",\"Jammie Dodgers\",\"Bread\",\"Bread\",\"Medialuna\",\"Alfajores\",\"Medialuna\",\"Coffee\",\"Bread\",\"Coffee\",\"Coke\",\"Tea\",\"Truffles\",\"Muffin\",\"Alfajores\",\"Bread\",\"Bread\",\"Coffee\",\"Pastry\",\"Tea\",\"Coffee\",\"Coffee\",\"Toast\",\"Coffee\",\"Coffee\",\"Pastry\",\"Sandwich\",\"Bread\",\"Coffee\",\"Alfajores\",\"Bread\",\"Medialuna\",\"Bread\",\"Tea\",\"Coffee\",\"Alfajores\",\"Alfajores\",\"Bread\",\"Coffee\",\"Coffee\",\"Coffee\",\"Cake\",\"Bread\",\"Jammie Dodgers\",\"Coffee\",\"Toast\",\"Sandwich\",\"Coffee\",\"Smoothies\",\"Sandwich\",\"Hearty & Seasonal\",\"Cake\",\"Bread\",\"Sandwich\",\"Truffles\",\"Salad\",\"Sandwich\",\"Coffee\",\"Muffin\",\"Cookies\",\"Bread\",\"Hot chocolate\",\"Hearty & Seasonal\",\"Farm House\",\"Truffles\",\"Cake\",\"Scandinavian\",\"Coffee\",\"Tea\",\"Salad\",\"Sandwich\",\"Bread\",\"Coffee\",\"Alfajores\",\"Coffee\",\"Bread\",\"Toast\",\"Coffee\",\"Cake\",\"Truffles\",\"Coffee\",\"Alfajores\",\"Coffee\",\"Tea\",\"Chicken Stew\",\"Coffee\",\"Pastry\",\"Coffee\",\"Coffee\",\"Coffee\",\"Coffee\",\"Soup\",\"Cake\",\"Tea\",\"Coffee\",\"Tea\",\"Coffee\",\"Tea\",\"Bread\",\"Cake\",\"Bread\",\"Tea\",\"Bread\",\"Coffee\",\"Bread\",\"Tea\",\"Coffee\",\"Muffin\",\"Cake\",\"Scandinavian\",\"Bread\",\"Farm House\",\"Tea\",\"Tea\",\"Coffee\",\"Medialuna\",\"Coffee\",\"Tea\",\"Bread\",\"Pastry\",\"Muffin\",\"Coffee\",\"Tea\",\"Coffee\",\"Tea\",\"Hot chocolate\",\"Coke\",\"Cake\",\"Soup\",\"Pastry\",\"Tea\",\"Sandwich\",\"Alfajores\",\"Sandwich\",\"Bread\",\"Focaccia\",\"Coffee\",\"Juice\",\"Sandwich\",\"Crisps\",\"Tea\",\"Coffee\",\"Soup\",\"Salad\",\"Coffee\",\"Cookies\",\"Tea\",\"Cookies\",\"Cake\",\"Cake\",\"Coffee\",\"Coke\",\"Tea\",\"Coffee\",\"Jammie Dodgers\",\"Coke\",\"Sandwich\",\"Medialuna\",\"Cookies\",\"Juice\",\"Ella's Kitchen Pouches\",\"Tea\",\"Muffin\",\"Jammie Dodgers\",\"Cake\",\"Bread\",\"Hot chocolate\",\"Coffee\",\"Cake\",\"Cake\",\"Cake\",\"Tea\",\"Coffee\",\"Tea\",\"Cake\",\"Cookies\",\"Cookies\",\"Tea\",\"Focaccia\",\"Fudge\",\"Pastry\",\"Toast\",\"Coffee\",\"Tea\",\"Sandwich\",\"Tea\",\"Hot chocolate\",\"Spanish Brunch\",\"Granola\",\"Sandwich\",\"Coffee\",\"Medialuna\",\"Bread\",\"Coffee\",\"Coffee\",\"Toast\",\"Coffee\",\"Pastry\",\"Bread\",\"Farm House\",\"Bread\",\"Cookies\",\"Bread\",\"Hot chocolate\",\"Cake\",\"Pastry\",\"Cake\",\"Mineral water\",\"Tea\",\"Tea\",\"Jammie Dodgers\",\"Cake\",\"Juice\",\"Tiffin\",\"Cake\",\"Muffin\",\"Coffee\",\"Coke\",\"Juice\",\"Truffles\",\"Medialuna\",\"Coffee\",\"Coffee\",\"Coffee\",\"Coffee\",\"Coffee\",\"Pastry\",\"Cake\",\"Coffee\",\"Bread\",\"Tiffin\",\"Scandinavian\",\"Bread\",\"Coffee\",\"Tea\",\"Alfajores\",\"Chicken Stew\",\"Coffee\",\"Coffee\",\"Juice\",\"Medialuna\",\"Crisps\",\"Coffee\",\"Farm House\",\"Salad\",\"Coffee\",\"Bread\",\"Bread\",\"Medialuna\",\"Coffee\",\"Sandwich\",\"Hot chocolate\",\"Chicken Stew\",\"Coffee\",\"Tea\",\"Sandwich\",\"Medialuna\",\"Bread\",\"Tea\",\"Chicken Stew\",\"Soup\",\"Cake\",\"Pastry\",\"Alfajores\",\"Focaccia\",\"Bread\",\"Coffee\",\"Soup\",\"Muffin\",\"Bread\",\"Coffee\",\"Tea\",\"Cake\",\"Sandwich\",\"Coffee\",\"Tea\",\"Coffee\",\"Bread\",\"Coffee\",\"Bread\",\"Hot chocolate\",\"Coffee\",\"Bread\",\"Tiffin\",\"Hot chocolate\",\"Hot chocolate\",\"Coffee\",\"Tiffin\",\"Coffee\",\"Cookies\",\"Bread\",\"Farm House\",\"Afternoon with the baker\",\"Coffee\",\"Scandinavian\",\"Coffee\",\"Bread\",\"Coffee\",\"Tea\",\"Toast\",\"Coffee\",\"Toast\",\"Coffee\",\"Coffee\",\"Toast\",\"Coffee\",\"Medialuna\",\"Coffee\",\"Cake\",\"Pastry\",\"Bread\",\"Coffee\",\"Bread\",\"Farm House\",\"Coffee\",\"Toast\",\"Cookies\",\"Pastry\",\"Coffee\",\"Coffee\",\"Bread\",\"Bread\",\"Tea\",\"Granola\",\"Bread\",\"Tea\",\"Scone\",\"Sandwich\",\"Coffee\",\"Pastry\",\"Pastry\",\"Coffee\",\"Bread\",\"Bread\",\"Bread\",\"Muffin\",\"Farm House\",\"Coffee\",\"Tea\",\"Scone\",\"Coffee\",\"Bread\",\"Bread\",\"Coffee\",\"Scone\",\"Bread\",\"Chicken Stew\",\"Tea\",\"Coffee\",\"Coffee\",\"Tea\",\"Scone\",\"Cake\",\"Pastry\",\"Farm House\",\"Scandinavian\",\"Smoothies\",\"Muffin\",\"Coffee\",\"Tea\",\"Sandwich\",\"Salad\",\"Sandwich\",\"Truffles\",\"Coffee\",\"Sandwich\",\"Bread\",\"Coffee\",\"Chicken Stew\",\"Bread\",\"Coffee\",\"Coffee\",\"Coffee\",\"Sandwich\",\"Hot chocolate\",\"Medialuna\",\"Hot chocolate\",\"Coffee\",\"Cake\",\"Coffee\",\"Alfajores\",\"Bread\",\"Coffee\",\"Bread\",\"Bread\",\"Muffin\",\"Coffee\",\"Bread\",\"Coffee\",\"Cake\",\"Bread\",\"Muffin\",\"Tea\",\"Tiffin\",\"Coffee\",\"Bread\",\"Sandwich\",\"Tea\",\"Coffee\",\"Pastry\",\"Scandinavian\",\"Medialuna\",\"Vegan mincepie\",\"Juice\",\"Tea\",\"Coffee\",\"Scone\",\"Tea\",\"Brownie\",\"Raspberry shortbread sandwich\",\"Tea\",\"Sandwich\",\"Coffee\",\"Cookies\",\"Cookies\",\"Farm House\",\"Bread\",\"Bread\",\"Coffee\",\"Medialuna\",\"Coffee\",\"Pastry\",\"Coffee\",\"Medialuna\",\"Pastry\",\"Coffee\",\"Cake\",\"Medialuna\",\"Coffee\",\"Farm House\",\"Bread\",\"Brownie\",\"Brownie\",\"Coffee\",\"Scandinavian\",\"Bread\",\"Alfajores\",\"Bread\",\"Medialuna\",\"Bread\",\"Bread\",\"Pastry\",\"Coffee\",\"Scone\",\"Tea\",\"Juice\",\"Medialuna\",\"Tiffin\",\"Coffee\",\"Coffee\",\"Cake\",\"Bread\",\"Scone\",\"Medialuna\",\"Coffee\",\"Coffee\",\"Spanish Brunch\",\"Tea\",\"Alfajores\",\"Cake\",\"Coffee\",\"Toast\",\"Tiffin\",\"Brownie\",\"Pastry\",\"Afternoon with the baker\",\"Farm House\",\"Coffee\",\"Coke\",\"Juice\",\"Cake\",\"Bread\",\"Tiffin\",\"Cookies\",\"Scone\",\"Cake\",\"Coffee\",\"Coffee\",\"Coffee\",\"Alfajores\",\"Tiffin\",\"Brownie\",\"Bread\",\"Coffee\",\"Medialuna\",\"Cake\",\"Granola\",\"Coffee\",\"Cake\",\"Hot chocolate\",\"Tea\",\"Scone\",\"Tiffin\",\"Bread\",\"Tea\",\"Coffee\",\"Bread\",\"Coffee\",\"Juice\",\"Cake\",\"Scone\",\"Toast\",\"Jammie Dodgers\",\"Scone\",\"Tiffin\",\"Bread\",\"Hot chocolate\",\"Tea\",\"Coffee\",\"Scandinavian\",\"Afternoon with the baker\",\"Bread\",\"Cookies\",\"Bread\",\"Bread\",\"Spanish Brunch\",\"Coffee\",\"Scandinavian\",\"Scandinavian\",\"Brownie\",\"Scone\",\"Jammie Dodgers\",\"Cake\",\"Sandwich\",\"Hot chocolate\",\"Coffee\",\"Coffee\",\"Tea\",\"Sandwich\",\"Cake\",\"Smoothies\",\"Bread\",\"Spanish Brunch\",\"Sandwich\",\"Coffee\",\"Truffles\",\"Cookies\",\"Sandwich\",\"Toast\",\"Tea\",\"Fudge\",\"Coffee\",\"Jammie Dodgers\",\"Cake\",\"Jammie Dodgers\",\"Frittata\",\"Bread\",\"Coffee\",\"Afternoon with the baker\",\"Raspberry shortbread sandwich\",\"Bread\",\"Coffee\",\"Sandwich\",\"Extra Salami or Feta\",\"Tea\",\"Bread\",\"Cake\",\"Tea\",\"Duck egg\",\"Scandinavian\",\"Coffee\",\"Hot chocolate\",\"Brownie\",\"Spanish Brunch\",\"Bread\",\"Bread\",\"Coffee\",\"Jam\",\"Coffee\",\"Frittata\",\"Scone\",\"Coffee\",\"Cake\",\"Bread\",\"Coffee\",\"Hot chocolate\",\"Cake\",\"Brownie\",\"Extra Salami or Feta\",\"Fudge\",\"Coffee\",\"Hot chocolate\",\"Bread\",\"Scone\",\"Cake\",\"Bread\",\"Frittata\",\"Coffee\",\"Bread\",\"Brownie\",\"Cake\",\"Muffin\",\"Cake\",\"Hot chocolate\",\"Coffee\",\"Tea\",\"Frittata\",\"Coffee\",\"Tea\",\"Hot chocolate\",\"Juice\",\"Cookies\",\"Cake\",\"Bread\",\"Hot chocolate\",\"Bread\",\"Scone\",\"Cookies\",\"Coffee\",\"Juice\",\"Coffee\",\"Brownie\",\"Scone\",\"Coffee\",\"Tea\",\"Raspberry shortbread sandwich\",\"Afternoon with the baker\",\"Hot chocolate\",\"Coffee\",\"Tea\",\"Alfajores\",\"Pastry\",\"Tiffin\",\"Coffee\",\"Medialuna\",\"Toast\",\"Coffee\",\"Coffee\",\"Coffee\",\"Toast\",\"Coffee\",\"Bread\",\"Coffee\",\"Bread\",\"Eggs\",\"Bread\",\"Bread\",\"Coffee\",\"Scone\",\"Frittata\",\"Medialuna\",\"Bread\",\"Coffee\",\"Bread\",\"Coffee\",\"Toast\",\"Medialuna\",\"Scone\",\"Tea\",\"Coffee\",\"Toast\",\"Bread\",\"Bread\",\"Alfajores\",\"Coffee\",\"Cake\",\"Coffee\",\"Cake\",\"Bread\",\"Bread\",\"Coffee\",\"Tea\",\"Hot chocolate\",\"Cake\",\"Bread\",\"Tea\",\"Alfajores\",\"Coffee\",\"Hot chocolate\",\"Coffee\",\"Hot chocolate\",\"Smoothies\",\"The Nomad\",\"Bread\",\"Afternoon with the baker\",\"Tea\",\"Bread\",\"Jammie Dodgers\",\"The Nomad\",\"Juice\",\"Coffee\",\"Bread\",\"Scone\",\"Pastry\",\"Cake\",\"Coffee\",\"Scone\",\"Sandwich\",\"Coffee\",\"Cake\",\"Pastry\",\"Tea\",\"Cookies\",\"Soup\",\"Hot chocolate\",\"Bread\",\"Cake\",\"Jammie Dodgers\",\"Soup\",\"Salad\",\"Pastry\",\"Frittata\",\"Bread\",\"Alfajores\",\"Jammie Dodgers\",\"Cake\",\"Tiffin\",\"Soup\",\"Salad\",\"Extra Salami or Feta\",\"Sandwich\",\"Coffee\",\"Coffee\",\"Alfajores\",\"Cake\",\"Tea\",\"Smoothies\",\"Tea\",\"Hot chocolate\",\"Jammie Dodgers\",\"Coffee\",\"Bread\",\"Toast\",\"Soup\",\"Coffee\",\"Juice\",\"Alfajores\",\"Coffee\",\"Bread\",\"Coffee\",\"Spanish Brunch\",\"Duck egg\",\"Soup\",\"Coffee\",\"Cake\",\"Coffee\",\"Sandwich\",\"Coffee\",\"Sandwich\",\"Tea\",\"Toast\",\"Coffee\",\"Truffles\",\"Juice\",\"Bread\",\"Jammie Dodgers\",\"Cake\",\"Medialuna\",\"Coffee\",\"Jammie Dodgers\",\"Bread\",\"Smoothies\",\"Tea\",\"Bread\",\"Fudge\",\"Bread\",\"Bread\",\"Coffee\",\"Coffee\",\"Hot chocolate\",\"Toast\",\"Tea\",\"Hot chocolate\",\"Sandwich\",\"Tea\",\"Coffee\",\"Hot chocolate\",\"Cake\",\"Coffee\",\"Toast\",\"Extra Salami or Feta\",\"Cake\",\"Bread\",\"Coffee\",\"Pastry\",\"Coffee\",\"Toast\",\"Sandwich\",\"Bread\",\"Coffee\",\"Sandwich\",\"Cake\",\"Hot chocolate\",\"Farm House\",\"Pastry\",\"Coffee\",\"Soup\",\"Soup\",\"Bread\",\"Tea\",\"Cake\",\"Frittata\",\"Tea\",\"Coffee\",\"Cake\",\"Cookies\",\"Cake\",\"Tea\",\"Cake\",\"Cake\",\"Cookies\",\"Cake\",\"Cookies\",\"Sandwich\",\"Soup\",\"Coffee\",\"Tea\",\"Tea\",\"Cookies\",\"Bread\",\"Sandwich\",\"Coke\",\"Cake\",\"Crisps\",\"Coffee\",\"Soup\",\"Spanish Brunch\",\"Tea\",\"Bread\",\"Cake\",\"Coffee\",\"Bread\",\"Coffee\",\"Coffee\",\"Coffee\",\"Bread\",\"Bread\",\"Coffee\",\"Cake\",\"Coffee\",\"Medialuna\",\"Cake\",\"Soup\",\"Coffee\",\"Cake\",\"Alfajores\",\"Coffee\",\"Coffee\",\"Chicken Stew\",\"Juice\",\"Coffee\",\"Hot chocolate\",\"Cake\",\"Cookies\",\"Hot chocolate\",\"Tea\",\"Toast\",\"Coffee\",\"Hot chocolate\",\"Coffee\",\"Cake\",\"Cookies\",\"Hot chocolate\",\"Cake\",\"Bread\",\"Bread\",\"Bread\",\"Coffee\",\"Pastry\",\"Coffee\",\"Coffee\",\"Scandinavian\",\"Focaccia\",\"Bread\",\"Coffee\",\"Coffee\",\"Coffee\",\"Coffee\",\"Bread\",\"Cookies\",\"Scandinavian\",\"Scandinavian\",\"Scandinavian\",\"Farm House\",\"Coffee\",\"Bread\",\"Farm House\",\"Coffee\",\"Vegan mincepie\",\"Coffee\",\"Coffee\",\"Medialuna\",\"Bread\",\"Muffin\",\"Pastry\",\"Coffee\",\"Tea\",\"Cake\",\"Chicken Stew\",\"Tea\",\"Soup\",\"Bread\",\"Coffee\",\"Salad\",\"Spanish Brunch\",\"Coke\",\"Tea\",\"Chicken Stew\",\"Bread\",\"Tea\",\"Coffee\",\"Soup\",\"Art Tray\",\"Bread\",\"Focaccia\",\"Medialuna\",\"Cookies\",\"Coffee\",\"Bread\",\"Soup\",\"Chicken Stew\",\"Art Tray\",\"Pastry\",\"Truffles\",\"Coffee\",\"Coke\",\"Bread\",\"Bread\",\"Focaccia\",\"Frittata\",\"Tea\",\"Coffee\",\"Chicken Stew\",\"Art Tray\",\"Bread\",\"Scandinavian\",\"Tea\",\"Spanish Brunch\",\"Salad\",\"Cake\",\"Coffee\",\"Hot chocolate\",\"Spanish Brunch\",\"Juice\",\"Truffles\",\"Coffee\",\"Pastry\",\"Cake\",\"Fudge\",\"Sandwich\",\"Muffin\",\"Cookies\",\"Bread\",\"Coffee\",\"Coffee\",\"Cake\",\"Tea\",\"Chicken Stew\",\"Bread\",\"Coffee\",\"Cake\",\"Bread\",\"Cake\",\"Bread\",\"Coffee\",\"Bread\",\"Coffee\",\"Pastry\",\"Tea\",\"Cake\",\"Bread\",\"Bread\",\"Coffee\",\"Toast\",\"Coffee\",\"Bread\",\"Medialuna\",\"Eggs\",\"Coffee\",\"Pastry\",\"Coffee\",\"Scandinavian\",\"Cookies\",\"Bread\",\"Bread\",\"Bread\",\"Medialuna\",\"Farm House\",\"Baguette\",\"Bread\",\"Bread\",\"Baguette\",\"Soup\",\"Tea\",\"Coffee\",\"Tea\",\"Cookies\",\"Pastry\",\"Bread\",\"Bread\",\"Coffee\",\"Tea\",\"Sandwich\",\"Chicken Stew\",\"Sandwich\",\"Coffee\",\"Coke\",\"Sandwich\",\"Sandwich\",\"Coffee\",\"Bread\",\"Sandwich\",\"Tea\",\"Coffee\",\"Hot chocolate\",\"Bread\",\"Tea\",\"The Nomad\",\"Cake\",\"Bread\",\"Tea\",\"Soup\",\"Tea\",\"Soup\",\"Sandwich\",\"Medialuna\",\"Coffee\",\"Tea\",\"Cake\",\"Sandwich\",\"Tea\",\"Coke\",\"Bread\",\"Tea\",\"Juice\",\"Cake\",\"Cake\",\"Coffee\",\"Muffin\",\"Bread\",\"Bread\",\"Medialuna\",\"Tea\",\"Bread\",\"Coffee\",\"Bread\",\"Farm House\",\"Bread\",\"Coffee\",\"Tea\",\"Cookies\",\"Hot chocolate\",\"Coffee\",\"Coffee\",\"Bread\",\"Muffin\",\"Coffee\",\"Muffin\",\"Cookies\",\"Juice\",\"Cookies\",\"Coffee\",\"Hot chocolate\",\"Tea\",\"Muffin\",\"Cake\",\"Juice\",\"Coffee\",\"Tea\",\"Muffin\",\"Cake\",\"Juice\",\"Coffee\",\"Coffee\",\"Bread\",\"Coffee\",\"Toast\",\"Coffee\",\"Hot chocolate\",\"Art Tray\",\"Sandwich\",\"Juice\",\"Tea\",\"Muffin\",\"Coffee\",\"Coffee\",\"Coffee\",\"Cookies\",\"Bread\",\"Baguette\",\"Coffee\",\"Bread\",\"Coffee\",\"Bread\",\"Spanish Brunch\",\"Coffee\",\"Muffin\",\"Hot chocolate\",\"Baguette\",\"Coffee\",\"Sandwich\",\"Medialuna\",\"Bread\",\"Coffee\",\"Tea\",\"Soup\",\"Bread\",\"Medialuna\",\"Chicken Stew\",\"Spanish Brunch\",\"Tea\",\"Coffee\",\"Coffee\",\"Soup\",\"Muffin\",\"Cake\",\"Soup\",\"Tea\",\"Sandwich\",\"Bread\",\"Muffin\",\"Sandwich\",\"Coffee\",\"Bread\",\"Bread\",\"Baguette\",\"Pastry\",\"Bread\",\"Jam\",\"Bread\",\"Pastry\",\"Cake\",\"Chicken Stew\",\"Spanish Brunch\",\"Bread\",\"Farm House\",\"Tea\",\"Cake\",\"Tea\",\"Medialuna\",\"Tea\",\"Coffee\",\"Cookies\",\"Coffee\",\"Muffin\",\"Bread\",\"Pastry\",\"Hot chocolate\",\"Bread\",\"Bread\",\"Bread\",\"Cookies\",\"Coffee\",\"Toast\",\"Bread\",\"Coffee\",\"Coffee\",\"Juice\",\"Pastry\",\"Cookies\",\"Muffin\",\"Coffee\",\"Bread\",\"Pastry\",\"Medialuna\",\"Farm House\",\"The Nomad\",\"Spanish Brunch\",\"Tea\",\"Bread\",\"Coffee\",\"Medialuna\",\"Farm House\",\"Scandinavian\",\"Bread\",\"Coffee\",\"Coffee\",\"Coffee\",\"Cookies\",\"Bread\",\"Coffee\",\"Juice\",\"Coffee\",\"Medialuna\",\"Bread\",\"Coffee\",\"Toast\",\"Coffee\",\"Pastry\",\"Farm House\",\"Cake\",\"Muffin\",\"Bread\",\"Coffee\",\"Coffee\",\"Bread\",\"Coffee\",\"Muffin\",\"Sandwich\",\"Pastry\",\"Hot chocolate\",\"Coffee\",\"Cake\",\"Scone\",\"Coffee\",\"Bread\",\"Coffee\",\"Tea\",\"Cake\",\"Medialuna\",\"Bread\",\"Bread\",\"Tea\",\"Soup\",\"Coffee\",\"Coffee\",\"Sandwich\",\"Bread\",\"Truffles\",\"Soup\",\"Soup\",\"Truffles\",\"Chicken Stew\",\"Coffee\",\"Soup\",\"Soup\",\"Spanish Brunch\",\"Truffles\",\"Juice\",\"Sandwich\",\"Cookies\",\"Bread\",\"Muffin\",\"Coffee\",\"Tea\",\"Brownie\",\"Tea\",\"Coffee\",\"Tea\",\"Soup\",\"Extra Salami or Feta\",\"Baguette\",\"Bread\",\"Muffin\",\"Tea\",\"Soup\",\"Coffee\",\"Soup\",\"Sandwich\",\"Coffee\",\"Tea\",\"Tea\",\"Tea\",\"Coffee\",\"Scone\",\"Cookies\",\"Muffin\",\"Coffee\",\"Bread\",\"Cookies\",\"Coffee\",\"Scone\",\"Soup\",\"Hot chocolate\",\"Scone\",\"Coffee\",\"Bread\",\"Bread\",\"Cookies\",\"Cake\",\"Toast\",\"Scone\",\"Juice\",\"Bread\",\"Cake\",\"Hot chocolate\",\"Tea\",\"Tea\",\"Soup\",\"Bakewell\",\"Coffee\",\"Bread\",\"Bakewell\",\"Brownie\",\"Cookies\",\"Cake\",\"Cake\",\"Coffee\",\"Coffee\",\"Cookies\",\"Cake\",\"Tea\",\"Cookies\",\"Coffee\",\"Coffee\",\"Pastry\",\"Medialuna\",\"Coffee\",\"Juice\",\"Farm House\",\"Brownie\",\"Bread\",\"Coffee\",\"Bread\",\"Pastry\",\"Alfajores\",\"Scone\",\"Scone\",\"Pastry\",\"Pastry\",\"Coffee\",\"Bread\",\"Eggs\",\"Coffee\",\"Toast\",\"Tea\",\"Bread\",\"Baguette\",\"Farm House\",\"Bread\",\"Medialuna\",\"Farm House\",\"Baguette\",\"The Nomad\",\"Tea\",\"Coffee\",\"Coffee\",\"Bakewell\",\"Pastry\",\"Juice\",\"Hot chocolate\",\"Baguette\",\"Coffee\",\"Bakewell\",\"Bread\",\"Coffee\",\"Coffee\",\"Pastry\",\"Coffee\",\"Hot chocolate\",\"Muffin\",\"Scandinavian\",\"Toast\",\"Tea\",\"Coffee\",\"Bread\",\"Bread\",\"Bread\",\"Medialuna\",\"Coffee\",\"Tea\",\"Coffee\",\"Cookies\",\"Frittata\",\"Pastry\",\"Vegan mincepie\",\"Bread\",\"Coffee\",\"Muffin\",\"Medialuna\",\"Cake\",\"Coffee\",\"Brownie\",\"Bread\",\"Frittata\",\"Juice\",\"Smoothies\",\"Scone\",\"Bread\",\"Coffee\",\"Bakewell\",\"Coffee\",\"Bread\",\"Focaccia\",\"The Nomad\",\"Tea\",\"Coffee\",\"Bread\",\"Bread\",\"Baguette\",\"Bread\",\"Tea\",\"Coffee\",\"Medialuna\",\"Juice\",\"Coffee\",\"Hot chocolate\",\"Brownie\",\"Coffee\",\"Medialuna\",\"Coffee\",\"Brownie\",\"Bread\",\"Coffee\",\"Scone\",\"Tea\",\"Hot chocolate\",\"Scone\",\"Salad\",\"Extra Salami or Feta\",\"Sandwich\",\"Coffee\",\"Cake\",\"Jam\",\"Hot chocolate\",\"Bread\",\"Brownie\",\"Scone\",\"Bakewell\",\"Cake\",\"Bread\",\"Coffee\",\"Bread\",\"Muffin\",\"Cake\",\"Scone\",\"Hot chocolate\",\"Bread\",\"Jam\",\"Scone\",\"Hot chocolate\",\"Scone\",\"Scandinavian\",\"Coffee\",\"Bread\",\"Coffee\",\"Coffee\",\"Bread\",\"Frittata\",\"Bread\",\"Focaccia\",\"Bread\",\"Gingerbread syrup\",\"Coffee\",\"Bread\",\"Bread\",\"Bread\",\"Tea\",\"Bread\",\"Spanish Brunch\",\"Toast\",\"Juice\",\"Coffee\",\"Bread\",\"Focaccia\",\"Coffee\",\"Bread\",\"Frittata\",\"Salad\",\"Sandwich\",\"Coffee\",\"Brownie\",\"Tea\",\"Sandwich\",\"Bread\",\"Chicken Stew\",\"Sandwich\",\"Tea\",\"Bread\",\"Soup\",\"Sandwich\",\"Coffee\",\"Tea\",\"Bread\",\"Bread\",\"Bread\",\"Valentine's card\",\"Coffee\",\"Scandinavian\",\"Cake\",\"Focaccia\",\"Scandinavian\",\"Bread\",\"Jam\",\"Salad\",\"Extra Salami or Feta\",\"Frittata\",\"Mineral water\",\"Hot chocolate\",\"Cake\",\"Coke\",\"Scone\",\"Tea\",\"Tea\",\"Cake\",\"Brownie\",\"Brownie\",\"Coffee\",\"Bread\",\"Bread\",\"Coffee\",\"Coffee\",\"Tea\",\"Scone\",\"Coffee\",\"Coffee\",\"Tea\",\"Muffin\",\"Hot chocolate\",\"Tea\",\"Medialuna\",\"Coffee\",\"Hot chocolate\",\"Bread\",\"Bread\",\"Coffee\",\"Tea\",\"Bread\",\"Coffee\",\"Tea\",\"Coffee\",\"Tea\",\"Juice\",\"Cake\",\"Bakewell\",\"Cookies\",\"Sandwich\",\"Coffee\",\"Coffee\",\"Bread\",\"Pastry\",\"Baguette\",\"Brownie\",\"Bread\",\"Cookies\",\"Coffee\",\"Pastry\",\"Coffee\",\"Coffee\",\"Hot chocolate\",\"Bread\",\"Coffee\",\"Coffee\",\"Pastry\",\"Tea\",\"Coffee\",\"Pastry\",\"Muffin\",\"Coffee\",\"Tea\",\"Soup\",\"Cookies\",\"Brownie\",\"Baguette\",\"Baguette\",\"Farm House\",\"Coffee\",\"Coffee\",\"Medialuna\",\"Cookies\",\"Farm House\",\"Coffee\",\"Granola\",\"Bread\",\"Coffee\",\"Spanish Brunch\",\"Cake\",\"Bread\",\"Baguette\",\"The Nomad\",\"Coffee\",\"Farm House\",\"Bread\",\"Juice\",\"Spanish Brunch\",\"Extra Salami or Feta\",\"Coffee\",\"Bread\",\"Granola\",\"Pastry\",\"Bread\",\"Coffee\",\"Pastry\",\"Bread\",\"Brownie\",\"Spanish Brunch\",\"Coffee\",\"Smoothies\",\"Bread\",\"Coffee\",\"Pastry\",\"Scone\",\"Hot chocolate\",\"Coffee\",\"Sandwich\",\"Toast\",\"Cake\",\"Bread\",\"Pastry\",\"Coffee\",\"Bread\",\"Hot chocolate\",\"Tea\",\"Alfajores\",\"Medialuna\",\"Tea\",\"Bread\",\"Sandwich\",\"Juice\",\"Truffles\",\"Coffee\",\"Medialuna\",\"Scone\",\"Bread\",\"Coffee\",\"Sandwich\",\"Medialuna\",\"Coffee\",\"Bread\",\"Pastry\",\"Frittata\",\"Frittata\",\"Bread\",\"Coffee\",\"Soup\",\"Sandwich\",\"Coffee\",\"Sandwich\",\"Salad\",\"Salad\",\"Bread\",\"Fudge\",\"Jam\",\"Tea\",\"Hot chocolate\",\"Cake\",\"Medialuna\",\"Bakewell\",\"Hot chocolate\",\"Toast\",\"Chicken Stew\",\"Coffee\",\"Tea\",\"Pastry\",\"Cookies\",\"Cake\",\"Baguette\",\"Bread\",\"Tea\",\"Cake\",\"Chicken Stew\",\"Spanish Brunch\",\"Coffee\",\"Hot chocolate\",\"Bakewell\",\"Bread\",\"Medialuna\",\"Cake\",\"Scone\",\"Medialuna\",\"Coffee\",\"Tea\",\"Coffee\",\"Medialuna\",\"Bread\",\"Pastry\",\"Coffee\",\"Bread\",\"Pastry\",\"Bread\",\"Bread\",\"Bread\",\"Bread\",\"Pastry\",\"Pastry\",\"Coffee\",\"Bread\",\"Farm House\",\"Jam\",\"Scandinavian\",\"Coffee\",\"Cookies\",\"Pastry\",\"Coffee\",\"Sandwich\",\"Coffee\",\"Cookies\",\"Coffee\",\"Pastry\",\"Coffee\",\"Bread\",\"Coffee\",\"Bread\",\"Soup\",\"Bread\",\"Jam\",\"Fudge\",\"Juice\",\"Baguette\",\"Soup\",\"Soup\",\"Chicken Stew\",\"Coffee\",\"Tea\",\"Coke\",\"Sandwich\",\"Soup\",\"Bread\",\"Soup\",\"Hot chocolate\",\"Coffee\",\"Cake\",\"Coffee\",\"Pastry\",\"Bread\",\"Farm House\",\"Coffee\",\"Toast\",\"Cake\",\"Coffee\",\"Coffee\",\"Bread\",\"Cake\",\"Hot chocolate\",\"Coffee\",\"Tea\",\"Hot chocolate\",\"Cookies\",\"Hot chocolate\",\"Coffee\",\"Scandinavian\",\"Bread\",\"Bread\",\"Bread\",\"Toast\",\"Bread\",\"Brownie\",\"Pastry\",\"Bread\",\"Tea\",\"Sandwich\",\"Coffee\",\"Coffee\",\"Bread\",\"Coffee\",\"Juice\",\"Cake\",\"Coffee\",\"Spanish Brunch\",\"Coffee\",\"Coffee\",\"Brownie\",\"Baguette\",\"Pastry\",\"Cake\",\"Coffee\",\"Hot chocolate\",\"Coffee\",\"Farm House\",\"Tea\",\"Toast\",\"Tea\",\"Coffee\",\"Pastry\",\"Bread\",\"Pastry\",\"Coffee\",\"Tea\",\"Sandwich\",\"Bread\",\"Farm House\",\"Cookies\",\"Tea\",\"Cake\",\"Bakewell\",\"Coffee\",\"Bread\",\"Coffee\",\"Bread\",\"Coffee\",\"Coffee\",\"Cookies\",\"Baguette\",\"Coffee\",\"Cookies\",\"Cake\",\"Spanish Brunch\",\"Tea\",\"Coffee\",\"Sandwich\",\"Cake\",\"Coffee\",\"Cake\",\"Bread\",\"Baguette\",\"Bread\",\"Coke\",\"Salad\",\"Bread\",\"Soup\",\"Coffee\",\"Sandwich\",\"Brownie\",\"Bread\",\"Chicken Stew\",\"Juice\",\"Coke\",\"Baguette\",\"Soup\",\"Tea\",\"Coffee\",\"Sandwich\",\"Cookies\",\"Coffee\",\"Tea\",\"Coke\",\"Toast\",\"Cake\",\"Coffee\",\"Cake\",\"The Nomad\",\"Coffee\",\"Bread\",\"Cookies\",\"Hot chocolate\",\"Tea\",\"Cake\",\"Pastry\",\"Tea\",\"Coffee\",\"Cake\",\"Tea\",\"Bread\",\"Brownie\",\"Coffee\",\"Cake\",\"Cookies\",\"Bread\",\"Bread\",\"Coffee\",\"Bread\",\"Bread\",\"Pastry\",\"Bread\",\"Bread\",\"Coffee\",\"Toast\",\"Farm House\",\"Cake\",\"Coffee\",\"Bread\",\"Bread\",\"Hot chocolate\",\"Coffee\",\"Coffee\",\"Bread\",\"Coffee\",\"Cake\",\"Cake\",\"Coffee\",\"Bread\",\"Sandwich\",\"Toast\",\"Coffee\",\"Medialuna\",\"Coffee\",\"Bread\",\"Alfajores\",\"Bakewell\",\"Tea\",\"Coffee\",\"Bread\",\"Bread\",\"Coffee\",\"Bread\",\"Bread\",\"Coffee\",\"Bread\",\"Baguette\",\"Pastry\",\"Bread\",\"Pastry\",\"Baguette\",\"Bread\",\"Bread\",\"Pastry\",\"Tea\",\"Coffee\",\"Cake\",\"Bread\",\"Sandwich\",\"Coke\",\"Coke\",\"Cake\",\"Hot chocolate\",\"Coffee\",\"Pastry\",\"Bread\",\"Spanish Brunch\",\"Chicken Stew\",\"Tea\",\"Cookies\",\"Cake\",\"Coffee\",\"Coffee\",\"Bread\",\"Bread\",\"Sandwich\",\"Coffee\",\"Bread\",\"Sandwich\",\"Coffee\",\"Cake\",\"Granola\",\"Extra Salami or Feta\",\"Coffee\",\"Soup\",\"Juice\",\"Coffee\",\"Sandwich\",\"Baguette\",\"Coffee\",\"Coffee\",\"Hot chocolate\",\"Coffee\",\"Alfajores\",\"Tea\",\"Coffee\",\"Bread\",\"Cake\",\"Coffee\",\"Cookies\",\"Bread\",\"Bread\",\"Cookies\",\"Tea\",\"Bread\",\"Coffee\",\"Vegan mincepie\",\"Cake\",\"Bread\",\"Coffee\",\"Hot chocolate\",\"Bread\",\"Juice\",\"Cookies\",\"Brownie\",\"Alfajores\",\"Coffee\",\"Tea\",\"Truffles\",\"Cookies\",\"Coffee\",\"Coke\",\"Bread\",\"Coffee\",\"Bread\",\"Toast\",\"Bread\",\"Coffee\",\"Cookies\",\"Coffee\",\"Bread\",\"Farm House\",\"Bread\",\"Coffee\",\"Cookies\",\"Baguette\",\"Bread\",\"Alfajores\",\"Juice\",\"Hot chocolate\",\"Coffee\",\"Tea\",\"Pastry\",\"Brownie\",\"Coffee\",\"Bread\",\"Cake\",\"Coffee\",\"Coffee\",\"Cake\",\"Bread\",\"Bread\",\"Juice\",\"Tea\",\"Bread\",\"Cake\",\"Tea\",\"Bread\",\"Cookies\",\"Sandwich\",\"Juice\",\"Bread\",\"Cake\",\"Coke\",\"Alfajores\",\"Hot chocolate\",\"Cake\",\"Sandwich\",\"Tea\",\"Cake\",\"Pastry\",\"Bread\",\"Coffee\",\"Soup\",\"Farm House\",\"Sandwich\",\"Bread\",\"Tea\",\"Mineral water\",\"Soup\",\"Cake\",\"Bread\",\"Chicken Stew\",\"Sandwich\",\"Coffee\",\"Medialuna\",\"Jam\",\"Scandinavian\",\"Cake\",\"Juice\",\"Coffee\",\"Bare Popcorn\",\"Salad\",\"Extra Salami or Feta\",\"Spanish Brunch\",\"Farm House\",\"Bare Popcorn\",\"Valentine's card\",\"Tea\",\"Sandwich\",\"Bread\",\"Cake\",\"Tea\",\"Spanish Brunch\",\"Chicken Stew\",\"Fudge\",\"Alfajores\",\"Coffee\",\"Coffee\",\"Pastry\",\"Bread\",\"Bread\",\"Alfajores\",\"Coffee\",\"Cookies\",\"Bread\",\"Coffee\",\"Coffee\",\"Juice\",\"Cake\",\"Alfajores\",\"Hot chocolate\",\"Coke\",\"Sandwich\",\"Bread\",\"Baguette\",\"Coffee\",\"Bread\",\"Cookies\",\"Juice\",\"Coffee\",\"Cake\",\"Bread\",\"Bread\",\"Bread\",\"Toast\",\"Bread\",\"Tea\",\"Toast\",\"Cake\",\"Toast\",\"Bread\",\"Cookies\",\"Coffee\",\"Toast\",\"Bread\",\"Pastry\",\"Bread\",\"Hot chocolate\",\"Medialuna\",\"Farm House\",\"Coffee\",\"Farm House\",\"Gingerbread syrup\",\"Coffee\",\"Bread\",\"Pastry\",\"Alfajores\",\"Coffee\",\"Sandwich\",\"Baguette\",\"Coffee\",\"Medialuna\",\"Bread\",\"Scandinavian\",\"Cookies\",\"Bread\",\"Coke\",\"Medialuna\",\"Pastry\",\"Coffee\",\"Tea\",\"Toast\",\"Alfajores\",\"Bread\",\"Coffee\",\"Bread\",\"Coffee\",\"Bread\",\"Sandwich\",\"Coffee\",\"Alfajores\",\"Truffles\",\"Juice\",\"Coffee\",\"Bread\",\"Pastry\",\"Scone\",\"Scandinavian\",\"Bread\",\"Bread\",\"Tea\",\"Soup\",\"Soup\",\"Truffles\",\"Soup\",\"Scone\",\"Tea\",\"Truffles\",\"Sandwich\",\"Soup\",\"Coffee\",\"Cake\",\"Soup\",\"Coffee\",\"Toast\",\"Bread\",\"Bread\",\"Tea\",\"Bread\",\"Coffee\",\"Chicken Stew\",\"Toast\",\"Bread\",\"Sandwich\",\"Coffee\",\"Cake\",\"Cake\",\"Cookies\",\"Bread\",\"Coffee\",\"Hot chocolate\",\"Juice\",\"Truffles\",\"Mineral water\",\"Sandwich\",\"Coffee\",\"Sandwich\",\"Coffee\",\"Bread\",\"Tea\",\"Coffee\",\"Bread\",\"Afternoon with the baker\",\"Tea\",\"Cookies\",\"Coffee\",\"Soup\",\"Soup\",\"Coffee\",\"Farm House\",\"Coffee\",\"Cake\",\"Coffee\",\"Coffee\",\"Coffee\",\"Tea\",\"Bread\",\"Eggs\",\"Baguette\",\"Scandinavian\",\"Coffee\",\"Bread\",\"Coffee\",\"Scone\",\"Eggs\",\"Hot chocolate\",\"Coffee\",\"Alfajores\",\"Bread\",\"Tea\",\"Coffee\",\"Coffee\",\"Cake\",\"Pastry\",\"Baguette\",\"Coffee\",\"Toast\",\"Extra Salami or Feta\",\"Coffee\",\"Bread\",\"Pastry\",\"Scandinavian\",\"Pastry\",\"Coffee\",\"Coffee\",\"Cookies\",\"Coffee\",\"Farm House\",\"Farm House\",\"Cake\",\"Coffee\",\"Coffee\",\"Coffee\",\"Bread\",\"Pastry\",\"Bread\",\"Toast\",\"Truffles\",\"Bread\",\"Bread\",\"Jam\",\"Coffee\",\"Coffee\",\"Bread\",\"Coffee\",\"Tea\",\"Coffee\",\"Cake\",\"Coffee\",\"Brownie\",\"Farm House\",\"Coffee\",\"Sandwich\",\"Coffee\",\"Farm House\",\"Pastry\",\"Tea\",\"Truffles\",\"Bread\",\"Bread\",\"Hot chocolate\",\"Bread\",\"Baguette\",\"Bread\",\"Bread\",\"Scandinavian\",\"Farm House\",\"Pastry\",\"Bread\",\"Sandwich\",\"Bread\",\"Baguette\",\"Coffee\",\"Hot chocolate\",\"Cake\",\"Coffee\",\"Pastry\",\"Coffee\",\"Coffee\",\"Cake\",\"Brownie\",\"The Nomad\",\"Granola\",\"Coffee\",\"Cookies\",\"Pastry\",\"Scone\",\"Tea\",\"Coffee\",\"Bread\",\"Fudge\",\"Cookies\",\"Scandinavian\",\"Alfajores\",\"Scone\",\"Coffee\",\"Bread\",\"Pastry\",\"Coffee\",\"Tea\",\"Alfajores\",\"Pastry\",\"Pastry\",\"Coffee\",\"Sandwich\",\"Cake\",\"Medialuna\",\"Bread\",\"Coffee\",\"Brownie\",\"Cake\",\"Cake\",\"Cookies\",\"Tea\",\"Smoothies\",\"Coffee\",\"Tea\",\"Coffee\",\"Truffles\",\"Bread\",\"Brownie\",\"Coffee\",\"Spanish Brunch\",\"Scandinavian\",\"Cookies\",\"Coffee\",\"Mineral water\",\"Bread\",\"Spanish Brunch\",\"Juice\",\"Coffee\",\"Toast\",\"Scone\",\"Tea\",\"Sandwich\",\"Brownie\",\"Coffee\",\"Sandwich\",\"Bread\",\"Coffee\",\"Bread\",\"Coffee\",\"Chicken Stew\",\"Soup\",\"Sandwich\",\"Sandwich\",\"Salad\",\"Coffee\",\"Cake\",\"Cake\",\"Coffee\",\"Cake\",\"Scone\",\"Scone\",\"Coffee\",\"Cake\",\"Cake\",\"Brownie\",\"Salad\",\"Sandwich\",\"Tea\",\"Scone\",\"Cookies\",\"Chicken Stew\",\"Truffles\",\"Juice\",\"Coffee\",\"Alfajores\",\"Spanish Brunch\",\"Coffee\",\"Hot chocolate\",\"Coffee\",\"Cake\",\"Coffee\",\"Cake\",\"Cake\",\"Coffee\",\"Hot chocolate\",\"Sandwich\",\"Cookies\",\"Brownie\",\"Coffee\",\"Bread\",\"Cake\",\"Coffee\",\"Coffee\",\"Salad\",\"Coffee\",\"Cake\",\"Cake\",\"Salad\",\"Valentine's card\",\"Scandinavian\",\"Bread\",\"Coffee\",\"Brownie\",\"Tea\",\"Soup\",\"Juice\",\"Cake\",\"Bread\",\"Bread\",\"Cake\",\"Soup\",\"Bread\",\"Coffee\",\"Cake\",\"Bread\",\"Alfajores\",\"Truffles\",\"Coffee\",\"Tshirt\",\"Coffee\",\"Hot chocolate\",\"Coffee\",\"Juice\",\"Juice\",\"Truffles\",\"Mineral water\",\"Tshirt\",\"Tshirt\",\"Tea\",\"Hot chocolate\",\"Tshirt\",\"Bread\",\"Hot chocolate\",\"Tshirt\",\"Vegan Feast\",\"Tea\",\"Postcard\",\"Coffee\",\"Tshirt\",\"Coke\",\"Coke\",\"Tshirt\",\"Coke\",\"Truffles\",\"Tshirt\",\"Tshirt\",\"Tea\",\"Coke\",\"Tshirt\",\"Fudge\",\"Hot chocolate\",\"Coffee\",\"Tshirt\",\"Valentine's card\",\"Tshirt\",\"Tshirt\",\"Tshirt\",\"Postcard\",\"Tshirt\",\"Valentine's card\",\"Tshirt\",\"Postcard\",\"Valentine's card\",\"Valentine's card\",\"Postcard\",\"Nomad bag\",\"Postcard\",\"Tshirt\",\"Tshirt\",\"Postcard\",\"Tshirt\",\"Postcard\",\"Postcard\",\"Postcard\",\"Tshirt\",\"Tshirt\",\"Postcard\",\"Coffee\",\"Pastry\",\"Farm House\",\"Tea\",\"Coffee\",\"Pastry\",\"Scone\",\"Coffee\",\"Medialuna\",\"Coffee\",\"Bread\",\"Hot chocolate\",\"Bread\",\"Tea\",\"Pastry\",\"Bread\",\"Coffee\",\"Tea\",\"Coffee\",\"Hot chocolate\",\"Medialuna\",\"Scone\",\"Alfajores\",\"Spanish Brunch\",\"Bread\",\"Coffee\",\"Alfajores\",\"Cookies\",\"Sandwich\",\"Coffee\",\"Scone\",\"Scone\",\"Coffee\",\"Coffee\",\"Hot chocolate\",\"Farm House\",\"Bread\",\"Coffee\",\"Hot chocolate\",\"Coffee\",\"Cookies\",\"Brownie\",\"Pastry\",\"Baguette\",\"Coffee\",\"Cake\",\"Coffee\",\"Coffee\",\"Tea\",\"Medialuna\",\"Cookies\",\"Bread\",\"Fudge\",\"Alfajores\",\"Coffee\",\"Tea\",\"Sandwich\",\"Spanish Brunch\",\"Bread\",\"Cake\",\"Alfajores\",\"Bread\",\"Coffee\",\"Bread\",\"Pastry\",\"Salad\",\"Coffee\",\"Coffee\",\"Bread\",\"Cookies\",\"Alfajores\",\"Sandwich\",\"Coffee\",\"Pastry\",\"Bread\",\"Coffee\",\"Pastry\",\"Sandwich\",\"Coffee\",\"Coke\",\"Bread\",\"Scone\",\"Alfajores\",\"Brownie\",\"Bread\",\"Scandinavian\",\"Coffee\",\"Cake\",\"Bread\",\"Cake\",\"Pastry\",\"Bread\",\"Cookies\",\"Cake\",\"Hot chocolate\",\"Tea\",\"Alfajores\",\"Bread\",\"Coffee\",\"Cookies\",\"Cake\",\"Scandinavian\",\"Coffee\",\"Cake\",\"Alfajores\",\"Coffee\",\"Chicken Stew\",\"Sandwich\",\"Fudge\",\"Coffee\",\"Sandwich\",\"Fudge\",\"Baguette\",\"Coffee\",\"Tea\",\"Cake\",\"Coffee\",\"Tea\",\"Tea\",\"Bread\",\"Bread\",\"Coffee\",\"Tea\",\"Coffee\",\"Sandwich\",\"Bread\",\"Bread\",\"Spanish Brunch\",\"Chicken Stew\",\"Coffee\",\"Coffee\",\"Cookies\",\"Cake\",\"Hot chocolate\",\"Bread\",\"Coffee\",\"Coffee\",\"Bread\",\"Tea\",\"Medialuna\",\"Coffee\",\"Bread\",\"Bread\",\"Coffee\",\"Coffee\",\"Tea\",\"Bread\",\"Coffee\",\"Pastry\",\"Coffee\",\"Baguette\",\"Bread\",\"Pastry\",\"Pastry\",\"Cookies\",\"Coffee\",\"Coffee\",\"Sandwich\",\"Jam\",\"Bread\",\"Pastry\",\"Coffee\",\"Coffee\",\"Coffee\",\"Medialuna\",\"Cookies\",\"Bread\",\"Farm House\",\"Bread\",\"Cake\",\"Coffee\",\"Bread\",\"Coffee\",\"Pastry\",\"Coffee\",\"Coffee\",\"Toast\",\"Bread\",\"Coffee\",\"Hot chocolate\",\"Coffee\",\"Toast\",\"Bread\",\"Coffee\",\"Tea\",\"Cake\",\"Scone\",\"Pastry\",\"Bread\",\"Sandwich\",\"Baguette\",\"Bread\",\"Bread\",\"Sandwich\",\"Coffee\",\"Soup\",\"Coffee\",\"Coffee\",\"Truffles\",\"Scone\",\"Coffee\",\"Mineral water\",\"Sandwich\",\"Spanish Brunch\",\"Alfajores\",\"Truffles\",\"Tea\",\"Bread\",\"Coffee\",\"Bread\",\"Fudge\",\"Fudge\",\"Truffles\",\"Cake\",\"Coffee\",\"Cake\",\"Juice\",\"Truffles\",\"Coffee\",\"Sandwich\",\"Spanish Brunch\",\"Brownie\",\"Medialuna\",\"Tea\",\"Brownie\",\"Soup\",\"Coffee\",\"Cake\",\"Chicken Stew\",\"Tea\",\"Cake\",\"Bread\",\"Cookies\",\"Tea\",\"Coffee\",\"Juice\",\"Alfajores\",\"Bread\",\"Brownie\",\"Coffee\",\"Juice\",\"Farm House\",\"Juice\",\"Cookies\",\"Brownie\",\"Tea\",\"Coffee\",\"Cake\",\"Brownie\",\"Coffee\",\"Coffee\",\"Scone\",\"Tea\",\"Brownie\",\"Toast\",\"Bread\",\"Pastry\",\"Medialuna\",\"Hot chocolate\",\"Coffee\",\"Bread\",\"Sandwich\",\"Coffee\",\"Bread\",\"Farm House\",\"Hot chocolate\",\"Hot chocolate\",\"Hot chocolate\",\"Tea\",\"Toast\",\"Baguette\",\"Coffee\",\"Scandinavian\",\"Bread\",\"Nomad bag\",\"Bread\",\"Bread\",\"Pastry\",\"Bread\",\"Coffee\",\"Coffee\",\"Cake\",\"Bread\",\"Coffee\",\"Coffee\",\"Pastry\",\"Brownie\",\"Coffee\",\"Pastry\",\"Bread\",\"Salad\",\"Coffee\",\"Bread\",\"Coffee\",\"Coffee\",\"Cake\",\"Alfajores\",\"Coffee\",\"Coffee\",\"Bread\",\"Eggs\",\"Tea\",\"Bread\",\"Farm House\",\"Coffee\",\"Alfajores\",\"Coffee\",\"Pastry\",\"Juice\",\"Chicken Stew\",\"Chicken Stew\",\"Chocolates\",\"Soup\",\"Coffee\",\"Chicken Stew\",\"Juice\",\"Eggs\",\"Bread\",\"Cake\",\"Cake\",\"Coffee\",\"Hot chocolate\",\"Coffee\",\"Cake\",\"Farm House\",\"Bread\",\"Baguette\",\"Soup\",\"Spanish Brunch\",\"Tea\",\"Coffee\",\"Cake\",\"Tea\",\"Spanish Brunch\",\"Coffee\",\"Brownie\",\"Truffles\",\"Hot chocolate\",\"Cake\",\"Bread\",\"Alfajores\",\"Tea\",\"Bread\",\"Coffee\",\"Alfajores\",\"Bread\",\"Smoothies\",\"Mineral water\",\"Alfajores\",\"Brownie\",\"Cake\",\"Coffee\",\"Tea\",\"Cake\",\"Baguette\",\"Sandwich\",\"Tea\",\"Coffee\",\"Alfajores\",\"Bread\",\"Bread\",\"Pastry\",\"Pastry\",\"Bread\",\"Eggs\",\"Nomad bag\",\"Coffee\",\"Alfajores\",\"Coffee\",\"Bread\",\"Coffee\",\"Bread\",\"Coffee\",\"Bread\",\"Spanish Brunch\",\"Coffee\",\"Coffee\",\"Pastry\",\"Medialuna\",\"Mineral water\",\"Crisps\",\"Sandwich\",\"Coffee\",\"Bread\",\"Alfajores\",\"Pastry\",\"Medialuna\",\"Bread\",\"Tea\",\"Coffee\",\"Baguette\",\"Farm House\",\"Farm House\",\"Bread\",\"Chicken Stew\",\"Chocolates\",\"Coffee\",\"Tea\",\"Tea\",\"Sandwich\",\"Brownie\",\"Brownie\",\"Tea\",\"Sandwich\",\"Art Tray\",\"Sandwich\",\"Soup\",\"Tea\",\"Soup\",\"Coffee\",\"Hot chocolate\",\"Brownie\",\"Soup\",\"Cake\",\"Cake\",\"Bread\",\"Coffee\",\"Coffee\",\"Soup\",\"Chicken Stew\",\"Mineral water\",\"Coffee\",\"Bread\",\"Bread\",\"Coffee\",\"Coffee\",\"Pastry\",\"Tea\",\"Coffee\",\"Bread\",\"Coffee\",\"Sandwich\",\"Bread\",\"Coffee\",\"Bread\",\"Mineral water\",\"Sandwich\",\"Tea\",\"Bread\",\"Cake\",\"Coffee\",\"Tea\",\"Brownie\",\"Bread\",\"Hot chocolate\",\"Coffee\",\"Cake\",\"Coffee\",\"Tea\",\"Bread\",\"Coffee\",\"Cookies\",\"Bread\",\"Toast\",\"Bread\",\"Coffee\",\"Pastry\",\"Farm House\",\"Scandinavian\",\"Coffee\",\"Brownie\",\"Bread\",\"Hot chocolate\",\"Coffee\",\"Toast\",\"Coffee\",\"Coffee\",\"Tea\",\"Brownie\",\"Farm House\",\"Coffee\",\"Cookies\",\"Toast\",\"Juice\",\"Valentine's card\",\"Coffee\",\"Extra Salami or Feta\",\"Bread\",\"Valentine's card\",\"Hot chocolate\",\"Coffee\",\"Cookies\",\"Coffee\",\"Medialuna\",\"Sandwich\",\"Bread\",\"Bread\",\"Bread\",\"Soup\",\"Bread\",\"Coffee\",\"Coffee\",\"Soup\",\"Pastry\",\"Jam\",\"Eggs\",\"Coffee\",\"Baguette\",\"Coffee\",\"Bread\",\"Pastry\",\"Scandinavian\",\"Cookies\",\"Coke\",\"Soup\",\"Sandwich\",\"Coffee\",\"Coke\",\"Sandwich\",\"Coffee\",\"Chicken Stew\",\"Chicken Stew\",\"Coffee\",\"Juice\",\"Toast\",\"Sandwich\",\"Tea\",\"Coffee\",\"Cookies\",\"Alfajores\",\"Hot chocolate\",\"Cookies\",\"Juice\",\"Sandwich\",\"Cake\",\"Soup\",\"Bread\",\"Coffee\",\"Fudge\",\"Sandwich\",\"Baguette\",\"Coffee\",\"Pastry\",\"Medialuna\",\"Cake\",\"Tea\",\"Bread\",\"Coffee\",\"Brownie\",\"Soup\",\"Bread\",\"Cake\",\"Tea\",\"Coffee\",\"Juice\",\"Hot chocolate\",\"Cake\",\"Alfajores\",\"Bread\",\"Coffee\",\"Bread\",\"Cookies\",\"Bread\",\"Bread\",\"Cake\",\"Bread\",\"Coffee\",\"Bread\",\"Coffee\",\"Tea\",\"Bread\",\"Coffee\",\"Juice\",\"Pastry\",\"Cookies\",\"Bread\",\"Pastry\",\"Bread\",\"Coffee\",\"Cookies\",\"Hot chocolate\",\"Coffee\",\"Hot chocolate\",\"Coffee\",\"Cookies\",\"Coffee\",\"Coffee\",\"Toast\",\"Valentine's card\",\"Tea\",\"Bread\",\"Bread\",\"Coffee\",\"Bread\",\"Juice\",\"Sandwich\",\"Cookies\",\"Alfajores\",\"Soup\",\"Soup\",\"Scone\",\"Coffee\",\"Truffles\",\"Soup\",\"Chicken Stew\",\"Cake\",\"Juice\",\"Bread\",\"Scandinavian\",\"Coffee\",\"Sandwich\",\"Coffee\",\"Truffles\",\"Cake\",\"Bread\",\"Pastry\",\"Bread\",\"Toast\",\"Bread\",\"Bread\",\"Chicken Stew\",\"Sandwich\",\"Coke\",\"Coffee\",\"Cake\",\"Salad\",\"Extra Salami or Feta\",\"Scandinavian\",\"Bread\",\"Scandinavian\",\"Coffee\",\"Salad\",\"Truffles\",\"Duck egg\",\"Extra Salami or Feta\",\"Spanish Brunch\",\"Afternoon with the baker\",\"Medialuna\",\"Tea\",\"Soup\",\"Cake\",\"Bread\",\"Scone\",\"Soup\",\"Coffee\",\"Medialuna\",\"Cake\",\"Spanish Brunch\",\"The Nomad\",\"Cookies\",\"Bread\",\"Coffee\",\"Coffee\",\"Coffee\",\"Chicken Stew\",\"Coffee\",\"Coffee\",\"Alfajores\",\"Pastry\",\"Coffee\",\"Coffee\",\"Coffee\",\"Brownie\",\"Soup\",\"Coffee\",\"Tea\",\"Cookies\",\"Bread\",\"Bread\",\"Baguette\",\"Coffee\",\"Tea\",\"Spanish Brunch\",\"Coffee\",\"Cake\",\"Cookies\",\"Juice\",\"Coffee\",\"Cookies\",\"Tea\",\"Alfajores\",\"Cake\",\"Cookies\",\"Coffee\",\"Hot chocolate\",\"Bread\",\"Coffee\",\"Coffee\",\"Scone\",\"Brownie\",\"Coffee\",\"Baguette\",\"Coffee\",\"Bread\",\"Scone\",\"Coffee\",\"Medialuna\",\"Bread\",\"Bread\",\"Farm House\",\"Nomad bag\",\"Bread\",\"Pastry\",\"Toast\",\"Pastry\",\"Tea\",\"Coffee\",\"Scone\",\"Pastry\",\"Cake\",\"Tea\",\"Toast\",\"Baguette\",\"Bread\",\"Tea\",\"Toast\",\"Coffee\",\"Hot chocolate\",\"Bread\",\"Pastry\",\"Tea\",\"Scandinavian\",\"Pastry\",\"Alfajores\",\"Fudge\",\"Tea\",\"Pastry\",\"Toast\",\"Bread\",\"Brownie\",\"Cake\",\"Coffee\",\"The Nomad\",\"Cookies\",\"Cake\",\"Bread\",\"Coffee\",\"Bread\",\"Coffee\",\"Pastry\",\"Cookies\",\"Cake\",\"Bread\",\"Bread\",\"Coffee\",\"Pastry\",\"Spanish Brunch\",\"Coffee\",\"Juice\",\"Coffee\",\"Bread\",\"Toast\",\"Coffee\",\"Bread\",\"Coffee\",\"Bread\",\"Coffee\",\"Baguette\",\"Tea\",\"Scone\",\"Coffee\",\"Hot chocolate\",\"Bread\",\"Bread\",\"Bread\",\"Cookies\",\"Chicken Stew\",\"Sandwich\",\"Hot chocolate\",\"Bread\",\"Soup\",\"The Nomad\",\"Truffles\",\"Baguette\",\"Pastry\",\"Bread\",\"Cake\",\"Soup\",\"Coffee\",\"Bread\",\"Bread\",\"Coffee\",\"Bread\",\"Cake\",\"Soup\",\"Chicken Stew\",\"Coffee\",\"Tea\",\"Hot chocolate\",\"Nomad bag\",\"Bread\",\"Coffee\",\"Cake\",\"Bread\",\"Spanish Brunch\",\"The Nomad\",\"Tea\",\"Juice\",\"Art Tray\",\"Cake\",\"Alfajores\",\"Hot chocolate\",\"Alfajores\",\"Brownie\",\"Coffee\",\"Hot chocolate\",\"Bread\",\"Cake\",\"Cake\",\"Bread\",\"Chicken Stew\",\"Coffee\",\"Brownie\",\"Valentine's card\",\"Bread\",\"Bread\",\"Coffee\",\"Chicken Stew\",\"Pastry\",\"Tea\",\"Bread\",\"Soup\",\"Spanish Brunch\",\"Sandwich\",\"Coffee\",\"Tea\",\"Coffee\",\"Tea\",\"Coffee\",\"Juice\",\"Coffee\",\"Cake\",\"Pastry\",\"Bread\",\"Hot chocolate\",\"Sandwich\",\"Bread\",\"Bread\",\"Tea\",\"Cake\",\"Afternoon with the baker\",\"Bread\",\"Bread\",\"Scandinavian\",\"Tea\",\"Cake\",\"Medialuna\",\"Coffee\",\"Scandinavian\",\"Scandinavian\",\"Bread\",\"Soup\",\"Cake\",\"Bread\",\"Cookies\",\"Eggs\",\"Juice\",\"Coffee\",\"Coffee\",\"Tea\",\"Pastry\",\"Medialuna\",\"Coffee\",\"Coffee\",\"Toast\",\"Pastry\",\"Bread\",\"Coffee\",\"Pastry\",\"Cookies\",\"Bread\",\"Bread\",\"Pastry\",\"Medialuna\",\"Baguette\",\"Coffee\",\"Scone\",\"Bread\",\"Coffee\",\"Bread\",\"Bread\",\"Coffee\",\"Scone\",\"Bread\",\"Baguette\",\"Hot chocolate\",\"Coffee\",\"Toast\",\"Coffee\",\"Coffee\",\"Bread\",\"Cake\",\"Coffee\",\"Coffee\",\"Scone\",\"Cake\",\"Scone\",\"Bread\",\"Baguette\",\"Cake\",\"Coffee\",\"Spanish Brunch\",\"Bread\",\"Pastry\",\"Brownie\",\"Toast\",\"Bread\",\"Bread\",\"Farm House\",\"Spanish Brunch\",\"Cake\",\"Bread\",\"Coffee\",\"Coffee\",\"Cake\",\"Bread\",\"Coffee\",\"Tea\",\"Cake\",\"Hot chocolate\",\"Soup\",\"Tea\",\"Alfajores\",\"Bread\",\"Cake\",\"Bread\",\"Coffee\",\"Coffee\",\"Tea\",\"Toast\",\"Duck egg\",\"Extra Salami or Feta\",\"Chicken Stew\",\"Cookies\",\"Brownie\",\"Bread\",\"Bread\",\"Coffee\",\"Sandwich\",\"Coffee\",\"Cake\",\"Brownie\",\"Bread\",\"Coffee\",\"Alfajores\",\"Cake\",\"Brownie\",\"Coffee\",\"Brownie\",\"Afternoon with the baker\",\"Afternoon with the baker\",\"Bread\",\"Coffee\",\"Medialuna\",\"Baguette\",\"Coffee\",\"Hot chocolate\",\"Toast\",\"Coffee\",\"Bread\",\"Medialuna\",\"Alfajores\",\"Alfajores\",\"Medialuna\",\"Coffee\",\"Bread\",\"Focaccia\",\"Bread\",\"Coffee\",\"Coffee\",\"Coffee\",\"Hot chocolate\",\"Coffee\",\"Juice\",\"Coffee\",\"Pastry\",\"Pastry\",\"Coffee\",\"Scandinavian\",\"Juice\",\"Chocolates\",\"Hot chocolate\",\"Coffee\",\"Bread\",\"Cookies\",\"Tea\",\"Coffee\",\"Bread\",\"Coffee\",\"Brownie\",\"Farm House\",\"Bread\",\"Cookies\",\"Coffee\",\"Coffee\",\"Coffee\",\"Coffee\",\"Scone\",\"Cake\",\"Farm House\",\"Juice\",\"Coffee\",\"Cookies\",\"Scone\",\"Coffee\",\"Bread\",\"Bread\",\"Cookies\",\"Coffee\",\"Cookies\",\"Cake\",\"Truffles\",\"Baguette\",\"Bread\",\"Tea\",\"Farm House\",\"Coffee\",\"Soup\",\"Coffee\",\"Tea\",\"Sandwich\",\"Soup\",\"Tea\",\"Coke\",\"Juice\",\"Coffee\",\"Chicken Stew\",\"Sandwich\",\"Cookies\",\"Cake\",\"Truffles\",\"Bread\",\"Sandwich\",\"Soup\",\"Cake\",\"Coffee\",\"Cookies\",\"Coke\",\"Truffles\",\"Salad\",\"Chicken Stew\",\"Medialuna\",\"Brownie\",\"Coffee\",\"Alfajores\",\"Cookies\",\"Coffee\",\"Bread\",\"Soup\",\"Sandwich\",\"Bread\",\"Alfajores\",\"Bread\",\"Tea\",\"Sandwich\",\"Alfajores\",\"Bread\",\"Coffee\",\"Sandwich\",\"Truffles\",\"Tea\",\"Cake\",\"Farm House\",\"Coffee\",\"Tea\",\"Coffee\",\"Soup\",\"Cake\",\"Bread\",\"Coffee\",\"Chicken Stew\",\"Coffee\",\"Coffee\",\"Bread\",\"Coffee\",\"Tea\",\"Toast\",\"Coffee\",\"Tea\",\"Hot chocolate\",\"Cake\",\"Eggs\",\"Fudge\",\"Bread\",\"Bread\",\"Coffee\",\"Bread\",\"Cake\",\"Alfajores\",\"Coffee\",\"Bread\",\"Afternoon with the baker\",\"Medialuna\",\"Alfajores\",\"Coffee\",\"Coffee\",\"Bread\",\"Mineral water\",\"Toast\",\"Bread\",\"Pastry\",\"Tea\",\"Coffee\",\"Tea\",\"Cake\",\"Coffee\",\"Cake\",\"Toast\",\"Coffee\",\"Pastry\",\"Alfajores\",\"Farm House\",\"Hot chocolate\",\"Cake\",\"Hot chocolate\",\"Cake\",\"Bread\",\"Coffee\",\"Tea\",\"Cake\",\"Alfajores\",\"Cookies\",\"Scone\",\"Coffee\",\"Hot chocolate\",\"Coffee\",\"Hot chocolate\",\"Cake\",\"Medialuna\",\"Coffee\",\"Medialuna\",\"Cookies\",\"Coffee\",\"Cake\",\"Bread\",\"Sandwich\",\"Coffee\",\"Bread\",\"Coffee\",\"Cake\",\"Coffee\",\"Coke\",\"Pastry\",\"Salad\",\"Bread\",\"Bread\",\"Cake\",\"Farm House\",\"Cake\",\"Coke\",\"Bread\",\"Cookies\",\"Spanish Brunch\",\"Toast\",\"Coffee\",\"Bread\",\"Tea\",\"Coffee\",\"Hot chocolate\",\"Smoothies\",\"Cookies\",\"Coffee\",\"Juice\",\"Bread\",\"Afternoon with the baker\",\"Coffee\",\"Alfajores\",\"Bread\",\"Soup\",\"Tea\",\"Tea\",\"Alfajores\",\"Bread\",\"Vegan mincepie\",\"Baguette\",\"Alfajores\",\"Baguette\",\"Bread\",\"Coffee\",\"Valentine's card\",\"Valentine's card\",\"Coffee\",\"Toast\",\"Bread\",\"Coffee\",\"Pastry\",\"Bread\",\"Pastry\",\"Coffee\",\"Baguette\",\"Coffee\",\"Tea\",\"The Nomad\",\"Pastry\",\"Bread\",\"Coffee\",\"Bread\",\"Medialuna\",\"Baguette\",\"Hot chocolate\",\"Coffee\",\"Medialuna\",\"Soup\",\"Cake\",\"Bread\",\"Coffee\",\"Bread\",\"Medialuna\",\"Vegan Feast\",\"Sandwich\",\"Truffles\",\"Coffee\",\"Toast\",\"Soup\",\"The Nomad\",\"Coffee\",\"Sandwich\",\"Juice\",\"Soup\",\"Cake\",\"Tea\",\"Bread\",\"Baguette\",\"Coffee\",\"Salad\",\"Art Tray\",\"Alfajores\",\"Coffee\",\"Bread\",\"Bread\",\"Cake\",\"Baguette\",\"Hot chocolate\",\"Alfajores\",\"Coffee\",\"Hot chocolate\",\"Medialuna\",\"Jammie Dodgers\",\"Coffee\",\"Vegan mincepie\",\"Pastry\",\"Hot chocolate\",\"Coffee\",\"Alfajores\",\"Cake\",\"Brownie\",\"Bread\",\"Coffee\",\"Bread\",\"Bread\",\"Cake\",\"Cake\",\"Coffee\",\"Coffee\",\"Farm House\",\"Cookies\",\"Brownie\",\"Coffee\",\"Baguette\",\"Coffee\",\"Medialuna\",\"Alfajores\",\"Hot chocolate\",\"Bread\",\"Pastry\",\"Medialuna\",\"Alfajores\",\"Cake\",\"Coffee\",\"Hot chocolate\",\"Coffee\",\"Cake\",\"Cookies\",\"Spanish Brunch\",\"Duck egg\",\"Coffee\",\"Pastry\",\"Smoothies\",\"Sandwich\",\"Soup\",\"Coffee\",\"Juice\",\"Jammie Dodgers\",\"Chicken Stew\",\"Tea\",\"Hot chocolate\",\"Juice\",\"Toast\",\"Chicken Stew\",\"Tea\",\"Coffee\",\"Coffee\",\"Pastry\",\"Coffee\",\"Cookies\",\"Cake\",\"Coffee\",\"Fudge\",\"Coffee\",\"Cake\",\"Brownie\",\"Alfajores\",\"Cake\",\"Tea\",\"Soup\",\"Hot chocolate\",\"Sandwich\",\"Afternoon with the baker\",\"Soup\",\"Tea\",\"Truffles\",\"Coffee\",\"Brownie\",\"Cake\",\"Sandwich\",\"Cookies\",\"Coffee\",\"Coffee\",\"Juice\",\"Extra Salami or Feta\",\"Salad\",\"Toast\",\"Pastry\",\"Coffee\",\"Muffin\",\"Alfajores\",\"Bread\",\"Baguette\",\"Afternoon with the baker\",\"Brownie\",\"Cookies\",\"Cookies\",\"Farm House\",\"Baguette\",\"Cake\",\"Cake\",\"Bread\",\"Coffee\",\"Tea\",\"Medialuna\",\"Bread\",\"Coffee\",\"Bread\",\"Coffee\",\"Pastry\",\"Medialuna\",\"Jammie Dodgers\",\"Coffee\",\"Bread\",\"Coffee\",\"Spanish Brunch\",\"Tea\",\"Coffee\",\"Spanish Brunch\",\"Bread\",\"Tea\",\"Coffee\",\"Cookies\",\"Bread\",\"Scandinavian\",\"Baguette\",\"Farm House\",\"Bread\",\"Cake\",\"Cookies\",\"Coffee\",\"Coffee\",\"Tea\",\"Scone\",\"Bread\",\"Coffee\",\"Tea\",\"Cake\",\"Pastry\",\"Coffee\",\"Farm House\",\"Juice\",\"Bread\",\"Sandwich\",\"Coke\",\"Bread\",\"Tea\",\"Jammie Dodgers\",\"Tiffin\",\"Bread\",\"Tea\",\"Juice\",\"Coffee\",\"Hot chocolate\",\"Chocolates\",\"Jammie Dodgers\",\"Brownie\",\"Pastry\",\"Juice\",\"Bread\",\"Scone\",\"Cake\",\"Muffin\",\"Brownie\",\"Sandwich\",\"Baguette\",\"Coffee\",\"Coffee\",\"Sandwich\",\"Coffee\",\"Toast\",\"Pastry\",\"Tiffin\",\"Sandwich\",\"Muffin\",\"Bread\",\"Bread\",\"Chicken Stew\",\"Scone\",\"Brownie\",\"Medialuna\",\"Scone\",\"Sandwich\",\"Soup\",\"Coffee\",\"Scandinavian\",\"Bread\",\"Chicken Stew\",\"Tea\",\"Cake\",\"Coffee\",\"Sandwich\",\"Bread\",\"Bread\",\"Scone\",\"Sandwich\",\"Tea\",\"Cake\",\"Tiffin\",\"Baguette\",\"Scandinavian\",\"Coffee\",\"Tea\",\"Coke\",\"Tiffin\",\"Medialuna\",\"Bread\",\"Soup\",\"Chicken Stew\",\"Sandwich\",\"Coffee\",\"Bread\",\"Hot chocolate\",\"Bread\",\"Muffin\",\"Coffee\",\"Scone\",\"Coffee\",\"Hot chocolate\",\"Tea\",\"Coffee\",\"Muffin\",\"Sandwich\",\"Coke\",\"Truffles\",\"Coffee\",\"Baguette\",\"Bread\",\"Medialuna\",\"Brownie\",\"Truffles\",\"Coffee\",\"Mineral water\",\"Hot chocolate\",\"Alfajores\",\"Cake\",\"Mineral water\",\"Coffee\",\"Sandwich\",\"Coffee\",\"Jammie Dodgers\",\"Coffee\",\"Bread\",\"Coffee\",\"Tea\",\"Brownie\",\"Alfajores\",\"Scone\",\"Bread\",\"Tea\",\"Coffee\",\"Cake\",\"Cake\",\"Bread\",\"Muffin\",\"Scone\",\"Cake\",\"Tea\",\"Baguette\",\"Bread\",\"Bread\",\"Pastry\",\"Medialuna\",\"Tea\",\"Coffee\",\"Tea\",\"Bread\",\"Scone\",\"Fudge\",\"Cake\",\"Chocolates\",\"Coffee\",\"Bread\",\"Pastry\",\"Baguette\",\"Bread\",\"Sandwich\",\"Sandwich\",\"Tea\",\"Coffee\",\"Bread\",\"Baguette\",\"Medialuna\",\"Scone\",\"Bread\",\"Nomad bag\",\"Coffee\",\"Coffee\",\"Bread\",\"Coffee\",\"Pastry\",\"Bread\",\"Scandinavian\",\"Cake\",\"Bread\",\"Bread\",\"Bread\",\"Coffee\",\"Bread\",\"Tea\",\"Bread\",\"Tea\",\"Tea\",\"Tea\",\"Scandinavian\",\"Coffee\",\"Bread\",\"Coffee\",\"Coffee\",\"Juice\",\"Spanish Brunch\",\"Alfajores\",\"Sandwich\",\"Eggs\",\"Juice\",\"Coffee\",\"Jammie Dodgers\",\"Bread\",\"Pastry\",\"Bread\",\"Coffee\",\"Coffee\",\"Medialuna\",\"Bread\",\"Eggs\",\"Bread\",\"Pastry\",\"Jam\",\"Bread\",\"Tea\",\"Brownie\",\"Jammie Dodgers\",\"Spanish Brunch\",\"Toast\",\"Cake\",\"Bread\",\"Brownie\",\"Pastry\",\"Bread\",\"Coffee\",\"Coffee\",\"Bread\",\"Scandinavian\",\"Bread\",\"Coffee\",\"Farm House\",\"Bread\",\"Coffee\",\"Toast\",\"Afternoon with the baker\",\"Coffee\",\"Jammie Dodgers\",\"Alfajores\",\"Juice\",\"Hot chocolate\",\"Bread\",\"Coffee\",\"Spanish Brunch\",\"Toast\",\"Sandwich\",\"Bread\",\"Coffee\",\"Bread\",\"Coffee\",\"Jammie Dodgers\",\"Alfajores\",\"Bread\",\"Scone\",\"Sandwich\",\"Coffee\",\"Brownie\",\"Sandwich\",\"Hot chocolate\",\"Smoothies\",\"Tea\",\"Chicken Stew\",\"Spanish Brunch\",\"Farm House\",\"Cake\",\"Coffee\",\"Chicken Stew\",\"Coffee\",\"Bread\",\"Juice\",\"Coffee\",\"Chicken Stew\",\"Granola\",\"Jam\",\"Chicken Stew\",\"Spanish Brunch\",\"Coffee\",\"Coffee\",\"Sandwich\",\"Coffee\",\"Juice\",\"Toast\",\"Sandwich\",\"Coffee\",\"Pastry\",\"Scandinavian\",\"Eggs\",\"Coffee\",\"Cake\",\"Coffee\",\"Cake\",\"Scone\",\"Chicken Stew\",\"Soup\",\"Spanish Brunch\",\"Extra Salami or Feta\",\"Truffles\",\"Coke\",\"Brownie\",\"Farm House\",\"Scandinavian\",\"Scone\",\"Sandwich\",\"Bread\",\"Muffin\",\"Bread\",\"Bread\",\"Brownie\",\"Soup\",\"Coffee\",\"Chicken Stew\",\"Sandwich\",\"Tea\",\"Cake\",\"Spanish Brunch\",\"Chicken Stew\",\"Sandwich\",\"Coffee\",\"Juice\",\"Coffee\",\"Scandinavian\",\"Scone\",\"Hot chocolate\",\"Coffee\",\"Mineral water\",\"Tiffin\",\"Cake\",\"Muffin\",\"Alfajores\",\"Bread\",\"Bread\",\"Jammie Dodgers\",\"Alfajores\",\"Cake\",\"Coffee\",\"Tea\",\"Coffee\",\"Coke\",\"Brownie\",\"Cake\",\"Muffin\",\"Bread\",\"Tiffin\",\"Cookies\",\"Toast\",\"Coffee\",\"Cake\",\"Coffee\",\"Bread\",\"Juice\",\"Hot chocolate\",\"Alfajores\",\"Brownie\",\"Vegan mincepie\",\"Pastry\",\"Medialuna\",\"Bread\",\"Tiffin\",\"Cookies\",\"Toast\",\"Coffee\",\"Smoothies\",\"Coffee\",\"Bread\",\"Spanish Brunch\",\"Cake\",\"Coffee\",\"Smoothies\",\"Juice\",\"Granola\",\"Coffee\",\"Cake\",\"Pastry\",\"Hot chocolate\",\"Coffee\",\"Bread\",\"Bread\",\"Hot chocolate\",\"Brownie\",\"Coffee\",\"Cake\",\"Coffee\",\"Smoothies\",\"Alfajores\",\"Juice\",\"Coffee\",\"Spanish Brunch\",\"Coffee\",\"Tea\",\"Juice\",\"Coffee\",\"Tiffin\",\"Medialuna\",\"Brownie\",\"Mineral water\",\"Coffee\",\"Toast\",\"Bread\",\"Coffee\",\"Medialuna\",\"Spanish Brunch\",\"Bread\",\"Tea\",\"Cake\",\"Coffee\",\"Scone\",\"Coffee\",\"Tea\",\"Medialuna\",\"Toast\",\"Farm House\",\"Tea\",\"Cake\",\"Spanish Brunch\",\"Duck egg\",\"Jam\",\"Bread\",\"Coffee\",\"Pastry\",\"Coffee\",\"Tea\",\"Spanish Brunch\",\"Alfajores\",\"Cake\",\"Bread\",\"Coffee\",\"Tea\",\"Toast\",\"Farm House\",\"Cake\",\"Tea\",\"Pastry\",\"Scone\",\"Tiffin\",\"Tiffin\",\"Bread\",\"Bread\",\"Coffee\",\"Cake\",\"Alfajores\",\"Tiffin\",\"Farm House\",\"Coffee\",\"Spanish Brunch\",\"Alfajores\",\"Coffee\",\"Bread\",\"Coffee\",\"Coffee\",\"Sandwich\",\"Alfajores\",\"Scone\",\"Coffee\",\"Bread\",\"Scone\",\"Sandwich\",\"Alfajores\",\"Coffee\",\"Coffee\",\"Spanish Brunch\",\"Baguette\",\"Coffee\",\"Cake\",\"Coffee\",\"Cake\",\"Bread\",\"Sandwich\",\"Coke\",\"Bread\",\"Cake\",\"Coffee\",\"Cake\",\"Bread\",\"Cookies\",\"The Nomad\",\"Tea\",\"Bread\",\"Alfajores\",\"Cake\",\"Coffee granules \",\"Coffee\",\"Salad\",\"Cake\",\"Extra Salami or Feta\",\"Tea\",\"Coffee\",\"Coffee\",\"Tea\",\"Medialuna\",\"Brownie\",\"Juice\",\"Baguette\",\"Coffee\",\"Cake\",\"Afternoon with the baker\",\"Afternoon with the baker\",\"Bread\",\"Brownie\",\"Coffee\",\"The Nomad\",\"Coffee\",\"Coffee\",\"Coffee\",\"Scone\",\"Coffee\",\"Medialuna\",\"Bread\",\"Fudge\",\"Coffee\",\"Bread\",\"Coffee\",\"Juice\",\"Bread\",\"Alfajores\",\"Bread\",\"Coffee\",\"Coffee\",\"Coffee\",\"Coffee\",\"Medialuna\",\"Pastry\",\"Scone\",\"Cookies\",\"Hot chocolate\",\"Coffee\",\"Bread\",\"Salad\",\"Coffee\",\"Tea\",\"Pastry\",\"Bread\",\"Bread\",\"Bread\",\"Scone\",\"Sandwich\",\"Coffee\",\"Bread\",\"Coffee\",\"Juice\",\"Sandwich\",\"Spanish Brunch\",\"Tea\",\"Alfajores\",\"Scone\",\"Bread\",\"Hot chocolate\",\"Sandwich\",\"Coffee\",\"Cake\",\"Alfajores\",\"Brownie\",\"Bread\",\"Coffee\",\"Bread\",\"Smoothies\",\"Coffee\",\"Bread\",\"Cookies\",\"Toast\",\"Spanish Brunch\",\"Coke\",\"Tea\",\"Coffee\",\"Bread\",\"Scone\",\"Sandwich\",\"The Nomad\",\"Coffee\",\"Bread\",\"Coffee\",\"Cookies\",\"Pastry\",\"Jammie Dodgers\",\"Medialuna\",\"Coffee\",\"Hot chocolate\",\"Tea\",\"Bread\",\"Truffles\",\"Juice\",\"Tea\",\"Cake\",\"Bread\",\"Tea\",\"Coffee\",\"Cake\",\"Juice\",\"Bread\",\"Coffee\",\"Coffee\",\"Medialuna\",\"Coffee\",\"Bread\",\"Alfajores\",\"Bread\",\"Cookies\",\"Alfajores\",\"Pastry\",\"Medialuna\",\"Eggs\",\"Coffee\",\"Toast\",\"Coffee\",\"Bread\",\"Bread\",\"Coffee\",\"Pastry\",\"Farm House\",\"Tea\",\"Coffee\",\"Coffee\",\"Bread\",\"Pastry\",\"Jam\",\"Coffee\",\"Bread\",\"Scone\",\"Tea\",\"Scone\",\"Coffee\",\"Tea\",\"Bread\",\"Coffee\",\"Baguette\",\"Coffee\",\"Coffee\",\"Bread\",\"Pastry\",\"Bread\",\"Bread\",\"Coffee\",\"Tea\",\"Scone\",\"Coffee\",\"Sandwich\",\"Tea\",\"Bread\",\"Coffee\",\"Tea\",\"Medialuna\",\"Tea\",\"Coffee\",\"Sandwich\",\"Bread\",\"Coffee\",\"Pastry\",\"Cake\",\"Coffee\",\"Salad\",\"Bread\",\"Bread\",\"Jam\",\"Coffee\",\"Cake\",\"Toast\",\"Coffee\",\"Toast\",\"Cake\",\"Tea\",\"Truffles\",\"Alfajores\",\"Soup\",\"Cake\",\"Alfajores\",\"Coffee\",\"Cookies\",\"Mineral water\",\"Tea\",\"Alfajores\",\"Coffee\",\"Toast\",\"Cookies\",\"Coffee\",\"Tea\",\"Scone\",\"Cookies\",\"Farm House\",\"Tea\",\"Chicken Stew\",\"Coffee\",\"Cookies\",\"Bread\",\"Bread\",\"Coffee\",\"Pastry\",\"Cake\",\"Bread\",\"Coffee\",\"Alfajores\",\"Alfajores\",\"Coffee\",\"Pastry\",\"Cake\",\"Coffee\",\"Coffee\",\"Bread\",\"Medialuna\",\"Bread\",\"Coffee\",\"Hot chocolate\",\"Coffee\",\"Bread\",\"Pastry\",\"Toast\",\"Coffee\",\"Bread\",\"Tea\",\"Spanish Brunch\",\"Coffee\",\"Pastry\",\"Coffee\",\"Farm House\",\"Tea\",\"Toast\",\"Bread\",\"Scone\",\"Bread\",\"Baguette\",\"Sandwich\",\"Bread\",\"Alfajores\",\"Fudge\",\"Coffee\",\"Sandwich\",\"Tea\",\"Coffee\",\"Pastry\",\"Bread\",\"Truffles\",\"Coffee\",\"Sandwich\",\"Salad\",\"Coffee\",\"Tea\",\"Coke\",\"Pastry\",\"Brownie\",\"Scone\",\"Alfajores\",\"Tea\",\"Bread\",\"Bread\",\"Tea\",\"Bread\",\"Tea\",\"Brownie\",\"Bread\",\"Bread\",\"Chicken Stew\",\"Sandwich\",\"Coffee\",\"Coffee\",\"Sandwich\",\"Bread\",\"Scone\",\"Soup\",\"Sandwich\",\"Coffee\",\"Tea\",\"Cake\",\"Farm House\",\"Scandinavian\",\"Tea\",\"Coffee\",\"Scone\",\"Smoothies\",\"Coffee\",\"Cake\",\"Coffee\",\"Sandwich\",\"Brownie\",\"Farm House\",\"Coffee\",\"Cake\",\"Alfajores\",\"Cookies\",\"Cake\",\"Bread\",\"Coffee\",\"Juice\",\"Bread\",\"Bread\",\"Brownie\",\"Coffee\",\"Cake\",\"Brownie\",\"Coffee\",\"Bread\",\"Brownie\",\"Coffee\",\"Coffee\",\"Bread\",\"Hot chocolate\",\"Coffee\",\"Coffee\",\"Medialuna\",\"Bread\",\"Hot chocolate\",\"Coffee\",\"Toast\",\"Bread\",\"Coffee\",\"Coffee\",\"Tiffin\",\"Muffin\",\"Cookies\",\"Hot chocolate\",\"Juice\",\"Coffee\",\"Juice\",\"Cookies\",\"Bread\",\"Coffee\",\"Toast\",\"Sandwich\",\"Baguette\",\"Juice\",\"Baguette\",\"Chicken Stew\",\"Coffee\",\"Bread\",\"Coffee\",\"Sandwich\",\"Cake\",\"Brownie\",\"Tea\",\"Soup\",\"Tea\",\"Scone\",\"Scone\",\"Tea\",\"Coffee\",\"Tea\",\"Cake\",\"Chicken Stew\",\"Coffee\",\"Alfajores\",\"Bread\",\"Spanish Brunch\",\"Coffee\",\"Mineral water\",\"Soup\",\"Tiffin\",\"Muffin\",\"Coffee\",\"Bread\",\"Cake\",\"Cookies\",\"Tea\",\"Spanish Brunch\",\"Coffee\",\"Hot chocolate\",\"Coffee\",\"Juice\",\"Jammie Dodgers\",\"Muffin\",\"Cake\",\"Bread\",\"Coffee\",\"Tiffin\",\"Hot chocolate\",\"Coffee\",\"Muffin\",\"Tiffin\",\"Alfajores\",\"Bread\",\"Tea\",\"Coffee\",\"Tiffin\",\"Muffin\",\"Sandwich\",\"Jam\",\"Toast\",\"Afternoon with the baker\",\"Brownie\",\"Coffee\",\"Pastry\",\"Bread\",\"Bread\",\"Baguette\",\"Coffee\",\"Coffee\",\"Juice\",\"Scone\",\"Cookies\",\"Toast\",\"Coffee\",\"Coffee\",\"Tea\",\"Tiffin\",\"Tea\",\"Coffee\",\"Brownie\",\"Cake\",\"Tea\",\"Coffee\",\"Cookies\",\"Bread\",\"Pastry\",\"Sandwich\",\"Toast\",\"Tea\",\"Bread\",\"Toast\",\"Farm House\",\"Coffee\",\"Toast\",\"Bread\",\"Medialuna\",\"Coffee\",\"Alfajores\",\"Muffin\",\"Bread\",\"Coffee\",\"Sandwich\",\"Bread\",\"Tea\",\"Bread\",\"Bread\",\"Bread\",\"Coffee\",\"Tiffin\",\"Medialuna\",\"Sandwich\",\"Coffee\",\"Soup\",\"Sandwich\",\"Cake\",\"Tea\",\"Coffee\",\"Sandwich\",\"Muffin\",\"Cake\",\"Tea\",\"Coffee\",\"Soup\",\"Coffee\",\"Bread\",\"Cake\",\"Bread\",\"Coffee\",\"Brownie\",\"Jam\",\"Brownie\",\"Cake\",\"Coffee\",\"Cake\",\"Muffin\",\"Toast\",\"Tea\",\"Tea\",\"Scone\",\"Coffee\",\"Bread\",\"Tiffin\",\"Mineral water\",\"Alfajores\",\"Scone\",\"Bread\",\"Bread\",\"Smoothies\",\"Chicken Stew\",\"Soup\",\"Sandwich\",\"Bread\",\"Tea\",\"Tiffin\",\"Bread\",\"Spanish Brunch\",\"Coffee\",\"Coffee\",\"Brownie\",\"Coffee\",\"Truffles\",\"Sandwich\",\"Bread\",\"Coffee\",\"Mineral water\",\"Bread\",\"Bread\",\"Coffee\",\"Alfajores\",\"Mineral water\",\"Coffee\",\"Hot chocolate\",\"Cookies\",\"Farm House\",\"Tea\",\"Bread\",\"Brownie\",\"Coffee\",\"Alfajores\",\"Tea\",\"Coffee\",\"Bread\",\"Pastry\",\"Farm House\",\"Eggs\",\"Bread\",\"Coffee\",\"Bread\",\"Coffee\",\"Coke\",\"Toast\",\"Cake\",\"Muffin\",\"Bread\",\"Bread\",\"Scandinavian\",\"Bread\",\"Pastry\",\"Medialuna\",\"Bread\",\"Bread\",\"Baguette\",\"Scandinavian\",\"Cookies\",\"Bread\",\"Coffee\",\"Cake\",\"Bread\",\"Pastry\",\"Coffee\",\"Bread\",\"Pastry\",\"Coffee\",\"Scone\",\"Toast\",\"Coffee\",\"Bread\",\"Scone\",\"Bread\",\"Pastry\",\"Tea\",\"Bread\",\"Alfajores\",\"Medialuna\",\"Jam\",\"Coffee\",\"Brownie\",\"Tea\",\"Cookies\",\"Juice\",\"Coffee\",\"Scandinavian\",\"Coffee\",\"Cookies\",\"Coffee\",\"Pastry\",\"Coffee\",\"Medialuna\",\"Medialuna\",\"Coffee\",\"Tea\",\"Coffee\",\"Coke\",\"Bread\",\"Coffee\",\"Tiffin\",\"Medialuna\",\"Alfajores\",\"Brownie\",\"Bread\",\"Baguette\",\"Coffee\",\"Cake\",\"Alfajores\",\"Tea\",\"Coffee\",\"Cake\",\"The Nomad\",\"Chicken Stew\",\"Cake\",\"Coffee\",\"Hot chocolate\",\"Brownie\",\"Coffee\",\"Nomad bag\",\"Coffee\",\"Coffee\",\"Coffee\",\"Coffee\",\"Coffee\",\"Bread\",\"Mineral water\",\"Salad\",\"Soup\",\"Cake\",\"Extra Salami or Feta\",\"Tea\",\"Bread\",\"Soup\",\"Coffee\",\"Sandwich\",\"Sandwich\",\"Tea\",\"Coffee\",\"Extra Salami or Feta\",\"Salad\",\"Bread\",\"Sandwich\",\"Bread\",\"Sandwich\",\"Coffee\",\"Hot chocolate\",\"Coke\",\"Juice\",\"Chocolates\",\"Tea\",\"Coffee\",\"Cake\",\"Cake\",\"Coffee\",\"Soup\",\"Coffee\",\"Cookies\",\"Scone\",\"Hot chocolate\",\"Tea\",\"Tiffin\",\"Bread\",\"Scone\",\"Muffin\",\"Cake\",\"Tea\",\"Bread\",\"Sandwich\",\"Coke\",\"Coffee\",\"Cake\",\"Coffee\",\"Sandwich\",\"Bread\",\"Medialuna\",\"Cake\",\"Cookies\",\"Coffee\",\"Bread\",\"Hot chocolate\",\"Cake\",\"Hot chocolate\",\"Cake\",\"Coffee\",\"Medialuna\",\"Fudge\",\"Bread\",\"Coffee\",\"Medialuna\",\"Fudge\",\"Coffee\",\"Coffee\",\"Scone\",\"Medialuna\",\"Bread\",\"Medialuna\",\"Coffee\",\"Medialuna\",\"Cake\",\"Coffee\",\"Juice\",\"Soup\",\"Coffee\",\"Coffee\",\"Tea\",\"Coffee\",\"Medialuna\",\"Art Tray\",\"Coffee\",\"Coffee\",\"Toast\",\"Medialuna\",\"Medialuna\",\"Cake\",\"Scone\",\"Farm House\",\"Eggs\",\"Bread\",\"Medialuna\",\"Coffee\",\"Farm House\",\"Bread\",\"Alfajores\",\"Scone\",\"Jammie Dodgers\",\"Cake\",\"Bread\",\"Scone\",\"Bread\",\"Coffee\",\"Hot chocolate\",\"Coffee\",\"Hot chocolate\",\"Sandwich\",\"Cake\",\"Alfajores\",\"Pastry\",\"Baguette\",\"Coffee\",\"Bread\",\"Tea\",\"The Nomad\",\"Coffee\",\"Alfajores\",\"Scone\",\"Sandwich\",\"Coffee\",\"Juice\",\"Bread\",\"Farm House\",\"Cookies\",\"Cake\",\"Jammie Dodgers\",\"Hot chocolate\",\"Bread\",\"Bread\",\"Tea\",\"Cookies\",\"Coffee\",\"Coffee\",\"Juice\",\"Sandwich\",\"Cookies\",\"Extra Salami or Feta\",\"Coffee\",\"Jammie Dodgers\",\"Tiffin\",\"Bread\",\"Juice\",\"Tea\",\"Coffee\",\"Pastry\",\"Cake\",\"Bread\",\"Coffee\",\"Tea\",\"Pastry\",\"Coffee\",\"Toast\",\"Coffee\",\"Bread\",\"Coffee\",\"Spanish Brunch\",\"Soup\",\"Tea\",\"Coffee\",\"Art Tray\",\"Soup\",\"Salad\",\"Spanish Brunch\",\"Sandwich\",\"Cookies\",\"Juice\",\"Spanish Brunch\",\"Cake\",\"Bread\",\"Soup\",\"Spanish Brunch\",\"Coffee\",\"Bread\",\"Coffee\",\"Scone\",\"Cake\",\"Coffee\",\"Scone\",\"Cake\",\"Coffee\",\"Hot chocolate\",\"Cake\",\"Chicken Stew\",\"Coffee\",\"Cake\",\"Coffee\",\"Hot chocolate\",\"Sandwich\",\"Coffee\",\"Sandwich\",\"Jammie Dodgers\",\"Tiffin\",\"Coffee\",\"Bread\",\"Coffee\",\"Cookies\",\"Jammie Dodgers\",\"Cake\",\"Tiffin\",\"Coffee\",\"Soup\",\"Coffee\",\"Spanish Brunch\",\"Spanish Brunch\",\"Coffee\",\"Scone\",\"Cake\",\"Tea\",\"Jam\",\"Fudge\",\"Cake\",\"Truffles\",\"Coffee\",\"Coffee\",\"Pastry\",\"Coffee\",\"Medialuna\",\"Coffee\",\"Coffee\",\"Bread\",\"Coffee\",\"Medialuna\",\"Tea\",\"Pastry\",\"Farm House\",\"Coffee\",\"Jammie Dodgers\",\"Juice\",\"Bread\",\"Coffee\",\"Pastry\",\"Bread\",\"Bread\",\"Coffee\",\"Coffee\",\"Bread\",\"Bread\",\"Tea\",\"Medialuna\",\"Coffee\",\"Coffee\",\"Spanish Brunch\",\"Sandwich\",\"Coke\",\"Soup\",\"Bread\",\"Soup\",\"Coffee\",\"Toast\",\"Granola\",\"Coffee\",\"Tea\",\"Medialuna\",\"Jammie Dodgers\",\"Farm House\",\"Chicken Stew\",\"Coffee\",\"Tea\",\"Bread\",\"Coffee\",\"Pastry\",\"Soup\",\"Chicken Stew\",\"Coffee\",\"Jammie Dodgers\",\"Truffles\",\"Bread\",\"Coffee\",\"Bread\",\"Bread\",\"Coffee\",\"Tea\",\"Tiffin\",\"Bread\",\"Bread\",\"Bread\",\"Bread\",\"Bread\",\"Bread\",\"Pastry\",\"Juice\",\"Tea\",\"Farm House\",\"Coffee\",\"Tea\",\"Toast\",\"Baguette\",\"Baguette\",\"Pastry\",\"Cake\",\"Truffles\",\"Coffee\",\"Coffee\",\"Coke\",\"Bread\",\"Bread\",\"Cookies\",\"Bread\",\"Pastry\",\"Coffee\",\"Bread\",\"Bread\",\"Coffee\",\"Bread\",\"Bread\",\"Tea\",\"Pastry\",\"Coffee\",\"Bread\",\"Scandinavian\",\"Coffee\",\"Bread\",\"Coffee\",\"Bread\",\"Baguette\",\"Jammie Dodgers\",\"Bread\",\"Coffee\",\"Bread\",\"Mineral water\",\"Coffee\",\"Soup\",\"Bread\",\"Pastry\",\"Tea\",\"Cookies\",\"Coffee\",\"Coffee\",\"Coffee\",\"Coke\",\"Sandwich\",\"Soup\",\"Coffee\",\"Farm House\",\"Baguette\",\"Scandinavian\",\"Pastry\",\"Hot chocolate\",\"Tea\",\"Sandwich\",\"Coffee\",\"Tea\",\"Cake\",\"Coffee\",\"Alfajores\",\"Pastry\",\"Coffee\",\"Hot chocolate\",\"Coffee\",\"Coffee\",\"Sandwich\",\"Tea\",\"Bread\",\"Alfajores\",\"Spanish Brunch\",\"Hot chocolate\",\"Coffee\",\"Cookies\",\"Coffee\",\"Cake\",\"Tea\",\"Cookies\",\"Smoothies\",\"Cake\",\"Coffee\",\"Bread\",\"Bread\",\"Bread\",\"Vegan Feast\",\"Coffee\",\"Cake\",\"Hot chocolate\",\"Tea\",\"Pastry\",\"Cake\",\"Coffee\",\"Hot chocolate\",\"Bread\",\"Tea\",\"Coffee\",\"Coffee\",\"Coffee\",\"Coffee\",\"Tea\",\"Toast\",\"Coffee\",\"Bread\",\"Coffee\",\"Alfajores\",\"Pastry\",\"Juice\",\"Coffee\",\"Baguette\",\"Coffee\",\"Cake\",\"Pastry\",\"Tea\",\"Coffee\",\"Bread\",\"Pastry\",\"Bread\",\"Pastry\",\"Vegan mincepie\",\"Coffee\",\"Baguette\",\"Baguette\",\"Bread\",\"Coffee\",\"Tea\",\"Coffee\",\"Cake\",\"Toast\",\"Juice\",\"Hot chocolate\",\"Truffles\",\"Coffee\",\"Toast\",\"Hot chocolate\",\"Bread\",\"Tea\",\"Chicken Stew\",\"Chicken Stew\",\"Soup\",\"Chicken Stew\",\"Tea\",\"Bread\",\"Bread\",\"Pastry\",\"Mineral water\",\"Salad\",\"Duck egg\",\"Sandwich\",\"Soup\",\"Truffles\",\"Coffee\",\"Coffee\",\"Bread\",\"Hot chocolate\",\"Sandwich\",\"Bread\",\"Coffee\",\"Tea\",\"Soup\",\"Chicken Stew\",\"Cake\",\"Cookies\",\"Coffee\",\"Farm House\",\"Coffee\",\"Bread\",\"Tea\",\"Coke\",\"Truffles\",\"Bread\",\"Bread\",\"Cake\",\"Bread\",\"Tea\",\"Bread\",\"Smoothies\",\"Coffee\",\"Coffee\",\"Juice\",\"Coffee\",\"Bread\",\"Tea\",\"Toast\",\"Coffee\",\"Jam\",\"Bread\",\"Coffee\",\"Pastry\",\"Bread\",\"Bread\",\"Tea\",\"Cake\",\"Bread\",\"Hot chocolate\",\"Coffee\",\"Cake\",\"Bread\",\"Pastry\",\"Hot chocolate\",\"Coffee\",\"Hot chocolate\",\"Coffee\",\"Cake\",\"Coffee\",\"Toast\",\"Cake\",\"Coffee\",\"Pastry\",\"Bread\",\"Coffee\",\"Tea\",\"Coffee\",\"Baguette\",\"Coffee\",\"Pastry\",\"Bread\",\"Pastry\",\"Bread\",\"Coffee\",\"Cookies\",\"Coffee\",\"Sandwich\",\"Tea\",\"Bread\",\"Bread\",\"Tea\",\"Bread\",\"Coffee\",\"Chicken Stew\",\"Coffee\",\"Sandwich\",\"Coffee\",\"Hot chocolate\",\"Bread\",\"Pastry\",\"Coffee\",\"Bread\",\"Coffee\",\"Bread\",\"Hot chocolate\",\"Pastry\",\"Coffee\",\"Hot chocolate\",\"Coffee\",\"Tea\",\"Tea\",\"Coffee\",\"Cake\",\"Coffee\",\"Cake\",\"Muffin\",\"Bread\",\"Tea\",\"Pastry\",\"Cake\",\"Bread\",\"Bread\",\"Bread\",\"Bread\",\"Pastry\",\"Bread\",\"Coffee\",\"Coffee\",\"Toast\",\"Coffee\",\"Coffee\",\"Coffee\",\"Juice\",\"Cake\",\"Cookies\",\"Coffee\",\"Coffee\",\"Tiffin\",\"Bread\",\"Coffee\",\"Coffee\",\"Pastry\",\"Pastry\",\"Bread\",\"Sandwich\",\"Coffee\",\"Fudge\",\"Scandinavian\",\"Bread\",\"Hot chocolate\",\"Fudge\",\"Coffee\",\"Alfajores\",\"Coffee\",\"Coffee\",\"Tea\",\"Bread\",\"Bread\",\"Coffee\",\"Pastry\",\"Coffee\",\"Tea\",\"Sandwich\",\"Coffee\",\"Cake\",\"Tiffin\",\"Coffee\",\"Coffee\",\"Pastry\",\"Tea\",\"Coffee\",\"Coffee\",\"Chicken Stew\",\"Sandwich\",\"Mineral water\",\"Cookies\",\"Cake\",\"Bread\",\"Bread\",\"Pastry\",\"Coffee\",\"Eggs\",\"Bread\",\"Coffee\",\"Salad\",\"Sandwich\",\"Coffee\",\"Bread\",\"Pastry\",\"Bread\",\"Coffee\",\"Chicken Stew\",\"Tea\",\"Cookies\",\"Sandwich\",\"Coffee\",\"Coffee\",\"Tiffin\",\"Alfajores\",\"Bread\",\"Pastry\",\"Tiffin\",\"Hot chocolate\",\"Spanish Brunch\",\"Duck egg\",\"Tea\",\"Bread\",\"Tea\",\"Soup\",\"Cookies\",\"Juice\",\"Muffin\",\"Cake\",\"Soup\",\"Sandwich\",\"Coffee\",\"Coke\",\"Smoothies\",\"Afternoon with the baker\",\"Coffee\",\"Sandwich\",\"Pastry\",\"Scone\",\"Bread\",\"Coffee\",\"Bread\",\"Bread\",\"Sandwich\",\"Coffee\",\"Cookies\",\"Scone\",\"Coffee\",\"Bread\",\"Tiffin\",\"Sandwich\",\"Tea\",\"Juice\",\"Bread\",\"Afternoon with the baker\",\"Scone\",\"Coffee\",\"Cake\",\"Coffee\",\"Truffles\",\"Alfajores\",\"Scone\",\"Coffee\",\"Bread\",\"Coffee\",\"Coffee\",\"Scone\",\"Bread\",\"Bread\",\"Coffee\",\"Coffee\",\"Coke\",\"Pastry\",\"Farm House\",\"Coffee\",\"Hot chocolate\",\"Bread\",\"Pastry\",\"Scone\",\"Pastry\",\"Coffee\",\"Scone\",\"Bread\",\"Coffee\",\"Juice\",\"Tiffin\",\"Brownie\",\"Alfajores\",\"Scandinavian\",\"Bread\",\"Tea\",\"Juice\",\"Coffee\",\"Pastry\",\"Scone\",\"Coffee\",\"Muffin\",\"Scone\",\"Coffee\",\"Bread\",\"Coffee\",\"Bread\",\"Baguette\",\"Scone\",\"Medialuna\",\"Cookies\",\"Scandinavian\",\"Bread\",\"Coffee\",\"Coffee\",\"Pastry\",\"Bread\",\"Baguette\",\"Bread\",\"Bread\",\"Cake\",\"Jammie Dodgers\",\"Bread\",\"Coffee\",\"Sandwich\",\"Extra Salami or Feta\",\"Cake\",\"Brownie\",\"Mineral water\",\"Coffee\",\"Tea\",\"Hot chocolate\",\"Coffee\",\"Coke\",\"Bread\",\"Tea\",\"Coffee\",\"Coffee\",\"Cookies\",\"Bread\",\"Spanish Brunch\",\"The Nomad\",\"Coffee\",\"Coffee\",\"Muffin\",\"Scone\",\"Coffee\",\"Coffee\",\"Bread\",\"Tiffin\",\"Baguette\",\"Bread\",\"Coffee\",\"Coffee\",\"Smoothies\",\"Brownie\",\"Sandwich\",\"Toast\",\"Scone\",\"Brownie\",\"Coffee\",\"Coke\",\"Bread\",\"Cake\",\"Soup\",\"Smoothies\",\"Sandwich\",\"Bread\",\"Coffee\",\"Juice\",\"Toast\",\"Sandwich\",\"Baguette\",\"Bread\",\"Coffee\",\"Coffee\",\"Coffee\",\"Spanish Brunch\",\"Bread\",\"Brownie\",\"Scandinavian\",\"Coffee\",\"Soup\",\"Pastry\",\"Vegan Feast\",\"Cake\",\"Muffin\",\"Baguette\",\"Sandwich\",\"Chicken Stew\",\"Coffee\",\"Truffles\",\"Coke\",\"Tea\",\"Scone\",\"Soup\",\"Bread\",\"Soup\",\"Sandwich\",\"Juice\",\"Cookies\",\"Mineral water\",\"Coffee\",\"Cookies\",\"Pastry\",\"Coffee\",\"Sandwich\",\"Coffee\",\"Soup\",\"Art Tray\",\"Scone\",\"Brownie\",\"Cake\",\"Tiffin\",\"Scone\",\"Tea\",\"Brownie\",\"Cookies\",\"Sandwich\",\"Juice\",\"Hot chocolate\",\"Coffee\",\"Cake\",\"Scone\",\"Cookies\",\"Bread\",\"Tea\",\"Hot chocolate\",\"Cake\",\"Salad\",\"Bread\",\"Tea\",\"Soup\",\"Sandwich\",\"Spanish Brunch\",\"Sandwich\",\"Toast\",\"Bread\",\"Coffee\",\"Tea\",\"Toast\",\"Scone\",\"Scone\",\"Coffee\",\"Bread\",\"Brownie\",\"Tea\",\"Soup\",\"Hot chocolate\",\"Coffee\",\"Cake\",\"Scone\",\"Coke\",\"Tea\",\"Brownie\",\"Hot chocolate\",\"Truffles\",\"Spanish Brunch\",\"Chicken Stew\",\"Granola\",\"Coke\",\"Spanish Brunch\",\"Smoothies\",\"Bread\",\"Coffee\",\"Scone\",\"Tea\",\"Tea\",\"Scandinavian\",\"Coffee\",\"Hot chocolate\",\"Scone\",\"Cake\",\"Bread\",\"Coffee\",\"Hot chocolate\",\"Tea\",\"Scone\",\"Bread\",\"Scandinavian\",\"Coffee\",\"Bread\",\"Bread\",\"Coffee\",\"Scone\",\"Cookies\",\"Soup\",\"Salad\",\"Truffles\",\"Mineral water\",\"Tiffin\",\"Coffee\",\"Tea\",\"Coffee\",\"Bread\",\"Hot chocolate\",\"Scone\",\"Tea\",\"Coffee\",\"Cake\",\"Scone\",\"Bread\",\"Scandinavian\",\"Muffin\",\"Scandinavian\",\"Farm House\",\"Bread\",\"Medialuna\",\"Coffee\",\"Spanish Brunch\",\"Coffee\",\"Coffee\",\"Bread\",\"Coffee\",\"Pastry\",\"Spanish Brunch\",\"Bread\",\"Scone\",\"Bread\",\"Coffee\",\"Toast\",\"Bread\",\"Pastry\",\"Bread\",\"Hot chocolate\",\"Cookies\",\"Pastry\",\"Coffee\",\"The Nomad\",\"Coffee\",\"Jammie Dodgers\",\"Muffin\",\"Tea\",\"Coffee\",\"Coffee\",\"Brownie\",\"Coffee\",\"Bread\",\"Coffee\",\"Coffee\",\"Hot chocolate\",\"Muffin\",\"Bread\",\"Farm House\",\"Coffee\",\"Tiffin\",\"Coffee\",\"Toast\",\"Pastry\",\"Scone\",\"Coffee\",\"Jam\",\"Pastry\",\"Cake\",\"Coffee\",\"Soup\",\"Coffee\",\"Juice\",\"Tea\",\"Pastry\",\"Coffee\",\"Jammie Dodgers\",\"Coffee\",\"Coffee\",\"Coffee\",\"Muffin\",\"Coffee\",\"Cake\",\"Muffin\",\"Pastry\",\"Bread\",\"Coffee\",\"Pastry\",\"Bread\",\"Hot chocolate\",\"Juice\",\"Cake\",\"Coffee\",\"Coke\",\"Sandwich\",\"Sandwich\",\"Smoothies\",\"Coffee\",\"Scone\",\"Cake\",\"Bread\",\"Coffee\",\"Juice\",\"Cake\",\"Coffee\",\"Tea\",\"Truffles\",\"Coffee\",\"Cake\",\"Pastry\",\"Sandwich\",\"Tiffin\",\"Coffee\",\"Cake\",\"Cake\",\"Scone\",\"Medialuna\",\"Soup\",\"Coffee\",\"Tea\",\"Coffee\",\"Bread\",\"Coffee\",\"Coffee\",\"Medialuna\",\"Pastry\",\"Jammie Dodgers\",\"Tiffin\",\"Coffee\",\"Bread\",\"Alfajores\",\"Afternoon with the baker\",\"Afternoon with the baker\",\"Afternoon with the baker\",\"Afternoon with the baker\",\"Afternoon with the baker\",\"Jammie Dodgers\",\"Coffee\",\"Coffee\",\"Coffee\",\"Bread\",\"Coffee\",\"Bread\",\"Bread\",\"Coffee\",\"Pastry\",\"Bread\",\"Tea\",\"Pastry\",\"Pastry\",\"Tea\",\"Coffee\",\"Farm House\",\"Coffee\",\"Cookies\",\"Pastry\",\"Coffee\",\"Bread\",\"Coffee\",\"Toast\",\"Tea\",\"Coffee\",\"Cake\",\"Toast\",\"Coffee\",\"Coffee\",\"Toast\",\"Bread\",\"Bread\",\"Bread\",\"Farm House\",\"Cake\",\"Soup\",\"Coffee\",\"Coffee\",\"Bread\",\"Sandwich\",\"Bread\",\"Juice\",\"Coffee\",\"Sandwich\",\"Cake\",\"Bread\",\"Tea\",\"Cake\",\"Bread\",\"Chicken Stew\",\"Coffee\",\"Coffee\",\"Coffee\",\"Salad\",\"Soup\",\"Bread\",\"Bread\",\"Cake\",\"Bread\",\"Coffee\",\"Cake\",\"Sandwich\",\"Cake\",\"Truffles\",\"Tea\",\"Coffee\",\"Salad\",\"Chicken Stew\",\"Coffee\",\"Juice\",\"Drinking chocolate spoons \",\"Bread\",\"Sandwich\",\"Coffee\",\"Soup\",\"Cake\",\"Juice\",\"Tea\",\"Bread\",\"Tea\",\"Hot chocolate\",\"Cake\",\"Tea\",\"Coffee\",\"Toast\",\"Pastry\",\"Coffee\",\"Cake\",\"Afternoon with the baker\",\"Bread\",\"Coffee\",\"Toast\",\"Coffee\",\"Bread\",\"Cookies\",\"Pastry\",\"Coke\",\"Coffee\",\"Coffee\",\"Tea\",\"Bread\",\"Pastry\",\"Coffee\",\"Coffee\",\"Bread\",\"Pastry\",\"Baguette\",\"Bread\",\"Coffee\",\"Tea\",\"Coffee\",\"Coffee\",\"Granola\",\"Coffee\",\"Bread\",\"Bread\",\"Sandwich\",\"Coffee\",\"Coffee\",\"Bread\",\"Toast\",\"Hot chocolate\",\"Coffee\",\"Pastry\",\"Cookies\",\"Coffee\",\"Bread\",\"Cookies\",\"Baguette\",\"Bread\",\"Tea\",\"Coffee\",\"Coffee\",\"Bread\",\"Coffee\",\"Bread\",\"Pastry\",\"Bread\",\"Pastry\",\"Coffee\",\"Bread\",\"Spanish Brunch\",\"Soup\",\"Coffee\",\"Bread\",\"Salad\",\"Spanish Brunch\",\"Jam\",\"Tea\",\"Soup\",\"Coffee\",\"Soup\",\"Sandwich\",\"Hot chocolate\",\"Coffee\",\"Sandwich\",\"Cake\",\"Coffee\",\"Salad\",\"Tiffin\",\"Hot chocolate\",\"Coffee\",\"Sandwich\",\"Cake\",\"Coffee\",\"Soup\",\"Spanish Brunch\",\"Cookies\",\"Farm House\",\"Farm House\",\"Soup\",\"Salad\",\"Spanish Brunch\",\"Toast\",\"Coffee\",\"Fudge\",\"Chicken Stew\",\"Tea\",\"Farm House\",\"Cake\",\"Tiffin\",\"Coffee\",\"Spanish Brunch\",\"Tea\",\"Bread\",\"Coffee\",\"Pastry\",\"Tiffin\",\"Truffles\",\"Bread\",\"Soup\",\"Bread\",\"Bread\",\"Pastry\",\"Coffee\",\"Cake\",\"Tea\",\"Cake\",\"Cake\",\"Tea\",\"Hot chocolate\",\"Coffee\",\"Bread\",\"Bread\",\"Bread\",\"Bread\",\"Bread\",\"Pastry\",\"Pastry\",\"Coffee\",\"Medialuna\",\"Bread\",\"Toast\",\"Bread\",\"Bread\",\"Coffee\",\"Cake\",\"Tea\",\"Bread\",\"Coffee\",\"Pastry\",\"Bread\",\"Pastry\",\"Bread\",\"Baguette\",\"Coffee\",\"Pastry\",\"Bread\",\"Coffee\",\"Coffee\",\"Chicken Stew\",\"Salad\",\"Bread\",\"Soup\",\"Truffles\",\"Coffee\",\"Sandwich\",\"Bread\",\"Soup\",\"Mineral water\",\"Farm House\",\"Bread\",\"Coffee\",\"Tea\",\"Soup\",\"Chicken Stew\",\"Coffee\",\"Cake\",\"Jammie Dodgers\",\"Bread\",\"Coffee\",\"Tea\",\"Cake\",\"Scone\",\"Sandwich\",\"Baguette\",\"Tea\",\"Juice\",\"Scone\",\"Cake\",\"Bread\",\"Pastry\",\"Coffee\",\"Tiffin\",\"Cake\",\"Truffles\",\"Coffee\",\"Jammie Dodgers\",\"Coffee\",\"Toast\",\"Bread\",\"Pastry\",\"Coffee\",\"Coffee\",\"Coffee\",\"Toast\",\"Bread\",\"Baguette\",\"Coffee\",\"Toast\",\"Coffee\",\"Tea\",\"Cake\",\"Bread\",\"Bread\",\"Hot chocolate\",\"Coffee\",\"Baguette\",\"Tiffin\",\"Cake\",\"Coffee\",\"Coffee\",\"Cake\",\"Juice\",\"Bread\",\"Coffee\",\"Tiffin\",\"Tea\",\"Sandwich\",\"Sandwich\",\"Tea\",\"Coffee\",\"Chicken Stew\",\"Sandwich\",\"Cookies\",\"Salad\",\"Coffee\",\"Juice\",\"Tea\",\"Bread\",\"Salad\",\"Sandwich\",\"Bread\",\"Pastry\",\"Truffles\",\"Bread\",\"Scandinavian\",\"Chicken Stew\",\"Coffee\",\"Soup\",\"Coffee\",\"Sandwich\",\"Cookies\",\"Soup\",\"Christmas common\",\"Coffee\",\"Soup\",\"Sandwich\",\"Coffee\",\"Medialuna\",\"Coffee\",\"Hot chocolate\",\"Pastry\",\"Cake\",\"Coffee\",\"Pastry\",\"Bread\",\"Coffee\",\"Pastry\",\"Chicken Stew\",\"Coffee\",\"Tea\",\"Cake\",\"Truffles\",\"Spanish Brunch\",\"Cake\",\"Coffee\",\"Truffles\",\"Spanish Brunch\",\"Cake\",\"Bread\",\"Tea\",\"Scone\",\"Coke\",\"Tea\",\"Tea\",\"Cake\",\"Coke\",\"Bread\",\"Cake\",\"Coffee\",\"Coffee\",\"Tea\",\"Cake\",\"Scone\",\"Cookies\",\"Coffee\",\"Coffee\",\"Coffee\",\"Bread\",\"Coffee\",\"Bread\",\"Pastry\",\"Coffee\",\"Bread\",\"Spanish Brunch\",\"Bread\",\"Toast\",\"Bread\",\"Baguette\",\"Coffee\",\"Pastry\",\"Hot chocolate\",\"Tea\",\"Cake\",\"Coffee\",\"Bread\",\"Bread\",\"Pastry\",\"Coffee\",\"Pastry\",\"Bread\",\"Coffee\",\"Toast\",\"Coffee\",\"Bread\",\"Coffee\",\"Bread\",\"Cookies\",\"Medialuna\",\"Bread\",\"Tea\",\"Coffee\",\"Cake\",\"Jam\",\"Truffles\",\"Coffee\",\"Juice\",\"Pastry\",\"Cookies\",\"Coffee\",\"Tiffin\",\"Bread\",\"Cake\",\"Cookies\",\"Coffee\",\"Juice\",\"Vegan Feast\",\"Pastry\",\"Coffee\",\"Coffee\",\"Pastry\",\"Coffee\",\"Bread\",\"Bread\",\"Coffee\",\"Bread\",\"Coffee\",\"Medialuna\",\"Coffee\",\"Coffee\",\"Tea\",\"Tiffin\",\"Bread\",\"Brownie\",\"Coffee\",\"Tea\",\"Sandwich\",\"Coffee\",\"Tiffin\",\"Bread\",\"Scone\",\"Soup\",\"Salad\",\"Bread\",\"Sandwich\",\"Coke\",\"Toast\",\"Coffee\",\"Bread\",\"Cake\",\"Sandwich\",\"Coffee\",\"Truffles\",\"Soup\",\"Vegan mincepie\",\"Cookies\",\"Tiffin\",\"Bread\",\"Cookies\",\"Soup\",\"Coffee\",\"Spanish Brunch\",\"Coffee\",\"Scone\",\"Bread\",\"Coffee\",\"Sandwich\",\"Salad\",\"Spanish Brunch\",\"Coke\",\"Coffee\",\"Tea\",\"Bread\",\"Tiffin\",\"Chicken Stew\",\"Tea\",\"Bread\",\"Cake\",\"Truffles\",\"Mineral water\",\"Bread\",\"Scone\",\"Spanish Brunch\",\"Coffee\",\"Truffles\",\"Cake\",\"Coffee\",\"Coffee\",\"Bread\",\"Cookies\",\"Tiffin\",\"Tea\",\"Medialuna\",\"Coffee\",\"Coffee\",\"Toast\",\"Baguette\",\"Farm House\",\"Medialuna\",\"Cake\",\"Bread\",\"Bread\",\"Coffee\",\"Tea\",\"The Nomad\",\"Coffee\",\"Medialuna\",\"Duck egg\",\"Tea\",\"Coffee\",\"Scone\",\"Bread\",\"Scandinavian\",\"Tea\",\"Coffee\",\"Scandinavian\",\"Bread\",\"Chocolates\",\"Coffee\",\"Coke\",\"Coffee\",\"Bread\",\"Tea\",\"Juice\",\"Scone\",\"Pastry\",\"Coffee\",\"Coffee\",\"Baguette\",\"Tea\",\"Spanish Brunch\",\"Fudge\",\"Jam\",\"Coffee\",\"Spanish Brunch\",\"Truffles\",\"Scone\",\"Cake\",\"Scandinavian\",\"Coffee\",\"Sandwich\",\"Coffee\",\"Bread\",\"Farm House\",\"Bread\",\"Toast\",\"Cookies\",\"Bread\",\"Farm House\",\"Coffee\",\"Cookies\",\"Spanish Brunch\",\"Bread\",\"Cake\",\"Medialuna\",\"Coffee\",\"Brownie\",\"Pastry\",\"Coffee\",\"Soup\",\"Sandwich\",\"Muffin\",\"Tea\",\"Tiffin\",\"Bread\",\"Coffee\",\"Bread\",\"Hot chocolate\",\"Bread\",\"Cookies\",\"Bread\",\"Juice\",\"Cake\",\"Jammie Dodgers\",\"Scone\",\"Bread\",\"Tea\",\"Bread\",\"Hot chocolate\",\"Tiffin\",\"Coffee\",\"Bread\",\"Coffee\",\"Cake\",\"Granola\",\"Coffee\",\"Sandwich\",\"Scone\",\"Pastry\",\"Sandwich\",\"Sandwich\",\"Coffee\",\"Bread\",\"Pastry\",\"Cake\",\"Pastry\",\"Brownie\",\"Drinking chocolate spoons \",\"Bread\",\"Coffee\",\"Sandwich\",\"Coffee\",\"Sandwich\",\"Jammie Dodgers\",\"Bread\",\"Tea\",\"Cake\",\"Coffee\",\"Tea\",\"Juice\",\"Muffin\",\"Salad\",\"Tea\",\"Spanish Brunch\",\"Spanish Brunch\",\"Sandwich\",\"Toast\",\"Cake\",\"Medialuna\",\"Chicken Stew\",\"Bread\",\"Soup\",\"Bread\",\"Bread\",\"Coffee\",\"Juice\",\"Scone\",\"Coffee\",\"Toast\",\"Scone\",\"Bread\",\"Bread\",\"Cake\",\"Brownie\",\"Coke\",\"Coffee\",\"Sandwich\",\"Bread\",\"Jammie Dodgers\",\"Cake\",\"Coffee\",\"Bread\",\"Scone\",\"Coffee\",\"Scone\",\"Cake\",\"Sandwich\",\"Coffee\",\"Argentina Night\",\"Vegan Feast\",\"Coffee\",\"Cake\",\"Cake\",\"Tea\",\"Tea\",\"Cake\",\"Scone\",\"Bread\",\"Bread\",\"Coffee\",\"Coffee\",\"Cake\",\"Coffee\",\"Coffee\",\"Bread\",\"Juice\",\"Muffin\",\"Cookies\",\"The Nomad\",\"Duck egg\",\"Coffee\",\"Tea\",\"Coffee\",\"Muffin\",\"Hot chocolate\",\"Coffee\",\"Scone\",\"Cake\",\"Coffee\",\"Pastry\",\"Coffee\",\"Pastry\",\"Scone\",\"Bread\",\"Bread\",\"Coffee\",\"Sandwich\",\"Brownie\",\"Coffee\",\"Cake\",\"Scone\",\"Coffee\",\"Spanish Brunch\",\"Coffee\",\"Bread\",\"Coffee\",\"Coffee\",\"Spanish Brunch\",\"Spanish Brunch\",\"Coffee\",\"Bread\",\"Cake\",\"Muffin\",\"Vegan Feast\",\"Bread\",\"Brownie\",\"Coffee\",\"Bread\",\"Coffee\",\"Coffee\",\"Bread\",\"Hot chocolate\",\"Cake\",\"Vegan mincepie\",\"Tea\",\"Muffin\",\"Jammie Dodgers\",\"Bread\",\"Tea\",\"Pastry\",\"Scone\",\"Coffee\",\"Tea\",\"Coffee\",\"Pastry\",\"Baguette\",\"Cookies\",\"Coffee\",\"Coffee\",\"Coffee\",\"Bread\",\"Coffee\",\"Truffles\",\"Juice\",\"Coffee\",\"Coffee\",\"Smoothies\",\"Spanish Brunch\",\"Coffee\",\"Juice\",\"Toast\",\"Muffin\",\"Bread\",\"The Nomad\",\"Coffee\",\"Hot chocolate\",\"Bread\",\"Spanish Brunch\",\"Tea\",\"Spanish Brunch\",\"Coffee\",\"Smoothies\",\"Cookies\",\"Medialuna\",\"Scone\",\"Half slice Monster \",\"Tiffin\",\"Coffee\",\"Juice\",\"Baguette\",\"Coffee\",\"Coke\",\"Tea\",\"Sandwich\",\"Spanish Brunch\",\"Bread\",\"Hot chocolate\",\"Coffee\",\"Cookies\",\"Soup\",\"Coffee\",\"Cake\",\"Bread\",\"Coffee\",\"Bread\",\"Mineral water\",\"Drinking chocolate spoons \",\"Coffee\",\"Hot chocolate\",\"Tea\",\"Cake\",\"Tea\",\"Coffee\",\"Cake\",\"Jammie Dodgers\",\"Medialuna\",\"Scone\",\"Hot chocolate\",\"Cake\",\"Medialuna\",\"Muffin\",\"Spanish Brunch\",\"Chicken Stew\",\"Coffee\",\"Farm House\",\"Coffee\",\"Cake\",\"Cake\",\"Cookies\",\"Tea\",\"Coffee\",\"Sandwich\",\"Soup\",\"Coffee\",\"Cookies\",\"Bread\",\"Cake\",\"Coffee\",\"Spanish Brunch\",\"Sandwich\",\"Coffee\",\"Cookies\",\"Bread\",\"Hot chocolate\",\"Sandwich\",\"Chocolates\",\"Pastry\",\"Coffee\",\"Coffee\",\"Jammie Dodgers\",\"Coffee\",\"Cake\",\"Pastry\",\"Bread\",\"Jam\",\"Bread\",\"Tea\",\"Tea\",\"Coffee\",\"Spanish Brunch\",\"Afternoon with the baker\",\"Bread\",\"Coffee\",\"Cookies\",\"Coffee\",\"Tea\",\"Cookies\",\"Cake\",\"Coffee\",\"Coffee\",\"Coffee\",\"Muffin\",\"Bread\",\"Tea\",\"Coffee\",\"Pastry\",\"Sandwich\",\"Tea\",\"Coffee\",\"Bread\",\"Tea\",\"Cake\",\"Coffee\",\"Baguette\",\"Baguette\",\"Scone\",\"Coffee\",\"Coffee\",\"Pastry\",\"Coffee\",\"Pastry\",\"Pastry\",\"Bread\",\"Pastry\",\"Coffee\",\"Tea\",\"Bread\",\"Baguette\",\"Coffee\",\"Bread\",\"Truffles\",\"Tea\",\"Soup\",\"Salad\",\"Cookies\",\"Bread\",\"Soup\",\"Coffee\",\"Soup\",\"Afternoon with the baker\",\"Coffee\",\"Afternoon with the baker\",\"Spanish Brunch\",\"Sandwich\",\"Coffee\",\"Sandwich\",\"Coffee\",\"Sandwich\",\"Coffee\",\"Coffee\",\"Sandwich\",\"Salad\",\"Tea\",\"Juice\",\"Sandwich\",\"Tea\",\"Coffee\",\"Hot chocolate\",\"Coffee\",\"Soup\",\"Tea\",\"Cake\",\"Cake\",\"Bread\",\"Jammie Dodgers\",\"Cake\",\"Coffee\",\"Coffee\",\"Salad\",\"Baguette\",\"Coffee\",\"Jammie Dodgers\",\"Pastry\",\"Coffee\",\"Cookies\",\"Coffee\",\"Pastry\",\"Farm House\",\"Bread\",\"Coffee\",\"Coffee\",\"Baguette\",\"Coffee\",\"Toast\",\"Tea\",\"Pastry\",\"Bread\",\"Coffee\",\"Pastry\",\"Bread\",\"Salad\",\"Bread\",\"Pastry\",\"Coffee\",\"Bread\",\"Coffee\",\"Toast\",\"Coffee\",\"Coffee\",\"Gift voucher\",\"Bread\",\"Pastry\",\"Bread\",\"Sandwich\",\"Mineral water\",\"Coffee\",\"Pastry\",\"Truffles\",\"Chicken Stew\",\"Pastry\",\"Coffee\",\"Jammie Dodgers\",\"Sandwich\",\"Bread\",\"Cookies\",\"Tea\",\"Coffee\",\"Medialuna\",\"Chicken Stew\",\"Coffee\",\"Tea\",\"Juice\",\"Sandwich\",\"Chicken Stew\",\"Tea\",\"Bread\",\"Sandwich\",\"Cake\",\"Coffee\",\"Muffin\",\"Coffee\",\"Juice\",\"Bakewell\",\"Cake\",\"Cookies\",\"Juice\",\"Soup\",\"Chicken Stew\",\"Coffee\",\"Bakewell\",\"Juice\",\"Coffee\",\"Coffee\",\"Bread\",\"Tea\",\"Bread\",\"Bakewell\",\"Tea\",\"Coffee\",\"Cake\",\"Coffee\",\"Bakewell\",\"Coffee\",\"Juice\",\"Cookies\",\"Cake\",\"Hot chocolate\",\"Coffee\",\"Sandwich\",\"Cake\",\"Medialuna\",\"Bread\",\"Cake\",\"Cookies\",\"Jammie Dodgers\",\"Vegan Feast\",\"Bread\",\"Coffee\",\"Coffee\",\"Bread\",\"Baguette\",\"Bread\",\"Coffee\",\"Pastry\",\"Pastry\",\"Coffee\",\"Bread\",\"Bread\",\"Cake\",\"Pastry\",\"Toast\",\"Hot chocolate\",\"Coffee\",\"Coffee\",\"Sandwich\",\"Coffee\",\"Cookies\",\"Coffee\",\"Cake\",\"Bread\",\"Bread\",\"Bread\",\"Jam\",\"Christmas common\",\"Coffee\",\"Coke\",\"Salad\",\"Extra Salami or Feta\",\"Cookies\",\"Cake\",\"Truffles\",\"Pastry\",\"Cookies\",\"Baguette\",\"Coffee\",\"Brownie\",\"Coffee\",\"Toast\",\"Tea\",\"Cookies\",\"Pastry\",\"Coke\",\"Brownie\",\"Coffee\",\"Coffee\",\"Cake\",\"Sandwich\",\"Truffles\",\"Cake\",\"Cake\",\"Bakewell\",\"Tea\",\"Coffee\",\"Cake\",\"Pastry\",\"Hot chocolate\",\"Coffee\",\"Brownie\",\"Coffee\",\"Scone\",\"Cake\",\"Baguette\",\"Coffee\",\"Tea\",\"Coffee\",\"Bread\",\"Cake\",\"Bread\",\"Bread\",\"Coffee\",\"Scone\",\"Bread\",\"Coffee\",\"Juice\",\"Coffee\",\"Cake\",\"Coffee\",\"Brownie\",\"Baguette\",\"Cookies\",\"Medialuna\",\"Bread\",\"Coffee\",\"Mineral water\",\"Coffee\",\"Cookies\",\"Coffee\",\"Bread\",\"Coffee\",\"Toast\",\"Bread\",\"Pastry\",\"Bread\",\"Coffee\",\"Pastry\",\"Coffee\",\"Bread\",\"Toast\",\"Coffee\",\"Farm House\",\"Bread\",\"Coffee\",\"Pastry\",\"Coffee\",\"Hot chocolate\",\"Cookies\",\"Coffee\",\"Toast\",\"Granola\",\"Bread\",\"Pastry\",\"Hot chocolate\",\"Bread\",\"Brownie\",\"Bread\",\"Juice\",\"Crisps\",\"Jammie Dodgers\",\"Medialuna\",\"Tea\",\"Bread\",\"Jammie Dodgers\",\"Cherry me Dried fruit\",\"Toast\",\"Extra Salami or Feta\",\"Hot chocolate\",\"Coffee\",\"Cake\",\"Bread\",\"Farm House\",\"Coffee\",\"Medialuna\",\"Baguette\",\"Scandinavian\",\"Sandwich\",\"Bread\",\"Coffee\",\"Toast\",\"Tea\",\"Bread\",\"Bread\",\"Tea\",\"Coffee\",\"Bread\",\"Chicken Stew\",\"Bread\",\"Soup\",\"Soup\",\"Salad\",\"Tea\",\"Mineral water\",\"Juice\",\"Cake\",\"Truffles\",\"Chicken Stew\",\"Sandwich\",\"Pastry\",\"Chicken Stew\",\"Coffee\",\"Eggs\",\"Bread\",\"Coffee\",\"Soup\",\"Coffee\",\"Scone\",\"Coke\",\"Bread\",\"Brownie\",\"Coffee\",\"Hot chocolate\",\"Cookies\",\"Coffee\",\"Cookies\",\"Bread\",\"Cake\",\"Cake\",\"Coffee\",\"Coffee\",\"Tea\",\"Bakewell\",\"Bread\",\"Smoothies\",\"Coffee\",\"Cake\",\"Bread\",\"Hot chocolate\",\"Tea\",\"Scone\",\"Baguette\",\"Cookies\",\"Coffee\",\"Bakewell\",\"Mortimer\",\"Bread\",\"Bread\",\"Coffee\",\"Pastry\",\"Coffee\",\"Bread\",\"Pastry\",\"Bread\",\"Coffee\",\"Baguette\",\"Coffee\",\"Bread\",\"Coffee\",\"Toast\",\"Cake\",\"Bread\",\"Coffee\",\"Coffee\",\"Coffee\",\"Juice\",\"Cake\",\"Cookies\",\"Baguette\",\"Tea\",\"Cake\",\"Pastry\",\"Coffee\",\"Tea\",\"Tea\",\"Coffee\",\"Pastry\",\"Bread\",\"Scandinavian\",\"Cake\",\"Tiffin\",\"Coffee\",\"Tea\",\"Hot chocolate\",\"Pastry\",\"Cake\",\"Brownie\",\"Bread\",\"Bread\",\"Coffee\",\"Toast\",\"Coffee\",\"Tea\",\"Toast\",\"Coffee\",\"Sandwich\",\"Pastry\",\"Coffee\",\"Bread\",\"Coffee\",\"Tiffin\",\"Coffee\",\"Cake\",\"Brownie\",\"Half slice Monster \",\"Coffee\",\"Mineral water\",\"Bread\",\"Coffee\",\"Cookies\",\"Brownie\",\"Coffee\",\"Soup\",\"Sandwich\",\"Coffee\",\"Coffee granules \",\"Extra Salami or Feta\",\"Salad\",\"Salad\",\"Coffee\",\"Coffee\",\"Cake\",\"Salad\",\"Cake\",\"Cookies\",\"Coffee\",\"Cookies\",\"Scone\",\"Coffee\",\"Coffee\",\"Salad\",\"Coke\",\"Coffee\",\"Cake\",\"Hot chocolate\",\"Coffee\",\"Tiffin\",\"Hot chocolate\",\"Coffee\",\"Scone\",\"Bread\",\"Hot chocolate\",\"Coffee\",\"Tiffin\",\"Coffee\",\"Sandwich\",\"Hot chocolate\",\"Coffee\",\"Pastry\",\"Coffee\",\"Medialuna\",\"Coffee\",\"Pastry\",\"Coffee\",\"Medialuna\",\"Cookies\",\"Bread\",\"Pastry\",\"Coffee\",\"Bread\",\"Baguette\",\"Toast\",\"Coffee\",\"Farm House\",\"Cake\",\"Pastry\",\"Bread\",\"Coffee\",\"Coffee\",\"Cookies\",\"Bread\",\"Coffee\",\"Pastry\",\"Medialuna\",\"Cake\",\"Scone\",\"Scandinavian\",\"Coffee\",\"Coffee\",\"Coffee\",\"Afternoon with the baker\",\"Coffee\",\"Duck egg\",\"Bread\",\"Tea\",\"Toast\",\"Coffee\",\"Bread\",\"Coffee\",\"Toast\",\"Bread\",\"Truffles\",\"Juice\",\"Coffee\",\"Bread\",\"Toast\",\"Coffee\",\"Tea\",\"Coffee\",\"Tiffin\",\"Scone\",\"Bread\",\"Coffee\",\"Brownie\",\"Jam\",\"Mineral water\",\"Scone\",\"Mineral water\",\"Coffee\",\"Hot chocolate\",\"Bread\",\"Scone\",\"Bread\",\"Coffee\",\"Salad\",\"Sandwich\",\"Bread\",\"Coffee\",\"Coffee\",\"Scone\",\"Tiffin\",\"Coffee\",\"Tea\",\"Coffee\",\"Soup\",\"Mineral water\",\"Brownie\",\"Mineral water\",\"Bread\",\"Scone\",\"Cookies\",\"Soup\",\"Spanish Brunch\",\"The Nomad\",\"Coffee\",\"Bread\",\"Sandwich\",\"Coffee\",\"Tiffin\",\"Cake\",\"Coffee\",\"Cookies\",\"Tiffin\",\"Sandwich\",\"Salad\",\"Bread\",\"Juice\",\"Sandwich\",\"Tea\",\"Cake\",\"Coffee\",\"Bread\",\"Bread\",\"Jam\",\"Bread\",\"The Nomad\",\"Jam\",\"Bread\",\"Coffee\",\"Hot chocolate\",\"Brownie\",\"Bread\",\"Bread\",\"Coffee\",\"Tea\",\"Spanish Brunch\",\"Fudge\",\"Baguette\",\"Sandwich\",\"Bread\",\"Sandwich\",\"Scandinavian\",\"Tea\",\"Scone\",\"Tea\",\"Tiffin\",\"Brownie\",\"Scone\",\"Bread\",\"Coffee\",\"Cake\",\"Scone\",\"Bread\",\"Cake\",\"Coffee\",\"Cake\",\"Bread\",\"Tea\",\"Coffee\",\"Tea\",\"Scone\",\"Hot chocolate\",\"Coffee\",\"Cake\",\"Half slice Monster \",\"Tea\",\"Chicken Stew\",\"Tea\",\"Cookies\",\"Cake\",\"Coffee\",\"Tea\",\"Cake\",\"Coffee\",\"Smoothies\",\"Soup\",\"Sandwich\",\"Cake\",\"Coffee\",\"Coke\",\"Salad\",\"Coffee\",\"Coffee\",\"Coffee\",\"Tiffin\",\"Spanish Brunch\",\"Scone\",\"Coffee\",\"Bread\",\"Coffee\",\"Medialuna\",\"Bread\",\"Tea\",\"Bread\",\"Coffee\",\"Cake\",\"Tea\",\"Coffee\",\"Medialuna\",\"Tiffin\",\"Coffee\",\"Bread\",\"Bread\",\"Medialuna\",\"Coffee\",\"Tea\",\"Scone\",\"Hot chocolate\",\"Tea\",\"Bread\",\"Cake\",\"Bread\",\"Spanish Brunch\",\"Bread\",\"Spanish Brunch\",\"Truffles\",\"Juice\",\"Coffee\",\"Tiffin\",\"Coffee\",\"Bread\",\"Bread\",\"Farm House\",\"Coffee\",\"Scone\",\"Bread\",\"Coffee\",\"Spanish Brunch\",\"Art Tray\",\"Spanish Brunch\",\"Hot chocolate\",\"Coffee\",\"Cake\",\"Scone\",\"Tiffin\",\"Coffee\",\"Tea\",\"Cookies\",\"Coffee\",\"Bread\",\"Sandwich\",\"Muffin\",\"Bread\",\"Cookies\",\"Farm House\",\"Spanish Brunch\",\"Salad\",\"Tea\",\"Coffee\",\"Pastry\",\"Cake\",\"Smoothies\",\"Coffee\",\"Soup\",\"Salad\",\"Sandwich\",\"Tea\",\"Coffee\",\"Sandwich\",\"Spanish Brunch\",\"Toast\",\"Salad\",\"Baguette\",\"Sandwich\",\"Cake\",\"Bread\",\"Muffin\",\"Coffee\",\"Pastry\",\"Coffee\",\"Sandwich\",\"Chicken Stew\",\"Cake\",\"Coffee\",\"Bread\",\"Spanish Brunch\",\"Coffee\",\"Coke\",\"Bread\",\"Mineral water\",\"Soup\",\"Tea\",\"Cake\",\"Coffee\",\"Sandwich\",\"Muffin\",\"Coffee\",\"Coffee\",\"Tea\",\"Cake\",\"Scone\",\"Pastry\",\"Scone\",\"Coffee\",\"Afternoon with the baker\",\"Coffee\",\"Coffee\",\"Coffee\",\"Bread\",\"Coffee\",\"Bread\",\"Coffee\",\"Coffee\",\"Bread\",\"Coffee\",\"Pastry\",\"Bread\",\"Toast\",\"Pastry\",\"Cake\",\"Bread\",\"Coffee\",\"Muffin\",\"Baguette\",\"Coffee\",\"Bread\",\"Coffee\",\"Mineral water\",\"Cookies\",\"Toast\",\"Tea\",\"Spanish Brunch\",\"Coffee\",\"Coffee\",\"Bread\",\"Coffee granules \",\"Cake\",\"Muffin\",\"Juice\",\"Coffee\",\"Cake\",\"Juice\",\"Sandwich\",\"Coffee\",\"Pastry\",\"Coffee\",\"Muffin\",\"Truffles\",\"Sandwich\",\"Coffee\",\"Baguette\",\"Farm House\",\"Pastry\",\"Jam\",\"Sandwich\",\"Coffee\",\"Hot chocolate\",\"Coffee\",\"Brownie\",\"Muffin\",\"Bread\",\"Coffee\",\"Bread\",\"Sandwich\",\"Coffee\",\"Spanish Brunch\",\"Coffee\",\"Coffee\",\"Toast\",\"Coffee\",\"Muffin\",\"Coffee\",\"Tea\",\"Brownie\",\"Hot chocolate\",\"Tea\",\"Bread\",\"Bread\",\"Salad\",\"Salad\",\"Tea\",\"Coffee\",\"Muffin\",\"Tea\",\"Farm House\",\"Tea\",\"Coffee\",\"Bread\",\"Pastry\",\"Farm House\",\"Coffee\",\"Cookies\",\"Tea\",\"Medialuna\",\"Coffee\",\"Cookies\",\"Coffee\",\"Pastry\",\"Pastry\",\"Coffee\",\"Pastry\",\"Cake\",\"Bread\",\"Scandinavian\",\"Bread\",\"Coffee\",\"Coffee\",\"Toast\",\"Coffee\",\"Coffee\",\"Pastry\",\"Coffee\",\"Cookies\",\"Cake\",\"Mineral water\",\"Coffee\",\"Toast\",\"Baguette\",\"Farm House\",\"Cake\",\"Tea\",\"Coffee\",\"Farm House\",\"Coffee\",\"Coffee\",\"Bread\",\"Coffee\",\"Muffin\",\"Christmas common\",\"Coffee\",\"Sandwich\",\"Soup\",\"Sandwich\",\"Mineral water\",\"Bread\",\"Coffee\",\"Bread\",\"Spanish Brunch\",\"Sandwich\",\"Farm House\",\"Coffee\",\"Cake\",\"Coffee\",\"Tea\",\"Soup\",\"Coffee\",\"Cookies\",\"Coffee\",\"Sandwich\",\"Coffee\",\"Bread\",\"Jam\",\"Cake\",\"Bread\",\"Sandwich\",\"Coffee\",\"Truffles\",\"Coffee\",\"Truffles\",\"Coffee\",\"Soup\",\"Sandwich\",\"Sandwich\",\"Coffee\",\"Tea\",\"Sandwich\",\"Coffee\",\"Tea\",\"Coffee\",\"Cookies\",\"Coffee\",\"Bread\",\"Muffin\",\"Baguette\",\"Bread\",\"Christmas common\",\"Coffee\",\"Bread\",\"Cookies\",\"Cake\",\"Coffee\",\"Bread\",\"Coffee\",\"Cake\",\"Bread\",\"Half slice Monster \",\"Juice\",\"Cookies\",\"Coffee\",\"Coffee\",\"Bread\",\"Bread\",\"Tea\",\"Muffin\",\"Bread\",\"Baguette\",\"Farm House\",\"Coffee\",\"Cookies\",\"Coffee\",\"Bread\",\"Brownie\",\"Coffee\",\"Sandwich\",\"Cherry me Dried fruit\",\"Coffee\",\"Coffee\",\"Coffee\",\"Pastry\",\"Muffin\",\"Coke\",\"Bread\",\"Coffee\",\"Scandinavian\",\"Brownie\",\"Pastry\",\"Coffee\",\"Coffee\",\"Baguette\",\"Farm House\",\"Bread\",\"Bread\",\"Toast\",\"Coffee\",\"Coffee\",\"Tea\",\"Cookies\",\"Tea\",\"Smoothies\",\"Farm House\",\"Coffee\",\"Bread\",\"Chicken Stew\",\"Juice\",\"Coffee\",\"Bread\",\"Sandwich\",\"Bread\",\"Coffee\",\"Toast\",\"Soup\",\"Cake\",\"Coffee\",\"Coffee\",\"Toast\",\"Granola\",\"Spanish Brunch\",\"Bread\",\"Mineral water\",\"Tea\",\"Bread\",\"Sandwich\",\"Coke\",\"Soup\",\"Coffee\",\"Bread\",\"Coffee\",\"Coffee\",\"Sandwich\",\"Coffee\",\"Tea\",\"Cake\",\"Bread\",\"Pastry\",\"Juice\",\"Soup\",\"Jam\",\"Coffee\",\"Tea\",\"Salad\",\"Spanish Brunch\",\"Bread\",\"Pastry\",\"Bread\",\"Cake\",\"Juice\",\"Coffee\",\"Mortimer\",\"Coffee\",\"Coffee\",\"Coke\",\"Truffles\",\"Juice\",\"Coffee\",\"Tea\",\"Soup\",\"Bread\",\"Coffee\",\"Juice\",\"Tea\",\"Cookies\",\"Bread\",\"Jam\",\"Coffee\",\"Coffee\",\"Pastry\",\"Bread\",\"Pastry\",\"Coffee\",\"Coffee\",\"Bread\",\"Coffee\",\"Bread\",\"Coffee\",\"Bread\",\"Pastry\",\"Cake\",\"Bread\",\"Juice\",\"Tiffin\",\"Coffee\",\"Brownie\",\"Cookies\",\"Cookies\",\"Pastry\",\"Tea\",\"Juice\",\"Bread\",\"Coffee\",\"Toast\",\"Bread\",\"Bread\",\"Juice\",\"Hot chocolate\",\"Coffee\",\"Cake\",\"Bread\",\"Brownie\",\"Pastry\",\"Coffee\",\"Bread\",\"Tiffin\",\"Brownie\",\"Farm House\",\"Bread\",\"Sandwich\",\"Bread\",\"Brownie\",\"Bread\",\"Soup\",\"Sandwich\",\"Mineral water\",\"Juice\",\"Coffee\",\"Pastry\",\"Coffee\",\"Cake\",\"Chicken Stew\",\"Soup\",\"Bread\",\"Coffee\",\"Chicken Stew\",\"Spanish Brunch\",\"Chicken Stew\",\"Juice\",\"Coffee\",\"Cookies\",\"Bread\",\"Sandwich\",\"Soup\",\"Argentina Night\",\"Bread\",\"Sandwich\",\"Bread\",\"Coffee\",\"Salad\",\"Truffles\",\"Coke\",\"Baguette\",\"Pastry\",\"Medialuna\",\"Tea\",\"Bread\",\"Soup\",\"Spanish Brunch\",\"Chicken Stew\",\"Sandwich\",\"Spanish Brunch\",\"Coffee\",\"Bread\",\"Juice\",\"Nomad bag\",\"Coffee\",\"Tiffin\",\"Coffee\",\"Baguette\",\"Pastry\",\"Pastry\",\"Coffee\",\"Coffee\",\"Bread\",\"Tea\",\"Brownie\",\"Coffee\",\"Cake\",\"Coffee\",\"Coffee\",\"Cake\",\"Bread\",\"Coffee\",\"Truffles\",\"Chicken Stew\",\"Farm House\",\"Bread\",\"Coffee\",\"Hot chocolate\",\"Drinking chocolate spoons \",\"Tiffin\",\"Smoothies\",\"Coffee\",\"Mortimer\",\"Cookies\",\"Brownie\",\"Coffee\",\"Tea\",\"Coffee\",\"Coffee\",\"Coffee\",\"Medialuna\",\"Coffee\",\"Farm House\",\"Baguette\",\"Bread\",\"Pastry\",\"Coffee\",\"Tea\",\"Coffee\",\"Tiffin\",\"Coffee\",\"Tea\",\"Pastry\",\"Coffee\",\"Bread\",\"Baguette\",\"Coffee\",\"Juice\",\"Spanish Brunch\",\"Bread\",\"Coffee\",\"Bread\",\"Scandinavian\",\"Pastry\",\"Coffee\",\"Cookies\",\"Scandinavian\",\"Coffee\",\"Muffin\",\"Bread\",\"Coffee\",\"Coffee\",\"Pastry\",\"Bread\",\"Coffee\",\"Tea\",\"Coffee\",\"Bread\",\"Cake\",\"Baguette\",\"Coffee\",\"Pastry\",\"Bread\",\"Coffee\",\"Brownie\",\"Bread\",\"Tiffin\",\"Bread\",\"Cookies\",\"Bread\",\"Coffee\",\"Bread\",\"Muffin\",\"Tiffin\",\"Chicken Stew\",\"Bread\",\"Bread\",\"Chicken Stew\",\"Coffee\",\"Spanish Brunch\",\"Salad\",\"Bread\",\"Coffee\",\"Sandwich\",\"Coffee\",\"Hot chocolate\",\"Toast\",\"Sandwich\",\"Soup\",\"Cake\",\"Coffee\",\"Muffin\",\"Cake\",\"Cookies\",\"Cake\",\"Coffee\",\"Coffee\",\"Truffles\",\"Soup\",\"Sandwich\",\"Spanish Brunch\",\"Bread\",\"Mineral water\",\"Truffles\",\"Jam\",\"Coffee\",\"Toast\",\"Spanish Brunch\",\"Baguette\",\"Coffee\",\"Juice\",\"Cake\",\"Brownie\",\"Coffee\",\"Tea\",\"Cake\",\"Bread\",\"Bread\",\"Eggs\",\"Tea\",\"Juice\",\"Cookies\",\"Coffee\",\"Cake\",\"Bread\",\"Coffee\",\"Cake\",\"Tiffin\",\"Truffles\",\"Coffee\",\"Tea\",\"Truffles\",\"Bread\",\"Coffee\",\"Coffee\",\"Baguette\",\"Coffee\",\"Toast\",\"Juice\",\"Coffee\",\"Bread\",\"Spanish Brunch\",\"Farm House\",\"Bread\",\"Cake\",\"Pastry\",\"Coffee\",\"Bread\",\"Pastry\",\"Farm House\",\"Cookies\",\"Pastry\",\"Baguette\",\"Farm House\",\"Jammie Dodgers\",\"Tea\",\"Bread\",\"Scandinavian\",\"Bread\",\"Pastry\",\"Coffee\",\"Muffin\",\"Scandinavian\",\"Baguette\",\"Muffin\",\"Cake\",\"Pastry\",\"Jammie Dodgers\",\"Cookies\",\"Bread\",\"Hot chocolate\",\"Drinking chocolate spoons \",\"Muffin\",\"Pastry\",\"Scandinavian\",\"Bread\",\"Coffee\",\"Cake\",\"Bread\",\"Bread\",\"Pastry\",\"Bread\",\"Bread\",\"Coffee\",\"Spanish Brunch\",\"Coffee\",\"Coffee\",\"Juice\",\"Jammie Dodgers\",\"Cookies\",\"Muffin\",\"Pastry\",\"Bread\",\"Coffee\",\"Coffee\",\"Juice\",\"Pastry\",\"Hot chocolate\",\"Coffee\",\"Bread\",\"Scandinavian\",\"Cookies\",\"Tiffin\",\"Coffee\",\"Bread\",\"Coffee\",\"Pastry\",\"Coffee\",\"Bread\",\"Cake\",\"Farm House\",\"Coffee granules \",\"Coffee\",\"Bread\",\"Muffin\",\"Bread\",\"Coffee\",\"Muffin\",\"Cake\",\"Pastry\",\"Spanish Brunch\",\"Smoothies\",\"Duck egg\",\"Spanish Brunch\",\"Coffee\",\"Scandinavian\",\"Cookies\",\"Muffin\",\"Pastry\",\"Muffin\",\"Juice\",\"Smoothies\",\"Bread\",\"Cake\",\"Coffee\",\"Cookies\",\"Scandinavian\",\"Eggs\",\"Bread\",\"The Nomad\",\"Cake\",\"Scandinavian\",\"Coffee\",\"Bread\",\"Cake\",\"Juice\",\"Muffin\",\"Coffee\",\"Sandwich\",\"Bread\",\"Coffee\",\"Salad\",\"Juice\",\"Tea\",\"Bread\",\"Coffee\",\"Spanish Brunch\",\"Tea\",\"Juice\",\"Coffee\",\"Truffles\",\"Mineral water\",\"Soup\",\"Coke\",\"Salad\",\"Soup\",\"Smoothies\",\"Coffee\",\"Soup\",\"Spanish Brunch\",\"Coffee\",\"Bread\",\"Cake\",\"Mineral water\",\"Coffee\",\"Bread\",\"Bread\",\"Coffee\",\"Pastry\",\"Hot chocolate\",\"Smoothies\",\"Spanish Brunch\",\"Coffee\",\"Bread\",\"Truffles\",\"Spanish Brunch\",\"Sandwich\",\"Jammie Dodgers\",\"Cake\",\"Coke\",\"Coffee\",\"Hot chocolate\",\"Cake\",\"Spanish Brunch\",\"Coffee\",\"Bread\",\"Coffee\",\"Tea\",\"Coke\",\"Cake\",\"Bread\",\"Tea\",\"Coffee\",\"Bread\",\"Cake\",\"Bread\",\"Coffee\",\"Salad\",\"Extra Salami or Feta\",\"Coffee\",\"Sandwich\",\"Sandwich\",\"Hot chocolate\",\"Coffee\",\"Muffin\",\"Bread\",\"Coffee\",\"Salad\",\"Coffee\",\"Salad\",\"Sandwich\",\"Bread\",\"Coffee\",\"Hot chocolate\",\"Cake\",\"Coffee\",\"Smoothies\",\"Cake\",\"Bread\",\"Bread\",\"Cake\",\"Half slice Monster \",\"Coffee\",\"Juice\",\"Spanish Brunch\",\"Chicken Stew\",\"The Nomad\",\"Coke\",\"Tea\",\"Coffee\",\"Cake\",\"Coffee\",\"Tea\",\"Truffles\",\"Coffee\",\"Cake\",\"Muffin\",\"Bread\",\"Bread\",\"Bread\",\"Cookies\",\"Jammie Dodgers\",\"Mineral water\",\"Hot chocolate\",\"Tea\",\"Truffles\",\"Cake\",\"Muffin\",\"Bread\",\"Coffee\",\"Juice\",\"Cake\",\"Mortimer\",\"Coffee granules \",\"Medialuna\",\"Bread\",\"Bread\",\"Jam\",\"Coffee\",\"Medialuna\",\"Coffee\",\"Medialuna\",\"Medialuna\",\"Coffee\",\"Pastry\",\"Medialuna\",\"Coffee\",\"Coffee\",\"Sandwich\",\"Medialuna\",\"Medialuna\",\"Bread\",\"Cake\",\"Muffin\",\"Granola\",\"Sandwich\",\"Coffee\",\"Hot chocolate\",\"Tea\",\"Muffin\",\"Jam\",\"Bread\",\"Coffee\",\"Bread\",\"Cake\",\"Spanish Brunch\",\"Spanish Brunch\",\"Juice\",\"Coffee\",\"Bread\",\"Bread\",\"Pastry\",\"Coffee\",\"Coffee\",\"Bread\",\"Pastry\",\"Muffin\",\"Cake\",\"Coffee\",\"Tea\",\"Bread\",\"Baguette\",\"Coffee\",\"Spanish Brunch\",\"Extra Salami or Feta\",\"Toast\",\"Coffee\",\"Cake\",\"Bread\",\"Coffee\",\"Sandwich\",\"Pastry\",\"Bread\",\"Coffee\",\"Coffee\",\"Baguette\",\"Smoothies\",\"Bread\",\"Bread\",\"Bread\",\"Spanish Brunch\",\"Juice\",\"Coffee\",\"Medialuna\",\"Cake\",\"Truffles\",\"Toast\",\"Spanish Brunch\",\"Tea\",\"Coffee\",\"Bread\",\"Coffee\",\"Juice\",\"Brownie\",\"Baguette\",\"Bread\",\"Bread\",\"Smoothies\",\"Coffee\",\"Coke\",\"Bread\",\"Cake\",\"Soup\",\"Coffee\",\"Smoothies\",\"Bread\",\"Cake\",\"Tea\",\"Sandwich\",\"Sandwich\",\"Coke\",\"Juice\",\"Mineral water\",\"Bread\",\"Baguette\",\"Tea\",\"Scone\",\"Medialuna\",\"Coffee\",\"Coffee\",\"Jammie Dodgers\",\"Brownie\",\"Hot chocolate\",\"Brownie\",\"Coffee\",\"Brownie\",\"Cake\",\"Brownie\",\"Bread\",\"Tea\",\"Coffee\",\"Sandwich\",\"Sandwich\",\"Coke\",\"Juice\",\"Coffee\",\"Tea\",\"Brownie\",\"Sandwich\",\"Bread\",\"Cake\",\"Muffin\",\"Coffee\",\"Cake\",\"Smoothies\",\"Sandwich\",\"Coffee\",\"Brownie\",\"Cake\",\"Tea\",\"Vegan Feast\",\"Hot chocolate\",\"Coffee\",\"Brownie\",\"Bread\",\"Cookies\",\"Sandwich\",\"Bread\",\"Juice\",\"Bakewell\",\"Coffee\",\"Coffee\",\"Muffin\",\"Coffee\",\"Bread\",\"Tea\",\"Toast\",\"Hot chocolate\",\"Toast\",\"Coffee\",\"Muffin\",\"Coffee\",\"Tea\",\"Coffee\",\"Toast\",\"Coffee\",\"Muffin\",\"Tea\",\"Scone\",\"Tea\",\"Bread\",\"Coffee\",\"Bread\",\"Coffee\",\"Tea\",\"Coffee\",\"Bread\",\"Coffee\",\"Coffee\",\"Coffee\",\"Scone\",\"Bakewell\",\"Hot chocolate\",\"Brownie\",\"Coke\",\"Muffin\",\"Coffee\",\"Coffee\",\"Sandwich\",\"Coke\",\"Chicken Stew\",\"Coffee\",\"Tea\",\"The Nomad\",\"Scone\",\"Coffee\",\"Coffee\",\"Chicken Stew\",\"Bread\",\"Bakewell\",\"Brownie\",\"Jammie Dodgers\",\"Bread\",\"Chicken Stew\",\"Sandwich\",\"Tea\",\"Coffee\",\"Coffee\",\"Coke\",\"Sandwich\",\"Coffee\",\"Jammie Dodgers\",\"Coffee\",\"Coke\",\"Mineral water\",\"Bakewell\",\"Salad\",\"Sandwich\",\"Coffee\",\"Bakewell\",\"Coffee\",\"Tea\",\"Muffin\",\"Coffee\",\"Bread\",\"Soup\",\"Tea\",\"Cookies\",\"Tea\",\"Coffee\",\"Sandwich\",\"Mineral water\",\"Coffee\",\"Coffee\",\"Bread\",\"Coffee\",\"Bread\",\"Coffee\",\"Toast\",\"Coffee\",\"Coffee\",\"Bakewell\",\"Coffee\",\"Sandwich\",\"Coffee\",\"Coffee\",\"Pastry\",\"Baguette\",\"Coffee\",\"Tea\",\"Cookies\",\"Coffee\",\"Tea\",\"Coffee\",\"Hot chocolate\",\"Pastry\",\"Jammie Dodgers\",\"Cookies\",\"Bakewell\",\"Coffee\",\"Coffee\",\"Pastry\",\"Pastry\",\"Coffee\",\"Tea\",\"Coffee\",\"Pastry\",\"Coffee\",\"Farm House\",\"Coffee\",\"Pastry\",\"Truffles\",\"Bakewell\",\"Baguette\",\"Bread\",\"Eggs\",\"Coke\",\"Coffee\",\"Sandwich\",\"Muffin\",\"Bakewell\",\"Coffee\",\"Soup\",\"Cake\",\"Muffin\",\"Toast\",\"Sandwich\",\"Mineral water\",\"Coke\",\"Juice\",\"Bread\",\"Toast\",\"Sandwich\",\"Bakewell\",\"Sandwich\",\"Mineral water\",\"Tea\",\"Sandwich\",\"Tea\",\"Sandwich\",\"Soup\",\"Coffee\",\"Soup\",\"Muffin\",\"Tea\",\"Coffee\",\"Sandwich\",\"Soup\",\"Coffee\",\"Muffin\",\"Soup\",\"Cake\",\"Juice\",\"Soup\",\"Salad\",\"Bread\",\"Hot chocolate\",\"Coffee\",\"Toast\",\"Muffin\",\"Coffee\",\"Bread\",\"Toast\",\"Tea\",\"Cookies\",\"Coffee\",\"Scone\",\"Coffee\",\"Chicken Stew\",\"Bread\",\"Cookies\",\"Cookies\",\"Muffin\",\"Cookies\",\"Bread\",\"Coffee\",\"Salad\",\"Coffee\",\"Coffee\",\"Hot chocolate\",\"Bread\",\"Cookies\",\"Bread\",\"Tea\",\"Juice\",\"Cookies\",\"Bread\",\"Spanish Brunch\",\"Granola\",\"Smoothies\",\"Farm House\",\"Hot chocolate\",\"Bread\",\"Coffee\",\"Bread\",\"Cake\",\"Coffee\",\"Toast\",\"Coffee\",\"Coffee\",\"Bread\",\"Coffee\",\"Bread\",\"Juice\",\"Coke\",\"Medialuna\",\"Sandwich\",\"Coffee\",\"Toast\",\"Coffee\",\"Coffee\",\"Tea\",\"Cake\",\"Medialuna\",\"Bread\",\"Spanish Brunch\",\"Art Tray\",\"Coffee\",\"Juice\",\"Coffee\",\"Bread\",\"Chicken Stew\",\"Soup\",\"Coffee\",\"Tea\",\"Coffee\",\"Cookies\",\"Sandwich\",\"Bread\",\"Tea\",\"Cake\",\"Soup\",\"Bread\",\"Tea\",\"Coffee\",\"Soup\",\"Cake\",\"Scone\",\"Coffee\",\"Bread\",\"Muffin\",\"Coffee\",\"Spanish Brunch\",\"Coffee\",\"Tea\",\"Tea\",\"Raw bars\",\"Coffee\",\"Medialuna\",\"Muffin\",\"Bread\",\"Coffee\",\"Drinking chocolate spoons \",\"Coffee\",\"Tea\",\"Tiffin\",\"Spanish Brunch\",\"Truffles\",\"Coffee\",\"Coffee\",\"Juice\",\"Tea\",\"Coffee\",\"Jammie Dodgers\",\"Soup\",\"Tea\",\"Cake\",\"Coffee\",\"Christmas common\",\"Christmas common\",\"Christmas common\",\"Hot chocolate\",\"Coffee\",\"Toast\",\"Coffee\",\"Mortimer\",\"Bread\",\"Bread\",\"Muffin\",\"Coffee\",\"Cookies\",\"Coffee\",\"Tea\",\"Cake\",\"Coffee\",\"Bread\",\"Tea\",\"Toast\",\"Bread\",\"Bread\",\"Coffee\",\"Hot chocolate\",\"Bread\",\"Baguette\",\"Bakewell\",\"Jammie Dodgers\",\"Smoothies\",\"Jammie Dodgers\",\"Tiffin\",\"Cake\",\"Bread\",\"Coffee\",\"Baguette\",\"Bread\",\"Farm House\",\"Coffee\",\"Coffee\",\"Juice\",\"Hot chocolate\",\"Muffin\",\"Coffee\",\"Muffin\",\"Bread\",\"Cake\",\"Jammie Dodgers\",\"Tea\",\"Truffles\",\"Coffee\",\"Bakewell\",\"Sandwich\",\"Cake\",\"Truffles\",\"Salad\",\"Juice\",\"Cake\",\"Sandwich\",\"Coffee\",\"Chicken Stew\",\"Coke\",\"Tea\",\"Cake\",\"Extra Salami or Feta\",\"Salad\",\"Toast\",\"Coffee\",\"Coffee\",\"Sandwich\",\"Truffles\",\"Soup\",\"Cookies\",\"Toast\",\"Coffee\",\"Cake\",\"Coffee\",\"Coffee\",\"Cake\",\"Tiffin\",\"Bread\",\"Bread\",\"Coffee\",\"Tea\",\"Cake\",\"Coffee\",\"Tea\",\"Sandwich\",\"Toast\",\"Coffee\",\"Cake\",\"Bread\",\"Coffee\",\"Tea\",\"Coffee\",\"Sandwich\",\"Coffee\",\"Tea\",\"Cake\",\"Tea\",\"Coffee\",\"Sandwich\",\"Coffee\",\"Cake\",\"Cake\",\"Coffee\",\"Juice\",\"Tea\",\"Cake\",\"Juice\",\"Coffee\",\"Spanish Brunch\",\"Bread\",\"Muffin\",\"Coffee\",\"Sandwich\",\"Coffee\",\"Coffee\",\"Toast\",\"Coffee\",\"Tiffin\",\"Coffee\",\"Coffee\",\"Toast\",\"Coffee\",\"Medialuna\",\"Medialuna\",\"Bread\",\"Tea\",\"Cookies\",\"Bread\",\"Tea\",\"Hot chocolate\",\"Tea\",\"Pastry\",\"Tiffin\",\"Coffee\",\"Bread\",\"Cake\",\"Bread\",\"Coffee\",\"Medialuna\",\"Farm House\",\"Jammie Dodgers\",\"Muffin\",\"Coffee\",\"Juice\",\"Alfajores\",\"Juice\",\"Coffee\",\"Medialuna\",\"Cookies\",\"Coffee\",\"Medialuna\",\"Bread\",\"Spanish Brunch\",\"Coffee\",\"Bread\",\"Bread\",\"Coffee\",\"Coffee\",\"Alfajores\",\"Bread\",\"Coke\",\"Cookies\",\"Cookies\",\"Bread\",\"Bread\",\"Cookies\",\"Bread\",\"Coffee\",\"Toast\",\"Coffee\",\"Coffee\",\"Pastry\",\"Coffee\",\"Juice\",\"Muffin\",\"Farm House\",\"Coffee\",\"Coffee\",\"Medialuna\",\"Bread\",\"Brownie\",\"Salad\",\"Extra Salami or Feta\",\"Bread\",\"Baguette\",\"Tea\",\"Bread\",\"Bread\",\"Hot chocolate\",\"Coffee\",\"Sandwich\",\"Cookies\",\"Chicken Stew\",\"Bread\",\"Sandwich\",\"Sandwich\",\"Coffee\",\"Bread\",\"Sandwich\",\"Coffee\",\"Tiffin\",\"Baguette\",\"Spanish Brunch\",\"Salad\",\"Extra Salami or Feta\",\"Coffee\",\"Bread\",\"Tiffin\",\"Chicken Stew\",\"Soup\",\"Bread\",\"Brownie\",\"Coffee\",\"Coke\",\"Mineral water\",\"Coffee\",\"Soup\",\"Sandwich\",\"Coffee\",\"Scone\",\"Coffee\",\"Scone\",\"Hot chocolate\",\"Bread\",\"Scone\",\"Bread\",\"Cookies\",\"Scone\",\"Bread\",\"Tea\",\"Brownie\",\"Tea\",\"Bread\",\"Cake\",\"Tea\",\"Pastry\",\"Hot chocolate\",\"Cake\",\"Coffee\",\"Tiffin\",\"Coffee\",\"Bread\",\"Cookies\",\"Coffee\",\"Coffee\",\"Brownie\",\"Scone\",\"Coke\",\"Coffee\",\"Soup\",\"Coffee\",\"Juice\",\"Coffee\",\"Coffee\",\"Bread\",\"Sandwich\",\"Bread\",\"Cake\",\"Farm House\",\"Bread\",\"Cake\",\"Bread\",\"Bread\",\"Cookies\",\"Scone\",\"Toast\",\"Coffee\",\"Coke\",\"Coffee\",\"Bread\",\"Cookies\",\"Brownie\",\"Juice\",\"Farm House\",\"Scone\",\"Bread\",\"Bread\",\"Pastry\",\"Coffee\",\"Bread\",\"Alfajores\",\"Tiffin\",\"Bread\",\"Coffee\",\"Scone\",\"Coffee granules \",\"Bread\",\"Sandwich\",\"Brownie\",\"Cookies\",\"Coffee\",\"Cookies\",\"Pastry\",\"Coffee\",\"Coffee\",\"Bread\",\"Cookies\",\"Cake\",\"Bread\",\"Coffee\",\"Truffles\",\"Coffee\",\"Coffee\",\"Juice\",\"Toast\",\"Bread\",\"Baguette\",\"Coffee\",\"Truffles\",\"Medialuna\",\"Alfajores\",\"Juice\",\"Coffee\",\"Cookies\",\"Coffee\",\"The Nomad\",\"Bread\",\"Baguette\",\"Bread\",\"Granola\",\"Coffee\",\"Bread\",\"Tea\",\"Pastry\",\"Coffee\",\"Crisps\",\"Bread\",\"Bread\",\"Smoothies\",\"Spanish Brunch\",\"Coffee\",\"Coffee\",\"Juice\",\"Tea\",\"Coffee\",\"Coffee\",\"Tea\",\"Cake\",\"Pastry\",\"Coffee\",\"Tiffin\",\"Cake\",\"Coffee\",\"Spanish Brunch\",\"The Nomad\",\"Cake\",\"Tiffin\",\"Bread\",\"Brownie\",\"Bread\",\"Juice\",\"Coffee\",\"The Nomad\",\"Sandwich\",\"Bread\",\"Alfajores\",\"Bread\",\"Smoothies\",\"Coffee\",\"Muffin\",\"Sandwich\",\"Bread\",\"Coffee\",\"Juice\",\"Truffles\",\"Sandwich\",\"Pastry\",\"Coke\",\"Tea\",\"Soup\",\"Chicken Stew\",\"Coke\",\"Soup\",\"Sandwich\",\"Truffles\",\"Coffee\",\"Pastry\",\"Cookies\",\"Cake\",\"Brownie\",\"Coffee\",\"Bread\",\"Coffee\",\"Bread\",\"Soup\",\"Scone\",\"Bread\",\"Cake\",\"Medialuna\",\"Bread\",\"Muffin\",\"Coffee\",\"Sandwich\",\"Honey\",\"Scandinavian\",\"Coffee\",\"Alfajores\",\"Brownie\",\"Cake\",\"Bread\",\"Coffee\",\"Mineral water\",\"Truffles\",\"Spanish Brunch\",\"Soup\",\"Bread\",\"Coffee\",\"Sandwich\",\"Bread\",\"Coffee\",\"Chicken Stew\",\"Extra Salami or Feta\",\"Tea\",\"Bread\",\"Coffee\",\"Scone\",\"Medialuna\",\"Tea\",\"Granola\",\"Bread\",\"Hot chocolate\",\"Bread\",\"Tiffin\",\"Bread\",\"Coffee\",\"Coffee\",\"Coffee\",\"Coffee\",\"Cake\",\"Cookies\",\"Hot chocolate\",\"Coffee\",\"Cake\",\"Coffee\",\"Pastry\",\"Muffin\",\"Coffee\",\"Bread\",\"Coffee\",\"Coffee\",\"Coffee\",\"Medialuna\",\"Bread\",\"Tea\",\"Coffee\",\"Cookies\",\"Coffee\",\"Bread\",\"Bread\",\"Coffee\",\"Cake\",\"Brownie\",\"Bread\",\"Farm House\",\"Pastry\",\"Cake\",\"Coffee\",\"Sandwich\",\"Bread\",\"Scandinavian\",\"Fudge\",\"Bread\",\"Coffee\",\"Jammie Dodgers\",\"Tiffin\",\"Juice\",\"Bread\",\"Coffee\",\"Sandwich\",\"Spanish Brunch\",\"Truffles\",\"Crisps\",\"Sandwich\",\"Bread\",\"Muffin\",\"Coke\",\"Sandwich\",\"Tea\",\"Farm House\",\"Coffee\",\"Pastry\",\"Bread\",\"Scone\",\"Pastry\",\"Cake\",\"Alfajores\",\"Coffee\",\"Cake\",\"Argentina Night\",\"Soup\",\"Cake\",\"Smoothies\",\"Cake\",\"Pastry\",\"Bread\",\"Truffles\",\"Coffee\",\"Tea\",\"Scone\",\"Bread\",\"Cake\",\"Bread\",\"Sandwich\",\"Sandwich\",\"Coffee\",\"Coffee\",\"Cake\",\"Coffee\",\"Juice\",\"Spanish Brunch\",\"Coffee\",\"Cake\",\"Sandwich\",\"Cookies\",\"Cake\",\"Tea\",\"Cake\",\"Cookies\",\"Bread\",\"Juice\",\"Farm House\",\"Coffee\",\"Coffee\",\"Bread\",\"Coffee\",\"Tea\",\"Coffee\",\"Coffee\",\"Pastry\",\"Sandwich\",\"Bread\",\"Scone\",\"Coffee\",\"Toast\",\"Granola\",\"Coffee\",\"Pastry\",\"Cake\",\"Tea\",\"Farm House\",\"Coffee\",\"Coffee\",\"Pastry\",\"Coffee\",\"Truffles\",\"Pastry\",\"Bread\",\"Bread\",\"Coffee\",\"Coffee granules \",\"The Nomad\",\"Bread\",\"Bread\",\"Cookies\",\"Bread\",\"Truffles\",\"Coffee\",\"Sandwich\",\"Cake\",\"Coffee\",\"Toast\",\"Tea\",\"Coffee\",\"Toast\",\"Scandinavian\",\"Farm House\",\"Bread\",\"Coffee\",\"Coffee\",\"Scone\",\"Bread\",\"Spanish Brunch\",\"Coffee\",\"Cookies\",\"Mineral water\",\"Truffles\",\"Coke\",\"Scone\",\"Sandwich\",\"Soup\",\"Coffee\",\"Coffee\",\"Medialuna\",\"Cake\",\"Tea\",\"Sandwich\",\"Bread\",\"Coffee\",\"Sandwich\",\"Coffee\",\"Bread\",\"Scone\",\"Coffee\",\"Coffee\",\"Jammie Dodgers\",\"Juice\",\"Cookies\",\"Soup\",\"Bread\",\"Sandwich\",\"Tea\",\"Cookies\",\"Cookies\",\"Cake\",\"Tea\",\"Tea\",\"Coffee\",\"Alfajores\",\"Medialuna\",\"Scone\",\"Bread\",\"Tea\",\"Alfajores\",\"Toast\",\"Soup\",\"Coffee\",\"Medialuna\",\"Tiffin\",\"Cookies\",\"Hot chocolate\",\"Coffee\",\"Cookies\",\"Alfajores\",\"Bread\",\"Bread\",\"Tea\",\"Hot chocolate\",\"Cake\",\"Salad\",\"Coffee\",\"Coffee\",\"Bread\",\"Mineral water\",\"Coffee\",\"Cookies\",\"Coffee\",\"Toast\",\"Cake\",\"Pastry\",\"Coffee\",\"Coffee\",\"Coffee\",\"Extra Salami or Feta\",\"Bread\",\"Pastry\",\"Tea\",\"Coke\",\"Coffee\",\"Bread\",\"Coffee\",\"Pastry\",\"Coffee\",\"Coffee\",\"Coffee\",\"Bread\",\"Honey\",\"Jammie Dodgers\",\"Bread\",\"Coffee\",\"Jammie Dodgers\",\"Coffee\",\"Bread\",\"Pastry\",\"Bread\",\"Coffee\",\"Eggs\",\"Bread\",\"Cake\",\"Coffee\",\"Bread\",\"Juice\",\"Bread\",\"Coffee\",\"Coffee\",\"Coffee\",\"Extra Salami or Feta\",\"Coffee\",\"Bread\",\"Coffee\",\"Coffee\",\"Juice\",\"Mineral water\",\"Salad\",\"Sandwich\",\"Drinking chocolate spoons \",\"Chicken Stew\",\"Mineral water\",\"Tea\",\"Coffee\",\"Bread\",\"Coffee\",\"Salad\",\"Bread\",\"Cookies\",\"Tea\",\"Soup\",\"Coffee\",\"Bread\",\"Cake\",\"Juice\",\"Spanish Brunch\",\"Salad\",\"Extra Salami or Feta\",\"Coffee\",\"Cake\",\"Coffee\",\"Cake\",\"Bread\",\"Soup\",\"Coffee\",\"Bread\",\"Mineral water\",\"Cookies\",\"Coffee\",\"Tea\",\"Coffee\",\"Baguette\",\"Coffee\",\"Salad\",\"Coffee\",\"Bread\",\"Coffee\",\"Tea\",\"Tea\",\"Coffee\",\"Juice\",\"Cake\",\"Coffee\",\"Cake\",\"Cake\",\"Coffee\",\"Smoothies\",\"Tea\",\"Chicken Stew\",\"Tea\",\"Coffee\",\"Bread\",\"Tea\",\"Hot chocolate\",\"Bread\",\"Jam\",\"Christmas common\",\"Coffee\",\"Coffee\",\"Bread\",\"Coffee\",\"Hot chocolate\",\"Pastry\",\"Tea\",\"Coffee\",\"Tea\",\"Coffee\",\"Pastry\",\"Toast\",\"Bread\",\"Tea\",\"Truffles\",\"Coffee\",\"Pastry\",\"Toast\",\"Bread\",\"Tea\",\"Coffee\",\"Toast\",\"Coffee\",\"Bread\",\"Coffee\",\"Bread\",\"Tea\",\"Pastry\",\"Muffin\",\"Pastry\",\"Coffee\",\"Tea\",\"Coffee\",\"Sandwich\",\"Salad\",\"Tea\",\"Tea\",\"Pastry\",\"Farm House\",\"Coffee\",\"Truffles\",\"Bread\",\"Coffee\",\"Sandwich\",\"Sandwich\",\"Coffee\",\"Salad\",\"Tea\",\"Coffee\",\"Coffee\",\"Tiffin\",\"Bread\",\"Coke\",\"Chicken Stew\",\"Tiffin\",\"Coffee\",\"Muffin\",\"Salad\",\"Extra Salami or Feta\",\"Cake\",\"Bread\",\"Drinking chocolate spoons \",\"Coffee\",\"Salad\",\"Sandwich\",\"Cake\",\"Cookies\",\"Cake\",\"Coffee\",\"Juice\",\"Coke\",\"Sandwich\",\"Cake\",\"Tiffin\",\"Cake\",\"Coffee\",\"Hot chocolate\",\"Bread\",\"Sandwich\",\"Baguette\",\"Hot chocolate\",\"Bread\",\"Jammie Dodgers\",\"Farm House\",\"Baguette\",\"Pastry\",\"Coke\",\"Bread\",\"Coffee\",\"Scandinavian\",\"Cookies\",\"Coffee\",\"Cake\",\"Cookies\",\"Muffin\",\"Tea\",\"Spanish Brunch\",\"Soup\",\"Bread\",\"Truffles\",\"Cake\",\"Bread\",\"Coffee\",\"Coffee\",\"Cake\",\"Cookies\",\"Bread\",\"Tea\",\"Cake\",\"Bread\",\"Tiffin\",\"Bread\",\"Pastry\",\"Cake\",\"Pastry\",\"Tea\",\"Coffee\",\"Chocolates\",\"Tea\",\"Coke\",\"Juice\",\"Coffee\",\"Tiffin\",\"Alfajores\",\"Cookies\",\"Pastry\",\"Mineral water\",\"Juice\",\"Mineral water\",\"Coffee\",\"Bread\",\"Toast\",\"Coffee\",\"Coffee\",\"Tiffin\",\"Bread\",\"Alfajores\",\"Tea\",\"Farm House\",\"Toast\",\"Coffee\",\"Bread\",\"Juice\",\"Coffee\",\"Coffee\",\"Juice\",\"Jammie Dodgers\",\"Coffee\",\"Bread\",\"Juice\",\"Coffee\",\"Cookies\",\"Tiffin\",\"Juice\",\"Tea\",\"Coffee\",\"Toast\",\"Bread\",\"Tea\",\"Bread\",\"Alfajores\",\"Brioche and salami\",\"Cake\",\"Tea\",\"Christmas common\",\"Farm House\",\"Scandinavian\",\"Alfajores\",\"Coffee\",\"Juice\",\"Cookies\",\"Art Tray\",\"Salad\",\"Sandwich\",\"Tea\",\"Sandwich\",\"Soup\",\"Coffee\",\"Coffee\",\"Sandwich\",\"Bread\",\"Bread\",\"Muffin\",\"Soup\",\"Sandwich\",\"Coffee\",\"Coffee\",\"Tiffin\",\"Coffee\",\"Sandwich\",\"Farm House\",\"Coke\",\"Soup\",\"Coffee\",\"Tiffin\",\"Sandwich\",\"Sandwich\",\"Coffee\",\"Bread\",\"Tea\",\"Coffee\",\"Truffles\",\"Coffee\",\"Tea\",\"Sandwich\",\"Sandwich\",\"Coke\",\"Smoothies\",\"Bread\",\"Coffee\",\"Alfajores\",\"Crisps\",\"Coffee\",\"Toast\",\"Salad\",\"Tea\",\"Muffin\",\"Bread\",\"Soup\",\"Bread\",\"Tiffin\",\"Toast\",\"Bread\",\"Coffee\",\"Sandwich\",\"Coke\",\"Juice\",\"Coffee\",\"Cookies\",\"Alfajores\",\"Bread\",\"Bread\",\"Mineral water\",\"Muffin\",\"Cake\",\"Tea\",\"Tiffin\",\"Tea\",\"Cookies\",\"Coffee\",\"Bread\",\"Pastry\",\"Coffee\",\"Medialuna\",\"Cookies\",\"Tiffin\",\"Toast\",\"Coffee\",\"Tea\",\"Coffee\",\"Coffee\",\"Medialuna\",\"Coffee\",\"Bread\",\"Cookies\",\"Coffee\",\"Tea\",\"Cake\",\"Bread\",\"Bread\",\"Coffee\",\"Medialuna\",\"Pastry\",\"Bread\",\"Cookies\",\"Bread\",\"Coffee\",\"Cookies\",\"Tea\",\"Juice\",\"Muffin\",\"Bread\",\"Coffee\",\"Coffee\",\"Coffee\",\"Coffee\",\"Toast\",\"Coffee\",\"Toast\",\"Coffee\",\"Toast\",\"Bread\",\"Coffee\",\"Soup\",\"Coffee\",\"Coke\",\"Soup\",\"Sandwich\",\"Tea\",\"Mineral water\",\"Soup\",\"Coffee\",\"Bread\",\"Baguette\",\"Bread\",\"Coffee\",\"Coke\",\"Juice\",\"Truffles\",\"Salad\",\"Coffee\",\"Cake\",\"Sandwich\",\"Chicken Stew\",\"Alfajores\",\"Tiffin\",\"Tea\",\"Truffles\",\"Chicken Stew\",\"Coffee\",\"Coffee\",\"Sandwich\",\"Mineral water\",\"Coffee\",\"Coffee\",\"Cookies\",\"Bread\",\"Cake\",\"Tiffin\",\"Cake\",\"Muffin\",\"Alfajores\",\"Scone\",\"Tea\",\"Coffee\",\"Scone\",\"Coke\",\"Coffee\",\"Alfajores\",\"Bread\",\"Chicken Stew\",\"Sandwich\",\"Bread\",\"Pastry\",\"Farm House\",\"Bread\",\"Bread\",\"Coffee\",\"Argentina Night\",\"Argentina Night\",\"Bread\",\"Pastry\",\"Alfajores\",\"Cake\",\"Hot chocolate\",\"Coffee\",\"Bread\",\"Bread\",\"Pastry\",\"Honey\",\"Salad\",\"Extra Salami or Feta\",\"Coffee\",\"Bread\",\"Coffee\",\"Muffin\",\"Baguette\",\"Bread\",\"Pastry\",\"Farm House\",\"Bread\",\"Baguette\",\"Scandinavian\",\"Coffee\",\"Muffin\",\"Bread\",\"Bread\",\"Cake\",\"Alfajores\",\"Coffee\",\"Coffee\",\"Muffin\",\"Bread\",\"Coffee\",\"Juice\",\"Coffee\",\"Spanish Brunch\",\"The Nomad\",\"Brownie\",\"Cookies\",\"Pastry\",\"Coffee\",\"Bread\",\"Coffee\",\"Sandwich\",\"Spanish Brunch\",\"Bread\",\"Tea\",\"Granola\",\"Afternoon with the baker\",\"Argentina Night\",\"Afternoon with the baker\",\"Argentina Night\",\"Tea\",\"Truffles\",\"Coffee\",\"The Nomad\",\"Baguette\",\"Pastry\",\"Coffee\",\"Coffee\",\"Scone\",\"Alfajores\",\"Coffee\",\"Truffles\",\"Pastry\",\"Baguette\",\"Scandinavian\",\"Cake\",\"Christmas common\",\"Coffee\",\"Tacos\\u002fFajita\",\"Cake\",\"Bread\",\"Coffee\",\"Cookies\",\"Scone\",\"Coffee\",\"Coffee\",\"Tea\",\"Smoothies\",\"Spanish Brunch\",\"The Nomad\",\"Bread\",\"Coffee\",\"Brownie\",\"Muffin\",\"Bread\",\"Sandwich\",\"Coffee\",\"Bread\",\"Coffee\",\"Coke\",\"Tacos\\u002fFajita\",\"Sandwich\",\"Spanish Brunch\",\"Tea\",\"Juice\",\"Coffee\",\"Bread\",\"Coffee\",\"Tea\",\"Cake\",\"Truffles\",\"Tacos\\u002fFajita\",\"Bread\",\"Cake\",\"Cake\",\"Sandwich\",\"Juice\",\"Coffee\",\"Juice\",\"Truffles\",\"Bread\",\"Alfajores\",\"Tacos\\u002fFajita\",\"Bread\",\"Bread\",\"Jam\",\"Coffee\",\"Coffee\",\"Brownie\",\"The Nomad\",\"Coffee\",\"Scone\",\"Tea\",\"Juice\",\"Tacos\\u002fFajita\",\"Tacos\\u002fFajita\",\"Juice\",\"Bread\",\"Tacos\\u002fFajita\",\"Scandinavian\",\"Tacos\\u002fFajita\",\"Tea\",\"Coffee\",\"Cake\",\"Honey\",\"Bread\",\"Coffee\",\"Sandwich\",\"Coffee\",\"Juice\",\"Cake\",\"Bread\",\"Scandinavian\",\"Scandinavian\",\"Coke\",\"Truffles\",\"Brownie\",\"Coffee\",\"Eggs\",\"Cherry me Dried fruit\",\"Honey\",\"Scandinavian\",\"Hot chocolate\",\"Coffee\",\"Cake\",\"Toast\",\"Alfajores\",\"Coffee\",\"Tea\",\"Juice\",\"Brownie\",\"Cake\",\"Coffee\",\"Soup\",\"Cake\",\"Coffee\",\"Sandwich\",\"Bread\",\"Muffin\",\"Coffee\",\"Muffin\",\"Alfajores\",\"Coffee\",\"Salad\",\"Scandinavian\",\"Tea\",\"Juice\",\"Cake\",\"Vegan Feast\",\"Vegan Feast\",\"Vegan Feast\",\"Vegan Feast\",\"Scandinavian\",\"Vegan Feast\",\"Vegan Feast\",\"Vegan Feast\",\"Hot chocolate\",\"Coffee\",\"Cake\",\"Medialuna\",\"Coffee\",\"Pastry\",\"Bread\",\"Pastry\",\"Coffee\",\"Baguette\",\"Coffee\",\"Cake\",\"Hot chocolate\",\"Half slice Monster \",\"My-5 Fruit Shoot\",\"Tea\",\"Coffee\",\"Toast\",\"Coffee\",\"Coffee\",\"Spanish Brunch\",\"Extra Salami or Feta\",\"Tea\",\"Juice\",\"Cake\",\"Bread\",\"Coffee\",\"Bread\",\"Coffee\",\"Juice\",\"Spanish Brunch\",\"Coffee\",\"Bread\",\"Sandwich\",\"Tea\",\"Bread\",\"Farm House\",\"Farm House\",\"Bread\",\"Coffee\",\"Cookies\",\"Extra Salami or Feta\",\"Spanish Brunch\",\"Coffee\",\"Bread\",\"Coffee\",\"Smoothies\",\"Sandwich\",\"Tacos\\u002fFajita\",\"Coke\",\"Coffee\",\"Tacos\\u002fFajita\",\"Toast\",\"Bread\",\"Spanish Brunch\",\"Bread\",\"Truffles\",\"Tea\",\"Spanish Brunch\",\"Christmas common\",\"Muffin\",\"Tacos\\u002fFajita\",\"Coffee\",\"Tea\",\"Coffee\",\"Pastry\",\"Smoothies\"],\"xaxis\":\"x\",\"yaxis\":\"y\",\"type\":\"histogram\"}],                        {\"template\":{\"data\":{\"barpolar\":[{\"marker\":{\"line\":{\"color\":\"rgb(237,237,237)\",\"width\":0.5},\"pattern\":{\"fillmode\":\"overlay\",\"size\":10,\"solidity\":0.2}},\"type\":\"barpolar\"}],\"bar\":[{\"error_x\":{\"color\":\"rgb(51,51,51)\"},\"error_y\":{\"color\":\"rgb(51,51,51)\"},\"marker\":{\"line\":{\"color\":\"rgb(237,237,237)\",\"width\":0.5},\"pattern\":{\"fillmode\":\"overlay\",\"size\":10,\"solidity\":0.2}},\"type\":\"bar\"}],\"carpet\":[{\"aaxis\":{\"endlinecolor\":\"rgb(51,51,51)\",\"gridcolor\":\"white\",\"linecolor\":\"white\",\"minorgridcolor\":\"white\",\"startlinecolor\":\"rgb(51,51,51)\"},\"baxis\":{\"endlinecolor\":\"rgb(51,51,51)\",\"gridcolor\":\"white\",\"linecolor\":\"white\",\"minorgridcolor\":\"white\",\"startlinecolor\":\"rgb(51,51,51)\"},\"type\":\"carpet\"}],\"choropleth\":[{\"colorbar\":{\"outlinewidth\":0,\"tickcolor\":\"rgb(237,237,237)\",\"ticklen\":6,\"ticks\":\"inside\"},\"type\":\"choropleth\"}],\"contourcarpet\":[{\"colorbar\":{\"outlinewidth\":0,\"tickcolor\":\"rgb(237,237,237)\",\"ticklen\":6,\"ticks\":\"inside\"},\"type\":\"contourcarpet\"}],\"contour\":[{\"colorbar\":{\"outlinewidth\":0,\"tickcolor\":\"rgb(237,237,237)\",\"ticklen\":6,\"ticks\":\"inside\"},\"colorscale\":[[0,\"rgb(20,44,66)\"],[1,\"rgb(90,179,244)\"]],\"type\":\"contour\"}],\"heatmapgl\":[{\"colorbar\":{\"outlinewidth\":0,\"tickcolor\":\"rgb(237,237,237)\",\"ticklen\":6,\"ticks\":\"inside\"},\"colorscale\":[[0,\"rgb(20,44,66)\"],[1,\"rgb(90,179,244)\"]],\"type\":\"heatmapgl\"}],\"heatmap\":[{\"colorbar\":{\"outlinewidth\":0,\"tickcolor\":\"rgb(237,237,237)\",\"ticklen\":6,\"ticks\":\"inside\"},\"colorscale\":[[0,\"rgb(20,44,66)\"],[1,\"rgb(90,179,244)\"]],\"type\":\"heatmap\"}],\"histogram2dcontour\":[{\"colorbar\":{\"outlinewidth\":0,\"tickcolor\":\"rgb(237,237,237)\",\"ticklen\":6,\"ticks\":\"inside\"},\"colorscale\":[[0,\"rgb(20,44,66)\"],[1,\"rgb(90,179,244)\"]],\"type\":\"histogram2dcontour\"}],\"histogram2d\":[{\"colorbar\":{\"outlinewidth\":0,\"tickcolor\":\"rgb(237,237,237)\",\"ticklen\":6,\"ticks\":\"inside\"},\"colorscale\":[[0,\"rgb(20,44,66)\"],[1,\"rgb(90,179,244)\"]],\"type\":\"histogram2d\"}],\"histogram\":[{\"marker\":{\"pattern\":{\"fillmode\":\"overlay\",\"size\":10,\"solidity\":0.2}},\"type\":\"histogram\"}],\"mesh3d\":[{\"colorbar\":{\"outlinewidth\":0,\"tickcolor\":\"rgb(237,237,237)\",\"ticklen\":6,\"ticks\":\"inside\"},\"type\":\"mesh3d\"}],\"parcoords\":[{\"line\":{\"colorbar\":{\"outlinewidth\":0,\"tickcolor\":\"rgb(237,237,237)\",\"ticklen\":6,\"ticks\":\"inside\"}},\"type\":\"parcoords\"}],\"pie\":[{\"automargin\":true,\"type\":\"pie\"}],\"scatter3d\":[{\"line\":{\"colorbar\":{\"outlinewidth\":0,\"tickcolor\":\"rgb(237,237,237)\",\"ticklen\":6,\"ticks\":\"inside\"}},\"marker\":{\"colorbar\":{\"outlinewidth\":0,\"tickcolor\":\"rgb(237,237,237)\",\"ticklen\":6,\"ticks\":\"inside\"}},\"type\":\"scatter3d\"}],\"scattercarpet\":[{\"marker\":{\"colorbar\":{\"outlinewidth\":0,\"tickcolor\":\"rgb(237,237,237)\",\"ticklen\":6,\"ticks\":\"inside\"}},\"type\":\"scattercarpet\"}],\"scattergeo\":[{\"marker\":{\"colorbar\":{\"outlinewidth\":0,\"tickcolor\":\"rgb(237,237,237)\",\"ticklen\":6,\"ticks\":\"inside\"}},\"type\":\"scattergeo\"}],\"scattergl\":[{\"marker\":{\"colorbar\":{\"outlinewidth\":0,\"tickcolor\":\"rgb(237,237,237)\",\"ticklen\":6,\"ticks\":\"inside\"}},\"type\":\"scattergl\"}],\"scattermapbox\":[{\"marker\":{\"colorbar\":{\"outlinewidth\":0,\"tickcolor\":\"rgb(237,237,237)\",\"ticklen\":6,\"ticks\":\"inside\"}},\"type\":\"scattermapbox\"}],\"scatterpolargl\":[{\"marker\":{\"colorbar\":{\"outlinewidth\":0,\"tickcolor\":\"rgb(237,237,237)\",\"ticklen\":6,\"ticks\":\"inside\"}},\"type\":\"scatterpolargl\"}],\"scatterpolar\":[{\"marker\":{\"colorbar\":{\"outlinewidth\":0,\"tickcolor\":\"rgb(237,237,237)\",\"ticklen\":6,\"ticks\":\"inside\"}},\"type\":\"scatterpolar\"}],\"scatter\":[{\"fillpattern\":{\"fillmode\":\"overlay\",\"size\":10,\"solidity\":0.2},\"type\":\"scatter\"}],\"scatterternary\":[{\"marker\":{\"colorbar\":{\"outlinewidth\":0,\"tickcolor\":\"rgb(237,237,237)\",\"ticklen\":6,\"ticks\":\"inside\"}},\"type\":\"scatterternary\"}],\"surface\":[{\"colorbar\":{\"outlinewidth\":0,\"tickcolor\":\"rgb(237,237,237)\",\"ticklen\":6,\"ticks\":\"inside\"},\"colorscale\":[[0,\"rgb(20,44,66)\"],[1,\"rgb(90,179,244)\"]],\"type\":\"surface\"}],\"table\":[{\"cells\":{\"fill\":{\"color\":\"rgb(237,237,237)\"},\"line\":{\"color\":\"white\"}},\"header\":{\"fill\":{\"color\":\"rgb(217,217,217)\"},\"line\":{\"color\":\"white\"}},\"type\":\"table\"}]},\"layout\":{\"annotationdefaults\":{\"arrowhead\":0,\"arrowwidth\":1},\"autotypenumbers\":\"strict\",\"coloraxis\":{\"colorbar\":{\"outlinewidth\":0,\"tickcolor\":\"rgb(237,237,237)\",\"ticklen\":6,\"ticks\":\"inside\"}},\"colorscale\":{\"sequential\":[[0,\"rgb(20,44,66)\"],[1,\"rgb(90,179,244)\"]],\"sequentialminus\":[[0,\"rgb(20,44,66)\"],[1,\"rgb(90,179,244)\"]]},\"colorway\":[\"#F8766D\",\"#A3A500\",\"#00BF7D\",\"#00B0F6\",\"#E76BF3\"],\"font\":{\"color\":\"rgb(51,51,51)\"},\"geo\":{\"bgcolor\":\"white\",\"lakecolor\":\"white\",\"landcolor\":\"rgb(237,237,237)\",\"showlakes\":true,\"showland\":true,\"subunitcolor\":\"white\"},\"hoverlabel\":{\"align\":\"left\"},\"hovermode\":\"closest\",\"paper_bgcolor\":\"white\",\"plot_bgcolor\":\"rgb(237,237,237)\",\"polar\":{\"angularaxis\":{\"gridcolor\":\"white\",\"linecolor\":\"white\",\"showgrid\":true,\"tickcolor\":\"rgb(51,51,51)\",\"ticks\":\"outside\"},\"bgcolor\":\"rgb(237,237,237)\",\"radialaxis\":{\"gridcolor\":\"white\",\"linecolor\":\"white\",\"showgrid\":true,\"tickcolor\":\"rgb(51,51,51)\",\"ticks\":\"outside\"}},\"scene\":{\"xaxis\":{\"backgroundcolor\":\"rgb(237,237,237)\",\"gridcolor\":\"white\",\"gridwidth\":2,\"linecolor\":\"white\",\"showbackground\":true,\"showgrid\":true,\"tickcolor\":\"rgb(51,51,51)\",\"ticks\":\"outside\",\"zerolinecolor\":\"white\"},\"yaxis\":{\"backgroundcolor\":\"rgb(237,237,237)\",\"gridcolor\":\"white\",\"gridwidth\":2,\"linecolor\":\"white\",\"showbackground\":true,\"showgrid\":true,\"tickcolor\":\"rgb(51,51,51)\",\"ticks\":\"outside\",\"zerolinecolor\":\"white\"},\"zaxis\":{\"backgroundcolor\":\"rgb(237,237,237)\",\"gridcolor\":\"white\",\"gridwidth\":2,\"linecolor\":\"white\",\"showbackground\":true,\"showgrid\":true,\"tickcolor\":\"rgb(51,51,51)\",\"ticks\":\"outside\",\"zerolinecolor\":\"white\"}},\"shapedefaults\":{\"fillcolor\":\"black\",\"line\":{\"width\":0},\"opacity\":0.3},\"ternary\":{\"aaxis\":{\"gridcolor\":\"white\",\"linecolor\":\"white\",\"showgrid\":true,\"tickcolor\":\"rgb(51,51,51)\",\"ticks\":\"outside\"},\"baxis\":{\"gridcolor\":\"white\",\"linecolor\":\"white\",\"showgrid\":true,\"tickcolor\":\"rgb(51,51,51)\",\"ticks\":\"outside\"},\"bgcolor\":\"rgb(237,237,237)\",\"caxis\":{\"gridcolor\":\"white\",\"linecolor\":\"white\",\"showgrid\":true,\"tickcolor\":\"rgb(51,51,51)\",\"ticks\":\"outside\"}},\"xaxis\":{\"automargin\":true,\"gridcolor\":\"white\",\"linecolor\":\"white\",\"showgrid\":true,\"tickcolor\":\"rgb(51,51,51)\",\"ticks\":\"outside\",\"title\":{\"standoff\":15},\"zerolinecolor\":\"white\"},\"yaxis\":{\"automargin\":true,\"gridcolor\":\"white\",\"linecolor\":\"white\",\"showgrid\":true,\"tickcolor\":\"rgb(51,51,51)\",\"ticks\":\"outside\",\"title\":{\"standoff\":15},\"zerolinecolor\":\"white\"}}},\"xaxis\":{\"anchor\":\"y\",\"domain\":[0.0,1.0],\"title\":{\"text\":\"Items\"}},\"yaxis\":{\"anchor\":\"x\",\"domain\":[0.0,1.0],\"title\":{\"text\":\"Frequency\"}},\"legend\":{\"title\":{\"text\":\"variable\"},\"tracegroupgap\":0},\"title\":{\"text\":\"Histogram Representing unique items\"},\"barmode\":\"overlay\",\"bargap\":0.25},                        {\"responsive\": true}                    ).then(function(){\n",
       "                            \n",
       "var gd = document.getElementById('4f506aa2-f8c2-476d-8988-fb23ea85b463');\n",
       "var x = new MutationObserver(function (mutations, observer) {{\n",
       "        var display = window.getComputedStyle(gd).display;\n",
       "        if (!display || display === 'none') {{\n",
       "            console.log([gd, 'removed!']);\n",
       "            Plotly.purge(gd);\n",
       "            observer.disconnect();\n",
       "        }}\n",
       "}});\n",
       "\n",
       "// Listen for the removal of the full notebook cells\n",
       "var notebookContainer = gd.closest('#notebook-container');\n",
       "if (notebookContainer) {{\n",
       "    x.observe(notebookContainer, {childList: true});\n",
       "}}\n",
       "\n",
       "// Listen for the clearing of the current output cell\n",
       "var outputEl = gd.closest('.output');\n",
       "if (outputEl) {{\n",
       "    x.observe(outputEl, {childList: true});\n",
       "}}\n",
       "\n",
       "                        })                };                });            </script>        </div>"
      ]
     },
     "metadata": {},
     "output_type": "display_data"
    }
   ],
   "source": [
    "fig = px.histogram(df[\"Items\"], nbins=1, title='Histogram Representing unique items', labels={'value': 'Number of Items'})\n",
    "\n",
    "fig.update_layout(\n",
    "    xaxis_title='Items',\n",
    "    yaxis_title='Frequency',\n",
    "    bargap=0.25, \n",
    "    barmode='overlay',  \n",
    "    template='ggplot2'  \n",
    ")\n",
    "\n",
    "fig.update_traces(marker_color='orange', marker_line_color='black', marker_line_width=1)\n",
    "\n",
    "fig.show()"
   ]
  },
  {
   "cell_type": "code",
   "execution_count": 14,
   "id": "2627e2b2",
   "metadata": {
    "execution": {
     "iopub.execute_input": "2024-02-21T14:43:55.880650Z",
     "iopub.status.busy": "2024-02-21T14:43:55.880275Z",
     "iopub.status.idle": "2024-02-21T14:43:55.887610Z",
     "shell.execute_reply": "2024-02-21T14:43:55.886350Z"
    },
    "papermill": {
     "duration": 0.02257,
     "end_time": "2024-02-21T14:43:55.890332",
     "exception": false,
     "start_time": "2024-02-21T14:43:55.867762",
     "status": "completed"
    },
    "tags": []
   },
   "outputs": [
    {
     "name": "stdout",
     "output_type": "stream",
     "text": [
      "The average number of items per transaction is: 0.004976968285063801\n"
     ]
    }
   ],
   "source": [
    "average_items_per_transaction = df['Items'].nunique() /df.shape[0]\n",
    "\n",
    "print(f\"The average number of items per transaction is: {average_items_per_transaction}\")"
   ]
  },
  {
   "cell_type": "markdown",
   "id": "feba5ffd",
   "metadata": {
    "papermill": {
     "duration": 0.011025,
     "end_time": "2024-02-21T14:43:55.912729",
     "exception": false,
     "start_time": "2024-02-21T14:43:55.901704",
     "status": "completed"
    },
    "tags": []
   },
   "source": [
    "## Conclusion\n",
    "\n",
    "> * The total number of transaction done is 18887.\n",
    "> * There are 94 unique items sold.\n",
    "> * The average number of items per transaction is: 0.004976968285063801.\n"
   ]
  },
  {
   "cell_type": "markdown",
   "id": "41a30f7b",
   "metadata": {
    "papermill": {
     "duration": 0.011038,
     "end_time": "2024-02-21T14:43:55.934996",
     "exception": false,
     "start_time": "2024-02-21T14:43:55.923958",
     "status": "completed"
    },
    "tags": []
   },
   "source": [
    "<hr style=\"height: 4px; color: #333; background-color: #333; margin: 20px 0;\">\n"
   ]
  },
  {
   "cell_type": "markdown",
   "id": "6a36a2e7",
   "metadata": {
    "papermill": {
     "duration": 0.011107,
     "end_time": "2024-02-21T14:43:55.957359",
     "exception": false,
     "start_time": "2024-02-21T14:43:55.946252",
     "status": "completed"
    },
    "tags": []
   },
   "source": [
    "## 2. Item Insights:\n",
    "\n",
    "* What are the top-selling items in terms of quantity?\n",
    "* What are the least popular items?"
   ]
  },
  {
   "cell_type": "code",
   "execution_count": 15,
   "id": "413d9208",
   "metadata": {
    "execution": {
     "iopub.execute_input": "2024-02-21T14:43:56.052057Z",
     "iopub.status.busy": "2024-02-21T14:43:56.051690Z",
     "iopub.status.idle": "2024-02-21T14:43:56.061854Z",
     "shell.execute_reply": "2024-02-21T14:43:56.060112Z"
    },
    "papermill": {
     "duration": 0.095119,
     "end_time": "2024-02-21T14:43:56.063755",
     "exception": false,
     "start_time": "2024-02-21T14:43:55.968636",
     "status": "completed"
    },
    "tags": []
   },
   "outputs": [
    {
     "name": "stdout",
     "output_type": "stream",
     "text": [
      "The top 5 highest selling items in terms of quantity are: \n",
      " \n",
      "     Items  count\n",
      "0  Coffee   4528\n",
      "1   Bread   3097\n",
      "2     Tea   1350\n",
      "3    Cake    983\n",
      "4  Pastry    815\n"
     ]
    }
   ],
   "source": [
    "items=df['Items'].value_counts().reset_index()\n",
    "print(f\"The top 5 highest selling items in terms of quantity are: \\n \\n {items.head()}\")"
   ]
  },
  {
   "cell_type": "code",
   "execution_count": 16,
   "id": "4c913b67",
   "metadata": {
    "execution": {
     "iopub.execute_input": "2024-02-21T14:43:56.088468Z",
     "iopub.status.busy": "2024-02-21T14:43:56.088028Z",
     "iopub.status.idle": "2024-02-21T14:43:56.095199Z",
     "shell.execute_reply": "2024-02-21T14:43:56.093973Z"
    },
    "papermill": {
     "duration": 0.021505,
     "end_time": "2024-02-21T14:43:56.097078",
     "exception": false,
     "start_time": "2024-02-21T14:43:56.075573",
     "status": "completed"
    },
    "tags": []
   },
   "outputs": [
    {
     "name": "stdout",
     "output_type": "stream",
     "text": [
      "The top 10 least selling items in terms of quantity are: \n",
      " \n",
      "               Items  count\n",
      "84  Chimichurri Oil      2\n",
      "85         Siblings      2\n",
      "86     Chicken sand      1\n",
      "87         The BART      1\n",
      "88       Adjustment      1\n",
      "89            Bacon      1\n",
      "90     Gift voucher      1\n",
      "91   Olum & polenta      1\n",
      "92         Raw bars      1\n",
      "93          Polenta      1\n"
     ]
    }
   ],
   "source": [
    "print(f\"The top 10 least selling items in terms of quantity are: \\n \\n {items.tail(10)}\")"
   ]
  },
  {
   "cell_type": "markdown",
   "id": "e38b412f",
   "metadata": {
    "papermill": {
     "duration": 0.011625,
     "end_time": "2024-02-21T14:43:56.120111",
     "exception": false,
     "start_time": "2024-02-21T14:43:56.108486",
     "status": "completed"
    },
    "tags": []
   },
   "source": [
    "<hr style=\"height: 4px; color: #333; background-color: #333; margin: 20px 0;\">\n"
   ]
  },
  {
   "cell_type": "markdown",
   "id": "3e39ed0e",
   "metadata": {
    "papermill": {
     "duration": 0.014476,
     "end_time": "2024-02-21T14:43:56.148729",
     "exception": false,
     "start_time": "2024-02-21T14:43:56.134253",
     "status": "completed"
    },
    "tags": []
   },
   "source": [
    "## 3. DateTime Analysis:\n",
    "\n",
    "* What is the time range covered by the dataset?\n",
    "* Can you identify peak hours for transactions during the day?\n",
    "* Are there specific days or time periods with higher transaction volumes?"
   ]
  },
  {
   "cell_type": "code",
   "execution_count": 17,
   "id": "bfb98990",
   "metadata": {
    "execution": {
     "iopub.execute_input": "2024-02-21T14:43:56.177573Z",
     "iopub.status.busy": "2024-02-21T14:43:56.177149Z",
     "iopub.status.idle": "2024-02-21T14:43:56.341899Z",
     "shell.execute_reply": "2024-02-21T14:43:56.341010Z"
    },
    "papermill": {
     "duration": 0.181219,
     "end_time": "2024-02-21T14:43:56.344160",
     "exception": false,
     "start_time": "2024-02-21T14:43:56.162941",
     "status": "completed"
    },
    "tags": []
   },
   "outputs": [
    {
     "data": {
      "text/html": [
       "<div>\n",
       "<style scoped>\n",
       "    .dataframe tbody tr th:only-of-type {\n",
       "        vertical-align: middle;\n",
       "    }\n",
       "\n",
       "    .dataframe tbody tr th {\n",
       "        vertical-align: top;\n",
       "    }\n",
       "\n",
       "    .dataframe thead th {\n",
       "        text-align: right;\n",
       "    }\n",
       "</style>\n",
       "<table border=\"1\" class=\"dataframe\">\n",
       "  <thead>\n",
       "    <tr style=\"text-align: right;\">\n",
       "      <th></th>\n",
       "      <th>TransactionNo</th>\n",
       "      <th>Items</th>\n",
       "      <th>DateTime</th>\n",
       "      <th>Daypart</th>\n",
       "      <th>DayType</th>\n",
       "      <th>Date</th>\n",
       "      <th>Time</th>\n",
       "      <th>Hour</th>\n",
       "    </tr>\n",
       "  </thead>\n",
       "  <tbody>\n",
       "    <tr>\n",
       "      <th>0</th>\n",
       "      <td>1</td>\n",
       "      <td>Bread</td>\n",
       "      <td>2016-10-30 09:58:11</td>\n",
       "      <td>Morning</td>\n",
       "      <td>Weekend</td>\n",
       "      <td>2016-10-30</td>\n",
       "      <td>09:58:11</td>\n",
       "      <td>9</td>\n",
       "    </tr>\n",
       "    <tr>\n",
       "      <th>1</th>\n",
       "      <td>2</td>\n",
       "      <td>Scandinavian</td>\n",
       "      <td>2016-10-30 10:05:34</td>\n",
       "      <td>Morning</td>\n",
       "      <td>Weekend</td>\n",
       "      <td>2016-10-30</td>\n",
       "      <td>10:05:34</td>\n",
       "      <td>10</td>\n",
       "    </tr>\n",
       "    <tr>\n",
       "      <th>3</th>\n",
       "      <td>3</td>\n",
       "      <td>Hot chocolate</td>\n",
       "      <td>2016-10-30 10:07:57</td>\n",
       "      <td>Morning</td>\n",
       "      <td>Weekend</td>\n",
       "      <td>2016-10-30</td>\n",
       "      <td>10:07:57</td>\n",
       "      <td>10</td>\n",
       "    </tr>\n",
       "    <tr>\n",
       "      <th>4</th>\n",
       "      <td>3</td>\n",
       "      <td>Jam</td>\n",
       "      <td>2016-10-30 10:07:57</td>\n",
       "      <td>Morning</td>\n",
       "      <td>Weekend</td>\n",
       "      <td>2016-10-30</td>\n",
       "      <td>10:07:57</td>\n",
       "      <td>10</td>\n",
       "    </tr>\n",
       "    <tr>\n",
       "      <th>5</th>\n",
       "      <td>3</td>\n",
       "      <td>Cookies</td>\n",
       "      <td>2016-10-30 10:07:57</td>\n",
       "      <td>Morning</td>\n",
       "      <td>Weekend</td>\n",
       "      <td>2016-10-30</td>\n",
       "      <td>10:07:57</td>\n",
       "      <td>10</td>\n",
       "    </tr>\n",
       "  </tbody>\n",
       "</table>\n",
       "</div>"
      ],
      "text/plain": [
       "   TransactionNo          Items            DateTime  Daypart  DayType  \\\n",
       "0              1          Bread 2016-10-30 09:58:11  Morning  Weekend   \n",
       "1              2   Scandinavian 2016-10-30 10:05:34  Morning  Weekend   \n",
       "3              3  Hot chocolate 2016-10-30 10:07:57  Morning  Weekend   \n",
       "4              3            Jam 2016-10-30 10:07:57  Morning  Weekend   \n",
       "5              3        Cookies 2016-10-30 10:07:57  Morning  Weekend   \n",
       "\n",
       "         Date      Time  Hour  \n",
       "0  2016-10-30  09:58:11     9  \n",
       "1  2016-10-30  10:05:34    10  \n",
       "3  2016-10-30  10:07:57    10  \n",
       "4  2016-10-30  10:07:57    10  \n",
       "5  2016-10-30  10:07:57    10  "
      ]
     },
     "execution_count": 17,
     "metadata": {},
     "output_type": "execute_result"
    }
   ],
   "source": [
    "# To convert DateTime column to datetime datatype\n",
    "df['DateTime']=pd.to_datetime(df['DateTime'])\n",
    "\n",
    "# Create date column\n",
    "df[\"Date\"]=df[\"DateTime\"].dt.date\n",
    "\n",
    "# Create time column\n",
    "df[\"Time\"]=df[\"DateTime\"].dt.time\n",
    "\n",
    "df['Hour']=df['DateTime'].dt.hour\n",
    "\n",
    "df.head()"
   ]
  },
  {
   "cell_type": "code",
   "execution_count": 18,
   "id": "fbeb79cc",
   "metadata": {
    "execution": {
     "iopub.execute_input": "2024-02-21T14:43:56.375269Z",
     "iopub.status.busy": "2024-02-21T14:43:56.374756Z",
     "iopub.status.idle": "2024-02-21T14:43:56.384421Z",
     "shell.execute_reply": "2024-02-21T14:43:56.382334Z"
    },
    "papermill": {
     "duration": 0.029055,
     "end_time": "2024-02-21T14:43:56.387268",
     "exception": false,
     "start_time": "2024-02-21T14:43:56.358213",
     "status": "completed"
    },
    "tags": []
   },
   "outputs": [
    {
     "name": "stdout",
     "output_type": "stream",
     "text": [
      "The minimum time is: 2016-01-11 07:51:20\n",
      "The maximum time is: 2017-12-03 16:28:00\n"
     ]
    }
   ],
   "source": [
    "max_time = df['DateTime'].max()\n",
    "min_time = df['DateTime'].min()\n",
    "\n",
    "print(f\"The minimum time is: {min_time}\")\n",
    "print(f\"The maximum time is: {max_time}\")"
   ]
  },
  {
   "cell_type": "code",
   "execution_count": 19,
   "id": "96a762b4",
   "metadata": {
    "execution": {
     "iopub.execute_input": "2024-02-21T14:43:56.413561Z",
     "iopub.status.busy": "2024-02-21T14:43:56.413153Z",
     "iopub.status.idle": "2024-02-21T14:43:56.426478Z",
     "shell.execute_reply": "2024-02-21T14:43:56.425612Z"
    },
    "papermill": {
     "duration": 0.02854,
     "end_time": "2024-02-21T14:43:56.428288",
     "exception": false,
     "start_time": "2024-02-21T14:43:56.399748",
     "status": "completed"
    },
    "tags": []
   },
   "outputs": [
    {
     "data": {
      "text/html": [
       "<div>\n",
       "<style scoped>\n",
       "    .dataframe tbody tr th:only-of-type {\n",
       "        vertical-align: middle;\n",
       "    }\n",
       "\n",
       "    .dataframe tbody tr th {\n",
       "        vertical-align: top;\n",
       "    }\n",
       "\n",
       "    .dataframe thead th {\n",
       "        text-align: right;\n",
       "    }\n",
       "</style>\n",
       "<table border=\"1\" class=\"dataframe\">\n",
       "  <thead>\n",
       "    <tr style=\"text-align: right;\">\n",
       "      <th></th>\n",
       "      <th>Hour</th>\n",
       "      <th>count</th>\n",
       "    </tr>\n",
       "  </thead>\n",
       "  <tbody>\n",
       "    <tr>\n",
       "      <th>0</th>\n",
       "      <td>11</td>\n",
       "      <td>2837</td>\n",
       "    </tr>\n",
       "    <tr>\n",
       "      <th>1</th>\n",
       "      <td>12</td>\n",
       "      <td>2639</td>\n",
       "    </tr>\n",
       "    <tr>\n",
       "      <th>2</th>\n",
       "      <td>13</td>\n",
       "      <td>2440</td>\n",
       "    </tr>\n",
       "    <tr>\n",
       "      <th>3</th>\n",
       "      <td>14</td>\n",
       "      <td>2433</td>\n",
       "    </tr>\n",
       "    <tr>\n",
       "      <th>4</th>\n",
       "      <td>10</td>\n",
       "      <td>2407</td>\n",
       "    </tr>\n",
       "  </tbody>\n",
       "</table>\n",
       "</div>"
      ],
      "text/plain": [
       "   Hour  count\n",
       "0    11   2837\n",
       "1    12   2639\n",
       "2    13   2440\n",
       "3    14   2433\n",
       "4    10   2407"
      ]
     },
     "execution_count": 19,
     "metadata": {},
     "output_type": "execute_result"
    }
   ],
   "source": [
    "hour_sales=df[\"Hour\"].value_counts().reset_index()\n",
    "hour_sales.head(5)"
   ]
  },
  {
   "cell_type": "code",
   "execution_count": 20,
   "id": "174cbae6",
   "metadata": {
    "execution": {
     "iopub.execute_input": "2024-02-21T14:43:56.455352Z",
     "iopub.status.busy": "2024-02-21T14:43:56.454898Z",
     "iopub.status.idle": "2024-02-21T14:43:56.471922Z",
     "shell.execute_reply": "2024-02-21T14:43:56.470268Z"
    },
    "papermill": {
     "duration": 0.033647,
     "end_time": "2024-02-21T14:43:56.474843",
     "exception": false,
     "start_time": "2024-02-21T14:43:56.441196",
     "status": "completed"
    },
    "tags": []
   },
   "outputs": [
    {
     "data": {
      "text/html": [
       "<div>\n",
       "<style scoped>\n",
       "    .dataframe tbody tr th:only-of-type {\n",
       "        vertical-align: middle;\n",
       "    }\n",
       "\n",
       "    .dataframe tbody tr th {\n",
       "        vertical-align: top;\n",
       "    }\n",
       "\n",
       "    .dataframe thead th {\n",
       "        text-align: right;\n",
       "    }\n",
       "</style>\n",
       "<table border=\"1\" class=\"dataframe\">\n",
       "  <thead>\n",
       "    <tr style=\"text-align: right;\">\n",
       "      <th></th>\n",
       "      <th>Daypart</th>\n",
       "      <th>TransactionNo</th>\n",
       "    </tr>\n",
       "  </thead>\n",
       "  <tbody>\n",
       "    <tr>\n",
       "      <th>0</th>\n",
       "      <td>Afternoon</td>\n",
       "      <td>10687</td>\n",
       "    </tr>\n",
       "    <tr>\n",
       "      <th>2</th>\n",
       "      <td>Morning</td>\n",
       "      <td>7697</td>\n",
       "    </tr>\n",
       "    <tr>\n",
       "      <th>1</th>\n",
       "      <td>Evening</td>\n",
       "      <td>490</td>\n",
       "    </tr>\n",
       "    <tr>\n",
       "      <th>3</th>\n",
       "      <td>Night</td>\n",
       "      <td>13</td>\n",
       "    </tr>\n",
       "  </tbody>\n",
       "</table>\n",
       "</div>"
      ],
      "text/plain": [
       "     Daypart  TransactionNo\n",
       "0  Afternoon          10687\n",
       "2    Morning           7697\n",
       "1    Evening            490\n",
       "3      Night             13"
      ]
     },
     "execution_count": 20,
     "metadata": {},
     "output_type": "execute_result"
    }
   ],
   "source": [
    "day_transaction=df.groupby('Daypart')['TransactionNo'].count().reset_index()\n",
    "day_transaction.sort_values(by=['TransactionNo'],ascending=False)"
   ]
  },
  {
   "cell_type": "code",
   "execution_count": 21,
   "id": "6bb1c29d",
   "metadata": {
    "execution": {
     "iopub.execute_input": "2024-02-21T14:43:56.506006Z",
     "iopub.status.busy": "2024-02-21T14:43:56.505640Z",
     "iopub.status.idle": "2024-02-21T14:43:56.579811Z",
     "shell.execute_reply": "2024-02-21T14:43:56.578505Z"
    },
    "papermill": {
     "duration": 0.091918,
     "end_time": "2024-02-21T14:43:56.581760",
     "exception": false,
     "start_time": "2024-02-21T14:43:56.489842",
     "status": "completed"
    },
    "tags": []
   },
   "outputs": [
    {
     "data": {
      "text/html": [
       "<div>                            <div id=\"9bcf44d2-b3e7-45bc-a601-2be0435f72f8\" class=\"plotly-graph-div\" style=\"height:525px; width:100%;\"></div>            <script type=\"text/javascript\">                require([\"plotly\"], function(Plotly) {                    window.PLOTLYENV=window.PLOTLYENV || {};                                    if (document.getElementById(\"9bcf44d2-b3e7-45bc-a601-2be0435f72f8\")) {                    Plotly.newPlot(                        \"9bcf44d2-b3e7-45bc-a601-2be0435f72f8\",                        [{\"alignmentgroup\":\"True\",\"hovertemplate\":\"Daypart=%{x}\\u003cbr\\u003eTransactionNo=%{y}\\u003cextra\\u003e\\u003c\\u002fextra\\u003e\",\"legendgroup\":\"\",\"marker\":{\"color\":\"#636efa\",\"pattern\":{\"shape\":\"\"}},\"name\":\"\",\"offsetgroup\":\"\",\"orientation\":\"v\",\"showlegend\":false,\"textposition\":\"auto\",\"x\":[\"Afternoon\",\"Evening\",\"Morning\",\"Night\"],\"xaxis\":\"x\",\"y\":[10687,490,7697,13],\"yaxis\":\"y\",\"type\":\"bar\"}],                        {\"template\":{\"data\":{\"histogram2dcontour\":[{\"type\":\"histogram2dcontour\",\"colorbar\":{\"outlinewidth\":0,\"ticks\":\"\"},\"colorscale\":[[0.0,\"#0d0887\"],[0.1111111111111111,\"#46039f\"],[0.2222222222222222,\"#7201a8\"],[0.3333333333333333,\"#9c179e\"],[0.4444444444444444,\"#bd3786\"],[0.5555555555555556,\"#d8576b\"],[0.6666666666666666,\"#ed7953\"],[0.7777777777777778,\"#fb9f3a\"],[0.8888888888888888,\"#fdca26\"],[1.0,\"#f0f921\"]]}],\"choropleth\":[{\"type\":\"choropleth\",\"colorbar\":{\"outlinewidth\":0,\"ticks\":\"\"}}],\"histogram2d\":[{\"type\":\"histogram2d\",\"colorbar\":{\"outlinewidth\":0,\"ticks\":\"\"},\"colorscale\":[[0.0,\"#0d0887\"],[0.1111111111111111,\"#46039f\"],[0.2222222222222222,\"#7201a8\"],[0.3333333333333333,\"#9c179e\"],[0.4444444444444444,\"#bd3786\"],[0.5555555555555556,\"#d8576b\"],[0.6666666666666666,\"#ed7953\"],[0.7777777777777778,\"#fb9f3a\"],[0.8888888888888888,\"#fdca26\"],[1.0,\"#f0f921\"]]}],\"heatmap\":[{\"type\":\"heatmap\",\"colorbar\":{\"outlinewidth\":0,\"ticks\":\"\"},\"colorscale\":[[0.0,\"#0d0887\"],[0.1111111111111111,\"#46039f\"],[0.2222222222222222,\"#7201a8\"],[0.3333333333333333,\"#9c179e\"],[0.4444444444444444,\"#bd3786\"],[0.5555555555555556,\"#d8576b\"],[0.6666666666666666,\"#ed7953\"],[0.7777777777777778,\"#fb9f3a\"],[0.8888888888888888,\"#fdca26\"],[1.0,\"#f0f921\"]]}],\"heatmapgl\":[{\"type\":\"heatmapgl\",\"colorbar\":{\"outlinewidth\":0,\"ticks\":\"\"},\"colorscale\":[[0.0,\"#0d0887\"],[0.1111111111111111,\"#46039f\"],[0.2222222222222222,\"#7201a8\"],[0.3333333333333333,\"#9c179e\"],[0.4444444444444444,\"#bd3786\"],[0.5555555555555556,\"#d8576b\"],[0.6666666666666666,\"#ed7953\"],[0.7777777777777778,\"#fb9f3a\"],[0.8888888888888888,\"#fdca26\"],[1.0,\"#f0f921\"]]}],\"contourcarpet\":[{\"type\":\"contourcarpet\",\"colorbar\":{\"outlinewidth\":0,\"ticks\":\"\"}}],\"contour\":[{\"type\":\"contour\",\"colorbar\":{\"outlinewidth\":0,\"ticks\":\"\"},\"colorscale\":[[0.0,\"#0d0887\"],[0.1111111111111111,\"#46039f\"],[0.2222222222222222,\"#7201a8\"],[0.3333333333333333,\"#9c179e\"],[0.4444444444444444,\"#bd3786\"],[0.5555555555555556,\"#d8576b\"],[0.6666666666666666,\"#ed7953\"],[0.7777777777777778,\"#fb9f3a\"],[0.8888888888888888,\"#fdca26\"],[1.0,\"#f0f921\"]]}],\"surface\":[{\"type\":\"surface\",\"colorbar\":{\"outlinewidth\":0,\"ticks\":\"\"},\"colorscale\":[[0.0,\"#0d0887\"],[0.1111111111111111,\"#46039f\"],[0.2222222222222222,\"#7201a8\"],[0.3333333333333333,\"#9c179e\"],[0.4444444444444444,\"#bd3786\"],[0.5555555555555556,\"#d8576b\"],[0.6666666666666666,\"#ed7953\"],[0.7777777777777778,\"#fb9f3a\"],[0.8888888888888888,\"#fdca26\"],[1.0,\"#f0f921\"]]}],\"mesh3d\":[{\"type\":\"mesh3d\",\"colorbar\":{\"outlinewidth\":0,\"ticks\":\"\"}}],\"scatter\":[{\"fillpattern\":{\"fillmode\":\"overlay\",\"size\":10,\"solidity\":0.2},\"type\":\"scatter\"}],\"parcoords\":[{\"type\":\"parcoords\",\"line\":{\"colorbar\":{\"outlinewidth\":0,\"ticks\":\"\"}}}],\"scatterpolargl\":[{\"type\":\"scatterpolargl\",\"marker\":{\"colorbar\":{\"outlinewidth\":0,\"ticks\":\"\"}}}],\"bar\":[{\"error_x\":{\"color\":\"#2a3f5f\"},\"error_y\":{\"color\":\"#2a3f5f\"},\"marker\":{\"line\":{\"color\":\"#E5ECF6\",\"width\":0.5},\"pattern\":{\"fillmode\":\"overlay\",\"size\":10,\"solidity\":0.2}},\"type\":\"bar\"}],\"scattergeo\":[{\"type\":\"scattergeo\",\"marker\":{\"colorbar\":{\"outlinewidth\":0,\"ticks\":\"\"}}}],\"scatterpolar\":[{\"type\":\"scatterpolar\",\"marker\":{\"colorbar\":{\"outlinewidth\":0,\"ticks\":\"\"}}}],\"histogram\":[{\"marker\":{\"pattern\":{\"fillmode\":\"overlay\",\"size\":10,\"solidity\":0.2}},\"type\":\"histogram\"}],\"scattergl\":[{\"type\":\"scattergl\",\"marker\":{\"colorbar\":{\"outlinewidth\":0,\"ticks\":\"\"}}}],\"scatter3d\":[{\"type\":\"scatter3d\",\"line\":{\"colorbar\":{\"outlinewidth\":0,\"ticks\":\"\"}},\"marker\":{\"colorbar\":{\"outlinewidth\":0,\"ticks\":\"\"}}}],\"scattermapbox\":[{\"type\":\"scattermapbox\",\"marker\":{\"colorbar\":{\"outlinewidth\":0,\"ticks\":\"\"}}}],\"scatterternary\":[{\"type\":\"scatterternary\",\"marker\":{\"colorbar\":{\"outlinewidth\":0,\"ticks\":\"\"}}}],\"scattercarpet\":[{\"type\":\"scattercarpet\",\"marker\":{\"colorbar\":{\"outlinewidth\":0,\"ticks\":\"\"}}}],\"carpet\":[{\"aaxis\":{\"endlinecolor\":\"#2a3f5f\",\"gridcolor\":\"white\",\"linecolor\":\"white\",\"minorgridcolor\":\"white\",\"startlinecolor\":\"#2a3f5f\"},\"baxis\":{\"endlinecolor\":\"#2a3f5f\",\"gridcolor\":\"white\",\"linecolor\":\"white\",\"minorgridcolor\":\"white\",\"startlinecolor\":\"#2a3f5f\"},\"type\":\"carpet\"}],\"table\":[{\"cells\":{\"fill\":{\"color\":\"#EBF0F8\"},\"line\":{\"color\":\"white\"}},\"header\":{\"fill\":{\"color\":\"#C8D4E3\"},\"line\":{\"color\":\"white\"}},\"type\":\"table\"}],\"barpolar\":[{\"marker\":{\"line\":{\"color\":\"#E5ECF6\",\"width\":0.5},\"pattern\":{\"fillmode\":\"overlay\",\"size\":10,\"solidity\":0.2}},\"type\":\"barpolar\"}],\"pie\":[{\"automargin\":true,\"type\":\"pie\"}]},\"layout\":{\"autotypenumbers\":\"strict\",\"colorway\":[\"#636efa\",\"#EF553B\",\"#00cc96\",\"#ab63fa\",\"#FFA15A\",\"#19d3f3\",\"#FF6692\",\"#B6E880\",\"#FF97FF\",\"#FECB52\"],\"font\":{\"color\":\"#2a3f5f\"},\"hovermode\":\"closest\",\"hoverlabel\":{\"align\":\"left\"},\"paper_bgcolor\":\"white\",\"plot_bgcolor\":\"#E5ECF6\",\"polar\":{\"bgcolor\":\"#E5ECF6\",\"angularaxis\":{\"gridcolor\":\"white\",\"linecolor\":\"white\",\"ticks\":\"\"},\"radialaxis\":{\"gridcolor\":\"white\",\"linecolor\":\"white\",\"ticks\":\"\"}},\"ternary\":{\"bgcolor\":\"#E5ECF6\",\"aaxis\":{\"gridcolor\":\"white\",\"linecolor\":\"white\",\"ticks\":\"\"},\"baxis\":{\"gridcolor\":\"white\",\"linecolor\":\"white\",\"ticks\":\"\"},\"caxis\":{\"gridcolor\":\"white\",\"linecolor\":\"white\",\"ticks\":\"\"}},\"coloraxis\":{\"colorbar\":{\"outlinewidth\":0,\"ticks\":\"\"}},\"colorscale\":{\"sequential\":[[0.0,\"#0d0887\"],[0.1111111111111111,\"#46039f\"],[0.2222222222222222,\"#7201a8\"],[0.3333333333333333,\"#9c179e\"],[0.4444444444444444,\"#bd3786\"],[0.5555555555555556,\"#d8576b\"],[0.6666666666666666,\"#ed7953\"],[0.7777777777777778,\"#fb9f3a\"],[0.8888888888888888,\"#fdca26\"],[1.0,\"#f0f921\"]],\"sequentialminus\":[[0.0,\"#0d0887\"],[0.1111111111111111,\"#46039f\"],[0.2222222222222222,\"#7201a8\"],[0.3333333333333333,\"#9c179e\"],[0.4444444444444444,\"#bd3786\"],[0.5555555555555556,\"#d8576b\"],[0.6666666666666666,\"#ed7953\"],[0.7777777777777778,\"#fb9f3a\"],[0.8888888888888888,\"#fdca26\"],[1.0,\"#f0f921\"]],\"diverging\":[[0,\"#8e0152\"],[0.1,\"#c51b7d\"],[0.2,\"#de77ae\"],[0.3,\"#f1b6da\"],[0.4,\"#fde0ef\"],[0.5,\"#f7f7f7\"],[0.6,\"#e6f5d0\"],[0.7,\"#b8e186\"],[0.8,\"#7fbc41\"],[0.9,\"#4d9221\"],[1,\"#276419\"]]},\"xaxis\":{\"gridcolor\":\"white\",\"linecolor\":\"white\",\"ticks\":\"\",\"title\":{\"standoff\":15},\"zerolinecolor\":\"white\",\"automargin\":true,\"zerolinewidth\":2},\"yaxis\":{\"gridcolor\":\"white\",\"linecolor\":\"white\",\"ticks\":\"\",\"title\":{\"standoff\":15},\"zerolinecolor\":\"white\",\"automargin\":true,\"zerolinewidth\":2},\"scene\":{\"xaxis\":{\"backgroundcolor\":\"#E5ECF6\",\"gridcolor\":\"white\",\"linecolor\":\"white\",\"showbackground\":true,\"ticks\":\"\",\"zerolinecolor\":\"white\",\"gridwidth\":2},\"yaxis\":{\"backgroundcolor\":\"#E5ECF6\",\"gridcolor\":\"white\",\"linecolor\":\"white\",\"showbackground\":true,\"ticks\":\"\",\"zerolinecolor\":\"white\",\"gridwidth\":2},\"zaxis\":{\"backgroundcolor\":\"#E5ECF6\",\"gridcolor\":\"white\",\"linecolor\":\"white\",\"showbackground\":true,\"ticks\":\"\",\"zerolinecolor\":\"white\",\"gridwidth\":2}},\"shapedefaults\":{\"line\":{\"color\":\"#2a3f5f\"}},\"annotationdefaults\":{\"arrowcolor\":\"#2a3f5f\",\"arrowhead\":0,\"arrowwidth\":1},\"geo\":{\"bgcolor\":\"white\",\"landcolor\":\"#E5ECF6\",\"subunitcolor\":\"white\",\"showland\":true,\"showlakes\":true,\"lakecolor\":\"white\"},\"title\":{\"x\":0.05},\"mapbox\":{\"style\":\"light\"}}},\"xaxis\":{\"anchor\":\"y\",\"domain\":[0.0,1.0],\"title\":{\"text\":\"Daypart\"}},\"yaxis\":{\"anchor\":\"x\",\"domain\":[0.0,1.0],\"title\":{\"text\":\"TransactionNo\"}},\"legend\":{\"tracegroupgap\":0},\"title\":{\"text\":\"Bar chart representing number of transactions across day\"},\"barmode\":\"relative\"},                        {\"responsive\": true}                    ).then(function(){\n",
       "                            \n",
       "var gd = document.getElementById('9bcf44d2-b3e7-45bc-a601-2be0435f72f8');\n",
       "var x = new MutationObserver(function (mutations, observer) {{\n",
       "        var display = window.getComputedStyle(gd).display;\n",
       "        if (!display || display === 'none') {{\n",
       "            console.log([gd, 'removed!']);\n",
       "            Plotly.purge(gd);\n",
       "            observer.disconnect();\n",
       "        }}\n",
       "}});\n",
       "\n",
       "// Listen for the removal of the full notebook cells\n",
       "var notebookContainer = gd.closest('#notebook-container');\n",
       "if (notebookContainer) {{\n",
       "    x.observe(notebookContainer, {childList: true});\n",
       "}}\n",
       "\n",
       "// Listen for the clearing of the current output cell\n",
       "var outputEl = gd.closest('.output');\n",
       "if (outputEl) {{\n",
       "    x.observe(outputEl, {childList: true});\n",
       "}}\n",
       "\n",
       "                        })                };                });            </script>        </div>"
      ]
     },
     "metadata": {},
     "output_type": "display_data"
    }
   ],
   "source": [
    "fig=px.bar(day_transaction,x='Daypart',y=\"TransactionNo\",title=\"Bar chart representing number of transactions across day\")\n",
    "fig.show()"
   ]
  },
  {
   "cell_type": "markdown",
   "id": "3e88949d",
   "metadata": {
    "papermill": {
     "duration": 0.011978,
     "end_time": "2024-02-21T14:43:56.605655",
     "exception": false,
     "start_time": "2024-02-21T14:43:56.593677",
     "status": "completed"
    },
    "tags": []
   },
   "source": [
    "## Conclusion\n",
    "\n",
    "> The transactions in the dataset span a time range from January 11, 2016, at 07:51:20 (earliest) to December 3, 2017, at 16:28:00 (latest). This time frame provides an overview of the duration covered by the dataset.\n",
    "\n",
    "> The highest count of transactions is observed at Hour 11, with 2,837 transactions.Following closely, Hour 12 and Hour 13 also have substantial transaction counts, with 2,639 and 2,440 transactions, respectively.\n",
    "\n",
    "> The highest count of transactions is observed during the Afternoon, with 10,687 transactions.\n",
    "Morning follows with a substantial transaction count of 7,697."
   ]
  },
  {
   "cell_type": "markdown",
   "id": "4f0ec52c",
   "metadata": {
    "papermill": {
     "duration": 0.013419,
     "end_time": "2024-02-21T14:43:56.630647",
     "exception": false,
     "start_time": "2024-02-21T14:43:56.617228",
     "status": "completed"
    },
    "tags": []
   },
   "source": [
    "<hr style=\"height: 4px; color: #333; background-color: #333; margin: 20px 0;\">\n"
   ]
  },
  {
   "cell_type": "markdown",
   "id": "5f7b115c",
   "metadata": {
    "papermill": {
     "duration": 0.012411,
     "end_time": "2024-02-21T14:43:56.656216",
     "exception": false,
     "start_time": "2024-02-21T14:43:56.643805",
     "status": "completed"
    },
    "tags": []
   },
   "source": [
    "## 4. Daypart and DayType Trends:\n",
    "\n",
    "* How do the number of transactions vary across different dayparts (e.g., morning, afternoon, evening)?\n",
    "* Is there a difference in transaction patterns between weekdays and weekends?\n",
    "* Which daypart and day type combination has the highest transaction frequency?"
   ]
  },
  {
   "cell_type": "code",
   "execution_count": 22,
   "id": "0bafa3f8",
   "metadata": {
    "execution": {
     "iopub.execute_input": "2024-02-21T14:43:56.683750Z",
     "iopub.status.busy": "2024-02-21T14:43:56.683291Z",
     "iopub.status.idle": "2024-02-21T14:43:56.696747Z",
     "shell.execute_reply": "2024-02-21T14:43:56.695431Z"
    },
    "papermill": {
     "duration": 0.02979,
     "end_time": "2024-02-21T14:43:56.698789",
     "exception": false,
     "start_time": "2024-02-21T14:43:56.668999",
     "status": "completed"
    },
    "tags": []
   },
   "outputs": [
    {
     "data": {
      "text/html": [
       "<div>\n",
       "<style scoped>\n",
       "    .dataframe tbody tr th:only-of-type {\n",
       "        vertical-align: middle;\n",
       "    }\n",
       "\n",
       "    .dataframe tbody tr th {\n",
       "        vertical-align: top;\n",
       "    }\n",
       "\n",
       "    .dataframe thead th {\n",
       "        text-align: right;\n",
       "    }\n",
       "</style>\n",
       "<table border=\"1\" class=\"dataframe\">\n",
       "  <thead>\n",
       "    <tr style=\"text-align: right;\">\n",
       "      <th></th>\n",
       "      <th>Daypart</th>\n",
       "      <th>Frequency</th>\n",
       "    </tr>\n",
       "  </thead>\n",
       "  <tbody>\n",
       "    <tr>\n",
       "      <th>0</th>\n",
       "      <td>Afternoon</td>\n",
       "      <td>10687</td>\n",
       "    </tr>\n",
       "    <tr>\n",
       "      <th>1</th>\n",
       "      <td>Morning</td>\n",
       "      <td>7697</td>\n",
       "    </tr>\n",
       "    <tr>\n",
       "      <th>2</th>\n",
       "      <td>Evening</td>\n",
       "      <td>490</td>\n",
       "    </tr>\n",
       "    <tr>\n",
       "      <th>3</th>\n",
       "      <td>Night</td>\n",
       "      <td>13</td>\n",
       "    </tr>\n",
       "  </tbody>\n",
       "</table>\n",
       "</div>"
      ],
      "text/plain": [
       "     Daypart  Frequency\n",
       "0  Afternoon      10687\n",
       "1    Morning       7697\n",
       "2    Evening        490\n",
       "3      Night         13"
      ]
     },
     "execution_count": 22,
     "metadata": {},
     "output_type": "execute_result"
    }
   ],
   "source": [
    "daypart_frequency = df['Daypart'].value_counts().reset_index().rename(columns={'index': 'Daypart', 'count': 'Frequency'})\n",
    "daypart_frequency"
   ]
  },
  {
   "cell_type": "code",
   "execution_count": 23,
   "id": "10714f5b",
   "metadata": {
    "execution": {
     "iopub.execute_input": "2024-02-21T14:43:56.726336Z",
     "iopub.status.busy": "2024-02-21T14:43:56.725896Z",
     "iopub.status.idle": "2024-02-21T14:43:56.831490Z",
     "shell.execute_reply": "2024-02-21T14:43:56.830084Z"
    },
    "papermill": {
     "duration": 0.121885,
     "end_time": "2024-02-21T14:43:56.833581",
     "exception": false,
     "start_time": "2024-02-21T14:43:56.711696",
     "status": "completed"
    },
    "tags": []
   },
   "outputs": [
    {
     "data": {
      "text/html": [
       "<div>                            <div id=\"def476bb-4159-4f2f-a390-711bc5af2af4\" class=\"plotly-graph-div\" style=\"height:525px; width:100%;\"></div>            <script type=\"text/javascript\">                require([\"plotly\"], function(Plotly) {                    window.PLOTLYENV=window.PLOTLYENV || {};                                    if (document.getElementById(\"def476bb-4159-4f2f-a390-711bc5af2af4\")) {                    Plotly.newPlot(                        \"def476bb-4159-4f2f-a390-711bc5af2af4\",                        [{\"domain\":{\"x\":[0.0,1.0],\"y\":[0.0,1.0]},\"hole\":0.4,\"hovertemplate\":\"Daypart Category=%{label}\\u003cbr\\u003eCount=%{value}\\u003cextra\\u003e\\u003c\\u002fextra\\u003e\",\"labels\":[\"Afternoon\",\"Morning\",\"Evening\",\"Night\"],\"legendgroup\":\"\",\"name\":\"\",\"showlegend\":true,\"values\":[10687,7697,490,13],\"type\":\"pie\"}],                        {\"template\":{\"data\":{\"histogram2dcontour\":[{\"type\":\"histogram2dcontour\",\"colorbar\":{\"outlinewidth\":0,\"ticks\":\"\"},\"colorscale\":[[0.0,\"#0d0887\"],[0.1111111111111111,\"#46039f\"],[0.2222222222222222,\"#7201a8\"],[0.3333333333333333,\"#9c179e\"],[0.4444444444444444,\"#bd3786\"],[0.5555555555555556,\"#d8576b\"],[0.6666666666666666,\"#ed7953\"],[0.7777777777777778,\"#fb9f3a\"],[0.8888888888888888,\"#fdca26\"],[1.0,\"#f0f921\"]]}],\"choropleth\":[{\"type\":\"choropleth\",\"colorbar\":{\"outlinewidth\":0,\"ticks\":\"\"}}],\"histogram2d\":[{\"type\":\"histogram2d\",\"colorbar\":{\"outlinewidth\":0,\"ticks\":\"\"},\"colorscale\":[[0.0,\"#0d0887\"],[0.1111111111111111,\"#46039f\"],[0.2222222222222222,\"#7201a8\"],[0.3333333333333333,\"#9c179e\"],[0.4444444444444444,\"#bd3786\"],[0.5555555555555556,\"#d8576b\"],[0.6666666666666666,\"#ed7953\"],[0.7777777777777778,\"#fb9f3a\"],[0.8888888888888888,\"#fdca26\"],[1.0,\"#f0f921\"]]}],\"heatmap\":[{\"type\":\"heatmap\",\"colorbar\":{\"outlinewidth\":0,\"ticks\":\"\"},\"colorscale\":[[0.0,\"#0d0887\"],[0.1111111111111111,\"#46039f\"],[0.2222222222222222,\"#7201a8\"],[0.3333333333333333,\"#9c179e\"],[0.4444444444444444,\"#bd3786\"],[0.5555555555555556,\"#d8576b\"],[0.6666666666666666,\"#ed7953\"],[0.7777777777777778,\"#fb9f3a\"],[0.8888888888888888,\"#fdca26\"],[1.0,\"#f0f921\"]]}],\"heatmapgl\":[{\"type\":\"heatmapgl\",\"colorbar\":{\"outlinewidth\":0,\"ticks\":\"\"},\"colorscale\":[[0.0,\"#0d0887\"],[0.1111111111111111,\"#46039f\"],[0.2222222222222222,\"#7201a8\"],[0.3333333333333333,\"#9c179e\"],[0.4444444444444444,\"#bd3786\"],[0.5555555555555556,\"#d8576b\"],[0.6666666666666666,\"#ed7953\"],[0.7777777777777778,\"#fb9f3a\"],[0.8888888888888888,\"#fdca26\"],[1.0,\"#f0f921\"]]}],\"contourcarpet\":[{\"type\":\"contourcarpet\",\"colorbar\":{\"outlinewidth\":0,\"ticks\":\"\"}}],\"contour\":[{\"type\":\"contour\",\"colorbar\":{\"outlinewidth\":0,\"ticks\":\"\"},\"colorscale\":[[0.0,\"#0d0887\"],[0.1111111111111111,\"#46039f\"],[0.2222222222222222,\"#7201a8\"],[0.3333333333333333,\"#9c179e\"],[0.4444444444444444,\"#bd3786\"],[0.5555555555555556,\"#d8576b\"],[0.6666666666666666,\"#ed7953\"],[0.7777777777777778,\"#fb9f3a\"],[0.8888888888888888,\"#fdca26\"],[1.0,\"#f0f921\"]]}],\"surface\":[{\"type\":\"surface\",\"colorbar\":{\"outlinewidth\":0,\"ticks\":\"\"},\"colorscale\":[[0.0,\"#0d0887\"],[0.1111111111111111,\"#46039f\"],[0.2222222222222222,\"#7201a8\"],[0.3333333333333333,\"#9c179e\"],[0.4444444444444444,\"#bd3786\"],[0.5555555555555556,\"#d8576b\"],[0.6666666666666666,\"#ed7953\"],[0.7777777777777778,\"#fb9f3a\"],[0.8888888888888888,\"#fdca26\"],[1.0,\"#f0f921\"]]}],\"mesh3d\":[{\"type\":\"mesh3d\",\"colorbar\":{\"outlinewidth\":0,\"ticks\":\"\"}}],\"scatter\":[{\"fillpattern\":{\"fillmode\":\"overlay\",\"size\":10,\"solidity\":0.2},\"type\":\"scatter\"}],\"parcoords\":[{\"type\":\"parcoords\",\"line\":{\"colorbar\":{\"outlinewidth\":0,\"ticks\":\"\"}}}],\"scatterpolargl\":[{\"type\":\"scatterpolargl\",\"marker\":{\"colorbar\":{\"outlinewidth\":0,\"ticks\":\"\"}}}],\"bar\":[{\"error_x\":{\"color\":\"#2a3f5f\"},\"error_y\":{\"color\":\"#2a3f5f\"},\"marker\":{\"line\":{\"color\":\"#E5ECF6\",\"width\":0.5},\"pattern\":{\"fillmode\":\"overlay\",\"size\":10,\"solidity\":0.2}},\"type\":\"bar\"}],\"scattergeo\":[{\"type\":\"scattergeo\",\"marker\":{\"colorbar\":{\"outlinewidth\":0,\"ticks\":\"\"}}}],\"scatterpolar\":[{\"type\":\"scatterpolar\",\"marker\":{\"colorbar\":{\"outlinewidth\":0,\"ticks\":\"\"}}}],\"histogram\":[{\"marker\":{\"pattern\":{\"fillmode\":\"overlay\",\"size\":10,\"solidity\":0.2}},\"type\":\"histogram\"}],\"scattergl\":[{\"type\":\"scattergl\",\"marker\":{\"colorbar\":{\"outlinewidth\":0,\"ticks\":\"\"}}}],\"scatter3d\":[{\"type\":\"scatter3d\",\"line\":{\"colorbar\":{\"outlinewidth\":0,\"ticks\":\"\"}},\"marker\":{\"colorbar\":{\"outlinewidth\":0,\"ticks\":\"\"}}}],\"scattermapbox\":[{\"type\":\"scattermapbox\",\"marker\":{\"colorbar\":{\"outlinewidth\":0,\"ticks\":\"\"}}}],\"scatterternary\":[{\"type\":\"scatterternary\",\"marker\":{\"colorbar\":{\"outlinewidth\":0,\"ticks\":\"\"}}}],\"scattercarpet\":[{\"type\":\"scattercarpet\",\"marker\":{\"colorbar\":{\"outlinewidth\":0,\"ticks\":\"\"}}}],\"carpet\":[{\"aaxis\":{\"endlinecolor\":\"#2a3f5f\",\"gridcolor\":\"white\",\"linecolor\":\"white\",\"minorgridcolor\":\"white\",\"startlinecolor\":\"#2a3f5f\"},\"baxis\":{\"endlinecolor\":\"#2a3f5f\",\"gridcolor\":\"white\",\"linecolor\":\"white\",\"minorgridcolor\":\"white\",\"startlinecolor\":\"#2a3f5f\"},\"type\":\"carpet\"}],\"table\":[{\"cells\":{\"fill\":{\"color\":\"#EBF0F8\"},\"line\":{\"color\":\"white\"}},\"header\":{\"fill\":{\"color\":\"#C8D4E3\"},\"line\":{\"color\":\"white\"}},\"type\":\"table\"}],\"barpolar\":[{\"marker\":{\"line\":{\"color\":\"#E5ECF6\",\"width\":0.5},\"pattern\":{\"fillmode\":\"overlay\",\"size\":10,\"solidity\":0.2}},\"type\":\"barpolar\"}],\"pie\":[{\"automargin\":true,\"type\":\"pie\"}]},\"layout\":{\"autotypenumbers\":\"strict\",\"colorway\":[\"#636efa\",\"#EF553B\",\"#00cc96\",\"#ab63fa\",\"#FFA15A\",\"#19d3f3\",\"#FF6692\",\"#B6E880\",\"#FF97FF\",\"#FECB52\"],\"font\":{\"color\":\"#2a3f5f\"},\"hovermode\":\"closest\",\"hoverlabel\":{\"align\":\"left\"},\"paper_bgcolor\":\"white\",\"plot_bgcolor\":\"#E5ECF6\",\"polar\":{\"bgcolor\":\"#E5ECF6\",\"angularaxis\":{\"gridcolor\":\"white\",\"linecolor\":\"white\",\"ticks\":\"\"},\"radialaxis\":{\"gridcolor\":\"white\",\"linecolor\":\"white\",\"ticks\":\"\"}},\"ternary\":{\"bgcolor\":\"#E5ECF6\",\"aaxis\":{\"gridcolor\":\"white\",\"linecolor\":\"white\",\"ticks\":\"\"},\"baxis\":{\"gridcolor\":\"white\",\"linecolor\":\"white\",\"ticks\":\"\"},\"caxis\":{\"gridcolor\":\"white\",\"linecolor\":\"white\",\"ticks\":\"\"}},\"coloraxis\":{\"colorbar\":{\"outlinewidth\":0,\"ticks\":\"\"}},\"colorscale\":{\"sequential\":[[0.0,\"#0d0887\"],[0.1111111111111111,\"#46039f\"],[0.2222222222222222,\"#7201a8\"],[0.3333333333333333,\"#9c179e\"],[0.4444444444444444,\"#bd3786\"],[0.5555555555555556,\"#d8576b\"],[0.6666666666666666,\"#ed7953\"],[0.7777777777777778,\"#fb9f3a\"],[0.8888888888888888,\"#fdca26\"],[1.0,\"#f0f921\"]],\"sequentialminus\":[[0.0,\"#0d0887\"],[0.1111111111111111,\"#46039f\"],[0.2222222222222222,\"#7201a8\"],[0.3333333333333333,\"#9c179e\"],[0.4444444444444444,\"#bd3786\"],[0.5555555555555556,\"#d8576b\"],[0.6666666666666666,\"#ed7953\"],[0.7777777777777778,\"#fb9f3a\"],[0.8888888888888888,\"#fdca26\"],[1.0,\"#f0f921\"]],\"diverging\":[[0,\"#8e0152\"],[0.1,\"#c51b7d\"],[0.2,\"#de77ae\"],[0.3,\"#f1b6da\"],[0.4,\"#fde0ef\"],[0.5,\"#f7f7f7\"],[0.6,\"#e6f5d0\"],[0.7,\"#b8e186\"],[0.8,\"#7fbc41\"],[0.9,\"#4d9221\"],[1,\"#276419\"]]},\"xaxis\":{\"gridcolor\":\"white\",\"linecolor\":\"white\",\"ticks\":\"\",\"title\":{\"standoff\":15},\"zerolinecolor\":\"white\",\"automargin\":true,\"zerolinewidth\":2},\"yaxis\":{\"gridcolor\":\"white\",\"linecolor\":\"white\",\"ticks\":\"\",\"title\":{\"standoff\":15},\"zerolinecolor\":\"white\",\"automargin\":true,\"zerolinewidth\":2},\"scene\":{\"xaxis\":{\"backgroundcolor\":\"#E5ECF6\",\"gridcolor\":\"white\",\"linecolor\":\"white\",\"showbackground\":true,\"ticks\":\"\",\"zerolinecolor\":\"white\",\"gridwidth\":2},\"yaxis\":{\"backgroundcolor\":\"#E5ECF6\",\"gridcolor\":\"white\",\"linecolor\":\"white\",\"showbackground\":true,\"ticks\":\"\",\"zerolinecolor\":\"white\",\"gridwidth\":2},\"zaxis\":{\"backgroundcolor\":\"#E5ECF6\",\"gridcolor\":\"white\",\"linecolor\":\"white\",\"showbackground\":true,\"ticks\":\"\",\"zerolinecolor\":\"white\",\"gridwidth\":2}},\"shapedefaults\":{\"line\":{\"color\":\"#2a3f5f\"}},\"annotationdefaults\":{\"arrowcolor\":\"#2a3f5f\",\"arrowhead\":0,\"arrowwidth\":1},\"geo\":{\"bgcolor\":\"white\",\"landcolor\":\"#E5ECF6\",\"subunitcolor\":\"white\",\"showland\":true,\"showlakes\":true,\"lakecolor\":\"white\"},\"title\":{\"x\":0.05},\"mapbox\":{\"style\":\"light\"}}},\"legend\":{\"tracegroupgap\":0},\"title\":{\"text\":\"Daypart Frequency Distribution\"},\"piecolorway\":[\"rgb(141,211,199)\",\"rgb(255,255,179)\",\"rgb(190,186,218)\",\"rgb(251,128,114)\",\"rgb(128,177,211)\",\"rgb(253,180,98)\",\"rgb(179,222,105)\",\"rgb(252,205,229)\",\"rgb(217,217,217)\",\"rgb(188,128,189)\",\"rgb(204,235,197)\",\"rgb(255,237,111)\"]},                        {\"responsive\": true}                    ).then(function(){\n",
       "                            \n",
       "var gd = document.getElementById('def476bb-4159-4f2f-a390-711bc5af2af4');\n",
       "var x = new MutationObserver(function (mutations, observer) {{\n",
       "        var display = window.getComputedStyle(gd).display;\n",
       "        if (!display || display === 'none') {{\n",
       "            console.log([gd, 'removed!']);\n",
       "            Plotly.purge(gd);\n",
       "            observer.disconnect();\n",
       "        }}\n",
       "}});\n",
       "\n",
       "// Listen for the removal of the full notebook cells\n",
       "var notebookContainer = gd.closest('#notebook-container');\n",
       "if (notebookContainer) {{\n",
       "    x.observe(notebookContainer, {childList: true});\n",
       "}}\n",
       "\n",
       "// Listen for the clearing of the current output cell\n",
       "var outputEl = gd.closest('.output');\n",
       "if (outputEl) {{\n",
       "    x.observe(outputEl, {childList: true});\n",
       "}}\n",
       "\n",
       "                        })                };                });            </script>        </div>"
      ]
     },
     "metadata": {},
     "output_type": "display_data"
    }
   ],
   "source": [
    "fig = px.pie(daypart_frequency, names='Daypart', values='Frequency', title='Daypart Frequency Distribution')\n",
    "\n",
    "#customizing the plot\n",
    "fig = px.pie(daypart_frequency, \n",
    "             names='Daypart', \n",
    "             values='Frequency', \n",
    "             title='Daypart Frequency Distribution',\n",
    "             color_discrete_sequence=px.colors.qualitative.Set3,  # Set color palette\n",
    "             hole=0.4,  # Adjust the size of the center hole\n",
    "             labels={'Daypart': 'Daypart Category', 'Frequency': 'Count'},  # Rename axis labels\n",
    "               # Set plot template (dark mode)\n",
    "            )\n",
    "\n",
    "# Show the plot\n",
    "fig.show()"
   ]
  },
  {
   "cell_type": "code",
   "execution_count": 24,
   "id": "f96f2279",
   "metadata": {
    "execution": {
     "iopub.execute_input": "2024-02-21T14:43:56.862401Z",
     "iopub.status.busy": "2024-02-21T14:43:56.861985Z",
     "iopub.status.idle": "2024-02-21T14:43:56.873712Z",
     "shell.execute_reply": "2024-02-21T14:43:56.872704Z"
    },
    "papermill": {
     "duration": 0.028004,
     "end_time": "2024-02-21T14:43:56.875701",
     "exception": false,
     "start_time": "2024-02-21T14:43:56.847697",
     "status": "completed"
    },
    "tags": []
   },
   "outputs": [
    {
     "data": {
      "text/plain": [
       "DayType\n",
       "Weekday    11830\n",
       "Weekend     7057\n",
       "Name: Daypart, dtype: int64"
      ]
     },
     "execution_count": 24,
     "metadata": {},
     "output_type": "execute_result"
    }
   ],
   "source": [
    "df.groupby('DayType')['Daypart'].count()"
   ]
  },
  {
   "cell_type": "code",
   "execution_count": 25,
   "id": "2b523398",
   "metadata": {
    "execution": {
     "iopub.execute_input": "2024-02-21T14:43:56.903805Z",
     "iopub.status.busy": "2024-02-21T14:43:56.903435Z",
     "iopub.status.idle": "2024-02-21T14:43:56.918271Z",
     "shell.execute_reply": "2024-02-21T14:43:56.917444Z"
    },
    "papermill": {
     "duration": 0.031029,
     "end_time": "2024-02-21T14:43:56.920232",
     "exception": false,
     "start_time": "2024-02-21T14:43:56.889203",
     "status": "completed"
    },
    "tags": []
   },
   "outputs": [
    {
     "name": "stdout",
     "output_type": "stream",
     "text": [
      "The daypart and day type combination with the highest transaction frequency is:\n",
      "Daypart    Afternoon\n",
      "DayType      Weekday\n",
      "Name: 0, dtype: object\n"
     ]
    }
   ],
   "source": [
    "transaction_counts = df.groupby(['Daypart', 'DayType']).size().reset_index(name='TransactionCount')\n",
    "\n",
    "# Find the combination with the highest transaction frequency\n",
    "max_transaction_combination = transaction_counts.loc[transaction_counts['TransactionCount'].idxmax()]\n",
    "\n",
    "print(f\"The daypart and day type combination with the highest transaction frequency is:\")\n",
    "print(max_transaction_combination[['Daypart', 'DayType']])"
   ]
  },
  {
   "cell_type": "markdown",
   "id": "4d4185db",
   "metadata": {
    "papermill": {
     "duration": 0.01271,
     "end_time": "2024-02-21T14:43:56.946720",
     "exception": false,
     "start_time": "2024-02-21T14:43:56.934010",
     "status": "completed"
    },
    "tags": []
   },
   "source": [
    "## Conclusion\n",
    "> The majority of transactions occur in the afternoon, with a count of 10,687.\n",
    "Morning transactions follow closely behind with a count of 7,697.\n",
    "Evening transactions are lower in comparison, with a count of 490.\n",
    "Night transactions are the least frequent, with only 13 recorded.\n",
    "\n",
    "> Weekdays have a higher transaction count, with 11,830 recorded transactions.\n",
    "Weekends show a lower but still significant transaction count, with 7,057 recorded transactions.\n",
    "\n",
    "> The daypart and day type combination with the highest transaction frequency is Afternoon and Weekday."
   ]
  },
  {
   "cell_type": "markdown",
   "id": "11e17435",
   "metadata": {
    "papermill": {
     "duration": 0.012771,
     "end_time": "2024-02-21T14:43:56.972503",
     "exception": false,
     "start_time": "2024-02-21T14:43:56.959732",
     "status": "completed"
    },
    "tags": []
   },
   "source": [
    "<hr style=\"height: 4px; color: #333; background-color: #333; margin: 20px 0;\">\n"
   ]
  },
  {
   "cell_type": "code",
   "execution_count": 26,
   "id": "33f029a4",
   "metadata": {
    "execution": {
     "iopub.execute_input": "2024-02-21T14:43:57.000326Z",
     "iopub.status.busy": "2024-02-21T14:43:56.999815Z",
     "iopub.status.idle": "2024-02-21T14:43:57.017927Z",
     "shell.execute_reply": "2024-02-21T14:43:57.016651Z"
    },
    "papermill": {
     "duration": 0.034773,
     "end_time": "2024-02-21T14:43:57.020284",
     "exception": false,
     "start_time": "2024-02-21T14:43:56.985511",
     "status": "completed"
    },
    "tags": []
   },
   "outputs": [
    {
     "data": {
      "text/html": [
       "<div>\n",
       "<style scoped>\n",
       "    .dataframe tbody tr th:only-of-type {\n",
       "        vertical-align: middle;\n",
       "    }\n",
       "\n",
       "    .dataframe tbody tr th {\n",
       "        vertical-align: top;\n",
       "    }\n",
       "\n",
       "    .dataframe thead th {\n",
       "        text-align: right;\n",
       "    }\n",
       "</style>\n",
       "<table border=\"1\" class=\"dataframe\">\n",
       "  <thead>\n",
       "    <tr style=\"text-align: right;\">\n",
       "      <th></th>\n",
       "      <th>TransactionNo</th>\n",
       "      <th>Items</th>\n",
       "      <th>DateTime</th>\n",
       "      <th>Daypart</th>\n",
       "      <th>DayType</th>\n",
       "      <th>Date</th>\n",
       "      <th>Time</th>\n",
       "      <th>Hour</th>\n",
       "      <th>Year</th>\n",
       "    </tr>\n",
       "  </thead>\n",
       "  <tbody>\n",
       "    <tr>\n",
       "      <th>0</th>\n",
       "      <td>1</td>\n",
       "      <td>Bread</td>\n",
       "      <td>2016-10-30 09:58:11</td>\n",
       "      <td>Morning</td>\n",
       "      <td>Weekend</td>\n",
       "      <td>2016-10-30</td>\n",
       "      <td>09:58:11</td>\n",
       "      <td>9</td>\n",
       "      <td>2016</td>\n",
       "    </tr>\n",
       "    <tr>\n",
       "      <th>1</th>\n",
       "      <td>2</td>\n",
       "      <td>Scandinavian</td>\n",
       "      <td>2016-10-30 10:05:34</td>\n",
       "      <td>Morning</td>\n",
       "      <td>Weekend</td>\n",
       "      <td>2016-10-30</td>\n",
       "      <td>10:05:34</td>\n",
       "      <td>10</td>\n",
       "      <td>2016</td>\n",
       "    </tr>\n",
       "    <tr>\n",
       "      <th>3</th>\n",
       "      <td>3</td>\n",
       "      <td>Hot chocolate</td>\n",
       "      <td>2016-10-30 10:07:57</td>\n",
       "      <td>Morning</td>\n",
       "      <td>Weekend</td>\n",
       "      <td>2016-10-30</td>\n",
       "      <td>10:07:57</td>\n",
       "      <td>10</td>\n",
       "      <td>2016</td>\n",
       "    </tr>\n",
       "    <tr>\n",
       "      <th>4</th>\n",
       "      <td>3</td>\n",
       "      <td>Jam</td>\n",
       "      <td>2016-10-30 10:07:57</td>\n",
       "      <td>Morning</td>\n",
       "      <td>Weekend</td>\n",
       "      <td>2016-10-30</td>\n",
       "      <td>10:07:57</td>\n",
       "      <td>10</td>\n",
       "      <td>2016</td>\n",
       "    </tr>\n",
       "    <tr>\n",
       "      <th>5</th>\n",
       "      <td>3</td>\n",
       "      <td>Cookies</td>\n",
       "      <td>2016-10-30 10:07:57</td>\n",
       "      <td>Morning</td>\n",
       "      <td>Weekend</td>\n",
       "      <td>2016-10-30</td>\n",
       "      <td>10:07:57</td>\n",
       "      <td>10</td>\n",
       "      <td>2016</td>\n",
       "    </tr>\n",
       "    <tr>\n",
       "      <th>...</th>\n",
       "      <td>...</td>\n",
       "      <td>...</td>\n",
       "      <td>...</td>\n",
       "      <td>...</td>\n",
       "      <td>...</td>\n",
       "      <td>...</td>\n",
       "      <td>...</td>\n",
       "      <td>...</td>\n",
       "      <td>...</td>\n",
       "    </tr>\n",
       "    <tr>\n",
       "      <th>20502</th>\n",
       "      <td>9682</td>\n",
       "      <td>Coffee</td>\n",
       "      <td>2017-09-04 14:32:58</td>\n",
       "      <td>Afternoon</td>\n",
       "      <td>Weekend</td>\n",
       "      <td>2017-09-04</td>\n",
       "      <td>14:32:58</td>\n",
       "      <td>14</td>\n",
       "      <td>2017</td>\n",
       "    </tr>\n",
       "    <tr>\n",
       "      <th>20503</th>\n",
       "      <td>9682</td>\n",
       "      <td>Tea</td>\n",
       "      <td>2017-09-04 14:32:58</td>\n",
       "      <td>Afternoon</td>\n",
       "      <td>Weekend</td>\n",
       "      <td>2017-09-04</td>\n",
       "      <td>14:32:58</td>\n",
       "      <td>14</td>\n",
       "      <td>2017</td>\n",
       "    </tr>\n",
       "    <tr>\n",
       "      <th>20504</th>\n",
       "      <td>9683</td>\n",
       "      <td>Coffee</td>\n",
       "      <td>2017-09-04 14:57:06</td>\n",
       "      <td>Afternoon</td>\n",
       "      <td>Weekend</td>\n",
       "      <td>2017-09-04</td>\n",
       "      <td>14:57:06</td>\n",
       "      <td>14</td>\n",
       "      <td>2017</td>\n",
       "    </tr>\n",
       "    <tr>\n",
       "      <th>20505</th>\n",
       "      <td>9683</td>\n",
       "      <td>Pastry</td>\n",
       "      <td>2017-09-04 14:57:06</td>\n",
       "      <td>Afternoon</td>\n",
       "      <td>Weekend</td>\n",
       "      <td>2017-09-04</td>\n",
       "      <td>14:57:06</td>\n",
       "      <td>14</td>\n",
       "      <td>2017</td>\n",
       "    </tr>\n",
       "    <tr>\n",
       "      <th>20506</th>\n",
       "      <td>9684</td>\n",
       "      <td>Smoothies</td>\n",
       "      <td>2017-09-04 15:04:24</td>\n",
       "      <td>Afternoon</td>\n",
       "      <td>Weekend</td>\n",
       "      <td>2017-09-04</td>\n",
       "      <td>15:04:24</td>\n",
       "      <td>15</td>\n",
       "      <td>2017</td>\n",
       "    </tr>\n",
       "  </tbody>\n",
       "</table>\n",
       "<p>18887 rows × 9 columns</p>\n",
       "</div>"
      ],
      "text/plain": [
       "       TransactionNo          Items            DateTime    Daypart  DayType  \\\n",
       "0                  1          Bread 2016-10-30 09:58:11    Morning  Weekend   \n",
       "1                  2   Scandinavian 2016-10-30 10:05:34    Morning  Weekend   \n",
       "3                  3  Hot chocolate 2016-10-30 10:07:57    Morning  Weekend   \n",
       "4                  3            Jam 2016-10-30 10:07:57    Morning  Weekend   \n",
       "5                  3        Cookies 2016-10-30 10:07:57    Morning  Weekend   \n",
       "...              ...            ...                 ...        ...      ...   \n",
       "20502           9682         Coffee 2017-09-04 14:32:58  Afternoon  Weekend   \n",
       "20503           9682            Tea 2017-09-04 14:32:58  Afternoon  Weekend   \n",
       "20504           9683         Coffee 2017-09-04 14:57:06  Afternoon  Weekend   \n",
       "20505           9683         Pastry 2017-09-04 14:57:06  Afternoon  Weekend   \n",
       "20506           9684      Smoothies 2017-09-04 15:04:24  Afternoon  Weekend   \n",
       "\n",
       "             Date      Time  Hour  Year  \n",
       "0      2016-10-30  09:58:11     9  2016  \n",
       "1      2016-10-30  10:05:34    10  2016  \n",
       "3      2016-10-30  10:07:57    10  2016  \n",
       "4      2016-10-30  10:07:57    10  2016  \n",
       "5      2016-10-30  10:07:57    10  2016  \n",
       "...           ...       ...   ...   ...  \n",
       "20502  2017-09-04  14:32:58    14  2017  \n",
       "20503  2017-09-04  14:32:58    14  2017  \n",
       "20504  2017-09-04  14:57:06    14  2017  \n",
       "20505  2017-09-04  14:57:06    14  2017  \n",
       "20506  2017-09-04  15:04:24    15  2017  \n",
       "\n",
       "[18887 rows x 9 columns]"
      ]
     },
     "execution_count": 26,
     "metadata": {},
     "output_type": "execute_result"
    }
   ],
   "source": [
    "# To add the year column\n",
    "df['Year']=df['DateTime'].dt.year\n",
    "df"
   ]
  },
  {
   "cell_type": "code",
   "execution_count": 27,
   "id": "fd257f67",
   "metadata": {
    "execution": {
     "iopub.execute_input": "2024-02-21T14:43:57.051305Z",
     "iopub.status.busy": "2024-02-21T14:43:57.050814Z",
     "iopub.status.idle": "2024-02-21T14:43:57.482450Z",
     "shell.execute_reply": "2024-02-21T14:43:57.481354Z"
    },
    "papermill": {
     "duration": 0.450307,
     "end_time": "2024-02-21T14:43:57.484528",
     "exception": false,
     "start_time": "2024-02-21T14:43:57.034221",
     "status": "completed"
    },
    "tags": []
   },
   "outputs": [
    {
     "data": {
      "text/html": [
       "<div>                            <div id=\"2324c3c1-0ed8-45d5-8c4b-9f93f19d54c6\" class=\"plotly-graph-div\" style=\"height:525px; width:100%;\"></div>            <script type=\"text/javascript\">                require([\"plotly\"], function(Plotly) {                    window.PLOTLYENV=window.PLOTLYENV || {};                                    if (document.getElementById(\"2324c3c1-0ed8-45d5-8c4b-9f93f19d54c6\")) {                    Plotly.newPlot(                        \"2324c3c1-0ed8-45d5-8c4b-9f93f19d54c6\",                        [{\"branchvalues\":\"total\",\"customdata\":[[1.0],[7.0],[7.0],[7.0],[8.0],[8.0],[8.0],[8.0],[9.0],[9.0],[9.0],[9.0],[10.0],[10.0],[10.0],[10.0],[11.0],[11.0],[11.0],[11.0],[12.0],[12.0],[12.0],[12.0],[13.0],[13.0],[13.0],[13.0],[14.0],[14.0],[14.0],[14.0],[15.0],[15.0],[15.0],[15.0],[16.0],[16.0],[16.0],[16.0],[17.0],[17.0],[17.0],[17.0],[18.0],[18.0],[18.0],[18.0],[19.0],[19.0],[19.0],[20.0],[20.0],[20.0],[20.0],[21.0],[21.0],[22.0],[22.0],[23.0],[23.0],[13.690688258229528],[13.632284096120284],[17.530612857926002],[18.430144539789225],[9.875676629330858],[10.173126172191862],[21.0],[13.785813669541621],[13.62939648447085],[17.02152729151736],[17.895042171069107],[9.919833860251973],[10.060469457559226],[22.410844012097403],[22.000142607117393],[13.770286837225987],[13.629786900454013],[17.113034170296025],[17.93024361450955],[9.911254642569714],[10.078537356433158],[22.410844012097403],[21.95807356995604],[12.373621476104937],[12.330923294100911]],\"domain\":{\"x\":[0.0,1.0],\"y\":[0.0,1.0]},\"hovertemplate\":\"labels=%{label}\\u003cbr\\u003eTransactionNo=%{value}\\u003cbr\\u003eparent=%{parent}\\u003cbr\\u003eid=%{id}\\u003cbr\\u003eHour=%{color}\\u003cextra\\u003e\\u003c\\u002fextra\\u003e\",\"ids\":[\"Weekend\\u002fMorning\\u002f2017\\u002f1\",\"Weekday\\u002fMorning\\u002f2016\\u002f7\",\"Weekday\\u002fMorning\\u002f2017\\u002f7\",\"Weekend\\u002fMorning\\u002f2017\\u002f7\",\"Weekday\\u002fMorning\\u002f2016\\u002f8\",\"Weekend\\u002fMorning\\u002f2016\\u002f8\",\"Weekday\\u002fMorning\\u002f2017\\u002f8\",\"Weekend\\u002fMorning\\u002f2017\\u002f8\",\"Weekday\\u002fMorning\\u002f2016\\u002f9\",\"Weekend\\u002fMorning\\u002f2016\\u002f9\",\"Weekday\\u002fMorning\\u002f2017\\u002f9\",\"Weekend\\u002fMorning\\u002f2017\\u002f9\",\"Weekday\\u002fMorning\\u002f2016\\u002f10\",\"Weekend\\u002fMorning\\u002f2016\\u002f10\",\"Weekday\\u002fMorning\\u002f2017\\u002f10\",\"Weekend\\u002fMorning\\u002f2017\\u002f10\",\"Weekday\\u002fMorning\\u002f2016\\u002f11\",\"Weekend\\u002fMorning\\u002f2016\\u002f11\",\"Weekday\\u002fMorning\\u002f2017\\u002f11\",\"Weekend\\u002fMorning\\u002f2017\\u002f11\",\"Weekday\\u002fAfternoon\\u002f2016\\u002f12\",\"Weekend\\u002fAfternoon\\u002f2016\\u002f12\",\"Weekday\\u002fAfternoon\\u002f2017\\u002f12\",\"Weekend\\u002fAfternoon\\u002f2017\\u002f12\",\"Weekday\\u002fAfternoon\\u002f2016\\u002f13\",\"Weekend\\u002fAfternoon\\u002f2016\\u002f13\",\"Weekday\\u002fAfternoon\\u002f2017\\u002f13\",\"Weekend\\u002fAfternoon\\u002f2017\\u002f13\",\"Weekday\\u002fAfternoon\\u002f2016\\u002f14\",\"Weekend\\u002fAfternoon\\u002f2016\\u002f14\",\"Weekday\\u002fAfternoon\\u002f2017\\u002f14\",\"Weekend\\u002fAfternoon\\u002f2017\\u002f14\",\"Weekday\\u002fAfternoon\\u002f2016\\u002f15\",\"Weekend\\u002fAfternoon\\u002f2016\\u002f15\",\"Weekday\\u002fAfternoon\\u002f2017\\u002f15\",\"Weekend\\u002fAfternoon\\u002f2017\\u002f15\",\"Weekday\\u002fAfternoon\\u002f2016\\u002f16\",\"Weekend\\u002fAfternoon\\u002f2016\\u002f16\",\"Weekday\\u002fAfternoon\\u002f2017\\u002f16\",\"Weekend\\u002fAfternoon\\u002f2017\\u002f16\",\"Weekday\\u002fEvening\\u002f2016\\u002f17\",\"Weekend\\u002fEvening\\u002f2016\\u002f17\",\"Weekday\\u002fEvening\\u002f2017\\u002f17\",\"Weekend\\u002fEvening\\u002f2017\\u002f17\",\"Weekday\\u002fEvening\\u002f2016\\u002f18\",\"Weekend\\u002fEvening\\u002f2016\\u002f18\",\"Weekday\\u002fEvening\\u002f2017\\u002f18\",\"Weekend\\u002fEvening\\u002f2017\\u002f18\",\"Weekday\\u002fEvening\\u002f2016\\u002f19\",\"Weekend\\u002fEvening\\u002f2016\\u002f19\",\"Weekend\\u002fEvening\\u002f2017\\u002f19\",\"Weekday\\u002fEvening\\u002f2016\\u002f20\",\"Weekend\\u002fEvening\\u002f2016\\u002f20\",\"Weekday\\u002fEvening\\u002f2017\\u002f20\",\"Weekend\\u002fEvening\\u002f2017\\u002f20\",\"Weekend\\u002fNight\\u002f2016\\u002f21\",\"Weekend\\u002fNight\\u002f2017\\u002f21\",\"Weekday\\u002fNight\\u002f2017\\u002f22\",\"Weekend\\u002fNight\\u002f2017\\u002f22\",\"Weekday\\u002fNight\\u002f2017\\u002f23\",\"Weekend\\u002fNight\\u002f2017\\u002f23\",\"Weekday\\u002fAfternoon\\u002f2016\",\"Weekend\\u002fAfternoon\\u002f2016\",\"Weekday\\u002fEvening\\u002f2016\",\"Weekend\\u002fEvening\\u002f2016\",\"Weekday\\u002fMorning\\u002f2016\",\"Weekend\\u002fMorning\\u002f2016\",\"Weekend\\u002fNight\\u002f2016\",\"Weekday\\u002fAfternoon\\u002f2017\",\"Weekend\\u002fAfternoon\\u002f2017\",\"Weekday\\u002fEvening\\u002f2017\",\"Weekend\\u002fEvening\\u002f2017\",\"Weekday\\u002fMorning\\u002f2017\",\"Weekend\\u002fMorning\\u002f2017\",\"Weekday\\u002fNight\\u002f2017\",\"Weekend\\u002fNight\\u002f2017\",\"Weekday\\u002fAfternoon\",\"Weekend\\u002fAfternoon\",\"Weekday\\u002fEvening\",\"Weekend\\u002fEvening\",\"Weekday\\u002fMorning\",\"Weekend\\u002fMorning\",\"Weekday\\u002fNight\",\"Weekend\\u002fNight\",\"Weekday\",\"Weekend\"],\"labels\":[\"1\",\"7\",\"7\",\"7\",\"8\",\"8\",\"8\",\"8\",\"9\",\"9\",\"9\",\"9\",\"10\",\"10\",\"10\",\"10\",\"11\",\"11\",\"11\",\"11\",\"12\",\"12\",\"12\",\"12\",\"13\",\"13\",\"13\",\"13\",\"14\",\"14\",\"14\",\"14\",\"15\",\"15\",\"15\",\"15\",\"16\",\"16\",\"16\",\"16\",\"17\",\"17\",\"17\",\"17\",\"18\",\"18\",\"18\",\"18\",\"19\",\"19\",\"19\",\"20\",\"20\",\"20\",\"20\",\"21\",\"21\",\"22\",\"22\",\"23\",\"23\",\"2016\",\"2016\",\"2016\",\"2016\",\"2016\",\"2016\",\"2016\",\"2017\",\"2017\",\"2017\",\"2017\",\"2017\",\"2017\",\"2017\",\"2017\",\"Afternoon\",\"Afternoon\",\"Evening\",\"Evening\",\"Morning\",\"Morning\",\"Night\",\"Night\",\"Weekday\",\"Weekend\"],\"marker\":{\"coloraxis\":\"coloraxis\",\"colors\":[1.0,7.0,7.0,7.0,8.0,8.0,8.0,8.0,9.0,9.0,9.0,9.0,10.0,10.0,10.0,10.0,11.0,11.0,11.0,11.0,12.0,12.0,12.0,12.0,13.0,13.0,13.0,13.0,14.0,14.0,14.0,14.0,15.0,15.0,15.0,15.0,16.0,16.0,16.0,16.0,17.0,17.0,17.0,17.0,18.0,18.0,18.0,18.0,19.0,19.0,19.0,20.0,20.0,20.0,20.0,21.0,21.0,22.0,22.0,23.0,23.0,13.690688258229528,13.632284096120284,17.530612857926002,18.430144539789225,9.875676629330858,10.173126172191862,21.0,13.785813669541621,13.62939648447085,17.02152729151736,17.895042171069107,9.919833860251973,10.060469457559226,22.410844012097403,22.000142607117393,13.770286837225987,13.629786900454013,17.113034170296025,17.93024361450955,9.911254642569714,10.078537356433158,22.410844012097403,21.95807356995604,12.373621476104937,12.330923294100911]},\"name\":\"\",\"parents\":[\"Weekend\\u002fMorning\\u002f2017\",\"Weekday\\u002fMorning\\u002f2016\",\"Weekday\\u002fMorning\\u002f2017\",\"Weekend\\u002fMorning\\u002f2017\",\"Weekday\\u002fMorning\\u002f2016\",\"Weekend\\u002fMorning\\u002f2016\",\"Weekday\\u002fMorning\\u002f2017\",\"Weekend\\u002fMorning\\u002f2017\",\"Weekday\\u002fMorning\\u002f2016\",\"Weekend\\u002fMorning\\u002f2016\",\"Weekday\\u002fMorning\\u002f2017\",\"Weekend\\u002fMorning\\u002f2017\",\"Weekday\\u002fMorning\\u002f2016\",\"Weekend\\u002fMorning\\u002f2016\",\"Weekday\\u002fMorning\\u002f2017\",\"Weekend\\u002fMorning\\u002f2017\",\"Weekday\\u002fMorning\\u002f2016\",\"Weekend\\u002fMorning\\u002f2016\",\"Weekday\\u002fMorning\\u002f2017\",\"Weekend\\u002fMorning\\u002f2017\",\"Weekday\\u002fAfternoon\\u002f2016\",\"Weekend\\u002fAfternoon\\u002f2016\",\"Weekday\\u002fAfternoon\\u002f2017\",\"Weekend\\u002fAfternoon\\u002f2017\",\"Weekday\\u002fAfternoon\\u002f2016\",\"Weekend\\u002fAfternoon\\u002f2016\",\"Weekday\\u002fAfternoon\\u002f2017\",\"Weekend\\u002fAfternoon\\u002f2017\",\"Weekday\\u002fAfternoon\\u002f2016\",\"Weekend\\u002fAfternoon\\u002f2016\",\"Weekday\\u002fAfternoon\\u002f2017\",\"Weekend\\u002fAfternoon\\u002f2017\",\"Weekday\\u002fAfternoon\\u002f2016\",\"Weekend\\u002fAfternoon\\u002f2016\",\"Weekday\\u002fAfternoon\\u002f2017\",\"Weekend\\u002fAfternoon\\u002f2017\",\"Weekday\\u002fAfternoon\\u002f2016\",\"Weekend\\u002fAfternoon\\u002f2016\",\"Weekday\\u002fAfternoon\\u002f2017\",\"Weekend\\u002fAfternoon\\u002f2017\",\"Weekday\\u002fEvening\\u002f2016\",\"Weekend\\u002fEvening\\u002f2016\",\"Weekday\\u002fEvening\\u002f2017\",\"Weekend\\u002fEvening\\u002f2017\",\"Weekday\\u002fEvening\\u002f2016\",\"Weekend\\u002fEvening\\u002f2016\",\"Weekday\\u002fEvening\\u002f2017\",\"Weekend\\u002fEvening\\u002f2017\",\"Weekday\\u002fEvening\\u002f2016\",\"Weekend\\u002fEvening\\u002f2016\",\"Weekend\\u002fEvening\\u002f2017\",\"Weekday\\u002fEvening\\u002f2016\",\"Weekend\\u002fEvening\\u002f2016\",\"Weekday\\u002fEvening\\u002f2017\",\"Weekend\\u002fEvening\\u002f2017\",\"Weekend\\u002fNight\\u002f2016\",\"Weekend\\u002fNight\\u002f2017\",\"Weekday\\u002fNight\\u002f2017\",\"Weekend\\u002fNight\\u002f2017\",\"Weekday\\u002fNight\\u002f2017\",\"Weekend\\u002fNight\\u002f2017\",\"Weekday\\u002fAfternoon\",\"Weekend\\u002fAfternoon\",\"Weekday\\u002fEvening\",\"Weekend\\u002fEvening\",\"Weekday\\u002fMorning\",\"Weekend\\u002fMorning\",\"Weekend\\u002fNight\",\"Weekday\\u002fAfternoon\",\"Weekend\\u002fAfternoon\",\"Weekday\\u002fEvening\",\"Weekend\\u002fEvening\",\"Weekday\\u002fMorning\",\"Weekend\\u002fMorning\",\"Weekday\\u002fNight\",\"Weekend\\u002fNight\",\"Weekday\",\"Weekend\",\"Weekday\",\"Weekend\",\"Weekday\",\"Weekend\",\"Weekday\",\"Weekend\",\"\",\"\"],\"values\":[4090,19991,27075,5890,388018,129688,1746641,698319,1127037,366858,4240193,2774448,1345212,797694,5467736,3715530,1427492,1028332,6382593,4960820,1355808,635342,6353658,4695658,1289262,722451,6323918,3937253,1213262,704493,6435861,4123775,1034840,444581,5424256,3183241,628985,264702,3771742,1787703,171731,24381,1200096,416298,52143,3093,9786,207587,38183,16900,168302,4269,16924,5459,78315,3387,9637,18896,57850,13177,9648,5522157,2771569,266326,61298,4307750,2322572,3387,28309435,17727630,1215341,870502,17864238,12159097,32073,77135,33831592,20499199,1481667,931800,22171988,14481669,32073,80522,57517320,35993190],\"type\":\"sunburst\"}],                        {\"template\":{\"data\":{\"histogram2dcontour\":[{\"type\":\"histogram2dcontour\",\"colorbar\":{\"outlinewidth\":0,\"ticks\":\"\"},\"colorscale\":[[0.0,\"#0d0887\"],[0.1111111111111111,\"#46039f\"],[0.2222222222222222,\"#7201a8\"],[0.3333333333333333,\"#9c179e\"],[0.4444444444444444,\"#bd3786\"],[0.5555555555555556,\"#d8576b\"],[0.6666666666666666,\"#ed7953\"],[0.7777777777777778,\"#fb9f3a\"],[0.8888888888888888,\"#fdca26\"],[1.0,\"#f0f921\"]]}],\"choropleth\":[{\"type\":\"choropleth\",\"colorbar\":{\"outlinewidth\":0,\"ticks\":\"\"}}],\"histogram2d\":[{\"type\":\"histogram2d\",\"colorbar\":{\"outlinewidth\":0,\"ticks\":\"\"},\"colorscale\":[[0.0,\"#0d0887\"],[0.1111111111111111,\"#46039f\"],[0.2222222222222222,\"#7201a8\"],[0.3333333333333333,\"#9c179e\"],[0.4444444444444444,\"#bd3786\"],[0.5555555555555556,\"#d8576b\"],[0.6666666666666666,\"#ed7953\"],[0.7777777777777778,\"#fb9f3a\"],[0.8888888888888888,\"#fdca26\"],[1.0,\"#f0f921\"]]}],\"heatmap\":[{\"type\":\"heatmap\",\"colorbar\":{\"outlinewidth\":0,\"ticks\":\"\"},\"colorscale\":[[0.0,\"#0d0887\"],[0.1111111111111111,\"#46039f\"],[0.2222222222222222,\"#7201a8\"],[0.3333333333333333,\"#9c179e\"],[0.4444444444444444,\"#bd3786\"],[0.5555555555555556,\"#d8576b\"],[0.6666666666666666,\"#ed7953\"],[0.7777777777777778,\"#fb9f3a\"],[0.8888888888888888,\"#fdca26\"],[1.0,\"#f0f921\"]]}],\"heatmapgl\":[{\"type\":\"heatmapgl\",\"colorbar\":{\"outlinewidth\":0,\"ticks\":\"\"},\"colorscale\":[[0.0,\"#0d0887\"],[0.1111111111111111,\"#46039f\"],[0.2222222222222222,\"#7201a8\"],[0.3333333333333333,\"#9c179e\"],[0.4444444444444444,\"#bd3786\"],[0.5555555555555556,\"#d8576b\"],[0.6666666666666666,\"#ed7953\"],[0.7777777777777778,\"#fb9f3a\"],[0.8888888888888888,\"#fdca26\"],[1.0,\"#f0f921\"]]}],\"contourcarpet\":[{\"type\":\"contourcarpet\",\"colorbar\":{\"outlinewidth\":0,\"ticks\":\"\"}}],\"contour\":[{\"type\":\"contour\",\"colorbar\":{\"outlinewidth\":0,\"ticks\":\"\"},\"colorscale\":[[0.0,\"#0d0887\"],[0.1111111111111111,\"#46039f\"],[0.2222222222222222,\"#7201a8\"],[0.3333333333333333,\"#9c179e\"],[0.4444444444444444,\"#bd3786\"],[0.5555555555555556,\"#d8576b\"],[0.6666666666666666,\"#ed7953\"],[0.7777777777777778,\"#fb9f3a\"],[0.8888888888888888,\"#fdca26\"],[1.0,\"#f0f921\"]]}],\"surface\":[{\"type\":\"surface\",\"colorbar\":{\"outlinewidth\":0,\"ticks\":\"\"},\"colorscale\":[[0.0,\"#0d0887\"],[0.1111111111111111,\"#46039f\"],[0.2222222222222222,\"#7201a8\"],[0.3333333333333333,\"#9c179e\"],[0.4444444444444444,\"#bd3786\"],[0.5555555555555556,\"#d8576b\"],[0.6666666666666666,\"#ed7953\"],[0.7777777777777778,\"#fb9f3a\"],[0.8888888888888888,\"#fdca26\"],[1.0,\"#f0f921\"]]}],\"mesh3d\":[{\"type\":\"mesh3d\",\"colorbar\":{\"outlinewidth\":0,\"ticks\":\"\"}}],\"scatter\":[{\"fillpattern\":{\"fillmode\":\"overlay\",\"size\":10,\"solidity\":0.2},\"type\":\"scatter\"}],\"parcoords\":[{\"type\":\"parcoords\",\"line\":{\"colorbar\":{\"outlinewidth\":0,\"ticks\":\"\"}}}],\"scatterpolargl\":[{\"type\":\"scatterpolargl\",\"marker\":{\"colorbar\":{\"outlinewidth\":0,\"ticks\":\"\"}}}],\"bar\":[{\"error_x\":{\"color\":\"#2a3f5f\"},\"error_y\":{\"color\":\"#2a3f5f\"},\"marker\":{\"line\":{\"color\":\"#E5ECF6\",\"width\":0.5},\"pattern\":{\"fillmode\":\"overlay\",\"size\":10,\"solidity\":0.2}},\"type\":\"bar\"}],\"scattergeo\":[{\"type\":\"scattergeo\",\"marker\":{\"colorbar\":{\"outlinewidth\":0,\"ticks\":\"\"}}}],\"scatterpolar\":[{\"type\":\"scatterpolar\",\"marker\":{\"colorbar\":{\"outlinewidth\":0,\"ticks\":\"\"}}}],\"histogram\":[{\"marker\":{\"pattern\":{\"fillmode\":\"overlay\",\"size\":10,\"solidity\":0.2}},\"type\":\"histogram\"}],\"scattergl\":[{\"type\":\"scattergl\",\"marker\":{\"colorbar\":{\"outlinewidth\":0,\"ticks\":\"\"}}}],\"scatter3d\":[{\"type\":\"scatter3d\",\"line\":{\"colorbar\":{\"outlinewidth\":0,\"ticks\":\"\"}},\"marker\":{\"colorbar\":{\"outlinewidth\":0,\"ticks\":\"\"}}}],\"scattermapbox\":[{\"type\":\"scattermapbox\",\"marker\":{\"colorbar\":{\"outlinewidth\":0,\"ticks\":\"\"}}}],\"scatterternary\":[{\"type\":\"scatterternary\",\"marker\":{\"colorbar\":{\"outlinewidth\":0,\"ticks\":\"\"}}}],\"scattercarpet\":[{\"type\":\"scattercarpet\",\"marker\":{\"colorbar\":{\"outlinewidth\":0,\"ticks\":\"\"}}}],\"carpet\":[{\"aaxis\":{\"endlinecolor\":\"#2a3f5f\",\"gridcolor\":\"white\",\"linecolor\":\"white\",\"minorgridcolor\":\"white\",\"startlinecolor\":\"#2a3f5f\"},\"baxis\":{\"endlinecolor\":\"#2a3f5f\",\"gridcolor\":\"white\",\"linecolor\":\"white\",\"minorgridcolor\":\"white\",\"startlinecolor\":\"#2a3f5f\"},\"type\":\"carpet\"}],\"table\":[{\"cells\":{\"fill\":{\"color\":\"#EBF0F8\"},\"line\":{\"color\":\"white\"}},\"header\":{\"fill\":{\"color\":\"#C8D4E3\"},\"line\":{\"color\":\"white\"}},\"type\":\"table\"}],\"barpolar\":[{\"marker\":{\"line\":{\"color\":\"#E5ECF6\",\"width\":0.5},\"pattern\":{\"fillmode\":\"overlay\",\"size\":10,\"solidity\":0.2}},\"type\":\"barpolar\"}],\"pie\":[{\"automargin\":true,\"type\":\"pie\"}]},\"layout\":{\"autotypenumbers\":\"strict\",\"colorway\":[\"#636efa\",\"#EF553B\",\"#00cc96\",\"#ab63fa\",\"#FFA15A\",\"#19d3f3\",\"#FF6692\",\"#B6E880\",\"#FF97FF\",\"#FECB52\"],\"font\":{\"color\":\"#2a3f5f\"},\"hovermode\":\"closest\",\"hoverlabel\":{\"align\":\"left\"},\"paper_bgcolor\":\"white\",\"plot_bgcolor\":\"#E5ECF6\",\"polar\":{\"bgcolor\":\"#E5ECF6\",\"angularaxis\":{\"gridcolor\":\"white\",\"linecolor\":\"white\",\"ticks\":\"\"},\"radialaxis\":{\"gridcolor\":\"white\",\"linecolor\":\"white\",\"ticks\":\"\"}},\"ternary\":{\"bgcolor\":\"#E5ECF6\",\"aaxis\":{\"gridcolor\":\"white\",\"linecolor\":\"white\",\"ticks\":\"\"},\"baxis\":{\"gridcolor\":\"white\",\"linecolor\":\"white\",\"ticks\":\"\"},\"caxis\":{\"gridcolor\":\"white\",\"linecolor\":\"white\",\"ticks\":\"\"}},\"coloraxis\":{\"colorbar\":{\"outlinewidth\":0,\"ticks\":\"\"}},\"colorscale\":{\"sequential\":[[0.0,\"#0d0887\"],[0.1111111111111111,\"#46039f\"],[0.2222222222222222,\"#7201a8\"],[0.3333333333333333,\"#9c179e\"],[0.4444444444444444,\"#bd3786\"],[0.5555555555555556,\"#d8576b\"],[0.6666666666666666,\"#ed7953\"],[0.7777777777777778,\"#fb9f3a\"],[0.8888888888888888,\"#fdca26\"],[1.0,\"#f0f921\"]],\"sequentialminus\":[[0.0,\"#0d0887\"],[0.1111111111111111,\"#46039f\"],[0.2222222222222222,\"#7201a8\"],[0.3333333333333333,\"#9c179e\"],[0.4444444444444444,\"#bd3786\"],[0.5555555555555556,\"#d8576b\"],[0.6666666666666666,\"#ed7953\"],[0.7777777777777778,\"#fb9f3a\"],[0.8888888888888888,\"#fdca26\"],[1.0,\"#f0f921\"]],\"diverging\":[[0,\"#8e0152\"],[0.1,\"#c51b7d\"],[0.2,\"#de77ae\"],[0.3,\"#f1b6da\"],[0.4,\"#fde0ef\"],[0.5,\"#f7f7f7\"],[0.6,\"#e6f5d0\"],[0.7,\"#b8e186\"],[0.8,\"#7fbc41\"],[0.9,\"#4d9221\"],[1,\"#276419\"]]},\"xaxis\":{\"gridcolor\":\"white\",\"linecolor\":\"white\",\"ticks\":\"\",\"title\":{\"standoff\":15},\"zerolinecolor\":\"white\",\"automargin\":true,\"zerolinewidth\":2},\"yaxis\":{\"gridcolor\":\"white\",\"linecolor\":\"white\",\"ticks\":\"\",\"title\":{\"standoff\":15},\"zerolinecolor\":\"white\",\"automargin\":true,\"zerolinewidth\":2},\"scene\":{\"xaxis\":{\"backgroundcolor\":\"#E5ECF6\",\"gridcolor\":\"white\",\"linecolor\":\"white\",\"showbackground\":true,\"ticks\":\"\",\"zerolinecolor\":\"white\",\"gridwidth\":2},\"yaxis\":{\"backgroundcolor\":\"#E5ECF6\",\"gridcolor\":\"white\",\"linecolor\":\"white\",\"showbackground\":true,\"ticks\":\"\",\"zerolinecolor\":\"white\",\"gridwidth\":2},\"zaxis\":{\"backgroundcolor\":\"#E5ECF6\",\"gridcolor\":\"white\",\"linecolor\":\"white\",\"showbackground\":true,\"ticks\":\"\",\"zerolinecolor\":\"white\",\"gridwidth\":2}},\"shapedefaults\":{\"line\":{\"color\":\"#2a3f5f\"}},\"annotationdefaults\":{\"arrowcolor\":\"#2a3f5f\",\"arrowhead\":0,\"arrowwidth\":1},\"geo\":{\"bgcolor\":\"white\",\"landcolor\":\"#E5ECF6\",\"subunitcolor\":\"white\",\"showland\":true,\"showlakes\":true,\"lakecolor\":\"white\"},\"title\":{\"x\":0.05},\"mapbox\":{\"style\":\"light\"}}},\"coloraxis\":{\"colorbar\":{\"title\":{\"text\":\"Hour\"}},\"colorscale\":[[0.0,\"#0d0887\"],[0.1111111111111111,\"#46039f\"],[0.2222222222222222,\"#7201a8\"],[0.3333333333333333,\"#9c179e\"],[0.4444444444444444,\"#bd3786\"],[0.5555555555555556,\"#d8576b\"],[0.6666666666666666,\"#ed7953\"],[0.7777777777777778,\"#fb9f3a\"],[0.8888888888888888,\"#fdca26\"],[1.0,\"#f0f921\"]]},\"legend\":{\"tracegroupgap\":0},\"margin\":{\"t\":60}},                        {\"responsive\": true}                    ).then(function(){\n",
       "                            \n",
       "var gd = document.getElementById('2324c3c1-0ed8-45d5-8c4b-9f93f19d54c6');\n",
       "var x = new MutationObserver(function (mutations, observer) {{\n",
       "        var display = window.getComputedStyle(gd).display;\n",
       "        if (!display || display === 'none') {{\n",
       "            console.log([gd, 'removed!']);\n",
       "            Plotly.purge(gd);\n",
       "            observer.disconnect();\n",
       "        }}\n",
       "}});\n",
       "\n",
       "// Listen for the removal of the full notebook cells\n",
       "var notebookContainer = gd.closest('#notebook-container');\n",
       "if (notebookContainer) {{\n",
       "    x.observe(notebookContainer, {childList: true});\n",
       "}}\n",
       "\n",
       "// Listen for the clearing of the current output cell\n",
       "var outputEl = gd.closest('.output');\n",
       "if (outputEl) {{\n",
       "    x.observe(outputEl, {childList: true});\n",
       "}}\n",
       "\n",
       "                        })                };                });            </script>        </div>"
      ]
     },
     "metadata": {},
     "output_type": "display_data"
    }
   ],
   "source": [
    "fig = px.sunburst(df,\n",
    "    path=['DayType', 'Daypart', 'Year', 'Hour'],\n",
    "    values='TransactionNo',\n",
    "    color='Hour'  # Change the color parameter to 'Hour'\n",
    ")\n",
    "\n",
    "fig.show()"
   ]
  },
  {
   "cell_type": "markdown",
   "id": "a2d8447c",
   "metadata": {
    "papermill": {
     "duration": 0.012793,
     "end_time": "2024-02-21T14:43:57.511644",
     "exception": false,
     "start_time": "2024-02-21T14:43:57.498851",
     "status": "completed"
    },
    "tags": []
   },
   "source": [
    "# Non- parametric tests\n",
    "\n",
    "Non-parametric tests are statistical tests that do not rely on specific assumptions about the distribution of the data. They are used when data does not meet the assumptions required for parametric tests or when dealing with ordinal or categorical data."
   ]
  },
  {
   "cell_type": "code",
   "execution_count": 28,
   "id": "8fdc9636",
   "metadata": {
    "execution": {
     "iopub.execute_input": "2024-02-21T14:43:57.542031Z",
     "iopub.status.busy": "2024-02-21T14:43:57.541608Z",
     "iopub.status.idle": "2024-02-21T14:43:57.575861Z",
     "shell.execute_reply": "2024-02-21T14:43:57.574466Z"
    },
    "papermill": {
     "duration": 0.053213,
     "end_time": "2024-02-21T14:43:57.578588",
     "exception": false,
     "start_time": "2024-02-21T14:43:57.525375",
     "status": "completed"
    },
    "tags": []
   },
   "outputs": [
    {
     "name": "stdout",
     "output_type": "stream",
     "text": [
      "Mann-Whitney U Statistic: 0.0\n",
      "P-value: 0.0\n",
      "There is a significant difference between Morning and Afternoon groups.\n"
     ]
    }
   ],
   "source": [
    "from scipy.stats import mannwhitneyu\n",
    "\n",
    "morning_hours = df[df['Daypart'] == 'Morning']['Hour']\n",
    "afternoon_hours = df[df['Daypart'] == 'Afternoon']['Hour']\n",
    "\n",
    "# Perform Mann-Whitney U test\n",
    "statistic, p_value = mannwhitneyu(morning_hours, afternoon_hours)\n",
    "\n",
    "# Print results\n",
    "print(f\"Mann-Whitney U Statistic: {statistic}\")\n",
    "print(f\"P-value: {p_value}\")\n",
    "\n",
    "# Interpret the results\n",
    "if p_value < 0.05:  # Adjust significance level as needed\n",
    "    print(\"There is a significant difference between Morning and Afternoon groups.\")\n",
    "else:\n",
    "    print(\"There is no significant difference between Morning and Afternoon groups.\")\n"
   ]
  },
  {
   "cell_type": "code",
   "execution_count": 29,
   "id": "83edb149",
   "metadata": {
    "execution": {
     "iopub.execute_input": "2024-02-21T14:43:57.606529Z",
     "iopub.status.busy": "2024-02-21T14:43:57.606099Z",
     "iopub.status.idle": "2024-02-21T14:43:58.216915Z",
     "shell.execute_reply": "2024-02-21T14:43:58.215551Z"
    },
    "papermill": {
     "duration": 0.627888,
     "end_time": "2024-02-21T14:43:58.219894",
     "exception": false,
     "start_time": "2024-02-21T14:43:57.592006",
     "status": "completed"
    },
    "tags": []
   },
   "outputs": [
    {
     "name": "stderr",
     "output_type": "stream",
     "text": [
      "/opt/conda/lib/python3.10/site-packages/seaborn/_oldcore.py:1119: FutureWarning:\n",
      "\n",
      "use_inf_as_na option is deprecated and will be removed in a future version. Convert inf values to NaN before operating instead.\n",
      "\n",
      "/opt/conda/lib/python3.10/site-packages/seaborn/_oldcore.py:1119: FutureWarning:\n",
      "\n",
      "use_inf_as_na option is deprecated and will be removed in a future version. Convert inf values to NaN before operating instead.\n",
      "\n"
     ]
    },
    {
     "data": {
      "image/png": "[encoded data removed]",
      "text/plain": [
       "<Figure size 1400x600 with 2 Axes>"
      ]
     },
     "metadata": {},
     "output_type": "display_data"
    }
   ],
   "source": [
    "morning_hours = df[df['Daypart'] == 'Morning']['Hour']\n",
    "afternoon_hours = df[df['Daypart'] == 'Afternoon']['Hour']\n",
    "\n",
    "# Set up the figure and axis for subplots\n",
    "fig, axes = plt.subplots(1, 2, figsize=(14, 6))\n",
    "\n",
    "# Kernel Density Plot for Morning\n",
    "sns.kdeplot(morning_hours, label='Morning', fill=True, ax=axes[0])\n",
    "axes[0].set_title('Distribution of Hour - Morning')\n",
    "axes[0].set_xlabel('Hour')\n",
    "axes[0].set_ylabel('Density')\n",
    "\n",
    "# Kernel Density Plot for Afternoon\n",
    "sns.kdeplot(afternoon_hours, label='Afternoon', fill=True, ax=axes[1])\n",
    "axes[1].set_title('Distribution of Hour - Afternoon')\n",
    "axes[1].set_xlabel('Hour')\n",
    "axes[1].set_ylabel('Density')\n",
    "\n",
    "# Adjust layout\n",
    "plt.tight_layout()\n",
    "\n",
    "# Show the plot\n",
    "plt.show()\n"
   ]
  },
  {
   "cell_type": "markdown",
   "id": "37662e74",
   "metadata": {
    "papermill": {
     "duration": 0.014369,
     "end_time": "2024-02-21T14:43:58.249357",
     "exception": false,
     "start_time": "2024-02-21T14:43:58.234988",
     "status": "completed"
    },
    "tags": []
   },
   "source": [
    "## Conclusion\n",
    "\n",
    "> The analysis suggests that there is a statistically significant difference in the distribution of Hour between the Morning and Afternoon groups. The exact nature of this difference can be observed in the visualizations, where the kernel density plots highlight variations in the density of transactions during different hours of the day."
   ]
  }
 ],
 "metadata": {
  "kaggle": {
   "accelerator": "none",
   "dataSources": [
    {
     "datasetId": 1570429,
     "sourceId": 2585197,
     "sourceType": "datasetVersion"
    }
   ],
   "dockerImageVersionId": 30646,
   "isGpuEnabled": false,
   "isInternetEnabled": true,
   "language": "python",
   "sourceType": "notebook"
  },
  "kernelspec": {
   "display_name": "Python 3",
   "language": "python",
   "name": "python3"
  },
  "language_info": {
   "codemirror_mode": {
    "name": "ipython",
    "version": 3
   },
   "file_extension": ".py",
   "mimetype": "text/x-python",
   "name": "python",
   "nbconvert_exporter": "python",
   "pygments_lexer": "ipython3",
   "version": "3.10.13"
  },
  "papermill": {
   "default_parameters": {},
   "duration": 11.481051,
   "end_time": "2024-02-21T14:43:58.986460",
   "environment_variables": {},
   "exception": null,
   "input_path": "__notebook__.ipynb",
   "output_path": "__notebook__.ipynb",
   "parameters": {},
   "start_time": "2024-02-21T14:43:47.505409",
   "version": "2.5.0"
  }
 },
 "nbformat": 4,
 "nbformat_minor": 5
}
